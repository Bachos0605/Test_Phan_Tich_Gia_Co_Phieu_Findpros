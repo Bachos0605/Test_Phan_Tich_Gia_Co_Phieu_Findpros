{
  "nbformat": 4,
  "nbformat_minor": 0,
  "metadata": {
    "colab": {
      "provenance": [],
      "toc_visible": true
    },
    "kernelspec": {
      "name": "python3",
      "display_name": "Python 3"
    },
    "language_info": {
      "name": "python"
    }
  },
  "cells": [
    {
      "cell_type": "markdown",
      "source": [
        "Phân tích biến động giá cổ phiếu VIC <br>\n",
        "Người thực hiện: Đỗ Việt Bách <br>\n",
        "Phone: 0559 686 243 <br>\n",
        "Email: 19521230@gm.uit.edu.vn <br>\n",
        "Dataset: Giá trị cổ phiếu VIC từ ngày 17/10/2018 tới ngày 22/12/2020 <br>\n",
        "Mô hình dự báo: RNN vs. GRU"
      ],
      "metadata": {
        "id": "mocoghXCVqx1"
      }
    },
    {
      "cell_type": "markdown",
      "source": [
        "##Import dữ liệu và thư viện cần thiết"
      ],
      "metadata": {
        "id": "57RKIGBfN-Tw"
      }
    },
    {
      "cell_type": "code",
      "execution_count": 1,
      "metadata": {
        "id": "ywveR1aTBj7g",
        "colab": {
          "base_uri": "https://localhost:8080/",
          "height": 73
        },
        "outputId": "9d050ada-14d5-4bbd-989b-819d8e505d72"
      },
      "outputs": [
        {
          "output_type": "display_data",
          "data": {
            "text/plain": [
              "<IPython.core.display.HTML object>"
            ],
            "text/html": [
              "\n",
              "     <input type=\"file\" id=\"files-5c95df18-195d-49d9-8e72-2b1bd6bcec17\" name=\"files[]\" multiple disabled\n",
              "        style=\"border:none\" />\n",
              "     <output id=\"result-5c95df18-195d-49d9-8e72-2b1bd6bcec17\">\n",
              "      Upload widget is only available when the cell has been executed in the\n",
              "      current browser session. Please rerun this cell to enable.\n",
              "      </output>\n",
              "      <script>// Copyright 2017 Google LLC\n",
              "//\n",
              "// Licensed under the Apache License, Version 2.0 (the \"License\");\n",
              "// you may not use this file except in compliance with the License.\n",
              "// You may obtain a copy of the License at\n",
              "//\n",
              "//      http://www.apache.org/licenses/LICENSE-2.0\n",
              "//\n",
              "// Unless required by applicable law or agreed to in writing, software\n",
              "// distributed under the License is distributed on an \"AS IS\" BASIS,\n",
              "// WITHOUT WARRANTIES OR CONDITIONS OF ANY KIND, either express or implied.\n",
              "// See the License for the specific language governing permissions and\n",
              "// limitations under the License.\n",
              "\n",
              "/**\n",
              " * @fileoverview Helpers for google.colab Python module.\n",
              " */\n",
              "(function(scope) {\n",
              "function span(text, styleAttributes = {}) {\n",
              "  const element = document.createElement('span');\n",
              "  element.textContent = text;\n",
              "  for (const key of Object.keys(styleAttributes)) {\n",
              "    element.style[key] = styleAttributes[key];\n",
              "  }\n",
              "  return element;\n",
              "}\n",
              "\n",
              "// Max number of bytes which will be uploaded at a time.\n",
              "const MAX_PAYLOAD_SIZE = 100 * 1024;\n",
              "\n",
              "function _uploadFiles(inputId, outputId) {\n",
              "  const steps = uploadFilesStep(inputId, outputId);\n",
              "  const outputElement = document.getElementById(outputId);\n",
              "  // Cache steps on the outputElement to make it available for the next call\n",
              "  // to uploadFilesContinue from Python.\n",
              "  outputElement.steps = steps;\n",
              "\n",
              "  return _uploadFilesContinue(outputId);\n",
              "}\n",
              "\n",
              "// This is roughly an async generator (not supported in the browser yet),\n",
              "// where there are multiple asynchronous steps and the Python side is going\n",
              "// to poll for completion of each step.\n",
              "// This uses a Promise to block the python side on completion of each step,\n",
              "// then passes the result of the previous step as the input to the next step.\n",
              "function _uploadFilesContinue(outputId) {\n",
              "  const outputElement = document.getElementById(outputId);\n",
              "  const steps = outputElement.steps;\n",
              "\n",
              "  const next = steps.next(outputElement.lastPromiseValue);\n",
              "  return Promise.resolve(next.value.promise).then((value) => {\n",
              "    // Cache the last promise value to make it available to the next\n",
              "    // step of the generator.\n",
              "    outputElement.lastPromiseValue = value;\n",
              "    return next.value.response;\n",
              "  });\n",
              "}\n",
              "\n",
              "/**\n",
              " * Generator function which is called between each async step of the upload\n",
              " * process.\n",
              " * @param {string} inputId Element ID of the input file picker element.\n",
              " * @param {string} outputId Element ID of the output display.\n",
              " * @return {!Iterable<!Object>} Iterable of next steps.\n",
              " */\n",
              "function* uploadFilesStep(inputId, outputId) {\n",
              "  const inputElement = document.getElementById(inputId);\n",
              "  inputElement.disabled = false;\n",
              "\n",
              "  const outputElement = document.getElementById(outputId);\n",
              "  outputElement.innerHTML = '';\n",
              "\n",
              "  const pickedPromise = new Promise((resolve) => {\n",
              "    inputElement.addEventListener('change', (e) => {\n",
              "      resolve(e.target.files);\n",
              "    });\n",
              "  });\n",
              "\n",
              "  const cancel = document.createElement('button');\n",
              "  inputElement.parentElement.appendChild(cancel);\n",
              "  cancel.textContent = 'Cancel upload';\n",
              "  const cancelPromise = new Promise((resolve) => {\n",
              "    cancel.onclick = () => {\n",
              "      resolve(null);\n",
              "    };\n",
              "  });\n",
              "\n",
              "  // Wait for the user to pick the files.\n",
              "  const files = yield {\n",
              "    promise: Promise.race([pickedPromise, cancelPromise]),\n",
              "    response: {\n",
              "      action: 'starting',\n",
              "    }\n",
              "  };\n",
              "\n",
              "  cancel.remove();\n",
              "\n",
              "  // Disable the input element since further picks are not allowed.\n",
              "  inputElement.disabled = true;\n",
              "\n",
              "  if (!files) {\n",
              "    return {\n",
              "      response: {\n",
              "        action: 'complete',\n",
              "      }\n",
              "    };\n",
              "  }\n",
              "\n",
              "  for (const file of files) {\n",
              "    const li = document.createElement('li');\n",
              "    li.append(span(file.name, {fontWeight: 'bold'}));\n",
              "    li.append(span(\n",
              "        `(${file.type || 'n/a'}) - ${file.size} bytes, ` +\n",
              "        `last modified: ${\n",
              "            file.lastModifiedDate ? file.lastModifiedDate.toLocaleDateString() :\n",
              "                                    'n/a'} - `));\n",
              "    const percent = span('0% done');\n",
              "    li.appendChild(percent);\n",
              "\n",
              "    outputElement.appendChild(li);\n",
              "\n",
              "    const fileDataPromise = new Promise((resolve) => {\n",
              "      const reader = new FileReader();\n",
              "      reader.onload = (e) => {\n",
              "        resolve(e.target.result);\n",
              "      };\n",
              "      reader.readAsArrayBuffer(file);\n",
              "    });\n",
              "    // Wait for the data to be ready.\n",
              "    let fileData = yield {\n",
              "      promise: fileDataPromise,\n",
              "      response: {\n",
              "        action: 'continue',\n",
              "      }\n",
              "    };\n",
              "\n",
              "    // Use a chunked sending to avoid message size limits. See b/62115660.\n",
              "    let position = 0;\n",
              "    do {\n",
              "      const length = Math.min(fileData.byteLength - position, MAX_PAYLOAD_SIZE);\n",
              "      const chunk = new Uint8Array(fileData, position, length);\n",
              "      position += length;\n",
              "\n",
              "      const base64 = btoa(String.fromCharCode.apply(null, chunk));\n",
              "      yield {\n",
              "        response: {\n",
              "          action: 'append',\n",
              "          file: file.name,\n",
              "          data: base64,\n",
              "        },\n",
              "      };\n",
              "\n",
              "      let percentDone = fileData.byteLength === 0 ?\n",
              "          100 :\n",
              "          Math.round((position / fileData.byteLength) * 100);\n",
              "      percent.textContent = `${percentDone}% done`;\n",
              "\n",
              "    } while (position < fileData.byteLength);\n",
              "  }\n",
              "\n",
              "  // All done.\n",
              "  yield {\n",
              "    response: {\n",
              "      action: 'complete',\n",
              "    }\n",
              "  };\n",
              "}\n",
              "\n",
              "scope.google = scope.google || {};\n",
              "scope.google.colab = scope.google.colab || {};\n",
              "scope.google.colab._files = {\n",
              "  _uploadFiles,\n",
              "  _uploadFilesContinue,\n",
              "};\n",
              "})(self);\n",
              "</script> "
            ]
          },
          "metadata": {}
        },
        {
          "output_type": "stream",
          "name": "stdout",
          "text": [
            "Saving VIC.csv to VIC.csv\n"
          ]
        }
      ],
      "source": [
        "from google.colab import files\n",
        "uploaded = files.upload()"
      ]
    },
    {
      "cell_type": "code",
      "source": [
        "import pandas as pd\n",
        "import numpy as np"
      ],
      "metadata": {
        "id": "CRXjUHRSCvqj"
      },
      "execution_count": 2,
      "outputs": []
    },
    {
      "cell_type": "code",
      "source": [
        "df = pd.read_csv('/content/VIC.csv')"
      ],
      "metadata": {
        "id": "ElItuCDhDKTy"
      },
      "execution_count": 3,
      "outputs": []
    },
    {
      "cell_type": "code",
      "source": [
        "df"
      ],
      "metadata": {
        "colab": {
          "base_uri": "https://localhost:8080/",
          "height": 423
        },
        "id": "FLAHw4LVDQvh",
        "outputId": "d63f6be3-dda2-4210-b611-4fd4fdc414d3"
      },
      "execution_count": 4,
      "outputs": [
        {
          "output_type": "execute_result",
          "data": {
            "text/plain": [
              "       Ticker         Date/Time   Open   High    Low  Close  Volume  \\\n",
              "0         VIC   10/17/2018 9:39   98.5   98.5   98.5   98.5     390   \n",
              "1         VIC   10/17/2018 9:40   98.5   98.5   98.5   98.5     760   \n",
              "2         VIC   10/17/2018 9:41   98.6   98.6   98.6   98.6    2060   \n",
              "3         VIC   10/17/2018 9:42   98.6   98.6   98.6   98.6    5540   \n",
              "4         VIC   10/17/2018 9:43   98.6   98.7   98.6   98.7     760   \n",
              "...       ...               ...    ...    ...    ...    ...     ...   \n",
              "101261    VIC  12/22/2020 14:22  105.8  105.8  105.7  105.7    1870   \n",
              "101262    VIC  12/22/2020 14:23  105.7  105.7  105.7  105.7    2510   \n",
              "101263    VIC  12/22/2020 14:24  105.7  105.7  105.7  105.7    3620   \n",
              "101264    VIC  12/22/2020 14:25  105.7  105.7  105.7  105.7     100   \n",
              "101265    VIC  12/22/2020 14:46  105.7  105.7  105.7  105.7      90   \n",
              "\n",
              "        Open Interest  \n",
              "0                   0  \n",
              "1                   0  \n",
              "2                   0  \n",
              "3                   0  \n",
              "4                   0  \n",
              "...               ...  \n",
              "101261              0  \n",
              "101262              0  \n",
              "101263              0  \n",
              "101264              0  \n",
              "101265              0  \n",
              "\n",
              "[101266 rows x 8 columns]"
            ],
            "text/html": [
              "\n",
              "  <div id=\"df-18fa6890-0350-4942-a36f-43085cd2c4cf\" class=\"colab-df-container\">\n",
              "    <div>\n",
              "<style scoped>\n",
              "    .dataframe tbody tr th:only-of-type {\n",
              "        vertical-align: middle;\n",
              "    }\n",
              "\n",
              "    .dataframe tbody tr th {\n",
              "        vertical-align: top;\n",
              "    }\n",
              "\n",
              "    .dataframe thead th {\n",
              "        text-align: right;\n",
              "    }\n",
              "</style>\n",
              "<table border=\"1\" class=\"dataframe\">\n",
              "  <thead>\n",
              "    <tr style=\"text-align: right;\">\n",
              "      <th></th>\n",
              "      <th>Ticker</th>\n",
              "      <th>Date/Time</th>\n",
              "      <th>Open</th>\n",
              "      <th>High</th>\n",
              "      <th>Low</th>\n",
              "      <th>Close</th>\n",
              "      <th>Volume</th>\n",
              "      <th>Open Interest</th>\n",
              "    </tr>\n",
              "  </thead>\n",
              "  <tbody>\n",
              "    <tr>\n",
              "      <th>0</th>\n",
              "      <td>VIC</td>\n",
              "      <td>10/17/2018 9:39</td>\n",
              "      <td>98.5</td>\n",
              "      <td>98.5</td>\n",
              "      <td>98.5</td>\n",
              "      <td>98.5</td>\n",
              "      <td>390</td>\n",
              "      <td>0</td>\n",
              "    </tr>\n",
              "    <tr>\n",
              "      <th>1</th>\n",
              "      <td>VIC</td>\n",
              "      <td>10/17/2018 9:40</td>\n",
              "      <td>98.5</td>\n",
              "      <td>98.5</td>\n",
              "      <td>98.5</td>\n",
              "      <td>98.5</td>\n",
              "      <td>760</td>\n",
              "      <td>0</td>\n",
              "    </tr>\n",
              "    <tr>\n",
              "      <th>2</th>\n",
              "      <td>VIC</td>\n",
              "      <td>10/17/2018 9:41</td>\n",
              "      <td>98.6</td>\n",
              "      <td>98.6</td>\n",
              "      <td>98.6</td>\n",
              "      <td>98.6</td>\n",
              "      <td>2060</td>\n",
              "      <td>0</td>\n",
              "    </tr>\n",
              "    <tr>\n",
              "      <th>3</th>\n",
              "      <td>VIC</td>\n",
              "      <td>10/17/2018 9:42</td>\n",
              "      <td>98.6</td>\n",
              "      <td>98.6</td>\n",
              "      <td>98.6</td>\n",
              "      <td>98.6</td>\n",
              "      <td>5540</td>\n",
              "      <td>0</td>\n",
              "    </tr>\n",
              "    <tr>\n",
              "      <th>4</th>\n",
              "      <td>VIC</td>\n",
              "      <td>10/17/2018 9:43</td>\n",
              "      <td>98.6</td>\n",
              "      <td>98.7</td>\n",
              "      <td>98.6</td>\n",
              "      <td>98.7</td>\n",
              "      <td>760</td>\n",
              "      <td>0</td>\n",
              "    </tr>\n",
              "    <tr>\n",
              "      <th>...</th>\n",
              "      <td>...</td>\n",
              "      <td>...</td>\n",
              "      <td>...</td>\n",
              "      <td>...</td>\n",
              "      <td>...</td>\n",
              "      <td>...</td>\n",
              "      <td>...</td>\n",
              "      <td>...</td>\n",
              "    </tr>\n",
              "    <tr>\n",
              "      <th>101261</th>\n",
              "      <td>VIC</td>\n",
              "      <td>12/22/2020 14:22</td>\n",
              "      <td>105.8</td>\n",
              "      <td>105.8</td>\n",
              "      <td>105.7</td>\n",
              "      <td>105.7</td>\n",
              "      <td>1870</td>\n",
              "      <td>0</td>\n",
              "    </tr>\n",
              "    <tr>\n",
              "      <th>101262</th>\n",
              "      <td>VIC</td>\n",
              "      <td>12/22/2020 14:23</td>\n",
              "      <td>105.7</td>\n",
              "      <td>105.7</td>\n",
              "      <td>105.7</td>\n",
              "      <td>105.7</td>\n",
              "      <td>2510</td>\n",
              "      <td>0</td>\n",
              "    </tr>\n",
              "    <tr>\n",
              "      <th>101263</th>\n",
              "      <td>VIC</td>\n",
              "      <td>12/22/2020 14:24</td>\n",
              "      <td>105.7</td>\n",
              "      <td>105.7</td>\n",
              "      <td>105.7</td>\n",
              "      <td>105.7</td>\n",
              "      <td>3620</td>\n",
              "      <td>0</td>\n",
              "    </tr>\n",
              "    <tr>\n",
              "      <th>101264</th>\n",
              "      <td>VIC</td>\n",
              "      <td>12/22/2020 14:25</td>\n",
              "      <td>105.7</td>\n",
              "      <td>105.7</td>\n",
              "      <td>105.7</td>\n",
              "      <td>105.7</td>\n",
              "      <td>100</td>\n",
              "      <td>0</td>\n",
              "    </tr>\n",
              "    <tr>\n",
              "      <th>101265</th>\n",
              "      <td>VIC</td>\n",
              "      <td>12/22/2020 14:46</td>\n",
              "      <td>105.7</td>\n",
              "      <td>105.7</td>\n",
              "      <td>105.7</td>\n",
              "      <td>105.7</td>\n",
              "      <td>90</td>\n",
              "      <td>0</td>\n",
              "    </tr>\n",
              "  </tbody>\n",
              "</table>\n",
              "<p>101266 rows × 8 columns</p>\n",
              "</div>\n",
              "    <div class=\"colab-df-buttons\">\n",
              "\n",
              "  <div class=\"colab-df-container\">\n",
              "    <button class=\"colab-df-convert\" onclick=\"convertToInteractive('df-18fa6890-0350-4942-a36f-43085cd2c4cf')\"\n",
              "            title=\"Convert this dataframe to an interactive table.\"\n",
              "            style=\"display:none;\">\n",
              "\n",
              "  <svg xmlns=\"http://www.w3.org/2000/svg\" height=\"24px\" viewBox=\"0 -960 960 960\">\n",
              "    <path d=\"M120-120v-720h720v720H120Zm60-500h600v-160H180v160Zm220 220h160v-160H400v160Zm0 220h160v-160H400v160ZM180-400h160v-160H180v160Zm440 0h160v-160H620v160ZM180-180h160v-160H180v160Zm440 0h160v-160H620v160Z\"/>\n",
              "  </svg>\n",
              "    </button>\n",
              "\n",
              "  <style>\n",
              "    .colab-df-container {\n",
              "      display:flex;\n",
              "      gap: 12px;\n",
              "    }\n",
              "\n",
              "    .colab-df-convert {\n",
              "      background-color: #E8F0FE;\n",
              "      border: none;\n",
              "      border-radius: 50%;\n",
              "      cursor: pointer;\n",
              "      display: none;\n",
              "      fill: #1967D2;\n",
              "      height: 32px;\n",
              "      padding: 0 0 0 0;\n",
              "      width: 32px;\n",
              "    }\n",
              "\n",
              "    .colab-df-convert:hover {\n",
              "      background-color: #E2EBFA;\n",
              "      box-shadow: 0px 1px 2px rgba(60, 64, 67, 0.3), 0px 1px 3px 1px rgba(60, 64, 67, 0.15);\n",
              "      fill: #174EA6;\n",
              "    }\n",
              "\n",
              "    .colab-df-buttons div {\n",
              "      margin-bottom: 4px;\n",
              "    }\n",
              "\n",
              "    [theme=dark] .colab-df-convert {\n",
              "      background-color: #3B4455;\n",
              "      fill: #D2E3FC;\n",
              "    }\n",
              "\n",
              "    [theme=dark] .colab-df-convert:hover {\n",
              "      background-color: #434B5C;\n",
              "      box-shadow: 0px 1px 3px 1px rgba(0, 0, 0, 0.15);\n",
              "      filter: drop-shadow(0px 1px 2px rgba(0, 0, 0, 0.3));\n",
              "      fill: #FFFFFF;\n",
              "    }\n",
              "  </style>\n",
              "\n",
              "    <script>\n",
              "      const buttonEl =\n",
              "        document.querySelector('#df-18fa6890-0350-4942-a36f-43085cd2c4cf button.colab-df-convert');\n",
              "      buttonEl.style.display =\n",
              "        google.colab.kernel.accessAllowed ? 'block' : 'none';\n",
              "\n",
              "      async function convertToInteractive(key) {\n",
              "        const element = document.querySelector('#df-18fa6890-0350-4942-a36f-43085cd2c4cf');\n",
              "        const dataTable =\n",
              "          await google.colab.kernel.invokeFunction('convertToInteractive',\n",
              "                                                    [key], {});\n",
              "        if (!dataTable) return;\n",
              "\n",
              "        const docLinkHtml = 'Like what you see? Visit the ' +\n",
              "          '<a target=\"_blank\" href=https://colab.research.google.com/notebooks/data_table.ipynb>data table notebook</a>'\n",
              "          + ' to learn more about interactive tables.';\n",
              "        element.innerHTML = '';\n",
              "        dataTable['output_type'] = 'display_data';\n",
              "        await google.colab.output.renderOutput(dataTable, element);\n",
              "        const docLink = document.createElement('div');\n",
              "        docLink.innerHTML = docLinkHtml;\n",
              "        element.appendChild(docLink);\n",
              "      }\n",
              "    </script>\n",
              "  </div>\n",
              "\n",
              "\n",
              "<div id=\"df-b0a912bf-bcbb-4b27-975c-f81056ba1cb1\">\n",
              "  <button class=\"colab-df-quickchart\" onclick=\"quickchart('df-b0a912bf-bcbb-4b27-975c-f81056ba1cb1')\"\n",
              "            title=\"Suggest charts\"\n",
              "            style=\"display:none;\">\n",
              "\n",
              "<svg xmlns=\"http://www.w3.org/2000/svg\" height=\"24px\"viewBox=\"0 0 24 24\"\n",
              "     width=\"24px\">\n",
              "    <g>\n",
              "        <path d=\"M19 3H5c-1.1 0-2 .9-2 2v14c0 1.1.9 2 2 2h14c1.1 0 2-.9 2-2V5c0-1.1-.9-2-2-2zM9 17H7v-7h2v7zm4 0h-2V7h2v10zm4 0h-2v-4h2v4z\"/>\n",
              "    </g>\n",
              "</svg>\n",
              "  </button>\n",
              "\n",
              "<style>\n",
              "  .colab-df-quickchart {\n",
              "      --bg-color: #E8F0FE;\n",
              "      --fill-color: #1967D2;\n",
              "      --hover-bg-color: #E2EBFA;\n",
              "      --hover-fill-color: #174EA6;\n",
              "      --disabled-fill-color: #AAA;\n",
              "      --disabled-bg-color: #DDD;\n",
              "  }\n",
              "\n",
              "  [theme=dark] .colab-df-quickchart {\n",
              "      --bg-color: #3B4455;\n",
              "      --fill-color: #D2E3FC;\n",
              "      --hover-bg-color: #434B5C;\n",
              "      --hover-fill-color: #FFFFFF;\n",
              "      --disabled-bg-color: #3B4455;\n",
              "      --disabled-fill-color: #666;\n",
              "  }\n",
              "\n",
              "  .colab-df-quickchart {\n",
              "    background-color: var(--bg-color);\n",
              "    border: none;\n",
              "    border-radius: 50%;\n",
              "    cursor: pointer;\n",
              "    display: none;\n",
              "    fill: var(--fill-color);\n",
              "    height: 32px;\n",
              "    padding: 0;\n",
              "    width: 32px;\n",
              "  }\n",
              "\n",
              "  .colab-df-quickchart:hover {\n",
              "    background-color: var(--hover-bg-color);\n",
              "    box-shadow: 0 1px 2px rgba(60, 64, 67, 0.3), 0 1px 3px 1px rgba(60, 64, 67, 0.15);\n",
              "    fill: var(--button-hover-fill-color);\n",
              "  }\n",
              "\n",
              "  .colab-df-quickchart-complete:disabled,\n",
              "  .colab-df-quickchart-complete:disabled:hover {\n",
              "    background-color: var(--disabled-bg-color);\n",
              "    fill: var(--disabled-fill-color);\n",
              "    box-shadow: none;\n",
              "  }\n",
              "\n",
              "  .colab-df-spinner {\n",
              "    border: 2px solid var(--fill-color);\n",
              "    border-color: transparent;\n",
              "    border-bottom-color: var(--fill-color);\n",
              "    animation:\n",
              "      spin 1s steps(1) infinite;\n",
              "  }\n",
              "\n",
              "  @keyframes spin {\n",
              "    0% {\n",
              "      border-color: transparent;\n",
              "      border-bottom-color: var(--fill-color);\n",
              "      border-left-color: var(--fill-color);\n",
              "    }\n",
              "    20% {\n",
              "      border-color: transparent;\n",
              "      border-left-color: var(--fill-color);\n",
              "      border-top-color: var(--fill-color);\n",
              "    }\n",
              "    30% {\n",
              "      border-color: transparent;\n",
              "      border-left-color: var(--fill-color);\n",
              "      border-top-color: var(--fill-color);\n",
              "      border-right-color: var(--fill-color);\n",
              "    }\n",
              "    40% {\n",
              "      border-color: transparent;\n",
              "      border-right-color: var(--fill-color);\n",
              "      border-top-color: var(--fill-color);\n",
              "    }\n",
              "    60% {\n",
              "      border-color: transparent;\n",
              "      border-right-color: var(--fill-color);\n",
              "    }\n",
              "    80% {\n",
              "      border-color: transparent;\n",
              "      border-right-color: var(--fill-color);\n",
              "      border-bottom-color: var(--fill-color);\n",
              "    }\n",
              "    90% {\n",
              "      border-color: transparent;\n",
              "      border-bottom-color: var(--fill-color);\n",
              "    }\n",
              "  }\n",
              "</style>\n",
              "\n",
              "  <script>\n",
              "    async function quickchart(key) {\n",
              "      const quickchartButtonEl =\n",
              "        document.querySelector('#' + key + ' button');\n",
              "      quickchartButtonEl.disabled = true;  // To prevent multiple clicks.\n",
              "      quickchartButtonEl.classList.add('colab-df-spinner');\n",
              "      try {\n",
              "        const charts = await google.colab.kernel.invokeFunction(\n",
              "            'suggestCharts', [key], {});\n",
              "      } catch (error) {\n",
              "        console.error('Error during call to suggestCharts:', error);\n",
              "      }\n",
              "      quickchartButtonEl.classList.remove('colab-df-spinner');\n",
              "      quickchartButtonEl.classList.add('colab-df-quickchart-complete');\n",
              "    }\n",
              "    (() => {\n",
              "      let quickchartButtonEl =\n",
              "        document.querySelector('#df-b0a912bf-bcbb-4b27-975c-f81056ba1cb1 button');\n",
              "      quickchartButtonEl.style.display =\n",
              "        google.colab.kernel.accessAllowed ? 'block' : 'none';\n",
              "    })();\n",
              "  </script>\n",
              "</div>\n",
              "\n",
              "  <div id=\"id_249ac71c-9297-49d9-97f4-9d4fb4efa89e\">\n",
              "    <style>\n",
              "      .colab-df-generate {\n",
              "        background-color: #E8F0FE;\n",
              "        border: none;\n",
              "        border-radius: 50%;\n",
              "        cursor: pointer;\n",
              "        display: none;\n",
              "        fill: #1967D2;\n",
              "        height: 32px;\n",
              "        padding: 0 0 0 0;\n",
              "        width: 32px;\n",
              "      }\n",
              "\n",
              "      .colab-df-generate:hover {\n",
              "        background-color: #E2EBFA;\n",
              "        box-shadow: 0px 1px 2px rgba(60, 64, 67, 0.3), 0px 1px 3px 1px rgba(60, 64, 67, 0.15);\n",
              "        fill: #174EA6;\n",
              "      }\n",
              "\n",
              "      [theme=dark] .colab-df-generate {\n",
              "        background-color: #3B4455;\n",
              "        fill: #D2E3FC;\n",
              "      }\n",
              "\n",
              "      [theme=dark] .colab-df-generate:hover {\n",
              "        background-color: #434B5C;\n",
              "        box-shadow: 0px 1px 3px 1px rgba(0, 0, 0, 0.15);\n",
              "        filter: drop-shadow(0px 1px 2px rgba(0, 0, 0, 0.3));\n",
              "        fill: #FFFFFF;\n",
              "      }\n",
              "    </style>\n",
              "    <button class=\"colab-df-generate\" onclick=\"generateWithVariable('df')\"\n",
              "            title=\"Generate code using this dataframe.\"\n",
              "            style=\"display:none;\">\n",
              "\n",
              "  <svg xmlns=\"http://www.w3.org/2000/svg\" height=\"24px\"viewBox=\"0 0 24 24\"\n",
              "       width=\"24px\">\n",
              "    <path d=\"M7,19H8.4L18.45,9,17,7.55,7,17.6ZM5,21V16.75L18.45,3.32a2,2,0,0,1,2.83,0l1.4,1.43a1.91,1.91,0,0,1,.58,1.4,1.91,1.91,0,0,1-.58,1.4L9.25,21ZM18.45,9,17,7.55Zm-12,3A5.31,5.31,0,0,0,4.9,8.1,5.31,5.31,0,0,0,1,6.5,5.31,5.31,0,0,0,4.9,4.9,5.31,5.31,0,0,0,6.5,1,5.31,5.31,0,0,0,8.1,4.9,5.31,5.31,0,0,0,12,6.5,5.46,5.46,0,0,0,6.5,12Z\"/>\n",
              "  </svg>\n",
              "    </button>\n",
              "    <script>\n",
              "      (() => {\n",
              "      const buttonEl =\n",
              "        document.querySelector('#id_249ac71c-9297-49d9-97f4-9d4fb4efa89e button.colab-df-generate');\n",
              "      buttonEl.style.display =\n",
              "        google.colab.kernel.accessAllowed ? 'block' : 'none';\n",
              "\n",
              "      buttonEl.onclick = () => {\n",
              "        google.colab.notebook.generateWithVariable('df');\n",
              "      }\n",
              "      })();\n",
              "    </script>\n",
              "  </div>\n",
              "\n",
              "    </div>\n",
              "  </div>\n"
            ],
            "application/vnd.google.colaboratory.intrinsic+json": {
              "type": "dataframe",
              "variable_name": "df"
            }
          },
          "metadata": {},
          "execution_count": 4
        }
      ]
    },
    {
      "cell_type": "markdown",
      "source": [
        "##Làm sạch dữ liệu"
      ],
      "metadata": {
        "id": "HQTT9sdlOPwP"
      }
    },
    {
      "cell_type": "code",
      "source": [
        "# Xem kiểu dữ liệu\n",
        "df.info()"
      ],
      "metadata": {
        "colab": {
          "base_uri": "https://localhost:8080/"
        },
        "id": "75SiPtsnDb0C",
        "outputId": "8dc75b8f-0462-47ad-9011-c9cdfdf88a6a"
      },
      "execution_count": 5,
      "outputs": [
        {
          "output_type": "stream",
          "name": "stdout",
          "text": [
            "<class 'pandas.core.frame.DataFrame'>\n",
            "RangeIndex: 101266 entries, 0 to 101265\n",
            "Data columns (total 8 columns):\n",
            " #   Column         Non-Null Count   Dtype  \n",
            "---  ------         --------------   -----  \n",
            " 0   Ticker         101266 non-null  object \n",
            " 1   Date/Time      101266 non-null  object \n",
            " 2   Open           101266 non-null  float64\n",
            " 3   High           101266 non-null  float64\n",
            " 4   Low            101266 non-null  float64\n",
            " 5   Close          101266 non-null  float64\n",
            " 6   Volume         101266 non-null  int64  \n",
            " 7   Open Interest  101266 non-null  int64  \n",
            "dtypes: float64(4), int64(2), object(2)\n",
            "memory usage: 6.2+ MB\n"
          ]
        }
      ]
    },
    {
      "cell_type": "code",
      "source": [
        "df.dtypes"
      ],
      "metadata": {
        "colab": {
          "base_uri": "https://localhost:8080/"
        },
        "id": "NzfOcKmCGG2t",
        "outputId": "37cac664-c16d-46c0-eefd-b801f5472a19"
      },
      "execution_count": 6,
      "outputs": [
        {
          "output_type": "execute_result",
          "data": {
            "text/plain": [
              "Ticker            object\n",
              "Date/Time         object\n",
              "Open             float64\n",
              "High             float64\n",
              "Low              float64\n",
              "Close            float64\n",
              "Volume             int64\n",
              "Open Interest      int64\n",
              "dtype: object"
            ]
          },
          "metadata": {},
          "execution_count": 6
        }
      ]
    },
    {
      "cell_type": "code",
      "source": [
        "# Kiểm tra hàng trùng lặp\n",
        "df.duplicated().any()"
      ],
      "metadata": {
        "colab": {
          "base_uri": "https://localhost:8080/"
        },
        "id": "3a0ZkgHnENqR",
        "outputId": "8e051eb5-f24d-4f4b-b165-b47cc2fa7810"
      },
      "execution_count": 7,
      "outputs": [
        {
          "output_type": "execute_result",
          "data": {
            "text/plain": [
              "False"
            ]
          },
          "metadata": {},
          "execution_count": 7
        }
      ]
    },
    {
      "cell_type": "code",
      "source": [
        "# Kiểm tra Null\n",
        "df.isnull().any()"
      ],
      "metadata": {
        "colab": {
          "base_uri": "https://localhost:8080/"
        },
        "id": "RhkA3_dOG6qE",
        "outputId": "61ef383f-5f67-44cb-b54e-005e50e7457a"
      },
      "execution_count": 8,
      "outputs": [
        {
          "output_type": "execute_result",
          "data": {
            "text/plain": [
              "Ticker           False\n",
              "Date/Time        False\n",
              "Open             False\n",
              "High             False\n",
              "Low              False\n",
              "Close            False\n",
              "Volume           False\n",
              "Open Interest    False\n",
              "dtype: bool"
            ]
          },
          "metadata": {},
          "execution_count": 8
        }
      ]
    },
    {
      "cell_type": "code",
      "source": [
        "# Kiểm tra các giá trị min, max, mean(giá trị trung bình), standard(độ lệch chuẩn) của mỗi cột\n",
        "df.describe()"
      ],
      "metadata": {
        "colab": {
          "base_uri": "https://localhost:8080/",
          "height": 300
        },
        "id": "rEyJh3gBHJ6x",
        "outputId": "2e756deb-f52b-4afc-bb04-f6a16a79ea3b"
      },
      "execution_count": 9,
      "outputs": [
        {
          "output_type": "execute_result",
          "data": {
            "text/plain": [
              "                Open           High            Low          Close  \\\n",
              "count  101266.000000  101266.000000  101266.000000  101266.000000   \n",
              "mean      105.376460     105.418519     105.334147     105.378791   \n",
              "std        11.543158      11.535584      11.552338      11.545054   \n",
              "min        68.000000      68.000000      68.000000      68.000000   \n",
              "25%        95.400000      95.400000      95.300000      95.400000   \n",
              "50%       105.300000     105.300000     105.200000     105.300000   \n",
              "75%       115.800000     115.900000     115.800000     115.800000   \n",
              "max       126.100000     126.500000     126.100000     126.500000   \n",
              "\n",
              "             Volume  Open Interest  \n",
              "count  1.012660e+05       101266.0  \n",
              "mean   3.182640e+03            0.0  \n",
              "std    1.469814e+04            0.0  \n",
              "min    1.000000e+01            0.0  \n",
              "25%    2.300000e+02            0.0  \n",
              "50%    1.020000e+03            0.0  \n",
              "75%    3.000000e+03            0.0  \n",
              "max    1.468390e+06            0.0  "
            ],
            "text/html": [
              "\n",
              "  <div id=\"df-68bf6665-604e-4b64-bb6c-beea35d7aada\" class=\"colab-df-container\">\n",
              "    <div>\n",
              "<style scoped>\n",
              "    .dataframe tbody tr th:only-of-type {\n",
              "        vertical-align: middle;\n",
              "    }\n",
              "\n",
              "    .dataframe tbody tr th {\n",
              "        vertical-align: top;\n",
              "    }\n",
              "\n",
              "    .dataframe thead th {\n",
              "        text-align: right;\n",
              "    }\n",
              "</style>\n",
              "<table border=\"1\" class=\"dataframe\">\n",
              "  <thead>\n",
              "    <tr style=\"text-align: right;\">\n",
              "      <th></th>\n",
              "      <th>Open</th>\n",
              "      <th>High</th>\n",
              "      <th>Low</th>\n",
              "      <th>Close</th>\n",
              "      <th>Volume</th>\n",
              "      <th>Open Interest</th>\n",
              "    </tr>\n",
              "  </thead>\n",
              "  <tbody>\n",
              "    <tr>\n",
              "      <th>count</th>\n",
              "      <td>101266.000000</td>\n",
              "      <td>101266.000000</td>\n",
              "      <td>101266.000000</td>\n",
              "      <td>101266.000000</td>\n",
              "      <td>1.012660e+05</td>\n",
              "      <td>101266.0</td>\n",
              "    </tr>\n",
              "    <tr>\n",
              "      <th>mean</th>\n",
              "      <td>105.376460</td>\n",
              "      <td>105.418519</td>\n",
              "      <td>105.334147</td>\n",
              "      <td>105.378791</td>\n",
              "      <td>3.182640e+03</td>\n",
              "      <td>0.0</td>\n",
              "    </tr>\n",
              "    <tr>\n",
              "      <th>std</th>\n",
              "      <td>11.543158</td>\n",
              "      <td>11.535584</td>\n",
              "      <td>11.552338</td>\n",
              "      <td>11.545054</td>\n",
              "      <td>1.469814e+04</td>\n",
              "      <td>0.0</td>\n",
              "    </tr>\n",
              "    <tr>\n",
              "      <th>min</th>\n",
              "      <td>68.000000</td>\n",
              "      <td>68.000000</td>\n",
              "      <td>68.000000</td>\n",
              "      <td>68.000000</td>\n",
              "      <td>1.000000e+01</td>\n",
              "      <td>0.0</td>\n",
              "    </tr>\n",
              "    <tr>\n",
              "      <th>25%</th>\n",
              "      <td>95.400000</td>\n",
              "      <td>95.400000</td>\n",
              "      <td>95.300000</td>\n",
              "      <td>95.400000</td>\n",
              "      <td>2.300000e+02</td>\n",
              "      <td>0.0</td>\n",
              "    </tr>\n",
              "    <tr>\n",
              "      <th>50%</th>\n",
              "      <td>105.300000</td>\n",
              "      <td>105.300000</td>\n",
              "      <td>105.200000</td>\n",
              "      <td>105.300000</td>\n",
              "      <td>1.020000e+03</td>\n",
              "      <td>0.0</td>\n",
              "    </tr>\n",
              "    <tr>\n",
              "      <th>75%</th>\n",
              "      <td>115.800000</td>\n",
              "      <td>115.900000</td>\n",
              "      <td>115.800000</td>\n",
              "      <td>115.800000</td>\n",
              "      <td>3.000000e+03</td>\n",
              "      <td>0.0</td>\n",
              "    </tr>\n",
              "    <tr>\n",
              "      <th>max</th>\n",
              "      <td>126.100000</td>\n",
              "      <td>126.500000</td>\n",
              "      <td>126.100000</td>\n",
              "      <td>126.500000</td>\n",
              "      <td>1.468390e+06</td>\n",
              "      <td>0.0</td>\n",
              "    </tr>\n",
              "  </tbody>\n",
              "</table>\n",
              "</div>\n",
              "    <div class=\"colab-df-buttons\">\n",
              "\n",
              "  <div class=\"colab-df-container\">\n",
              "    <button class=\"colab-df-convert\" onclick=\"convertToInteractive('df-68bf6665-604e-4b64-bb6c-beea35d7aada')\"\n",
              "            title=\"Convert this dataframe to an interactive table.\"\n",
              "            style=\"display:none;\">\n",
              "\n",
              "  <svg xmlns=\"http://www.w3.org/2000/svg\" height=\"24px\" viewBox=\"0 -960 960 960\">\n",
              "    <path d=\"M120-120v-720h720v720H120Zm60-500h600v-160H180v160Zm220 220h160v-160H400v160Zm0 220h160v-160H400v160ZM180-400h160v-160H180v160Zm440 0h160v-160H620v160ZM180-180h160v-160H180v160Zm440 0h160v-160H620v160Z\"/>\n",
              "  </svg>\n",
              "    </button>\n",
              "\n",
              "  <style>\n",
              "    .colab-df-container {\n",
              "      display:flex;\n",
              "      gap: 12px;\n",
              "    }\n",
              "\n",
              "    .colab-df-convert {\n",
              "      background-color: #E8F0FE;\n",
              "      border: none;\n",
              "      border-radius: 50%;\n",
              "      cursor: pointer;\n",
              "      display: none;\n",
              "      fill: #1967D2;\n",
              "      height: 32px;\n",
              "      padding: 0 0 0 0;\n",
              "      width: 32px;\n",
              "    }\n",
              "\n",
              "    .colab-df-convert:hover {\n",
              "      background-color: #E2EBFA;\n",
              "      box-shadow: 0px 1px 2px rgba(60, 64, 67, 0.3), 0px 1px 3px 1px rgba(60, 64, 67, 0.15);\n",
              "      fill: #174EA6;\n",
              "    }\n",
              "\n",
              "    .colab-df-buttons div {\n",
              "      margin-bottom: 4px;\n",
              "    }\n",
              "\n",
              "    [theme=dark] .colab-df-convert {\n",
              "      background-color: #3B4455;\n",
              "      fill: #D2E3FC;\n",
              "    }\n",
              "\n",
              "    [theme=dark] .colab-df-convert:hover {\n",
              "      background-color: #434B5C;\n",
              "      box-shadow: 0px 1px 3px 1px rgba(0, 0, 0, 0.15);\n",
              "      filter: drop-shadow(0px 1px 2px rgba(0, 0, 0, 0.3));\n",
              "      fill: #FFFFFF;\n",
              "    }\n",
              "  </style>\n",
              "\n",
              "    <script>\n",
              "      const buttonEl =\n",
              "        document.querySelector('#df-68bf6665-604e-4b64-bb6c-beea35d7aada button.colab-df-convert');\n",
              "      buttonEl.style.display =\n",
              "        google.colab.kernel.accessAllowed ? 'block' : 'none';\n",
              "\n",
              "      async function convertToInteractive(key) {\n",
              "        const element = document.querySelector('#df-68bf6665-604e-4b64-bb6c-beea35d7aada');\n",
              "        const dataTable =\n",
              "          await google.colab.kernel.invokeFunction('convertToInteractive',\n",
              "                                                    [key], {});\n",
              "        if (!dataTable) return;\n",
              "\n",
              "        const docLinkHtml = 'Like what you see? Visit the ' +\n",
              "          '<a target=\"_blank\" href=https://colab.research.google.com/notebooks/data_table.ipynb>data table notebook</a>'\n",
              "          + ' to learn more about interactive tables.';\n",
              "        element.innerHTML = '';\n",
              "        dataTable['output_type'] = 'display_data';\n",
              "        await google.colab.output.renderOutput(dataTable, element);\n",
              "        const docLink = document.createElement('div');\n",
              "        docLink.innerHTML = docLinkHtml;\n",
              "        element.appendChild(docLink);\n",
              "      }\n",
              "    </script>\n",
              "  </div>\n",
              "\n",
              "\n",
              "<div id=\"df-8b60c826-9093-4487-b3b9-85d41bd8faa0\">\n",
              "  <button class=\"colab-df-quickchart\" onclick=\"quickchart('df-8b60c826-9093-4487-b3b9-85d41bd8faa0')\"\n",
              "            title=\"Suggest charts\"\n",
              "            style=\"display:none;\">\n",
              "\n",
              "<svg xmlns=\"http://www.w3.org/2000/svg\" height=\"24px\"viewBox=\"0 0 24 24\"\n",
              "     width=\"24px\">\n",
              "    <g>\n",
              "        <path d=\"M19 3H5c-1.1 0-2 .9-2 2v14c0 1.1.9 2 2 2h14c1.1 0 2-.9 2-2V5c0-1.1-.9-2-2-2zM9 17H7v-7h2v7zm4 0h-2V7h2v10zm4 0h-2v-4h2v4z\"/>\n",
              "    </g>\n",
              "</svg>\n",
              "  </button>\n",
              "\n",
              "<style>\n",
              "  .colab-df-quickchart {\n",
              "      --bg-color: #E8F0FE;\n",
              "      --fill-color: #1967D2;\n",
              "      --hover-bg-color: #E2EBFA;\n",
              "      --hover-fill-color: #174EA6;\n",
              "      --disabled-fill-color: #AAA;\n",
              "      --disabled-bg-color: #DDD;\n",
              "  }\n",
              "\n",
              "  [theme=dark] .colab-df-quickchart {\n",
              "      --bg-color: #3B4455;\n",
              "      --fill-color: #D2E3FC;\n",
              "      --hover-bg-color: #434B5C;\n",
              "      --hover-fill-color: #FFFFFF;\n",
              "      --disabled-bg-color: #3B4455;\n",
              "      --disabled-fill-color: #666;\n",
              "  }\n",
              "\n",
              "  .colab-df-quickchart {\n",
              "    background-color: var(--bg-color);\n",
              "    border: none;\n",
              "    border-radius: 50%;\n",
              "    cursor: pointer;\n",
              "    display: none;\n",
              "    fill: var(--fill-color);\n",
              "    height: 32px;\n",
              "    padding: 0;\n",
              "    width: 32px;\n",
              "  }\n",
              "\n",
              "  .colab-df-quickchart:hover {\n",
              "    background-color: var(--hover-bg-color);\n",
              "    box-shadow: 0 1px 2px rgba(60, 64, 67, 0.3), 0 1px 3px 1px rgba(60, 64, 67, 0.15);\n",
              "    fill: var(--button-hover-fill-color);\n",
              "  }\n",
              "\n",
              "  .colab-df-quickchart-complete:disabled,\n",
              "  .colab-df-quickchart-complete:disabled:hover {\n",
              "    background-color: var(--disabled-bg-color);\n",
              "    fill: var(--disabled-fill-color);\n",
              "    box-shadow: none;\n",
              "  }\n",
              "\n",
              "  .colab-df-spinner {\n",
              "    border: 2px solid var(--fill-color);\n",
              "    border-color: transparent;\n",
              "    border-bottom-color: var(--fill-color);\n",
              "    animation:\n",
              "      spin 1s steps(1) infinite;\n",
              "  }\n",
              "\n",
              "  @keyframes spin {\n",
              "    0% {\n",
              "      border-color: transparent;\n",
              "      border-bottom-color: var(--fill-color);\n",
              "      border-left-color: var(--fill-color);\n",
              "    }\n",
              "    20% {\n",
              "      border-color: transparent;\n",
              "      border-left-color: var(--fill-color);\n",
              "      border-top-color: var(--fill-color);\n",
              "    }\n",
              "    30% {\n",
              "      border-color: transparent;\n",
              "      border-left-color: var(--fill-color);\n",
              "      border-top-color: var(--fill-color);\n",
              "      border-right-color: var(--fill-color);\n",
              "    }\n",
              "    40% {\n",
              "      border-color: transparent;\n",
              "      border-right-color: var(--fill-color);\n",
              "      border-top-color: var(--fill-color);\n",
              "    }\n",
              "    60% {\n",
              "      border-color: transparent;\n",
              "      border-right-color: var(--fill-color);\n",
              "    }\n",
              "    80% {\n",
              "      border-color: transparent;\n",
              "      border-right-color: var(--fill-color);\n",
              "      border-bottom-color: var(--fill-color);\n",
              "    }\n",
              "    90% {\n",
              "      border-color: transparent;\n",
              "      border-bottom-color: var(--fill-color);\n",
              "    }\n",
              "  }\n",
              "</style>\n",
              "\n",
              "  <script>\n",
              "    async function quickchart(key) {\n",
              "      const quickchartButtonEl =\n",
              "        document.querySelector('#' + key + ' button');\n",
              "      quickchartButtonEl.disabled = true;  // To prevent multiple clicks.\n",
              "      quickchartButtonEl.classList.add('colab-df-spinner');\n",
              "      try {\n",
              "        const charts = await google.colab.kernel.invokeFunction(\n",
              "            'suggestCharts', [key], {});\n",
              "      } catch (error) {\n",
              "        console.error('Error during call to suggestCharts:', error);\n",
              "      }\n",
              "      quickchartButtonEl.classList.remove('colab-df-spinner');\n",
              "      quickchartButtonEl.classList.add('colab-df-quickchart-complete');\n",
              "    }\n",
              "    (() => {\n",
              "      let quickchartButtonEl =\n",
              "        document.querySelector('#df-8b60c826-9093-4487-b3b9-85d41bd8faa0 button');\n",
              "      quickchartButtonEl.style.display =\n",
              "        google.colab.kernel.accessAllowed ? 'block' : 'none';\n",
              "    })();\n",
              "  </script>\n",
              "</div>\n",
              "\n",
              "    </div>\n",
              "  </div>\n"
            ],
            "application/vnd.google.colaboratory.intrinsic+json": {
              "type": "dataframe",
              "summary": "{\n  \"name\": \"df\",\n  \"rows\": 8,\n  \"fields\": [\n    {\n      \"column\": \"Open\",\n      \"properties\": {\n        \"dtype\": \"number\",\n        \"std\": 35771.26131013078,\n        \"min\": 11.543158032455148,\n        \"max\": 101266.0,\n        \"num_unique_values\": 8,\n        \"samples\": [\n          105.37646001619497,\n          105.3,\n          101266.0\n        ],\n        \"semantic_type\": \"\",\n        \"description\": \"\"\n      }\n    },\n    {\n      \"column\": \"High\",\n      \"properties\": {\n        \"dtype\": \"number\",\n        \"std\": 35771.234388532015,\n        \"min\": 11.5355842704267,\n        \"max\": 101266.0,\n        \"num_unique_values\": 8,\n        \"samples\": [\n          105.41851855509252,\n          105.3,\n          101266.0\n        ],\n        \"semantic_type\": \"\",\n        \"description\": \"\"\n      }\n    },\n    {\n      \"column\": \"Low\",\n      \"properties\": {\n        \"dtype\": \"number\",\n        \"std\": 35771.27307110849,\n        \"min\": 11.552337708598934,\n        \"max\": 101266.0,\n        \"num_unique_values\": 8,\n        \"samples\": [\n          105.33414670274327,\n          105.2,\n          101266.0\n        ],\n        \"semantic_type\": \"\",\n        \"description\": \"\"\n      }\n    },\n    {\n      \"column\": \"Close\",\n      \"properties\": {\n        \"dtype\": \"number\",\n        \"std\": 35771.24095163969,\n        \"min\": 11.545053884658204,\n        \"max\": 101266.0,\n        \"num_unique_values\": 8,\n        \"samples\": [\n          105.37879149961489,\n          105.3,\n          101266.0\n        ],\n        \"semantic_type\": \"\",\n        \"description\": \"\"\n      }\n    },\n    {\n      \"column\": \"Volume\",\n      \"properties\": {\n        \"dtype\": \"number\",\n        \"std\": 514077.9717921896,\n        \"min\": 10.0,\n        \"max\": 1468390.0,\n        \"num_unique_values\": 8,\n        \"samples\": [\n          3182.63958288073,\n          1020.0,\n          101266.0\n        ],\n        \"semantic_type\": \"\",\n        \"description\": \"\"\n      }\n    },\n    {\n      \"column\": \"Open Interest\",\n      \"properties\": {\n        \"dtype\": \"number\",\n        \"std\": 35802.93765181846,\n        \"min\": 0.0,\n        \"max\": 101266.0,\n        \"num_unique_values\": 2,\n        \"samples\": [\n          0.0,\n          101266.0\n        ],\n        \"semantic_type\": \"\",\n        \"description\": \"\"\n      }\n    }\n  ]\n}"
            }
          },
          "metadata": {},
          "execution_count": 9
        }
      ]
    },
    {
      "cell_type": "code",
      "source": [
        "import matplotlib.pyplot as plt"
      ],
      "metadata": {
        "id": "FExA8ZPRHeNS"
      },
      "execution_count": 10,
      "outputs": []
    },
    {
      "cell_type": "code",
      "source": [
        "# Sử dụng Histogram để kiểm tra sự phân bổ giá trị trong mỗi cột\n",
        "for column in df.columns:\n",
        "    plt.figure(figsize=(2, 1))\n",
        "    plt.hist(df[column], bins=20, color='green', edgecolor='black')\n",
        "    plt.title(f'Histogram của cột {column}')\n",
        "    plt.xlabel('Giá trị')\n",
        "    plt.ylabel('Số lượng')\n",
        "    plt.show()"
      ],
      "metadata": {
        "colab": {
          "base_uri": "https://localhost:8080/",
          "height": 1000
        },
        "id": "g5c66hG2HZsi",
        "outputId": "f496ab97-a0b7-4ff1-c852-75cec2f9889c"
      },
      "execution_count": 11,
      "outputs": [
        {
          "output_type": "display_data",
          "data": {
            "text/plain": [
              "<Figure size 200x100 with 1 Axes>"
            ],
            "image/png": "[encoded data removed]"
          },
          "metadata": {}
        },
        {
          "output_type": "display_data",
          "data": {
            "text/plain": [
              "<Figure size 200x100 with 1 Axes>"
            ],
            "image/png": "[encoded data removed]"
          },
          "metadata": {}
        },
        {
          "output_type": "display_data",
          "data": {
            "text/plain": [
              "<Figure size 200x100 with 1 Axes>"
            ],
            "image/png": "[encoded data removed]"
          },
          "metadata": {}
        },
        {
          "output_type": "display_data",
          "data": {
            "text/plain": [
              "<Figure size 200x100 with 1 Axes>"
            ],
            "image/png": "[encoded data removed]"
          },
          "metadata": {}
        },
        {
          "output_type": "display_data",
          "data": {
            "text/plain": [
              "<Figure size 200x100 with 1 Axes>"
            ],
            "image/png": "[encoded data removed]"
          },
          "metadata": {}
        },
        {
          "output_type": "display_data",
          "data": {
            "text/plain": [
              "<Figure size 200x100 with 1 Axes>"
            ],
            "image/png": "[encoded data removed]"
          },
          "metadata": {}
        },
        {
          "output_type": "display_data",
          "data": {
            "text/plain": [
              "<Figure size 200x100 with 1 Axes>"
            ],
            "image/png": "[encoded data removed]"
          },
          "metadata": {}
        },
        {
          "output_type": "display_data",
          "data": {
            "text/plain": [
              "<Figure size 200x100 with 1 Axes>"
            ],
            "image/png": "[encoded data removed]"
          },
          "metadata": {}
        }
      ]
    },
    {
      "cell_type": "code",
      "source": [
        "plt.figure(figsize=(4, 2))\n",
        "plt.hist(df['Volume'], bins=20, color='red', edgecolor='black')\n",
        "plt.title('Histogram của cột Volume')\n",
        "plt.xlabel('Giá trị')\n",
        "plt.ylabel('Số lượng')\n",
        "plt.show()"
      ],
      "metadata": {
        "colab": {
          "base_uri": "https://localhost:8080/",
          "height": 257
        },
        "id": "WFMLSBE6IrOX",
        "outputId": "f7f8ce46-6c3e-4557-c3bd-5f121ad473c0"
      },
      "execution_count": 12,
      "outputs": [
        {
          "output_type": "display_data",
          "data": {
            "text/plain": [
              "<Figure size 400x200 with 1 Axes>"
            ],
            "image/png": "[encoded data removed]"
          },
          "metadata": {}
        }
      ]
    },
    {
      "cell_type": "markdown",
      "source": [
        "### Nhận xét dữ liệu\n",
        "+ Cột Volume có sự chênh lệch lớn giữa các giá trị, có thể làm dự báo sai lệch.\n",
        "+ Ở đây bài toán đặt ra là dự báo giá trị cổ phiếu thì em sẽ sử dụng cột Close làm thuộc tính quyết định để dự báo. Do các cột Open, High, Low có sự tương đồng nên loại bỏ để giảm thời gian thực thi.\n",
        "+ Để tăng Accuracy của thuật toán thì sẽ sử dụng Scale giá trị cột Close bằng công thức: (Giá trị - min)/(max - min)"
      ],
      "metadata": {
        "id": "U5e6xyfFJ6cM"
      }
    },
    {
      "cell_type": "code",
      "source": [
        "df1 = df.reset_index()['Close']\n",
        "df1 = df1.reset_index(drop=True)"
      ],
      "metadata": {
        "id": "-XIVAjmxtsi1"
      },
      "execution_count": 13,
      "outputs": []
    },
    {
      "cell_type": "code",
      "source": [
        "from sklearn.preprocessing import MinMaxScaler"
      ],
      "metadata": {
        "id": "WZOUP7WbuHuO"
      },
      "execution_count": 15,
      "outputs": []
    },
    {
      "cell_type": "code",
      "source": [
        "# Scale cột Close và lưu vào mảng\n",
        "scaler = MinMaxScaler(feature_range=(0,1))\n",
        "df1 = scaler.fit_transform(np.array(df1).reshape(-1,1))"
      ],
      "metadata": {
        "id": "phgwpOqKt62f"
      },
      "execution_count": 16,
      "outputs": []
    },
    {
      "cell_type": "code",
      "source": [
        "df1"
      ],
      "metadata": {
        "colab": {
          "base_uri": "https://localhost:8080/"
        },
        "id": "6O5T8eWbuKA-",
        "outputId": "682463fc-6340-4a42-dbfe-9ace68da77af"
      },
      "execution_count": 17,
      "outputs": [
        {
          "output_type": "execute_result",
          "data": {
            "text/plain": [
              "array([[0.52136752],\n",
              "       [0.52136752],\n",
              "       [0.52307692],\n",
              "       ...,\n",
              "       [0.64444444],\n",
              "       [0.64444444],\n",
              "       [0.64444444]])"
            ]
          },
          "metadata": {},
          "execution_count": 17
        }
      ]
    },
    {
      "cell_type": "markdown",
      "source": [
        "##Phân tích dữ liệu"
      ],
      "metadata": {
        "id": "L_JX9qwKQHut"
      }
    },
    {
      "cell_type": "markdown",
      "source": [
        "### Phương pháp sử dụng\n",
        "- Đề bài là phân tích biến động giá cổ phiếu, ở đây em lựa chọn giá cổ phiếu giờ đóng cửa (Close) để phân tích.\n",
        "- Đối với tập dữ liệu này có 3 phương pháp phổ biến để phân tích:\n",
        "  + 1.Phương pháp phân tích chuỗi thời gian (Time Series Analysis): ARIMA, SARIMA ...\n",
        "  + 2.Phương pháp Machine Learning : Linear Regression, KNN ...\n",
        "  + 3.Phương pháp Deep Learning\n",
        "- Với bài toán dự báo xu hướng giá trị em sẽ sử dụng 2 mô hình Recurrent Neural Network (RNN) và mô hình Gated Recurrent Unit (GRU) nằm trong phương pháp Deep Learning. Trong phương pháp này mô hình Long short term memory (LSTM) có Accuracy tốt hơn, nhưng với tập dữ liệu có 101266 dòng thì LSTM có thời gian thực thi lâu hơn rất nhiều do sử dụng nhiều tham số."
      ],
      "metadata": {
        "id": "Z7F0S0uEQOz1"
      }
    },
    {
      "cell_type": "code",
      "source": [
        "# Chia dữ liệu thành 3 phần Train, Test, Validate theo tỉ lệ 7:2:1\n",
        "train_size = int(0.7 * len(df1))\n",
        "test_size = int(0.2 * len(df1))\n",
        "val_size = len(df1) - train_size - test_size\n",
        "\n",
        "train_data = df1[:train_size]\n",
        "test_data = df1[train_size:train_size+test_size]\n",
        "val_data = df1[train_size+test_size:]"
      ],
      "metadata": {
        "id": "DqAnbI9SbO0R"
      },
      "execution_count": 18,
      "outputs": []
    },
    {
      "cell_type": "code",
      "source": [
        "train_data"
      ],
      "metadata": {
        "colab": {
          "base_uri": "https://localhost:8080/"
        },
        "id": "QyQjpLEBundd",
        "outputId": "2b37167f-a754-40b2-95e7-9c34dd5f17bb"
      },
      "execution_count": 19,
      "outputs": [
        {
          "output_type": "execute_result",
          "data": {
            "text/plain": [
              "array([[0.52136752],\n",
              "       [0.52136752],\n",
              "       [0.52307692],\n",
              "       ...,\n",
              "       [0.4957265 ],\n",
              "       [0.49401709],\n",
              "       [0.5008547 ]])"
            ]
          },
          "metadata": {},
          "execution_count": 19
        }
      ]
    },
    {
      "cell_type": "code",
      "source": [
        "test_data"
      ],
      "metadata": {
        "colab": {
          "base_uri": "https://localhost:8080/"
        },
        "id": "HPx9LWnAupez",
        "outputId": "e88d1984-b3e3-4586-e95b-4c66124c3316"
      },
      "execution_count": 20,
      "outputs": [
        {
          "output_type": "execute_result",
          "data": {
            "text/plain": [
              "array([[0.5008547 ],\n",
              "       [0.5042735 ],\n",
              "       [0.5042735 ],\n",
              "       ...,\n",
              "       [0.45299145],\n",
              "       [0.44786325],\n",
              "       [0.45299145]])"
            ]
          },
          "metadata": {},
          "execution_count": 20
        }
      ]
    },
    {
      "cell_type": "code",
      "source": [
        "val_data"
      ],
      "metadata": {
        "colab": {
          "base_uri": "https://localhost:8080/"
        },
        "id": "u-lJgySquq8T",
        "outputId": "e71f7b3e-3dd4-4dd6-b2f4-97b890d1c7ce"
      },
      "execution_count": 21,
      "outputs": [
        {
          "output_type": "execute_result",
          "data": {
            "text/plain": [
              "array([[0.45299145],\n",
              "       [0.44786325],\n",
              "       [0.44786325],\n",
              "       ...,\n",
              "       [0.64444444],\n",
              "       [0.64444444],\n",
              "       [0.64444444]])"
            ]
          },
          "metadata": {},
          "execution_count": 21
        }
      ]
    },
    {
      "cell_type": "markdown",
      "source": [
        "### Mô hình RNN"
      ],
      "metadata": {
        "id": "jJ4LuSjsSORw"
      }
    },
    {
      "cell_type": "code",
      "source": [
        "# Gọi các thư viện cần thiết để xây dựng RNN\n",
        "from keras.models import Sequential\n",
        "from keras.layers import Dense, SimpleRNN"
      ],
      "metadata": {
        "id": "EZ8j3Lx5TtYt"
      },
      "execution_count": 22,
      "outputs": []
    },
    {
      "cell_type": "code",
      "source": [
        "train_data_RNN = train_data\n",
        "test_data_RNN = test_data\n",
        "val_data_RNN = val_data"
      ],
      "metadata": {
        "id": "CiXhDptwT4bk"
      },
      "execution_count": 23,
      "outputs": []
    },
    {
      "cell_type": "code",
      "source": [
        "# Hàm Create Dataset để chuyển đổi mảng thành ma trận\n",
        "def create_dataset(dataset, time_step=1):\n",
        "\tdataX, dataY = [], []\n",
        "\tfor i in range(len(dataset)-time_step-1):\n",
        "\t\ta = dataset[i:(i+time_step), 0]\n",
        "\t\tdataX.append(a)\n",
        "\t\tdataY.append(dataset[i + time_step, 0])\n",
        "\treturn np.array(dataX), np.array(dataY)"
      ],
      "metadata": {
        "id": "2YhxqoOHsI3z"
      },
      "execution_count": 24,
      "outputs": []
    },
    {
      "cell_type": "code",
      "source": [
        "# Sử dụng hàm Create Dataset để chuyển đổi các mảng Train, Test, Validate\n",
        "time_step = 100\n",
        "x_train_RNN, y_train_RNN = create_dataset(train_data_RNN, time_step)\n",
        "x_val_RNN, y_val_RNN = create_dataset(val_data_RNN, time_step)\n",
        "x_test_RNN, y_test_RNN = create_dataset(test_data_RNN, time_step)"
      ],
      "metadata": {
        "id": "A9X6ZdzDTzIl"
      },
      "execution_count": 25,
      "outputs": []
    },
    {
      "cell_type": "code",
      "source": [
        "# Reshape đầu vào để phù hợp với mô hình RNN\n",
        "x_train_RNN = x_train_RNN.reshape(x_train_RNN.shape[0], x_train_RNN.shape[1], 1)\n",
        "x_test_RNN = x_test_RNN.reshape(x_test_RNN.shape[0], x_test_RNN.shape[1], 1)\n",
        "x_val_RNN = x_val_RNN.reshape(x_val_RNN.shape[0], x_val_RNN.shape[1], 1)"
      ],
      "metadata": {
        "id": "H9-RARp4Vgum"
      },
      "execution_count": 26,
      "outputs": []
    },
    {
      "cell_type": "code",
      "source": [
        "# Khai báo mô hình RNN\n",
        "model = Sequential()\n",
        "model.add(SimpleRNN(50, input_shape=(time_step, 1)))\n",
        "model.add(Dense(1))\n",
        "model.compile(loss='mean_squared_error',optimizer='adam')"
      ],
      "metadata": {
        "id": "6kDwiFuVVmAz"
      },
      "execution_count": 27,
      "outputs": []
    },
    {
      "cell_type": "code",
      "source": [
        "# Fit mô hình với dữ liệu Train\n",
        "model.fit(x_train_RNN, y_train_RNN , validation_data = (x_test_RNN, y_test_RNN),epochs=100,batch_size=64,verbose=1)"
      ],
      "metadata": {
        "colab": {
          "base_uri": "https://localhost:8080/"
        },
        "id": "-xJdKYvaVpZ-",
        "outputId": "f609a494-4c9c-47b1-dbb8-2400c9893323"
      },
      "execution_count": 28,
      "outputs": [
        {
          "output_type": "stream",
          "name": "stdout",
          "text": [
            "Epoch 1/100\n",
            "1107/1107 [==============================] - 23s 19ms/step - loss: 0.0024 - val_loss: 3.7147e-05\n",
            "Epoch 2/100\n",
            "1107/1107 [==============================] - 21s 19ms/step - loss: 3.7859e-05 - val_loss: 9.3005e-05\n",
            "Epoch 3/100\n",
            "1107/1107 [==============================] - 23s 20ms/step - loss: 3.0099e-05 - val_loss: 2.0165e-05\n",
            "Epoch 4/100\n",
            "1107/1107 [==============================] - 20s 18ms/step - loss: 2.7439e-05 - val_loss: 6.7947e-05\n",
            "Epoch 5/100\n",
            "1107/1107 [==============================] - 21s 19ms/step - loss: 2.4123e-05 - val_loss: 3.4613e-05\n",
            "Epoch 6/100\n",
            "1107/1107 [==============================] - 21s 19ms/step - loss: 2.1977e-05 - val_loss: 1.3465e-05\n",
            "Epoch 7/100\n",
            "1107/1107 [==============================] - 20s 18ms/step - loss: 1.9095e-05 - val_loss: 2.6893e-05\n",
            "Epoch 8/100\n",
            "1107/1107 [==============================] - 21s 19ms/step - loss: 1.7168e-05 - val_loss: 3.5857e-05\n",
            "Epoch 9/100\n",
            "1107/1107 [==============================] - 21s 19ms/step - loss: 1.6248e-05 - val_loss: 4.9574e-05\n",
            "Epoch 10/100\n",
            "1107/1107 [==============================] - 20s 18ms/step - loss: 1.5929e-05 - val_loss: 2.9920e-05\n",
            "Epoch 11/100\n",
            "1107/1107 [==============================] - 21s 19ms/step - loss: 1.3832e-05 - val_loss: 1.0405e-05\n",
            "Epoch 12/100\n",
            "1107/1107 [==============================] - 21s 19ms/step - loss: 1.4060e-05 - val_loss: 4.1459e-05\n",
            "Epoch 13/100\n",
            "1107/1107 [==============================] - 20s 18ms/step - loss: 1.3814e-05 - val_loss: 1.1295e-04\n",
            "Epoch 14/100\n",
            "1107/1107 [==============================] - 23s 21ms/step - loss: 1.4128e-05 - val_loss: 1.0277e-05\n",
            "Epoch 15/100\n",
            "1107/1107 [==============================] - 21s 19ms/step - loss: 1.3335e-05 - val_loss: 0.0029\n",
            "Epoch 16/100\n",
            "1107/1107 [==============================] - 21s 19ms/step - loss: 4.6891e-05 - val_loss: 1.1127e-05\n",
            "Epoch 17/100\n",
            "1107/1107 [==============================] - 20s 18ms/step - loss: 1.2636e-05 - val_loss: 1.7134e-05\n",
            "Epoch 18/100\n",
            "1107/1107 [==============================] - 21s 19ms/step - loss: 1.3101e-05 - val_loss: 1.0517e-05\n",
            "Epoch 19/100\n",
            "1107/1107 [==============================] - 21s 19ms/step - loss: 1.3111e-05 - val_loss: 1.9411e-05\n",
            "Epoch 20/100\n",
            "1107/1107 [==============================] - 20s 18ms/step - loss: 1.3998e-05 - val_loss: 1.8145e-05\n",
            "Epoch 21/100\n",
            "1107/1107 [==============================] - 21s 19ms/step - loss: 1.3412e-05 - val_loss: 1.6999e-05\n",
            "Epoch 22/100\n",
            "1107/1107 [==============================] - 21s 19ms/step - loss: 1.3881e-05 - val_loss: 9.6062e-06\n",
            "Epoch 23/100\n",
            "1107/1107 [==============================] - 20s 18ms/step - loss: 1.3834e-05 - val_loss: 1.1947e-05\n",
            "Epoch 24/100\n",
            "1107/1107 [==============================] - 21s 19ms/step - loss: 1.3202e-05 - val_loss: 1.1882e-05\n",
            "Epoch 25/100\n",
            "1107/1107 [==============================] - 20s 18ms/step - loss: 1.3022e-05 - val_loss: 6.3552e-05\n",
            "Epoch 26/100\n",
            "1107/1107 [==============================] - 20s 18ms/step - loss: 1.4205e-05 - val_loss: 8.8551e-05\n",
            "Epoch 27/100\n",
            "1107/1107 [==============================] - 21s 19ms/step - loss: 1.3081e-05 - val_loss: 1.0744e-05\n",
            "Epoch 28/100\n",
            "1107/1107 [==============================] - 20s 18ms/step - loss: 1.3303e-05 - val_loss: 1.1835e-05\n",
            "Epoch 29/100\n",
            "1107/1107 [==============================] - 20s 18ms/step - loss: 1.3335e-05 - val_loss: 1.1352e-05\n",
            "Epoch 30/100\n",
            "1107/1107 [==============================] - 21s 19ms/step - loss: 1.2688e-05 - val_loss: 3.1536e-05\n",
            "Epoch 31/100\n",
            "1107/1107 [==============================] - 21s 19ms/step - loss: 1.3012e-05 - val_loss: 1.0066e-05\n",
            "Epoch 32/100\n",
            "1107/1107 [==============================] - 21s 19ms/step - loss: 1.2414e-05 - val_loss: 1.1782e-05\n",
            "Epoch 33/100\n",
            "1107/1107 [==============================] - 21s 19ms/step - loss: 1.2802e-05 - val_loss: 9.4606e-06\n",
            "Epoch 34/100\n",
            "1107/1107 [==============================] - 21s 19ms/step - loss: 1.2759e-05 - val_loss: 1.0885e-05\n",
            "Epoch 35/100\n",
            "1107/1107 [==============================] - 20s 18ms/step - loss: 1.2567e-05 - val_loss: 1.2933e-05\n",
            "Epoch 36/100\n",
            "1107/1107 [==============================] - 21s 19ms/step - loss: 1.2562e-05 - val_loss: 9.4001e-06\n",
            "Epoch 37/100\n",
            "1107/1107 [==============================] - 21s 19ms/step - loss: 1.2289e-05 - val_loss: 1.4848e-05\n",
            "Epoch 38/100\n",
            "1107/1107 [==============================] - 20s 18ms/step - loss: 1.2741e-05 - val_loss: 1.6805e-05\n",
            "Epoch 39/100\n",
            "1107/1107 [==============================] - 21s 19ms/step - loss: 1.2560e-05 - val_loss: 1.0484e-05\n",
            "Epoch 40/100\n",
            "1107/1107 [==============================] - 20s 18ms/step - loss: 1.2712e-05 - val_loss: 1.0536e-05\n",
            "Epoch 41/100\n",
            "1107/1107 [==============================] - 20s 19ms/step - loss: 1.2330e-05 - val_loss: 2.0510e-05\n",
            "Epoch 42/100\n",
            "1107/1107 [==============================] - 21s 19ms/step - loss: 1.2502e-05 - val_loss: 1.0740e-05\n",
            "Epoch 43/100\n",
            "1107/1107 [==============================] - 21s 19ms/step - loss: 1.2641e-05 - val_loss: 1.0266e-05\n",
            "Epoch 44/100\n",
            "1107/1107 [==============================] - 21s 19ms/step - loss: 1.2350e-05 - val_loss: 1.4445e-05\n",
            "Epoch 45/100\n",
            "1107/1107 [==============================] - 21s 19ms/step - loss: 1.2511e-05 - val_loss: 9.9743e-06\n",
            "Epoch 46/100\n",
            "1107/1107 [==============================] - 21s 19ms/step - loss: 1.2476e-05 - val_loss: 1.0678e-05\n",
            "Epoch 47/100\n",
            "1107/1107 [==============================] - 20s 18ms/step - loss: 1.2500e-05 - val_loss: 1.3736e-05\n",
            "Epoch 48/100\n",
            "1107/1107 [==============================] - 21s 19ms/step - loss: 1.2385e-05 - val_loss: 1.5552e-05\n",
            "Epoch 49/100\n",
            "1107/1107 [==============================] - 21s 19ms/step - loss: 1.2570e-05 - val_loss: 9.9088e-06\n",
            "Epoch 50/100\n",
            "1107/1107 [==============================] - 20s 18ms/step - loss: 1.2405e-05 - val_loss: 1.4764e-05\n",
            "Epoch 51/100\n",
            "1107/1107 [==============================] - 21s 19ms/step - loss: 1.2434e-05 - val_loss: 1.0363e-05\n",
            "Epoch 52/100\n",
            "1107/1107 [==============================] - 21s 19ms/step - loss: 1.2593e-05 - val_loss: 1.0265e-05\n",
            "Epoch 53/100\n",
            "1107/1107 [==============================] - 20s 18ms/step - loss: 1.2328e-05 - val_loss: 1.1178e-05\n",
            "Epoch 54/100\n",
            "1107/1107 [==============================] - 21s 19ms/step - loss: 1.2320e-05 - val_loss: 1.4491e-05\n",
            "Epoch 55/100\n",
            "1107/1107 [==============================] - 21s 19ms/step - loss: 1.2578e-05 - val_loss: 9.6925e-06\n",
            "Epoch 56/100\n",
            "1107/1107 [==============================] - 20s 18ms/step - loss: 1.2273e-05 - val_loss: 1.7583e-05\n",
            "Epoch 57/100\n",
            "1107/1107 [==============================] - 21s 19ms/step - loss: 1.2564e-05 - val_loss: 1.2285e-05\n",
            "Epoch 58/100\n",
            "1107/1107 [==============================] - 21s 19ms/step - loss: 1.2316e-05 - val_loss: 1.0707e-05\n",
            "Epoch 59/100\n",
            "1107/1107 [==============================] - 20s 18ms/step - loss: 1.2326e-05 - val_loss: 1.0063e-05\n",
            "Epoch 60/100\n",
            "1107/1107 [==============================] - 21s 19ms/step - loss: 1.2463e-05 - val_loss: 2.6152e-05\n",
            "Epoch 61/100\n",
            "1107/1107 [==============================] - 22s 20ms/step - loss: 1.2177e-05 - val_loss: 9.6939e-06\n",
            "Epoch 62/100\n",
            "1107/1107 [==============================] - 21s 19ms/step - loss: 1.2502e-05 - val_loss: 9.9495e-06\n",
            "Epoch 63/100\n",
            "1107/1107 [==============================] - 20s 18ms/step - loss: 1.2440e-05 - val_loss: 9.5513e-06\n",
            "Epoch 64/100\n",
            "1107/1107 [==============================] - 22s 19ms/step - loss: 1.2232e-05 - val_loss: 1.3554e-05\n",
            "Epoch 65/100\n",
            "1107/1107 [==============================] - 21s 19ms/step - loss: 1.2276e-05 - val_loss: 9.3880e-06\n",
            "Epoch 66/100\n",
            "1107/1107 [==============================] - 21s 19ms/step - loss: 1.2251e-05 - val_loss: 1.4265e-05\n",
            "Epoch 67/100\n",
            "1107/1107 [==============================] - 22s 20ms/step - loss: 1.2235e-05 - val_loss: 9.7627e-06\n",
            "Epoch 68/100\n",
            "1107/1107 [==============================] - 21s 19ms/step - loss: 1.2435e-05 - val_loss: 9.4728e-06\n",
            "Epoch 69/100\n",
            "1107/1107 [==============================] - 21s 19ms/step - loss: 1.2249e-05 - val_loss: 1.0424e-05\n",
            "Epoch 70/100\n",
            "1107/1107 [==============================] - 21s 19ms/step - loss: 1.2586e-05 - val_loss: 9.8297e-06\n",
            "Epoch 71/100\n",
            "1107/1107 [==============================] - 21s 19ms/step - loss: 1.2204e-05 - val_loss: 9.4367e-06\n",
            "Epoch 72/100\n",
            "1107/1107 [==============================] - 21s 19ms/step - loss: 1.2122e-05 - val_loss: 1.2160e-05\n",
            "Epoch 73/100\n",
            "1107/1107 [==============================] - 20s 18ms/step - loss: 1.2141e-05 - val_loss: 9.5471e-06\n",
            "Epoch 74/100\n",
            "1107/1107 [==============================] - 21s 19ms/step - loss: 1.2254e-05 - val_loss: 9.6323e-06\n",
            "Epoch 75/100\n",
            "1107/1107 [==============================] - 21s 19ms/step - loss: 1.2286e-05 - val_loss: 1.1528e-05\n",
            "Epoch 76/100\n",
            "1107/1107 [==============================] - 20s 18ms/step - loss: 1.2280e-05 - val_loss: 9.4868e-06\n",
            "Epoch 77/100\n",
            "1107/1107 [==============================] - 22s 19ms/step - loss: 1.2097e-05 - val_loss: 4.9524e-05\n",
            "Epoch 78/100\n",
            "1107/1107 [==============================] - 21s 19ms/step - loss: 1.2764e-05 - val_loss: 9.6515e-06\n",
            "Epoch 79/100\n",
            "1107/1107 [==============================] - 20s 18ms/step - loss: 1.2095e-05 - val_loss: 1.2214e-05\n",
            "Epoch 80/100\n",
            "1107/1107 [==============================] - 21s 19ms/step - loss: 1.2163e-05 - val_loss: 9.8930e-06\n",
            "Epoch 81/100\n",
            "1107/1107 [==============================] - 22s 19ms/step - loss: 1.2250e-05 - val_loss: 1.0047e-05\n",
            "Epoch 82/100\n",
            "1107/1107 [==============================] - 20s 18ms/step - loss: 1.2154e-05 - val_loss: 1.0519e-05\n",
            "Epoch 83/100\n",
            "1107/1107 [==============================] - 21s 19ms/step - loss: 1.2413e-05 - val_loss: 3.5300e-04\n",
            "Epoch 84/100\n",
            "1107/1107 [==============================] - 21s 19ms/step - loss: 1.8957e-05 - val_loss: 1.1481e-05\n",
            "Epoch 85/100\n",
            "1107/1107 [==============================] - 20s 18ms/step - loss: 1.2163e-05 - val_loss: 9.6468e-06\n",
            "Epoch 86/100\n",
            "1107/1107 [==============================] - 21s 19ms/step - loss: 1.2080e-05 - val_loss: 9.6060e-06\n",
            "Epoch 87/100\n",
            "1107/1107 [==============================] - 22s 19ms/step - loss: 1.2013e-05 - val_loss: 1.2648e-05\n",
            "Epoch 88/100\n",
            "1107/1107 [==============================] - 21s 19ms/step - loss: 1.2373e-05 - val_loss: 1.2574e-05\n",
            "Epoch 89/100\n",
            "1107/1107 [==============================] - 20s 18ms/step - loss: 1.2528e-05 - val_loss: 1.0706e-05\n",
            "Epoch 90/100\n",
            "1107/1107 [==============================] - 21s 19ms/step - loss: 1.2247e-05 - val_loss: 9.7658e-06\n",
            "Epoch 91/100\n",
            "1107/1107 [==============================] - 21s 19ms/step - loss: 1.2238e-05 - val_loss: 1.1110e-05\n",
            "Epoch 92/100\n",
            "1107/1107 [==============================] - 20s 18ms/step - loss: 1.2009e-05 - val_loss: 1.1939e-05\n",
            "Epoch 93/100\n",
            "1107/1107 [==============================] - 21s 19ms/step - loss: 1.2042e-05 - val_loss: 9.9084e-06\n",
            "Epoch 94/100\n",
            "1107/1107 [==============================] - 21s 19ms/step - loss: 1.2116e-05 - val_loss: 1.1423e-05\n",
            "Epoch 95/100\n",
            "1107/1107 [==============================] - 20s 18ms/step - loss: 1.2048e-05 - val_loss: 1.1579e-05\n",
            "Epoch 96/100\n",
            "1107/1107 [==============================] - 21s 19ms/step - loss: 1.2392e-05 - val_loss: 1.0805e-05\n",
            "Epoch 97/100\n",
            "1107/1107 [==============================] - 22s 19ms/step - loss: 1.2158e-05 - val_loss: 1.0468e-05\n",
            "Epoch 98/100\n",
            "1107/1107 [==============================] - 20s 18ms/step - loss: 1.1963e-05 - val_loss: 1.1043e-05\n",
            "Epoch 99/100\n",
            "1107/1107 [==============================] - 21s 19ms/step - loss: 1.1982e-05 - val_loss: 6.7710e-05\n",
            "Epoch 100/100\n",
            "1107/1107 [==============================] - 22s 19ms/step - loss: 1.2815e-05 - val_loss: 1.2060e-05\n"
          ]
        },
        {
          "output_type": "execute_result",
          "data": {
            "text/plain": [
              "<keras.src.callbacks.History at 0x781cd9438f10>"
            ]
          },
          "metadata": {},
          "execution_count": 28
        }
      ]
    },
    {
      "cell_type": "code",
      "source": [
        "# Dự báo dữ liệu train_predict_RNN, y_pred_RNN, y_pred_val_RNN\n",
        "train_predict_RNN = model.predict(x_train_RNN)\n",
        "y_pred_RNN = model.predict(x_test_RNN)\n",
        "y_pred_val_RNN = model.predict(x_val_RNN)"
      ],
      "metadata": {
        "colab": {
          "base_uri": "https://localhost:8080/"
        },
        "id": "Oj-056AFVvRt",
        "outputId": "ec2f23c9-07fe-469a-f5da-2ef72424036f"
      },
      "execution_count": 29,
      "outputs": [
        {
          "output_type": "stream",
          "name": "stdout",
          "text": [
            "2213/2213 [==============================] - 13s 6ms/step\n",
            "630/630 [==============================] - 4s 7ms/step\n",
            "314/314 [==============================] - 2s 6ms/step\n"
          ]
        }
      ]
    },
    {
      "cell_type": "code",
      "source": [
        "# Đảo ngược giá trị dự đoán trên tập Test và Validate về giá trị chuẩn\n",
        "train_predict_RNN = scaler.inverse_transform(train_predict_RNN)\n",
        "y_pred_RNN = scaler.inverse_transform(y_pred_RNN)\n",
        "y_pred_val_RNN = scaler.inverse_transform(y_pred_val_RNN)"
      ],
      "metadata": {
        "id": "p-AdO8iKVz01"
      },
      "execution_count": 30,
      "outputs": []
    },
    {
      "cell_type": "code",
      "source": [
        "# Đảo ngược giá trị thực tế của tập Test và Validate về giá trị chuẩn\n",
        "real_val_RNN = scaler.inverse_transform(y_val_RNN.reshape(-1, 1))\n",
        "real_test_RNN = scaler.inverse_transform(y_test_RNN.reshape(-1, 1))"
      ],
      "metadata": {
        "id": "aA29_yAWxFti"
      },
      "execution_count": 31,
      "outputs": []
    },
    {
      "cell_type": "code",
      "source": [
        "# Đánh giá độ chính xác thuật toán bằng RMSE\n",
        "test_rmse_RNN = np.sqrt(np.mean((y_pred_RNN - real_test_RNN)**2))\n",
        "val_rmse_RNN = np.sqrt(np.mean((y_pred_val_RNN - real_val_RNN)**2))\n",
        "print('Testing RMSE:', test_rmse_RNN)\n",
        "print('Validation RMSE:', val_rmse_RNN)"
      ],
      "metadata": {
        "colab": {
          "base_uri": "https://localhost:8080/"
        },
        "id": "ratypATotygt",
        "outputId": "002d4e9d-71c8-4e3b-cfb8-2dd0b141cfbe"
      },
      "execution_count": 32,
      "outputs": [
        {
          "output_type": "stream",
          "name": "stdout",
          "text": [
            "Testing RMSE: 0.2031547403959164\n",
            "Validation RMSE: 0.2233797713265392\n"
          ]
        }
      ]
    },
    {
      "cell_type": "code",
      "source": [
        "# Đánh giá độ chính xác thuật toán bằng MAPE\n",
        "test_mape_RNN = np.mean((np.absolute(real_test_RNN - y_pred_RNN)/real_test_RNN)*100)\n",
        "val_mape_RNN = np.mean((np.absolute(real_val_RNN - y_pred_val_RNN)/real_val_RNN)*100)\n",
        "print('Testing MAPE:', test_mape_RNN)\n",
        "print('Validation MAPE:', val_mape_RNN)"
      ],
      "metadata": {
        "colab": {
          "base_uri": "https://localhost:8080/"
        },
        "id": "T7P-wf5-t3UY",
        "outputId": "2237c535-afc7-46fb-ba8c-eb293d0f47e4"
      },
      "execution_count": 33,
      "outputs": [
        {
          "output_type": "stream",
          "name": "stdout",
          "text": [
            "Testing MAPE: 0.14837381799600635\n",
            "Validation MAPE: 0.13533726826281073\n"
          ]
        }
      ]
    },
    {
      "cell_type": "code",
      "source": [
        "# Tính phần trăm độ chính xác trên tập Test và Validate\n",
        "data_range_RNN = df['Close'].max() - df['Close'].min()\n",
        "test_accuracy_RNN = (1 - test_rmse_RNN / data_range_RNN) * 100\n",
        "val_accuracy_RNN = (1 - val_rmse_RNN / data_range_RNN) * 100\n",
        "print('Testing Accuracy (%):', test_accuracy_RNN)\n",
        "print('Validation Accuracy (%):', val_accuracy_RNN)"
      ],
      "metadata": {
        "colab": {
          "base_uri": "https://localhost:8080/"
        },
        "id": "cApTnAXsxIfB",
        "outputId": "ea523296-159e-43fb-9edb-893f8efff574"
      },
      "execution_count": 35,
      "outputs": [
        {
          "output_type": "stream",
          "name": "stdout",
          "text": [
            "Testing Accuracy (%): 99.65272693949416\n",
            "Validation Accuracy (%): 99.61815423704866\n"
          ]
        }
      ]
    },
    {
      "cell_type": "code",
      "source": [
        "# Dự báo 15 stage tiếp theo\n",
        "x_input_RNN = val_data_RNN[60:].reshape(1, -1)\n",
        "x_input_RNN.shape\n",
        "\n",
        "temp_input_RNN = list(x_input_RNN)\n",
        "temp_input_RNN = temp_input_RNN[0].tolist()\n",
        "\n",
        "lst_output_RNN = []\n",
        "n_steps_RNN = 10066\n",
        "i = 0\n",
        "while i < 15:\n",
        "    if len(temp_input_RNN) > 10066:\n",
        "          x_input_RNN = np.array(temp_input_RNN[1:])\n",
        "         #print(\"{} day input {}\".format(i, x_input))\n",
        "          x_input_RNN = x_input_RNN.reshape(1, -1)\n",
        "          x_input_RNN = x_input_RNN.reshape((1, n_steps_RNN, 1))\n",
        "          yhat = model.predict(x_input_RNN, verbose=0)\n",
        "        #print(\"{} day output {}\".format(i, yhat))\n",
        "          temp_input_RNN.extend(yhat[0].tolist())\n",
        "          temp_input_RNN = temp_input_RNN[1:]\n",
        "          lst_output_RNN.extend(yhat.tolist())\n",
        "          i = i + 1\n",
        "    else:\n",
        "        x_input_RNN = x_input_RNN.reshape((1, n_steps_RNN, 1))\n",
        "        yhat = model.predict(x_input_RNN, verbose=0)\n",
        "\n",
        "        temp_input_RNN.extend(yhat[0].tolist())\n",
        "\n",
        "        lst_output_RNN.extend(yhat.tolist())\n",
        "        i = i + 1\n",
        "\n",
        "# Chuẩn hóa lại dự đoán 15 stage\n",
        "predicted_values_RNN = np.array(lst_output_RNN)\n",
        "predicted_values_RNN = predicted_values_RNN.reshape(-1, 1)\n",
        "\n",
        "# Chuẩn hóa dự đoán\n",
        "predicted_values_RNN = scaler.inverse_transform(predicted_values_RNN)\n",
        "\n",
        "print(\"Dự đoán 15 stage tiếp theo:\")\n",
        "print(predicted_values_RNN)"
      ],
      "metadata": {
        "colab": {
          "base_uri": "https://localhost:8080/"
        },
        "id": "g5jLK5564B1j",
        "outputId": "8d7aa94a-91b4-4186-8c52-f53a3f77433a"
      },
      "execution_count": 37,
      "outputs": [
        {
          "output_type": "stream",
          "name": "stdout",
          "text": [
            "Dự đoán 15 stage tiếp theo:\n",
            "[[105.60871145]\n",
            " [105.54568624]\n",
            " [105.47898936]\n",
            " [105.40575111]\n",
            " [105.32978263]\n",
            " [105.25404081]\n",
            " [105.17601159]\n",
            " [105.09511268]\n",
            " [105.01295152]\n",
            " [104.92811245]\n",
            " [104.83980045]\n",
            " [104.750146  ]\n",
            " [104.65852845]\n",
            " [104.56457469]\n",
            " [104.468344  ]]\n"
          ]
        }
      ]
    },
    {
      "cell_type": "code",
      "source": [
        "# Vẽ hình\n",
        "plt.figure(figsize=(8, 6))\n",
        "train_data_index_RNN = pd.RangeIndex(start=0, stop=train_size, step=1)\n",
        "plt.plot(scaler.inverse_transform(train_data_RNN))\n",
        "test_data_index_RNN = pd.RangeIndex(start=train_size, stop=train_size+test_size, step=1)\n",
        "plt.plot(test_data_index_RNN, scaler.inverse_transform(test_data_RNN))\n",
        "test_data_index_RNN = pd.RangeIndex(start=train_size+101, stop=train_size+test_size, step=1)\n",
        "plt.plot(test_data_index_RNN,(y_pred_RNN))\n",
        "val_data_index_RNN = pd.RangeIndex(start=train_size+test_size, stop=train_size+test_size+val_size, step=1)\n",
        "plt.plot(val_data_index_RNN, scaler.inverse_transform(val_data_RNN))\n",
        "val_data_index_RNN = pd.RangeIndex(start=train_size+test_size+101, stop=train_size+test_size+val_size, step=1)\n",
        "plt.plot(val_data_index_RNN, y_pred_val_RNN)\n",
        "predict_data_index_RNN = pd.RangeIndex(start=len(df1)-1, stop=len(df1)+14, step=1)\n",
        "plt.plot(predict_data_index_RNN, scaler.inverse_transform(lst_output_RNN), color='black')\n",
        "plt.title('Hình 1.Dự đoán sử dụng mô hình RNN')\n",
        "plt.legend(['Train','Test','Predict_Test','Validate','Predict_Validate','Predict_15_Stage'])\n",
        "plt.show()"
      ],
      "metadata": {
        "colab": {
          "base_uri": "https://localhost:8080/",
          "height": 546
        },
        "id": "VPYTFTN85FOq",
        "outputId": "4e85133b-7e4f-4716-bb63-64def6e6efaf"
      },
      "execution_count": 57,
      "outputs": [
        {
          "output_type": "display_data",
          "data": {
            "text/plain": [
              "<Figure size 800x600 with 1 Axes>"
            ],
            "image/png": "[encoded data removed]"
          },
          "metadata": {}
        }
      ]
    },
    {
      "cell_type": "markdown",
      "source": [
        "#### Nhận xét\n",
        "- Kết quả dự báo 15 stage tiếp theo bằng mô hình RNN là pha giảm giá trị cổ phiếu.\n",
        "- Độ chính xác của thuật toán dựa trên các thang đo RMSE và MAPE là rất cao.\n",
        "- Độ chính xác của thuật toán để dự báo trên tập Test và Validate khoảng 99.6%.\n",
        "- Nhìn trên ảnh ta thấy:\n",
        "  + Kết quả dự báo trên tập Test (màu xanh) gần như trùng khớp với kết quả thực tế trên tập Test (màu vàng).\n",
        "  + Kết quả dự báo trên tập Validate (màu tím) gần như trùng khớp với kết quả thực tế trên tập Validate (đỏ).\n",
        "- Mô hình đang dự báo khá đúng với xu hướng giảm nhẹ của giá trị cổ phiếu, giảm 0.1 mỗi stage.\n"
      ],
      "metadata": {
        "id": "8P2lGd5hXFlc"
      }
    },
    {
      "cell_type": "markdown",
      "source": [
        "### Mô hình GRU"
      ],
      "metadata": {
        "id": "i0_6UNiDfOal"
      }
    },
    {
      "cell_type": "code",
      "source": [
        "# Gọi các thư viện cần thiết để xây dựng RNN\n",
        "from keras.models import Sequential\n",
        "from keras.layers import Dense, GRU, BatchNormalization"
      ],
      "metadata": {
        "id": "YzDekJGZfV34"
      },
      "execution_count": 39,
      "outputs": []
    },
    {
      "cell_type": "code",
      "source": [
        "train_data_GRU = train_data\n",
        "test_data_GRU = test_data\n",
        "val_data_GRU = val_data"
      ],
      "metadata": {
        "id": "208HT10BfN1J"
      },
      "execution_count": 40,
      "outputs": []
    },
    {
      "cell_type": "code",
      "source": [
        "# Hàm Create Dataset để chuyển đổi mảng thành ma trận\n",
        "def create_dataset(dataset, time_step=1):\n",
        "\tdataX, dataY = [], []\n",
        "\tfor i in range(len(dataset)-time_step-1):\n",
        "\t\ta = dataset[i:(i+time_step), 0]\n",
        "\t\tdataX.append(a)\n",
        "\t\tdataY.append(dataset[i + time_step, 0])\n",
        "\treturn np.array(dataX), np.array(dataY)"
      ],
      "metadata": {
        "id": "eBzSMLlrfZWw"
      },
      "execution_count": 41,
      "outputs": []
    },
    {
      "cell_type": "code",
      "source": [
        "# Sử dụng hàm Create Dataset để chuyển đổi các mảng Train, Test, Validate\n",
        "time_step = 100\n",
        "x_train_GRU, y_train_GRU = create_dataset(train_data_GRU, time_step)\n",
        "x_val_GRU, y_val_GRU = create_dataset(val_data_GRU, time_step)\n",
        "x_test_GRU, y_test_GRU = create_dataset(test_data_GRU, time_step)"
      ],
      "metadata": {
        "id": "s1RgUCeRukT5"
      },
      "execution_count": 42,
      "outputs": []
    },
    {
      "cell_type": "code",
      "source": [
        "# Reshape đầu vào để phù hợp với mô hình GRU\n",
        "x_train_GRU = x_train_GRU.reshape(x_train_GRU.shape[0], x_train_GRU.shape[1] , 1)\n",
        "x_test_GRU = x_test_GRU.reshape(x_test_GRU.shape[0], x_test_GRU.shape[1] , 1)\n",
        "x_val_GRU = x_val_GRU.reshape(x_val_GRU.shape[0], x_val_GRU.shape[1] , 1)"
      ],
      "metadata": {
        "id": "0zl7uqzRfcU5"
      },
      "execution_count": 43,
      "outputs": []
    },
    {
      "cell_type": "code",
      "source": [
        "# Khai báo mô hình GRU\n",
        "model = Sequential()\n",
        "model.add(GRU(64, input_shape=(time_step, 1)))\n",
        "model.add(Dense(1))\n",
        "model.compile(optimizer='adam', loss='mean_squared_error')"
      ],
      "metadata": {
        "id": "VyXl8ZKKfhWD"
      },
      "execution_count": 44,
      "outputs": []
    },
    {
      "cell_type": "code",
      "source": [
        "# 9. Fit mô hình với dữ liệu Train\n",
        "model.fit(x_train_GRU, y_train_GRU, validation_data = (x_test_GRU, y_test_GRU), epochs=100, batch_size=64, verbose=1)"
      ],
      "metadata": {
        "colab": {
          "base_uri": "https://localhost:8080/"
        },
        "id": "8ZwS9tvhfjAR",
        "outputId": "2155627e-c343-4147-872a-6d1fd13367b0"
      },
      "execution_count": 45,
      "outputs": [
        {
          "output_type": "stream",
          "name": "stdout",
          "text": [
            "Epoch 1/100\n",
            "1107/1107 [==============================] - 73s 63ms/step - loss: 0.0034 - val_loss: 1.1292e-05\n",
            "Epoch 2/100\n",
            "1107/1107 [==============================] - 66s 60ms/step - loss: 1.4001e-05 - val_loss: 1.5059e-05\n",
            "Epoch 3/100\n",
            "1107/1107 [==============================] - 66s 60ms/step - loss: 1.3207e-05 - val_loss: 9.8662e-06\n",
            "Epoch 4/100\n",
            "1107/1107 [==============================] - 56s 50ms/step - loss: 1.3503e-05 - val_loss: 2.0958e-05\n",
            "Epoch 5/100\n",
            "1107/1107 [==============================] - 56s 51ms/step - loss: 1.4476e-05 - val_loss: 1.0125e-05\n",
            "Epoch 6/100\n",
            "1107/1107 [==============================] - 55s 50ms/step - loss: 1.4576e-05 - val_loss: 1.6416e-05\n",
            "Epoch 7/100\n",
            "1107/1107 [==============================] - 55s 50ms/step - loss: 1.4682e-05 - val_loss: 4.1527e-05\n",
            "Epoch 8/100\n",
            "1107/1107 [==============================] - 57s 51ms/step - loss: 1.4277e-05 - val_loss: 3.7228e-05\n",
            "Epoch 9/100\n",
            "1107/1107 [==============================] - 56s 51ms/step - loss: 1.4248e-05 - val_loss: 1.1142e-05\n",
            "Epoch 10/100\n",
            "1107/1107 [==============================] - 55s 50ms/step - loss: 1.4175e-05 - val_loss: 1.2182e-04\n",
            "Epoch 11/100\n",
            "1107/1107 [==============================] - 55s 50ms/step - loss: 1.4418e-05 - val_loss: 1.4300e-05\n",
            "Epoch 12/100\n",
            "1107/1107 [==============================] - 55s 50ms/step - loss: 1.3772e-05 - val_loss: 2.6575e-05\n",
            "Epoch 13/100\n",
            "1107/1107 [==============================] - 54s 49ms/step - loss: 1.3745e-05 - val_loss: 9.6951e-06\n",
            "Epoch 14/100\n",
            "1107/1107 [==============================] - 55s 50ms/step - loss: 1.3469e-05 - val_loss: 9.7914e-06\n",
            "Epoch 15/100\n",
            "1107/1107 [==============================] - 54s 49ms/step - loss: 1.3103e-05 - val_loss: 2.9866e-05\n",
            "Epoch 16/100\n",
            "1107/1107 [==============================] - 57s 52ms/step - loss: 1.3135e-05 - val_loss: 9.2406e-06\n",
            "Epoch 17/100\n",
            "1107/1107 [==============================] - 57s 51ms/step - loss: 1.3248e-05 - val_loss: 1.0566e-05\n",
            "Epoch 18/100\n",
            "1107/1107 [==============================] - 56s 51ms/step - loss: 1.3058e-05 - val_loss: 9.6735e-06\n",
            "Epoch 19/100\n",
            "1107/1107 [==============================] - 55s 50ms/step - loss: 1.3118e-05 - val_loss: 9.2892e-06\n",
            "Epoch 20/100\n",
            "1107/1107 [==============================] - 56s 50ms/step - loss: 1.3044e-05 - val_loss: 3.0930e-05\n",
            "Epoch 21/100\n",
            "1107/1107 [==============================] - 54s 49ms/step - loss: 1.2719e-05 - val_loss: 1.0403e-05\n",
            "Epoch 22/100\n",
            "1107/1107 [==============================] - 54s 49ms/step - loss: 1.2670e-05 - val_loss: 1.1147e-05\n",
            "Epoch 23/100\n",
            "1107/1107 [==============================] - 55s 50ms/step - loss: 1.2829e-05 - val_loss: 4.7914e-05\n",
            "Epoch 24/100\n",
            "1107/1107 [==============================] - 54s 49ms/step - loss: 1.3365e-05 - val_loss: 9.4690e-06\n",
            "Epoch 25/100\n",
            "1107/1107 [==============================] - 55s 50ms/step - loss: 1.2903e-05 - val_loss: 1.0150e-04\n",
            "Epoch 26/100\n",
            "1107/1107 [==============================] - 54s 49ms/step - loss: 1.2898e-05 - val_loss: 1.8261e-05\n",
            "Epoch 27/100\n",
            "1107/1107 [==============================] - 54s 49ms/step - loss: 1.3155e-05 - val_loss: 1.1127e-05\n",
            "Epoch 28/100\n",
            "1107/1107 [==============================] - 55s 50ms/step - loss: 1.2349e-05 - val_loss: 1.2158e-05\n",
            "Epoch 29/100\n",
            "1107/1107 [==============================] - 54s 49ms/step - loss: 1.2632e-05 - val_loss: 9.9484e-06\n",
            "Epoch 30/100\n",
            "1107/1107 [==============================] - 55s 50ms/step - loss: 1.2426e-05 - val_loss: 2.4865e-05\n",
            "Epoch 31/100\n",
            "1107/1107 [==============================] - 54s 49ms/step - loss: 1.2589e-05 - val_loss: 9.5645e-06\n",
            "Epoch 32/100\n",
            "1107/1107 [==============================] - 54s 49ms/step - loss: 1.2371e-05 - val_loss: 2.1227e-05\n",
            "Epoch 33/100\n",
            "1107/1107 [==============================] - 55s 50ms/step - loss: 1.2550e-05 - val_loss: 9.4169e-06\n",
            "Epoch 34/100\n",
            "1107/1107 [==============================] - 54s 49ms/step - loss: 1.2478e-05 - val_loss: 1.0941e-05\n",
            "Epoch 35/100\n",
            "1107/1107 [==============================] - 55s 50ms/step - loss: 1.2227e-05 - val_loss: 3.8433e-05\n",
            "Epoch 36/100\n",
            "1107/1107 [==============================] - 54s 49ms/step - loss: 1.2352e-05 - val_loss: 9.2313e-06\n",
            "Epoch 37/100\n",
            "1107/1107 [==============================] - 54s 49ms/step - loss: 1.2515e-05 - val_loss: 1.5258e-05\n",
            "Epoch 38/100\n",
            "1107/1107 [==============================] - 55s 50ms/step - loss: 1.2377e-05 - val_loss: 4.0866e-05\n",
            "Epoch 39/100\n",
            "1107/1107 [==============================] - 55s 50ms/step - loss: 1.2638e-05 - val_loss: 3.2959e-05\n",
            "Epoch 40/100\n",
            "1107/1107 [==============================] - 55s 50ms/step - loss: 1.2427e-05 - val_loss: 2.5573e-05\n",
            "Epoch 41/100\n",
            "1107/1107 [==============================] - 54s 49ms/step - loss: 1.2608e-05 - val_loss: 1.0281e-05\n",
            "Epoch 42/100\n",
            "1107/1107 [==============================] - 54s 49ms/step - loss: 1.1937e-05 - val_loss: 1.0529e-05\n",
            "Epoch 43/100\n",
            "1107/1107 [==============================] - 59s 53ms/step - loss: 1.2437e-05 - val_loss: 9.3814e-06\n",
            "Epoch 44/100\n",
            "1107/1107 [==============================] - 57s 52ms/step - loss: 1.2036e-05 - val_loss: 1.4568e-05\n",
            "Epoch 45/100\n",
            "1107/1107 [==============================] - 55s 50ms/step - loss: 1.2515e-05 - val_loss: 1.0044e-05\n",
            "Epoch 46/100\n",
            "1107/1107 [==============================] - 55s 50ms/step - loss: 1.2470e-05 - val_loss: 1.1306e-05\n",
            "Epoch 47/100\n",
            "1107/1107 [==============================] - 55s 50ms/step - loss: 1.2065e-05 - val_loss: 9.4571e-06\n",
            "Epoch 48/100\n",
            "1107/1107 [==============================] - 55s 50ms/step - loss: 1.2123e-05 - val_loss: 2.1792e-05\n",
            "Epoch 49/100\n",
            "1107/1107 [==============================] - 55s 50ms/step - loss: 1.2253e-05 - val_loss: 1.1033e-05\n",
            "Epoch 50/100\n",
            "1107/1107 [==============================] - 54s 49ms/step - loss: 1.2143e-05 - val_loss: 1.0574e-05\n",
            "Epoch 51/100\n",
            "1107/1107 [==============================] - 55s 50ms/step - loss: 1.2107e-05 - val_loss: 1.2004e-05\n",
            "Epoch 52/100\n",
            "1107/1107 [==============================] - 54s 49ms/step - loss: 1.2087e-05 - val_loss: 1.0654e-05\n",
            "Epoch 53/100\n",
            "1107/1107 [==============================] - 55s 50ms/step - loss: 1.2093e-05 - val_loss: 1.4015e-05\n",
            "Epoch 54/100\n",
            "1107/1107 [==============================] - 54s 49ms/step - loss: 1.2313e-05 - val_loss: 1.6733e-05\n",
            "Epoch 55/100\n",
            "1107/1107 [==============================] - 54s 49ms/step - loss: 1.2152e-05 - val_loss: 6.7421e-05\n",
            "Epoch 56/100\n",
            "1107/1107 [==============================] - 55s 50ms/step - loss: 1.2548e-05 - val_loss: 1.3572e-05\n",
            "Epoch 57/100\n",
            "1107/1107 [==============================] - 54s 49ms/step - loss: 1.2061e-05 - val_loss: 9.7645e-06\n",
            "Epoch 58/100\n",
            "1107/1107 [==============================] - 55s 50ms/step - loss: 1.2194e-05 - val_loss: 9.3556e-06\n",
            "Epoch 59/100\n",
            "1107/1107 [==============================] - 54s 49ms/step - loss: 1.2067e-05 - val_loss: 9.6959e-06\n",
            "Epoch 60/100\n",
            "1107/1107 [==============================] - 54s 49ms/step - loss: 1.2188e-05 - val_loss: 1.0914e-05\n",
            "Epoch 61/100\n",
            "1107/1107 [==============================] - 55s 50ms/step - loss: 1.1798e-05 - val_loss: 9.4489e-06\n",
            "Epoch 62/100\n",
            "1107/1107 [==============================] - 55s 49ms/step - loss: 1.1821e-05 - val_loss: 1.2412e-05\n",
            "Epoch 63/100\n",
            "1107/1107 [==============================] - 55s 50ms/step - loss: 1.2145e-05 - val_loss: 1.5227e-05\n",
            "Epoch 64/100\n",
            "1107/1107 [==============================] - 54s 49ms/step - loss: 1.2109e-05 - val_loss: 1.0998e-05\n",
            "Epoch 65/100\n",
            "1107/1107 [==============================] - 54s 49ms/step - loss: 1.2137e-05 - val_loss: 1.1761e-05\n",
            "Epoch 66/100\n",
            "1107/1107 [==============================] - 55s 50ms/step - loss: 1.2064e-05 - val_loss: 9.6124e-06\n",
            "Epoch 67/100\n",
            "1107/1107 [==============================] - 54s 49ms/step - loss: 1.2103e-05 - val_loss: 1.0994e-05\n",
            "Epoch 68/100\n",
            "1107/1107 [==============================] - 55s 50ms/step - loss: 1.1814e-05 - val_loss: 9.2134e-06\n",
            "Epoch 69/100\n",
            "1107/1107 [==============================] - 54s 49ms/step - loss: 1.1965e-05 - val_loss: 9.6753e-06\n",
            "Epoch 70/100\n",
            "1107/1107 [==============================] - 54s 49ms/step - loss: 1.2102e-05 - val_loss: 1.2058e-05\n",
            "Epoch 71/100\n",
            "1107/1107 [==============================] - 55s 50ms/step - loss: 1.2054e-05 - val_loss: 9.6451e-06\n",
            "Epoch 72/100\n",
            "1107/1107 [==============================] - 54s 49ms/step - loss: 1.1879e-05 - val_loss: 1.0596e-05\n",
            "Epoch 73/100\n",
            "1107/1107 [==============================] - 55s 50ms/step - loss: 1.1804e-05 - val_loss: 9.3001e-06\n",
            "Epoch 74/100\n",
            "1107/1107 [==============================] - 54s 49ms/step - loss: 1.2051e-05 - val_loss: 3.5364e-05\n",
            "Epoch 75/100\n",
            "1107/1107 [==============================] - 54s 49ms/step - loss: 1.2099e-05 - val_loss: 9.3003e-06\n",
            "Epoch 76/100\n",
            "1107/1107 [==============================] - 55s 50ms/step - loss: 1.1807e-05 - val_loss: 3.2993e-05\n",
            "Epoch 77/100\n",
            "1107/1107 [==============================] - 54s 49ms/step - loss: 1.2193e-05 - val_loss: 9.2866e-06\n",
            "Epoch 78/100\n",
            "1107/1107 [==============================] - 55s 50ms/step - loss: 1.1822e-05 - val_loss: 9.2203e-06\n",
            "Epoch 79/100\n",
            "1107/1107 [==============================] - 55s 49ms/step - loss: 1.1723e-05 - val_loss: 9.2658e-06\n",
            "Epoch 80/100\n",
            "1107/1107 [==============================] - 54s 49ms/step - loss: 1.1965e-05 - val_loss: 1.4169e-05\n",
            "Epoch 81/100\n",
            "1107/1107 [==============================] - 55s 50ms/step - loss: 1.1734e-05 - val_loss: 1.6176e-05\n",
            "Epoch 82/100\n",
            "1107/1107 [==============================] - 54s 49ms/step - loss: 1.1946e-05 - val_loss: 9.6270e-06\n",
            "Epoch 83/100\n",
            "1107/1107 [==============================] - 55s 50ms/step - loss: 1.1996e-05 - val_loss: 9.3060e-06\n",
            "Epoch 84/100\n",
            "1107/1107 [==============================] - 54s 49ms/step - loss: 1.1988e-05 - val_loss: 9.6381e-06\n",
            "Epoch 85/100\n",
            "1107/1107 [==============================] - 57s 51ms/step - loss: 1.1982e-05 - val_loss: 9.8108e-06\n",
            "Epoch 86/100\n",
            "1107/1107 [==============================] - 59s 54ms/step - loss: 1.2032e-05 - val_loss: 6.4671e-05\n",
            "Epoch 87/100\n",
            "1107/1107 [==============================] - 58s 53ms/step - loss: 1.2126e-05 - val_loss: 9.6634e-06\n",
            "Epoch 88/100\n",
            "1107/1107 [==============================] - 58s 52ms/step - loss: 1.1783e-05 - val_loss: 1.2317e-05\n",
            "Epoch 89/100\n",
            "1107/1107 [==============================] - 59s 53ms/step - loss: 1.1911e-05 - val_loss: 9.2419e-06\n",
            "Epoch 90/100\n",
            "1107/1107 [==============================] - 58s 53ms/step - loss: 1.1654e-05 - val_loss: 1.4254e-05\n",
            "Epoch 91/100\n",
            "1107/1107 [==============================] - 60s 55ms/step - loss: 1.1714e-05 - val_loss: 9.6030e-06\n",
            "Epoch 92/100\n",
            "1107/1107 [==============================] - 58s 53ms/step - loss: 1.2054e-05 - val_loss: 9.7285e-06\n",
            "Epoch 93/100\n",
            "1107/1107 [==============================] - 54s 49ms/step - loss: 1.1801e-05 - val_loss: 9.4105e-06\n",
            "Epoch 94/100\n",
            "1107/1107 [==============================] - 55s 50ms/step - loss: 1.2103e-05 - val_loss: 9.8093e-06\n",
            "Epoch 95/100\n",
            "1107/1107 [==============================] - 54s 49ms/step - loss: 1.2033e-05 - val_loss: 1.1035e-05\n",
            "Epoch 96/100\n",
            "1107/1107 [==============================] - 55s 50ms/step - loss: 1.1685e-05 - val_loss: 1.1761e-05\n",
            "Epoch 97/100\n",
            "1107/1107 [==============================] - 55s 50ms/step - loss: 1.1824e-05 - val_loss: 4.3659e-05\n",
            "Epoch 98/100\n",
            "1107/1107 [==============================] - 55s 49ms/step - loss: 1.1975e-05 - val_loss: 9.2675e-06\n",
            "Epoch 99/100\n",
            "1107/1107 [==============================] - 55s 50ms/step - loss: 1.1786e-05 - val_loss: 1.0431e-05\n",
            "Epoch 100/100\n",
            "1107/1107 [==============================] - 54s 49ms/step - loss: 1.1782e-05 - val_loss: 9.4185e-06\n"
          ]
        },
        {
          "output_type": "execute_result",
          "data": {
            "text/plain": [
              "<keras.src.callbacks.History at 0x781c78439060>"
            ]
          },
          "metadata": {},
          "execution_count": 45
        }
      ]
    },
    {
      "cell_type": "code",
      "source": [
        "# Dự báo dữ liệu train_predict_GRU, y_pred_GRU, y_pred_val_GRU\n",
        "train_predict_GRU = model.predict(x_train_GRU)\n",
        "y_pred_GRU = model.predict(x_test_GRU)\n",
        "y_pred_val_GRU = model.predict(x_val_GRU)"
      ],
      "metadata": {
        "colab": {
          "base_uri": "https://localhost:8080/"
        },
        "id": "Uk8OCwsYTOGm",
        "outputId": "1591a180-9a86-4c85-9fae-49c9639ebd5f"
      },
      "execution_count": 46,
      "outputs": [
        {
          "output_type": "stream",
          "name": "stdout",
          "text": [
            "2213/2213 [==============================] - 25s 11ms/step\n",
            "630/630 [==============================] - 6s 10ms/step\n",
            "314/314 [==============================] - 3s 11ms/step\n"
          ]
        }
      ]
    },
    {
      "cell_type": "code",
      "source": [
        "# Đảo ngược giá trị dự đoán trên tập Test và Validate về giá trị chuẩn\n",
        "train_predict_GRU = scaler.inverse_transform(train_predict_GRU)\n",
        "y_pred_GRU = scaler.inverse_transform(y_pred_GRU)\n",
        "y_pred_val_GRU = scaler.inverse_transform(y_pred_val_GRU)"
      ],
      "metadata": {
        "id": "3LklErypTlg0"
      },
      "execution_count": 47,
      "outputs": []
    },
    {
      "cell_type": "code",
      "source": [
        "# Đảo ngược giá trị thực tế của tập Test và Validate về giá trị chuẩn\n",
        "real_val_GRU = scaler.inverse_transform(y_val_GRU.reshape(-1, 1))\n",
        "real_test_GRU = scaler.inverse_transform(y_test_GRU.reshape(-1, 1))"
      ],
      "metadata": {
        "id": "BAP6916QT13d"
      },
      "execution_count": 48,
      "outputs": []
    },
    {
      "cell_type": "code",
      "source": [
        "# Đánh giá độ chính xác thuật toán bằng RMSE\n",
        "test_rmse_GRU = np.sqrt(np.mean((y_pred_GRU - real_test_GRU)**2))\n",
        "val_rmse_GRU = np.sqrt(np.mean((y_pred_val_GRU - real_val_GRU)**2))\n",
        "print('Testing RMSE:', test_rmse_GRU)\n",
        "print('Validation RMSE:', val_rmse_GRU)"
      ],
      "metadata": {
        "colab": {
          "base_uri": "https://localhost:8080/"
        },
        "id": "7H3F2UIUUCPV",
        "outputId": "c8107ba5-e26f-4893-b9be-0c40685db2e8"
      },
      "execution_count": 49,
      "outputs": [
        {
          "output_type": "stream",
          "name": "stdout",
          "text": [
            "Testing RMSE: 0.17953468409311615\n",
            "Validation RMSE: 0.2056070161012773\n"
          ]
        }
      ]
    },
    {
      "cell_type": "code",
      "source": [
        "# Đánh giá độ chính xác thuật toán bằng MAPE\n",
        "test_mape_GRU = np.mean((np.absolute(real_test_GRU - y_pred_GRU)/real_test_GRU)*100)\n",
        "val_mape_GRU = np.mean((np.absolute(real_val_GRU - y_pred_val_GRU)/real_val_GRU)*100)\n",
        "print('Testing MAPE:', test_mape_GRU)\n",
        "print('Validation MAPE:', val_mape_GRU)"
      ],
      "metadata": {
        "colab": {
          "base_uri": "https://localhost:8080/"
        },
        "id": "HVQhGs9uUTjS",
        "outputId": "e9785c26-bc31-47cb-d11a-26bf6e068e58"
      },
      "execution_count": 50,
      "outputs": [
        {
          "output_type": "stream",
          "name": "stdout",
          "text": [
            "Testing MAPE: 0.10815876892061768\n",
            "Validation MAPE: 0.10808050337076436\n"
          ]
        }
      ]
    },
    {
      "cell_type": "code",
      "source": [
        "# Tính phần trăm độ chính xác trên tập Test và Validate\n",
        "data_range_GRU = df['Close'].max() - df['Close'].min()\n",
        "test_accuracy_GRU = (1 - test_rmse_GRU / data_range_GRU) * 100\n",
        "val_accuracy_GRU = (1 - val_rmse_GRU / data_range_GRU) * 100\n",
        "print('Testing Accuracy (%):', test_accuracy_GRU)\n",
        "print('Validation Accuracy (%):', val_accuracy_GRU)"
      ],
      "metadata": {
        "colab": {
          "base_uri": "https://localhost:8080/"
        },
        "id": "KZDYvQqQWpbS",
        "outputId": "0952ebe4-edfc-4ae1-e9a6-e6c333a29bc7"
      },
      "execution_count": 51,
      "outputs": [
        {
          "output_type": "stream",
          "name": "stdout",
          "text": [
            "Testing Accuracy (%): 99.69310310411433\n",
            "Validation Accuracy (%): 99.6485350152115\n"
          ]
        }
      ]
    },
    {
      "cell_type": "code",
      "source": [
        "# Dự báo 15 stage tiếp theo\n",
        "x_input_GRU = val_data_GRU[60:].reshape(1, -1)\n",
        "x_input_GRU.shape\n",
        "\n",
        "temp_input_GRU = list(x_input_GRU)\n",
        "temp_input_GRU = temp_input_GRU[0].tolist()\n",
        "\n",
        "lst_output_GRU = []\n",
        "n_steps_GRU = 10067\n",
        "i = 0\n",
        "while i < 15:\n",
        "    if len(temp_input_GRU) > 10067:\n",
        "          x_input_GRU = np.array(temp_input_GRU[1:])\n",
        "\n",
        "          x_input_GRU = x_input_GRU.reshape(1, -1)\n",
        "          x_input_GRU = x_input_GRU.reshape((1, n_steps_GRU, 1))\n",
        "          yhat = model.predict(x_input_GRU, verbose=0)\n",
        "\n",
        "          temp_input_GRU.extend(yhat[0].tolist())\n",
        "          temp_input_GRU = temp_input_GRU[1:]\n",
        "          lst_output_GRU.extend(yhat.tolist())\n",
        "          i = i + 1\n",
        "    else:\n",
        "        x_input_GRU = x_input_GRU.reshape((1, n_steps_GRU, 1))\n",
        "        yhat = model.predict(x_input_GRU, verbose=0)\n",
        "\n",
        "        temp_input_GRU.extend(yhat[0].tolist())\n",
        "\n",
        "        lst_output_GRU.extend(yhat.tolist())\n",
        "        i = i + 1\n",
        "\n",
        "# Chuẩn hóa lại dự đoán 15 stage\n",
        "predicted_values_GRU = np.array(lst_output_GRU)\n",
        "predicted_values_GRU = predicted_values_GRU.reshape(-1, 1)\n",
        "\n",
        "# Chuẩn hóa dự đoán\n",
        "predicted_values_GRU = scaler.inverse_transform(predicted_values_GRU)\n",
        "\n",
        "print(\"Dự đoán 15 stage tiếp theo:\")\n",
        "print(predicted_values_GRU)"
      ],
      "metadata": {
        "colab": {
          "base_uri": "https://localhost:8080/"
        },
        "id": "U0iUt7JrQZKY",
        "outputId": "0e6c6544-faff-438f-f477-3ee1c42ebce7"
      },
      "execution_count": 53,
      "outputs": [
        {
          "output_type": "stream",
          "name": "stdout",
          "text": [
            "Dự đoán 15 stage tiếp theo:\n",
            "[[105.72688851]\n",
            " [105.74483892]\n",
            " [105.76375172]\n",
            " [105.78283536]\n",
            " [105.80196086]\n",
            " [105.82110029]\n",
            " [105.84020486]\n",
            " [105.85922924]\n",
            " [105.87812808]\n",
            " [105.8969014 ]\n",
            " [105.91555616]\n",
            " [105.93410981]\n",
            " [105.95256931]\n",
            " [105.97094163]\n",
            " [105.98923725]]\n"
          ]
        }
      ]
    },
    {
      "cell_type": "code",
      "source": [
        "# Vẽ hình\n",
        "plt.figure(figsize=(8, 6))\n",
        "train_data_index_GRU = pd.RangeIndex(start=0, stop=train_size, step=1)\n",
        "plt.plot(scaler.inverse_transform(train_data_GRU))\n",
        "test_data_index_GRU = pd.RangeIndex(start=train_size, stop=train_size+test_size, step=1)\n",
        "plt.plot(test_data_index_GRU, scaler.inverse_transform(test_data_GRU))\n",
        "test_data_index_GRU = pd.RangeIndex(start=train_size+101, stop=train_size+test_size, step=1)\n",
        "plt.plot(test_data_index_GRU, (y_pred_GRU))\n",
        "val_data_index_GRU = pd.RangeIndex(start=train_size+test_size, stop=train_size+test_size+val_size, step=1)\n",
        "plt.plot(val_data_index_GRU, scaler.inverse_transform(val_data_GRU))\n",
        "val_data_index_GRU = pd.RangeIndex(start=train_size+test_size+101, stop=train_size+test_size+val_size, step=1)\n",
        "plt.plot(val_data_index_GRU, y_pred_val_GRU)\n",
        "predict_data_index_GRU = pd.RangeIndex(start=len(df1)-1, stop=len(df1)+14, step=1)\n",
        "plt.plot(predict_data_index_GRU, scaler.inverse_transform(lst_output_GRU), color='black')\n",
        "plt.title('Hình 2.Dự đoán sử dụng mô hình GRU')\n",
        "plt.legend(['Train','Test','Predict_Test','Validate','Predict_Validate','Predict_15_Stage'])\n",
        "plt.show()"
      ],
      "metadata": {
        "colab": {
          "base_uri": "https://localhost:8080/",
          "height": 546
        },
        "id": "GNSEEcGGQhCd",
        "outputId": "d0ae4600-a714-4e9d-e8ba-7444ec5fb8f7"
      },
      "execution_count": 54,
      "outputs": [
        {
          "output_type": "display_data",
          "data": {
            "text/plain": [
              "<Figure size 800x600 with 1 Axes>"
            ],
            "image/png": "[encoded data removed]"
          },
          "metadata": {}
        }
      ]
    },
    {
      "cell_type": "markdown",
      "source": [
        "#### Nhận xét\n",
        "- Kết quả dự báo 15 stage tiếp theo bằng mô hình GRU là pha tăng giá trị cổ phiếu.\n",
        "- Độ chính xác của thuật toán dựa trên các thang đo RMSE và MAPE là rất cao.\n",
        "- Độ chính xác của thuật toán để dự báo trên tập Test và Validate khoảng 99.6%.\n",
        "- Nhìn trên ảnh ta thấy:\n",
        "  + Kết quả dự báo trên tập Test (màu xanh) gần như trùng khớp với kết quả thực tế trên tập Test (màu vàng).\n",
        "  + Kết quả dự báo trên tập Validate (màu tím) gần như trùng khớp với kết quả thực tế trên tập Validate (đỏ).\n",
        "- Mô hình dự báo tăng không đáng kể 0.2 trong các stage tiếp theo. Điều này đi ngược với dự đoán của RNN và trông chưa thực sự phù hợp với xu hướng với các ngày gần nhất."
      ],
      "metadata": {
        "id": "oYCbEl-9YHYZ"
      }
    },
    {
      "cell_type": "markdown",
      "source": [
        "## Tổng kết"
      ],
      "metadata": {
        "id": "L0D2q7SadJEx"
      }
    },
    {
      "cell_type": "code",
      "source": [
        "# So sánh 2 mô hình RNN và GRU\n",
        "data = {\n",
        "    'Độ đo': ['Test Accuracy (%)', 'Validation Accuracy (%)', 'Test RMSE', 'Validation RMSE', 'Test MAPE', 'Validation MAPE'],\n",
        "    'Mô hình RNN': [test_accuracy_RNN, val_accuracy_RNN, test_rmse_RNN, val_rmse_RNN, test_mape_RNN, val_mape_RNN],\n",
        "    'Mô hình GRU': [test_accuracy_GRU, val_accuracy_GRU, test_rmse_GRU, val_rmse_GRU, test_mape_GRU, val_mape_GRU]\n",
        "}\n",
        "\n",
        "df = pd.DataFrame(data).set_index('Độ đo')\n",
        "\n",
        "print(df)"
      ],
      "metadata": {
        "colab": {
          "base_uri": "https://localhost:8080/"
        },
        "id": "owCS5sVvYL6P",
        "outputId": "0a457e62-6594-4a59-ab01-6a9720e0bd3d"
      },
      "execution_count": 55,
      "outputs": [
        {
          "output_type": "stream",
          "name": "stdout",
          "text": [
            "                         Mô hình RNN  Mô hình GRU\n",
            "Độ đo                                            \n",
            "Test Accuracy (%)          99.652727    99.693103\n",
            "Validation Accuracy (%)    99.618154    99.648535\n",
            "Test RMSE                   0.203155     0.179535\n",
            "Validation RMSE             0.223380     0.205607\n",
            "Test MAPE                   0.148374     0.108159\n",
            "Validation MAPE             0.135337     0.108081\n"
          ]
        }
      ]
    },
    {
      "cell_type": "code",
      "source": [
        "# Nhận xét Predict 15 stage của 2 mô hình\n",
        "plt.figure(figsize=(6, 4))\n",
        "predict_data_index_RNN = pd.RangeIndex(start=len(df1)-1, stop=len(df1)+14, step=1)\n",
        "plt.plot(predict_data_index_RNN, scaler.inverse_transform(lst_output_RNN), color='green')\n",
        "predict_data_index_GRU = pd.RangeIndex(start=len(df1)-1, stop=len(df1)+14, step=1)\n",
        "plt.plot(predict_data_index_GRU, scaler.inverse_transform(lst_output_GRU), color='blue')\n",
        "plt.title('Hình 3.Xu hướng dự báo giữa 2 mô hình RNN và GRU')\n",
        "plt.legend(['Predict_15_Stage_RNN', 'Predict_15_Stage_GRU'])\n",
        "plt.show()"
      ],
      "metadata": {
        "colab": {
          "base_uri": "https://localhost:8080/",
          "height": 409
        },
        "id": "lXHIO2SgQltF",
        "outputId": "06d5d6b1-b899-40f6-cc8e-5a56780949c4"
      },
      "execution_count": 56,
      "outputs": [
        {
          "output_type": "display_data",
          "data": {
            "text/plain": [
              "<Figure size 600x400 with 1 Axes>"
            ],
            "image/png": "[encoded data removed]"
          },
          "metadata": {}
        }
      ]
    },
    {
      "cell_type": "markdown",
      "source": [
        "### Tổng kết\n",
        "- Nhìn ảnh so sánh trên, ta thấy cả 2 mô hình có kết quả rất khác nhau.\n",
        "- Tuy nhìn vào số liệu của 10 stage gần nhất là pha giảm nhẹ như dự báo của RNN trong tương lai nhưng qua 2 dự báo trên chưa đáng tin cậy. Cần một mô hình mạnh mẽ hơn để giải quyết sự sai khác này."
      ],
      "metadata": {
        "id": "Rn9R3DiFYkVf"
      }
    }
  ]
}