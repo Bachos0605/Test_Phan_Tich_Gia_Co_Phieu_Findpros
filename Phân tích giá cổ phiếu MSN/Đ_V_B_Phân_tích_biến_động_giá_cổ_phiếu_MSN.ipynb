{
  "nbformat": 4,
  "nbformat_minor": 0,
  "metadata": {
    "colab": {
      "provenance": [],
      "toc_visible": true
    },
    "kernelspec": {
      "name": "python3",
      "display_name": "Python 3"
    },
    "language_info": {
      "name": "python"
    }
  },
  "cells": [
    {
      "cell_type": "markdown",
      "source": [
        "Phân tích biến động giá cổ phiếu MSN <br>\n",
        "Người thực hiện: Đỗ Việt Bách <br>\n",
        "Phone: 0559 686 243 <br>\n",
        "Email: 19521230@gm.uit.edu.vn <br>\n",
        "Dataset: Giá trị cổ phiếu MSN từ ngày 25/12/2017 tới ngày 22/12/2020 <br>\n",
        "Mô hình dự báo: RNN vs. GRU\n",
        "\n",
        "\n"
      ],
      "metadata": {
        "id": "yI7VAjwpZFyW"
      }
    },
    {
      "cell_type": "markdown",
      "source": [
        "##Import dữ liệu và thư viện cần thiết"
      ],
      "metadata": {
        "id": "57RKIGBfN-Tw"
      }
    },
    {
      "cell_type": "code",
      "execution_count": 1,
      "metadata": {
        "id": "ywveR1aTBj7g",
        "colab": {
          "base_uri": "https://localhost:8080/",
          "height": 73
        },
        "outputId": "bcaef7ab-4f1f-401a-a280-6f4871560166"
      },
      "outputs": [
        {
          "output_type": "display_data",
          "data": {
            "text/plain": [
              "<IPython.core.display.HTML object>"
            ],
            "text/html": [
              "\n",
              "     <input type=\"file\" id=\"files-fa1aa651-d566-4ac3-abc8-29e4c7db7ec6\" name=\"files[]\" multiple disabled\n",
              "        style=\"border:none\" />\n",
              "     <output id=\"result-fa1aa651-d566-4ac3-abc8-29e4c7db7ec6\">\n",
              "      Upload widget is only available when the cell has been executed in the\n",
              "      current browser session. Please rerun this cell to enable.\n",
              "      </output>\n",
              "      <script>// Copyright 2017 Google LLC\n",
              "//\n",
              "// Licensed under the Apache License, Version 2.0 (the \"License\");\n",
              "// you may not use this file except in compliance with the License.\n",
              "// You may obtain a copy of the License at\n",
              "//\n",
              "//      http://www.apache.org/licenses/LICENSE-2.0\n",
              "//\n",
              "// Unless required by applicable law or agreed to in writing, software\n",
              "// distributed under the License is distributed on an \"AS IS\" BASIS,\n",
              "// WITHOUT WARRANTIES OR CONDITIONS OF ANY KIND, either express or implied.\n",
              "// See the License for the specific language governing permissions and\n",
              "// limitations under the License.\n",
              "\n",
              "/**\n",
              " * @fileoverview Helpers for google.colab Python module.\n",
              " */\n",
              "(function(scope) {\n",
              "function span(text, styleAttributes = {}) {\n",
              "  const element = document.createElement('span');\n",
              "  element.textContent = text;\n",
              "  for (const key of Object.keys(styleAttributes)) {\n",
              "    element.style[key] = styleAttributes[key];\n",
              "  }\n",
              "  return element;\n",
              "}\n",
              "\n",
              "// Max number of bytes which will be uploaded at a time.\n",
              "const MAX_PAYLOAD_SIZE = 100 * 1024;\n",
              "\n",
              "function _uploadFiles(inputId, outputId) {\n",
              "  const steps = uploadFilesStep(inputId, outputId);\n",
              "  const outputElement = document.getElementById(outputId);\n",
              "  // Cache steps on the outputElement to make it available for the next call\n",
              "  // to uploadFilesContinue from Python.\n",
              "  outputElement.steps = steps;\n",
              "\n",
              "  return _uploadFilesContinue(outputId);\n",
              "}\n",
              "\n",
              "// This is roughly an async generator (not supported in the browser yet),\n",
              "// where there are multiple asynchronous steps and the Python side is going\n",
              "// to poll for completion of each step.\n",
              "// This uses a Promise to block the python side on completion of each step,\n",
              "// then passes the result of the previous step as the input to the next step.\n",
              "function _uploadFilesContinue(outputId) {\n",
              "  const outputElement = document.getElementById(outputId);\n",
              "  const steps = outputElement.steps;\n",
              "\n",
              "  const next = steps.next(outputElement.lastPromiseValue);\n",
              "  return Promise.resolve(next.value.promise).then((value) => {\n",
              "    // Cache the last promise value to make it available to the next\n",
              "    // step of the generator.\n",
              "    outputElement.lastPromiseValue = value;\n",
              "    return next.value.response;\n",
              "  });\n",
              "}\n",
              "\n",
              "/**\n",
              " * Generator function which is called between each async step of the upload\n",
              " * process.\n",
              " * @param {string} inputId Element ID of the input file picker element.\n",
              " * @param {string} outputId Element ID of the output display.\n",
              " * @return {!Iterable<!Object>} Iterable of next steps.\n",
              " */\n",
              "function* uploadFilesStep(inputId, outputId) {\n",
              "  const inputElement = document.getElementById(inputId);\n",
              "  inputElement.disabled = false;\n",
              "\n",
              "  const outputElement = document.getElementById(outputId);\n",
              "  outputElement.innerHTML = '';\n",
              "\n",
              "  const pickedPromise = new Promise((resolve) => {\n",
              "    inputElement.addEventListener('change', (e) => {\n",
              "      resolve(e.target.files);\n",
              "    });\n",
              "  });\n",
              "\n",
              "  const cancel = document.createElement('button');\n",
              "  inputElement.parentElement.appendChild(cancel);\n",
              "  cancel.textContent = 'Cancel upload';\n",
              "  const cancelPromise = new Promise((resolve) => {\n",
              "    cancel.onclick = () => {\n",
              "      resolve(null);\n",
              "    };\n",
              "  });\n",
              "\n",
              "  // Wait for the user to pick the files.\n",
              "  const files = yield {\n",
              "    promise: Promise.race([pickedPromise, cancelPromise]),\n",
              "    response: {\n",
              "      action: 'starting',\n",
              "    }\n",
              "  };\n",
              "\n",
              "  cancel.remove();\n",
              "\n",
              "  // Disable the input element since further picks are not allowed.\n",
              "  inputElement.disabled = true;\n",
              "\n",
              "  if (!files) {\n",
              "    return {\n",
              "      response: {\n",
              "        action: 'complete',\n",
              "      }\n",
              "    };\n",
              "  }\n",
              "\n",
              "  for (const file of files) {\n",
              "    const li = document.createElement('li');\n",
              "    li.append(span(file.name, {fontWeight: 'bold'}));\n",
              "    li.append(span(\n",
              "        `(${file.type || 'n/a'}) - ${file.size} bytes, ` +\n",
              "        `last modified: ${\n",
              "            file.lastModifiedDate ? file.lastModifiedDate.toLocaleDateString() :\n",
              "                                    'n/a'} - `));\n",
              "    const percent = span('0% done');\n",
              "    li.appendChild(percent);\n",
              "\n",
              "    outputElement.appendChild(li);\n",
              "\n",
              "    const fileDataPromise = new Promise((resolve) => {\n",
              "      const reader = new FileReader();\n",
              "      reader.onload = (e) => {\n",
              "        resolve(e.target.result);\n",
              "      };\n",
              "      reader.readAsArrayBuffer(file);\n",
              "    });\n",
              "    // Wait for the data to be ready.\n",
              "    let fileData = yield {\n",
              "      promise: fileDataPromise,\n",
              "      response: {\n",
              "        action: 'continue',\n",
              "      }\n",
              "    };\n",
              "\n",
              "    // Use a chunked sending to avoid message size limits. See b/62115660.\n",
              "    let position = 0;\n",
              "    do {\n",
              "      const length = Math.min(fileData.byteLength - position, MAX_PAYLOAD_SIZE);\n",
              "      const chunk = new Uint8Array(fileData, position, length);\n",
              "      position += length;\n",
              "\n",
              "      const base64 = btoa(String.fromCharCode.apply(null, chunk));\n",
              "      yield {\n",
              "        response: {\n",
              "          action: 'append',\n",
              "          file: file.name,\n",
              "          data: base64,\n",
              "        },\n",
              "      };\n",
              "\n",
              "      let percentDone = fileData.byteLength === 0 ?\n",
              "          100 :\n",
              "          Math.round((position / fileData.byteLength) * 100);\n",
              "      percent.textContent = `${percentDone}% done`;\n",
              "\n",
              "    } while (position < fileData.byteLength);\n",
              "  }\n",
              "\n",
              "  // All done.\n",
              "  yield {\n",
              "    response: {\n",
              "      action: 'complete',\n",
              "    }\n",
              "  };\n",
              "}\n",
              "\n",
              "scope.google = scope.google || {};\n",
              "scope.google.colab = scope.google.colab || {};\n",
              "scope.google.colab._files = {\n",
              "  _uploadFiles,\n",
              "  _uploadFilesContinue,\n",
              "};\n",
              "})(self);\n",
              "</script> "
            ]
          },
          "metadata": {}
        },
        {
          "output_type": "stream",
          "name": "stdout",
          "text": [
            "Saving MSN.csv to MSN.csv\n"
          ]
        }
      ],
      "source": [
        "from google.colab import files\n",
        "uploaded = files.upload()"
      ]
    },
    {
      "cell_type": "code",
      "source": [
        "import pandas as pd\n",
        "import numpy as np"
      ],
      "metadata": {
        "id": "CRXjUHRSCvqj"
      },
      "execution_count": 2,
      "outputs": []
    },
    {
      "cell_type": "code",
      "source": [
        "df = pd.read_csv('/content/MSN.csv')"
      ],
      "metadata": {
        "id": "ElItuCDhDKTy"
      },
      "execution_count": 3,
      "outputs": []
    },
    {
      "cell_type": "code",
      "source": [
        "df"
      ],
      "metadata": {
        "colab": {
          "base_uri": "https://localhost:8080/",
          "height": 423
        },
        "id": "FLAHw4LVDQvh",
        "outputId": "51cc3e9e-a8f5-4c88-ba02-1f09df53af88"
      },
      "execution_count": 4,
      "outputs": [
        {
          "output_type": "execute_result",
          "data": {
            "text/plain": [
              "       Ticker         Date/Time  Open  High   Low  Close  Volume  \\\n",
              "0         MSN   12/25/2017 9:15  73.1  73.1  73.1   73.1    4210   \n",
              "1         MSN   12/25/2017 9:16  73.0  73.0  73.0   73.0    5000   \n",
              "2         MSN   12/25/2017 9:18  73.5  73.5  73.5   73.5     210   \n",
              "3         MSN   12/25/2017 9:20  73.2  73.5  73.1   73.1    2050   \n",
              "4         MSN   12/25/2017 9:21  73.0  73.0  73.0   73.0    1380   \n",
              "...       ...               ...   ...   ...   ...    ...     ...   \n",
              "135349    MSN  12/22/2020 14:23  82.8  82.8  82.8   82.8     700   \n",
              "135350    MSN  12/22/2020 14:24  82.7  82.8  82.7   82.8    4660   \n",
              "135351    MSN  12/22/2020 14:25  82.8  82.8  82.8   82.8      50   \n",
              "135352    MSN  12/22/2020 14:27  82.8  82.8  82.8   82.8     300   \n",
              "135353    MSN  12/22/2020 14:46  82.8  82.8  82.8   82.8     200   \n",
              "\n",
              "        Open Interest  \n",
              "0                   0  \n",
              "1                   0  \n",
              "2                   0  \n",
              "3                   0  \n",
              "4                   0  \n",
              "...               ...  \n",
              "135349              0  \n",
              "135350              0  \n",
              "135351              0  \n",
              "135352              0  \n",
              "135353              0  \n",
              "\n",
              "[135354 rows x 8 columns]"
            ],
            "text/html": [
              "\n",
              "  <div id=\"df-f707da77-ff21-406a-a116-a0aff6dc00a5\" class=\"colab-df-container\">\n",
              "    <div>\n",
              "<style scoped>\n",
              "    .dataframe tbody tr th:only-of-type {\n",
              "        vertical-align: middle;\n",
              "    }\n",
              "\n",
              "    .dataframe tbody tr th {\n",
              "        vertical-align: top;\n",
              "    }\n",
              "\n",
              "    .dataframe thead th {\n",
              "        text-align: right;\n",
              "    }\n",
              "</style>\n",
              "<table border=\"1\" class=\"dataframe\">\n",
              "  <thead>\n",
              "    <tr style=\"text-align: right;\">\n",
              "      <th></th>\n",
              "      <th>Ticker</th>\n",
              "      <th>Date/Time</th>\n",
              "      <th>Open</th>\n",
              "      <th>High</th>\n",
              "      <th>Low</th>\n",
              "      <th>Close</th>\n",
              "      <th>Volume</th>\n",
              "      <th>Open Interest</th>\n",
              "    </tr>\n",
              "  </thead>\n",
              "  <tbody>\n",
              "    <tr>\n",
              "      <th>0</th>\n",
              "      <td>MSN</td>\n",
              "      <td>12/25/2017 9:15</td>\n",
              "      <td>73.1</td>\n",
              "      <td>73.1</td>\n",
              "      <td>73.1</td>\n",
              "      <td>73.1</td>\n",
              "      <td>4210</td>\n",
              "      <td>0</td>\n",
              "    </tr>\n",
              "    <tr>\n",
              "      <th>1</th>\n",
              "      <td>MSN</td>\n",
              "      <td>12/25/2017 9:16</td>\n",
              "      <td>73.0</td>\n",
              "      <td>73.0</td>\n",
              "      <td>73.0</td>\n",
              "      <td>73.0</td>\n",
              "      <td>5000</td>\n",
              "      <td>0</td>\n",
              "    </tr>\n",
              "    <tr>\n",
              "      <th>2</th>\n",
              "      <td>MSN</td>\n",
              "      <td>12/25/2017 9:18</td>\n",
              "      <td>73.5</td>\n",
              "      <td>73.5</td>\n",
              "      <td>73.5</td>\n",
              "      <td>73.5</td>\n",
              "      <td>210</td>\n",
              "      <td>0</td>\n",
              "    </tr>\n",
              "    <tr>\n",
              "      <th>3</th>\n",
              "      <td>MSN</td>\n",
              "      <td>12/25/2017 9:20</td>\n",
              "      <td>73.2</td>\n",
              "      <td>73.5</td>\n",
              "      <td>73.1</td>\n",
              "      <td>73.1</td>\n",
              "      <td>2050</td>\n",
              "      <td>0</td>\n",
              "    </tr>\n",
              "    <tr>\n",
              "      <th>4</th>\n",
              "      <td>MSN</td>\n",
              "      <td>12/25/2017 9:21</td>\n",
              "      <td>73.0</td>\n",
              "      <td>73.0</td>\n",
              "      <td>73.0</td>\n",
              "      <td>73.0</td>\n",
              "      <td>1380</td>\n",
              "      <td>0</td>\n",
              "    </tr>\n",
              "    <tr>\n",
              "      <th>...</th>\n",
              "      <td>...</td>\n",
              "      <td>...</td>\n",
              "      <td>...</td>\n",
              "      <td>...</td>\n",
              "      <td>...</td>\n",
              "      <td>...</td>\n",
              "      <td>...</td>\n",
              "      <td>...</td>\n",
              "    </tr>\n",
              "    <tr>\n",
              "      <th>135349</th>\n",
              "      <td>MSN</td>\n",
              "      <td>12/22/2020 14:23</td>\n",
              "      <td>82.8</td>\n",
              "      <td>82.8</td>\n",
              "      <td>82.8</td>\n",
              "      <td>82.8</td>\n",
              "      <td>700</td>\n",
              "      <td>0</td>\n",
              "    </tr>\n",
              "    <tr>\n",
              "      <th>135350</th>\n",
              "      <td>MSN</td>\n",
              "      <td>12/22/2020 14:24</td>\n",
              "      <td>82.7</td>\n",
              "      <td>82.8</td>\n",
              "      <td>82.7</td>\n",
              "      <td>82.8</td>\n",
              "      <td>4660</td>\n",
              "      <td>0</td>\n",
              "    </tr>\n",
              "    <tr>\n",
              "      <th>135351</th>\n",
              "      <td>MSN</td>\n",
              "      <td>12/22/2020 14:25</td>\n",
              "      <td>82.8</td>\n",
              "      <td>82.8</td>\n",
              "      <td>82.8</td>\n",
              "      <td>82.8</td>\n",
              "      <td>50</td>\n",
              "      <td>0</td>\n",
              "    </tr>\n",
              "    <tr>\n",
              "      <th>135352</th>\n",
              "      <td>MSN</td>\n",
              "      <td>12/22/2020 14:27</td>\n",
              "      <td>82.8</td>\n",
              "      <td>82.8</td>\n",
              "      <td>82.8</td>\n",
              "      <td>82.8</td>\n",
              "      <td>300</td>\n",
              "      <td>0</td>\n",
              "    </tr>\n",
              "    <tr>\n",
              "      <th>135353</th>\n",
              "      <td>MSN</td>\n",
              "      <td>12/22/2020 14:46</td>\n",
              "      <td>82.8</td>\n",
              "      <td>82.8</td>\n",
              "      <td>82.8</td>\n",
              "      <td>82.8</td>\n",
              "      <td>200</td>\n",
              "      <td>0</td>\n",
              "    </tr>\n",
              "  </tbody>\n",
              "</table>\n",
              "<p>135354 rows × 8 columns</p>\n",
              "</div>\n",
              "    <div class=\"colab-df-buttons\">\n",
              "\n",
              "  <div class=\"colab-df-container\">\n",
              "    <button class=\"colab-df-convert\" onclick=\"convertToInteractive('df-f707da77-ff21-406a-a116-a0aff6dc00a5')\"\n",
              "            title=\"Convert this dataframe to an interactive table.\"\n",
              "            style=\"display:none;\">\n",
              "\n",
              "  <svg xmlns=\"http://www.w3.org/2000/svg\" height=\"24px\" viewBox=\"0 -960 960 960\">\n",
              "    <path d=\"M120-120v-720h720v720H120Zm60-500h600v-160H180v160Zm220 220h160v-160H400v160Zm0 220h160v-160H400v160ZM180-400h160v-160H180v160Zm440 0h160v-160H620v160ZM180-180h160v-160H180v160Zm440 0h160v-160H620v160Z\"/>\n",
              "  </svg>\n",
              "    </button>\n",
              "\n",
              "  <style>\n",
              "    .colab-df-container {\n",
              "      display:flex;\n",
              "      gap: 12px;\n",
              "    }\n",
              "\n",
              "    .colab-df-convert {\n",
              "      background-color: #E8F0FE;\n",
              "      border: none;\n",
              "      border-radius: 50%;\n",
              "      cursor: pointer;\n",
              "      display: none;\n",
              "      fill: #1967D2;\n",
              "      height: 32px;\n",
              "      padding: 0 0 0 0;\n",
              "      width: 32px;\n",
              "    }\n",
              "\n",
              "    .colab-df-convert:hover {\n",
              "      background-color: #E2EBFA;\n",
              "      box-shadow: 0px 1px 2px rgba(60, 64, 67, 0.3), 0px 1px 3px 1px rgba(60, 64, 67, 0.15);\n",
              "      fill: #174EA6;\n",
              "    }\n",
              "\n",
              "    .colab-df-buttons div {\n",
              "      margin-bottom: 4px;\n",
              "    }\n",
              "\n",
              "    [theme=dark] .colab-df-convert {\n",
              "      background-color: #3B4455;\n",
              "      fill: #D2E3FC;\n",
              "    }\n",
              "\n",
              "    [theme=dark] .colab-df-convert:hover {\n",
              "      background-color: #434B5C;\n",
              "      box-shadow: 0px 1px 3px 1px rgba(0, 0, 0, 0.15);\n",
              "      filter: drop-shadow(0px 1px 2px rgba(0, 0, 0, 0.3));\n",
              "      fill: #FFFFFF;\n",
              "    }\n",
              "  </style>\n",
              "\n",
              "    <script>\n",
              "      const buttonEl =\n",
              "        document.querySelector('#df-f707da77-ff21-406a-a116-a0aff6dc00a5 button.colab-df-convert');\n",
              "      buttonEl.style.display =\n",
              "        google.colab.kernel.accessAllowed ? 'block' : 'none';\n",
              "\n",
              "      async function convertToInteractive(key) {\n",
              "        const element = document.querySelector('#df-f707da77-ff21-406a-a116-a0aff6dc00a5');\n",
              "        const dataTable =\n",
              "          await google.colab.kernel.invokeFunction('convertToInteractive',\n",
              "                                                    [key], {});\n",
              "        if (!dataTable) return;\n",
              "\n",
              "        const docLinkHtml = 'Like what you see? Visit the ' +\n",
              "          '<a target=\"_blank\" href=https://colab.research.google.com/notebooks/data_table.ipynb>data table notebook</a>'\n",
              "          + ' to learn more about interactive tables.';\n",
              "        element.innerHTML = '';\n",
              "        dataTable['output_type'] = 'display_data';\n",
              "        await google.colab.output.renderOutput(dataTable, element);\n",
              "        const docLink = document.createElement('div');\n",
              "        docLink.innerHTML = docLinkHtml;\n",
              "        element.appendChild(docLink);\n",
              "      }\n",
              "    </script>\n",
              "  </div>\n",
              "\n",
              "\n",
              "<div id=\"df-229e0d23-686f-4814-8a7e-8cc300ec5211\">\n",
              "  <button class=\"colab-df-quickchart\" onclick=\"quickchart('df-229e0d23-686f-4814-8a7e-8cc300ec5211')\"\n",
              "            title=\"Suggest charts\"\n",
              "            style=\"display:none;\">\n",
              "\n",
              "<svg xmlns=\"http://www.w3.org/2000/svg\" height=\"24px\"viewBox=\"0 0 24 24\"\n",
              "     width=\"24px\">\n",
              "    <g>\n",
              "        <path d=\"M19 3H5c-1.1 0-2 .9-2 2v14c0 1.1.9 2 2 2h14c1.1 0 2-.9 2-2V5c0-1.1-.9-2-2-2zM9 17H7v-7h2v7zm4 0h-2V7h2v10zm4 0h-2v-4h2v4z\"/>\n",
              "    </g>\n",
              "</svg>\n",
              "  </button>\n",
              "\n",
              "<style>\n",
              "  .colab-df-quickchart {\n",
              "      --bg-color: #E8F0FE;\n",
              "      --fill-color: #1967D2;\n",
              "      --hover-bg-color: #E2EBFA;\n",
              "      --hover-fill-color: #174EA6;\n",
              "      --disabled-fill-color: #AAA;\n",
              "      --disabled-bg-color: #DDD;\n",
              "  }\n",
              "\n",
              "  [theme=dark] .colab-df-quickchart {\n",
              "      --bg-color: #3B4455;\n",
              "      --fill-color: #D2E3FC;\n",
              "      --hover-bg-color: #434B5C;\n",
              "      --hover-fill-color: #FFFFFF;\n",
              "      --disabled-bg-color: #3B4455;\n",
              "      --disabled-fill-color: #666;\n",
              "  }\n",
              "\n",
              "  .colab-df-quickchart {\n",
              "    background-color: var(--bg-color);\n",
              "    border: none;\n",
              "    border-radius: 50%;\n",
              "    cursor: pointer;\n",
              "    display: none;\n",
              "    fill: var(--fill-color);\n",
              "    height: 32px;\n",
              "    padding: 0;\n",
              "    width: 32px;\n",
              "  }\n",
              "\n",
              "  .colab-df-quickchart:hover {\n",
              "    background-color: var(--hover-bg-color);\n",
              "    box-shadow: 0 1px 2px rgba(60, 64, 67, 0.3), 0 1px 3px 1px rgba(60, 64, 67, 0.15);\n",
              "    fill: var(--button-hover-fill-color);\n",
              "  }\n",
              "\n",
              "  .colab-df-quickchart-complete:disabled,\n",
              "  .colab-df-quickchart-complete:disabled:hover {\n",
              "    background-color: var(--disabled-bg-color);\n",
              "    fill: var(--disabled-fill-color);\n",
              "    box-shadow: none;\n",
              "  }\n",
              "\n",
              "  .colab-df-spinner {\n",
              "    border: 2px solid var(--fill-color);\n",
              "    border-color: transparent;\n",
              "    border-bottom-color: var(--fill-color);\n",
              "    animation:\n",
              "      spin 1s steps(1) infinite;\n",
              "  }\n",
              "\n",
              "  @keyframes spin {\n",
              "    0% {\n",
              "      border-color: transparent;\n",
              "      border-bottom-color: var(--fill-color);\n",
              "      border-left-color: var(--fill-color);\n",
              "    }\n",
              "    20% {\n",
              "      border-color: transparent;\n",
              "      border-left-color: var(--fill-color);\n",
              "      border-top-color: var(--fill-color);\n",
              "    }\n",
              "    30% {\n",
              "      border-color: transparent;\n",
              "      border-left-color: var(--fill-color);\n",
              "      border-top-color: var(--fill-color);\n",
              "      border-right-color: var(--fill-color);\n",
              "    }\n",
              "    40% {\n",
              "      border-color: transparent;\n",
              "      border-right-color: var(--fill-color);\n",
              "      border-top-color: var(--fill-color);\n",
              "    }\n",
              "    60% {\n",
              "      border-color: transparent;\n",
              "      border-right-color: var(--fill-color);\n",
              "    }\n",
              "    80% {\n",
              "      border-color: transparent;\n",
              "      border-right-color: var(--fill-color);\n",
              "      border-bottom-color: var(--fill-color);\n",
              "    }\n",
              "    90% {\n",
              "      border-color: transparent;\n",
              "      border-bottom-color: var(--fill-color);\n",
              "    }\n",
              "  }\n",
              "</style>\n",
              "\n",
              "  <script>\n",
              "    async function quickchart(key) {\n",
              "      const quickchartButtonEl =\n",
              "        document.querySelector('#' + key + ' button');\n",
              "      quickchartButtonEl.disabled = true;  // To prevent multiple clicks.\n",
              "      quickchartButtonEl.classList.add('colab-df-spinner');\n",
              "      try {\n",
              "        const charts = await google.colab.kernel.invokeFunction(\n",
              "            'suggestCharts', [key], {});\n",
              "      } catch (error) {\n",
              "        console.error('Error during call to suggestCharts:', error);\n",
              "      }\n",
              "      quickchartButtonEl.classList.remove('colab-df-spinner');\n",
              "      quickchartButtonEl.classList.add('colab-df-quickchart-complete');\n",
              "    }\n",
              "    (() => {\n",
              "      let quickchartButtonEl =\n",
              "        document.querySelector('#df-229e0d23-686f-4814-8a7e-8cc300ec5211 button');\n",
              "      quickchartButtonEl.style.display =\n",
              "        google.colab.kernel.accessAllowed ? 'block' : 'none';\n",
              "    })();\n",
              "  </script>\n",
              "</div>\n",
              "\n",
              "  <div id=\"id_6cde89cb-bbb6-4a5a-8514-984b9e2cc2e6\">\n",
              "    <style>\n",
              "      .colab-df-generate {\n",
              "        background-color: #E8F0FE;\n",
              "        border: none;\n",
              "        border-radius: 50%;\n",
              "        cursor: pointer;\n",
              "        display: none;\n",
              "        fill: #1967D2;\n",
              "        height: 32px;\n",
              "        padding: 0 0 0 0;\n",
              "        width: 32px;\n",
              "      }\n",
              "\n",
              "      .colab-df-generate:hover {\n",
              "        background-color: #E2EBFA;\n",
              "        box-shadow: 0px 1px 2px rgba(60, 64, 67, 0.3), 0px 1px 3px 1px rgba(60, 64, 67, 0.15);\n",
              "        fill: #174EA6;\n",
              "      }\n",
              "\n",
              "      [theme=dark] .colab-df-generate {\n",
              "        background-color: #3B4455;\n",
              "        fill: #D2E3FC;\n",
              "      }\n",
              "\n",
              "      [theme=dark] .colab-df-generate:hover {\n",
              "        background-color: #434B5C;\n",
              "        box-shadow: 0px 1px 3px 1px rgba(0, 0, 0, 0.15);\n",
              "        filter: drop-shadow(0px 1px 2px rgba(0, 0, 0, 0.3));\n",
              "        fill: #FFFFFF;\n",
              "      }\n",
              "    </style>\n",
              "    <button class=\"colab-df-generate\" onclick=\"generateWithVariable('df')\"\n",
              "            title=\"Generate code using this dataframe.\"\n",
              "            style=\"display:none;\">\n",
              "\n",
              "  <svg xmlns=\"http://www.w3.org/2000/svg\" height=\"24px\"viewBox=\"0 0 24 24\"\n",
              "       width=\"24px\">\n",
              "    <path d=\"M7,19H8.4L18.45,9,17,7.55,7,17.6ZM5,21V16.75L18.45,3.32a2,2,0,0,1,2.83,0l1.4,1.43a1.91,1.91,0,0,1,.58,1.4,1.91,1.91,0,0,1-.58,1.4L9.25,21ZM18.45,9,17,7.55Zm-12,3A5.31,5.31,0,0,0,4.9,8.1,5.31,5.31,0,0,0,1,6.5,5.31,5.31,0,0,0,4.9,4.9,5.31,5.31,0,0,0,6.5,1,5.31,5.31,0,0,0,8.1,4.9,5.31,5.31,0,0,0,12,6.5,5.46,5.46,0,0,0,6.5,12Z\"/>\n",
              "  </svg>\n",
              "    </button>\n",
              "    <script>\n",
              "      (() => {\n",
              "      const buttonEl =\n",
              "        document.querySelector('#id_6cde89cb-bbb6-4a5a-8514-984b9e2cc2e6 button.colab-df-generate');\n",
              "      buttonEl.style.display =\n",
              "        google.colab.kernel.accessAllowed ? 'block' : 'none';\n",
              "\n",
              "      buttonEl.onclick = () => {\n",
              "        google.colab.notebook.generateWithVariable('df');\n",
              "      }\n",
              "      })();\n",
              "    </script>\n",
              "  </div>\n",
              "\n",
              "    </div>\n",
              "  </div>\n"
            ],
            "application/vnd.google.colaboratory.intrinsic+json": {
              "type": "dataframe",
              "variable_name": "df"
            }
          },
          "metadata": {},
          "execution_count": 4
        }
      ]
    },
    {
      "cell_type": "markdown",
      "source": [
        "##Làm sạch dữ liệu"
      ],
      "metadata": {
        "id": "HQTT9sdlOPwP"
      }
    },
    {
      "cell_type": "code",
      "source": [
        "# Xem kiểu dữ liệu\n",
        "df.info()"
      ],
      "metadata": {
        "colab": {
          "base_uri": "https://localhost:8080/"
        },
        "id": "75SiPtsnDb0C",
        "outputId": "1556a75f-dcb8-4296-dc46-050827c666c8"
      },
      "execution_count": 5,
      "outputs": [
        {
          "output_type": "stream",
          "name": "stdout",
          "text": [
            "<class 'pandas.core.frame.DataFrame'>\n",
            "RangeIndex: 135354 entries, 0 to 135353\n",
            "Data columns (total 8 columns):\n",
            " #   Column         Non-Null Count   Dtype  \n",
            "---  ------         --------------   -----  \n",
            " 0   Ticker         135354 non-null  object \n",
            " 1   Date/Time      135354 non-null  object \n",
            " 2   Open           135354 non-null  float64\n",
            " 3   High           135354 non-null  float64\n",
            " 4   Low            135354 non-null  float64\n",
            " 5   Close          135354 non-null  float64\n",
            " 6   Volume         135354 non-null  int64  \n",
            " 7   Open Interest  135354 non-null  int64  \n",
            "dtypes: float64(4), int64(2), object(2)\n",
            "memory usage: 8.3+ MB\n"
          ]
        }
      ]
    },
    {
      "cell_type": "code",
      "source": [
        "df.dtypes"
      ],
      "metadata": {
        "colab": {
          "base_uri": "https://localhost:8080/"
        },
        "id": "NzfOcKmCGG2t",
        "outputId": "ae642a1d-3036-413d-a472-38c56227f697"
      },
      "execution_count": 6,
      "outputs": [
        {
          "output_type": "execute_result",
          "data": {
            "text/plain": [
              "Ticker            object\n",
              "Date/Time         object\n",
              "Open             float64\n",
              "High             float64\n",
              "Low              float64\n",
              "Close            float64\n",
              "Volume             int64\n",
              "Open Interest      int64\n",
              "dtype: object"
            ]
          },
          "metadata": {},
          "execution_count": 6
        }
      ]
    },
    {
      "cell_type": "code",
      "source": [
        "# Kiểm tra hàng trùng lặp\n",
        "df.duplicated().any()"
      ],
      "metadata": {
        "colab": {
          "base_uri": "https://localhost:8080/"
        },
        "id": "3a0ZkgHnENqR",
        "outputId": "3d02a3e3-2110-4bcb-ad41-0c3cfa0c0afb"
      },
      "execution_count": 7,
      "outputs": [
        {
          "output_type": "execute_result",
          "data": {
            "text/plain": [
              "False"
            ]
          },
          "metadata": {},
          "execution_count": 7
        }
      ]
    },
    {
      "cell_type": "code",
      "source": [
        "# Kiểm tra Null\n",
        "df.isnull().any()"
      ],
      "metadata": {
        "colab": {
          "base_uri": "https://localhost:8080/"
        },
        "id": "RhkA3_dOG6qE",
        "outputId": "8fa4a1e0-8ff6-4189-dd9f-01c31e22ca69"
      },
      "execution_count": 8,
      "outputs": [
        {
          "output_type": "execute_result",
          "data": {
            "text/plain": [
              "Ticker           False\n",
              "Date/Time        False\n",
              "Open             False\n",
              "High             False\n",
              "Low              False\n",
              "Close            False\n",
              "Volume           False\n",
              "Open Interest    False\n",
              "dtype: bool"
            ]
          },
          "metadata": {},
          "execution_count": 8
        }
      ]
    },
    {
      "cell_type": "code",
      "source": [
        "# Kiểm tra các giá trị min, max, mean(giá trị trung bình), standard(độ lệch chuẩn) của mỗi cột\n",
        "df.describe()"
      ],
      "metadata": {
        "colab": {
          "base_uri": "https://localhost:8080/",
          "height": 300
        },
        "id": "rEyJh3gBHJ6x",
        "outputId": "77a95f55-dd3a-48d0-ff6b-086834ba1675"
      },
      "execution_count": 9,
      "outputs": [
        {
          "output_type": "execute_result",
          "data": {
            "text/plain": [
              "                Open           High            Low          Close  \\\n",
              "count  135354.000000  135354.000000  135354.000000  135354.000000   \n",
              "mean       74.878809      74.931668      74.834625      74.880759   \n",
              "std        15.418074      15.426954      15.412677      15.418857   \n",
              "min        46.500000      46.500000      46.400000      46.400000   \n",
              "25%        57.900000      57.900000      57.800000      57.800000   \n",
              "50%        79.100000      79.200000      79.100000      79.100000   \n",
              "75%        86.000000      86.100000      86.000000      86.000000   \n",
              "max       117.800000     118.000000     117.700000     118.000000   \n",
              "\n",
              "             Volume  Open Interest  \n",
              "count  1.353540e+05       135354.0  \n",
              "mean   5.683578e+03            0.0  \n",
              "std    2.798513e+04            0.0  \n",
              "min    1.000000e+01            0.0  \n",
              "25%    5.000000e+02            0.0  \n",
              "50%    2.000000e+03            0.0  \n",
              "75%    5.560000e+03            0.0  \n",
              "max    3.300680e+06            0.0  "
            ],
            "text/html": [
              "\n",
              "  <div id=\"df-b91543ec-d7fe-4841-a07e-78da69d97d3c\" class=\"colab-df-container\">\n",
              "    <div>\n",
              "<style scoped>\n",
              "    .dataframe tbody tr th:only-of-type {\n",
              "        vertical-align: middle;\n",
              "    }\n",
              "\n",
              "    .dataframe tbody tr th {\n",
              "        vertical-align: top;\n",
              "    }\n",
              "\n",
              "    .dataframe thead th {\n",
              "        text-align: right;\n",
              "    }\n",
              "</style>\n",
              "<table border=\"1\" class=\"dataframe\">\n",
              "  <thead>\n",
              "    <tr style=\"text-align: right;\">\n",
              "      <th></th>\n",
              "      <th>Open</th>\n",
              "      <th>High</th>\n",
              "      <th>Low</th>\n",
              "      <th>Close</th>\n",
              "      <th>Volume</th>\n",
              "      <th>Open Interest</th>\n",
              "    </tr>\n",
              "  </thead>\n",
              "  <tbody>\n",
              "    <tr>\n",
              "      <th>count</th>\n",
              "      <td>135354.000000</td>\n",
              "      <td>135354.000000</td>\n",
              "      <td>135354.000000</td>\n",
              "      <td>135354.000000</td>\n",
              "      <td>1.353540e+05</td>\n",
              "      <td>135354.0</td>\n",
              "    </tr>\n",
              "    <tr>\n",
              "      <th>mean</th>\n",
              "      <td>74.878809</td>\n",
              "      <td>74.931668</td>\n",
              "      <td>74.834625</td>\n",
              "      <td>74.880759</td>\n",
              "      <td>5.683578e+03</td>\n",
              "      <td>0.0</td>\n",
              "    </tr>\n",
              "    <tr>\n",
              "      <th>std</th>\n",
              "      <td>15.418074</td>\n",
              "      <td>15.426954</td>\n",
              "      <td>15.412677</td>\n",
              "      <td>15.418857</td>\n",
              "      <td>2.798513e+04</td>\n",
              "      <td>0.0</td>\n",
              "    </tr>\n",
              "    <tr>\n",
              "      <th>min</th>\n",
              "      <td>46.500000</td>\n",
              "      <td>46.500000</td>\n",
              "      <td>46.400000</td>\n",
              "      <td>46.400000</td>\n",
              "      <td>1.000000e+01</td>\n",
              "      <td>0.0</td>\n",
              "    </tr>\n",
              "    <tr>\n",
              "      <th>25%</th>\n",
              "      <td>57.900000</td>\n",
              "      <td>57.900000</td>\n",
              "      <td>57.800000</td>\n",
              "      <td>57.800000</td>\n",
              "      <td>5.000000e+02</td>\n",
              "      <td>0.0</td>\n",
              "    </tr>\n",
              "    <tr>\n",
              "      <th>50%</th>\n",
              "      <td>79.100000</td>\n",
              "      <td>79.200000</td>\n",
              "      <td>79.100000</td>\n",
              "      <td>79.100000</td>\n",
              "      <td>2.000000e+03</td>\n",
              "      <td>0.0</td>\n",
              "    </tr>\n",
              "    <tr>\n",
              "      <th>75%</th>\n",
              "      <td>86.000000</td>\n",
              "      <td>86.100000</td>\n",
              "      <td>86.000000</td>\n",
              "      <td>86.000000</td>\n",
              "      <td>5.560000e+03</td>\n",
              "      <td>0.0</td>\n",
              "    </tr>\n",
              "    <tr>\n",
              "      <th>max</th>\n",
              "      <td>117.800000</td>\n",
              "      <td>118.000000</td>\n",
              "      <td>117.700000</td>\n",
              "      <td>118.000000</td>\n",
              "      <td>3.300680e+06</td>\n",
              "      <td>0.0</td>\n",
              "    </tr>\n",
              "  </tbody>\n",
              "</table>\n",
              "</div>\n",
              "    <div class=\"colab-df-buttons\">\n",
              "\n",
              "  <div class=\"colab-df-container\">\n",
              "    <button class=\"colab-df-convert\" onclick=\"convertToInteractive('df-b91543ec-d7fe-4841-a07e-78da69d97d3c')\"\n",
              "            title=\"Convert this dataframe to an interactive table.\"\n",
              "            style=\"display:none;\">\n",
              "\n",
              "  <svg xmlns=\"http://www.w3.org/2000/svg\" height=\"24px\" viewBox=\"0 -960 960 960\">\n",
              "    <path d=\"M120-120v-720h720v720H120Zm60-500h600v-160H180v160Zm220 220h160v-160H400v160Zm0 220h160v-160H400v160ZM180-400h160v-160H180v160Zm440 0h160v-160H620v160ZM180-180h160v-160H180v160Zm440 0h160v-160H620v160Z\"/>\n",
              "  </svg>\n",
              "    </button>\n",
              "\n",
              "  <style>\n",
              "    .colab-df-container {\n",
              "      display:flex;\n",
              "      gap: 12px;\n",
              "    }\n",
              "\n",
              "    .colab-df-convert {\n",
              "      background-color: #E8F0FE;\n",
              "      border: none;\n",
              "      border-radius: 50%;\n",
              "      cursor: pointer;\n",
              "      display: none;\n",
              "      fill: #1967D2;\n",
              "      height: 32px;\n",
              "      padding: 0 0 0 0;\n",
              "      width: 32px;\n",
              "    }\n",
              "\n",
              "    .colab-df-convert:hover {\n",
              "      background-color: #E2EBFA;\n",
              "      box-shadow: 0px 1px 2px rgba(60, 64, 67, 0.3), 0px 1px 3px 1px rgba(60, 64, 67, 0.15);\n",
              "      fill: #174EA6;\n",
              "    }\n",
              "\n",
              "    .colab-df-buttons div {\n",
              "      margin-bottom: 4px;\n",
              "    }\n",
              "\n",
              "    [theme=dark] .colab-df-convert {\n",
              "      background-color: #3B4455;\n",
              "      fill: #D2E3FC;\n",
              "    }\n",
              "\n",
              "    [theme=dark] .colab-df-convert:hover {\n",
              "      background-color: #434B5C;\n",
              "      box-shadow: 0px 1px 3px 1px rgba(0, 0, 0, 0.15);\n",
              "      filter: drop-shadow(0px 1px 2px rgba(0, 0, 0, 0.3));\n",
              "      fill: #FFFFFF;\n",
              "    }\n",
              "  </style>\n",
              "\n",
              "    <script>\n",
              "      const buttonEl =\n",
              "        document.querySelector('#df-b91543ec-d7fe-4841-a07e-78da69d97d3c button.colab-df-convert');\n",
              "      buttonEl.style.display =\n",
              "        google.colab.kernel.accessAllowed ? 'block' : 'none';\n",
              "\n",
              "      async function convertToInteractive(key) {\n",
              "        const element = document.querySelector('#df-b91543ec-d7fe-4841-a07e-78da69d97d3c');\n",
              "        const dataTable =\n",
              "          await google.colab.kernel.invokeFunction('convertToInteractive',\n",
              "                                                    [key], {});\n",
              "        if (!dataTable) return;\n",
              "\n",
              "        const docLinkHtml = 'Like what you see? Visit the ' +\n",
              "          '<a target=\"_blank\" href=https://colab.research.google.com/notebooks/data_table.ipynb>data table notebook</a>'\n",
              "          + ' to learn more about interactive tables.';\n",
              "        element.innerHTML = '';\n",
              "        dataTable['output_type'] = 'display_data';\n",
              "        await google.colab.output.renderOutput(dataTable, element);\n",
              "        const docLink = document.createElement('div');\n",
              "        docLink.innerHTML = docLinkHtml;\n",
              "        element.appendChild(docLink);\n",
              "      }\n",
              "    </script>\n",
              "  </div>\n",
              "\n",
              "\n",
              "<div id=\"df-f00be836-5442-40fb-bf4a-d0aa0fb1e4b3\">\n",
              "  <button class=\"colab-df-quickchart\" onclick=\"quickchart('df-f00be836-5442-40fb-bf4a-d0aa0fb1e4b3')\"\n",
              "            title=\"Suggest charts\"\n",
              "            style=\"display:none;\">\n",
              "\n",
              "<svg xmlns=\"http://www.w3.org/2000/svg\" height=\"24px\"viewBox=\"0 0 24 24\"\n",
              "     width=\"24px\">\n",
              "    <g>\n",
              "        <path d=\"M19 3H5c-1.1 0-2 .9-2 2v14c0 1.1.9 2 2 2h14c1.1 0 2-.9 2-2V5c0-1.1-.9-2-2-2zM9 17H7v-7h2v7zm4 0h-2V7h2v10zm4 0h-2v-4h2v4z\"/>\n",
              "    </g>\n",
              "</svg>\n",
              "  </button>\n",
              "\n",
              "<style>\n",
              "  .colab-df-quickchart {\n",
              "      --bg-color: #E8F0FE;\n",
              "      --fill-color: #1967D2;\n",
              "      --hover-bg-color: #E2EBFA;\n",
              "      --hover-fill-color: #174EA6;\n",
              "      --disabled-fill-color: #AAA;\n",
              "      --disabled-bg-color: #DDD;\n",
              "  }\n",
              "\n",
              "  [theme=dark] .colab-df-quickchart {\n",
              "      --bg-color: #3B4455;\n",
              "      --fill-color: #D2E3FC;\n",
              "      --hover-bg-color: #434B5C;\n",
              "      --hover-fill-color: #FFFFFF;\n",
              "      --disabled-bg-color: #3B4455;\n",
              "      --disabled-fill-color: #666;\n",
              "  }\n",
              "\n",
              "  .colab-df-quickchart {\n",
              "    background-color: var(--bg-color);\n",
              "    border: none;\n",
              "    border-radius: 50%;\n",
              "    cursor: pointer;\n",
              "    display: none;\n",
              "    fill: var(--fill-color);\n",
              "    height: 32px;\n",
              "    padding: 0;\n",
              "    width: 32px;\n",
              "  }\n",
              "\n",
              "  .colab-df-quickchart:hover {\n",
              "    background-color: var(--hover-bg-color);\n",
              "    box-shadow: 0 1px 2px rgba(60, 64, 67, 0.3), 0 1px 3px 1px rgba(60, 64, 67, 0.15);\n",
              "    fill: var(--button-hover-fill-color);\n",
              "  }\n",
              "\n",
              "  .colab-df-quickchart-complete:disabled,\n",
              "  .colab-df-quickchart-complete:disabled:hover {\n",
              "    background-color: var(--disabled-bg-color);\n",
              "    fill: var(--disabled-fill-color);\n",
              "    box-shadow: none;\n",
              "  }\n",
              "\n",
              "  .colab-df-spinner {\n",
              "    border: 2px solid var(--fill-color);\n",
              "    border-color: transparent;\n",
              "    border-bottom-color: var(--fill-color);\n",
              "    animation:\n",
              "      spin 1s steps(1) infinite;\n",
              "  }\n",
              "\n",
              "  @keyframes spin {\n",
              "    0% {\n",
              "      border-color: transparent;\n",
              "      border-bottom-color: var(--fill-color);\n",
              "      border-left-color: var(--fill-color);\n",
              "    }\n",
              "    20% {\n",
              "      border-color: transparent;\n",
              "      border-left-color: var(--fill-color);\n",
              "      border-top-color: var(--fill-color);\n",
              "    }\n",
              "    30% {\n",
              "      border-color: transparent;\n",
              "      border-left-color: var(--fill-color);\n",
              "      border-top-color: var(--fill-color);\n",
              "      border-right-color: var(--fill-color);\n",
              "    }\n",
              "    40% {\n",
              "      border-color: transparent;\n",
              "      border-right-color: var(--fill-color);\n",
              "      border-top-color: var(--fill-color);\n",
              "    }\n",
              "    60% {\n",
              "      border-color: transparent;\n",
              "      border-right-color: var(--fill-color);\n",
              "    }\n",
              "    80% {\n",
              "      border-color: transparent;\n",
              "      border-right-color: var(--fill-color);\n",
              "      border-bottom-color: var(--fill-color);\n",
              "    }\n",
              "    90% {\n",
              "      border-color: transparent;\n",
              "      border-bottom-color: var(--fill-color);\n",
              "    }\n",
              "  }\n",
              "</style>\n",
              "\n",
              "  <script>\n",
              "    async function quickchart(key) {\n",
              "      const quickchartButtonEl =\n",
              "        document.querySelector('#' + key + ' button');\n",
              "      quickchartButtonEl.disabled = true;  // To prevent multiple clicks.\n",
              "      quickchartButtonEl.classList.add('colab-df-spinner');\n",
              "      try {\n",
              "        const charts = await google.colab.kernel.invokeFunction(\n",
              "            'suggestCharts', [key], {});\n",
              "      } catch (error) {\n",
              "        console.error('Error during call to suggestCharts:', error);\n",
              "      }\n",
              "      quickchartButtonEl.classList.remove('colab-df-spinner');\n",
              "      quickchartButtonEl.classList.add('colab-df-quickchart-complete');\n",
              "    }\n",
              "    (() => {\n",
              "      let quickchartButtonEl =\n",
              "        document.querySelector('#df-f00be836-5442-40fb-bf4a-d0aa0fb1e4b3 button');\n",
              "      quickchartButtonEl.style.display =\n",
              "        google.colab.kernel.accessAllowed ? 'block' : 'none';\n",
              "    })();\n",
              "  </script>\n",
              "</div>\n",
              "\n",
              "    </div>\n",
              "  </div>\n"
            ],
            "application/vnd.google.colaboratory.intrinsic+json": {
              "type": "dataframe",
              "summary": "{\n  \"name\": \"df\",\n  \"rows\": 8,\n  \"fields\": [\n    {\n      \"column\": \"Open\",\n      \"properties\": {\n        \"dtype\": \"number\",\n        \"std\": 47830.752758184644,\n        \"min\": 15.418073515183856,\n        \"max\": 135354.0,\n        \"num_unique_values\": 8,\n        \"samples\": [\n          74.8788091227448,\n          79.1,\n          135354.0\n        ],\n        \"semantic_type\": \"\",\n        \"description\": \"\"\n      }\n    },\n    {\n      \"column\": \"High\",\n      \"properties\": {\n        \"dtype\": \"number\",\n        \"std\": 47830.72947472043,\n        \"min\": 15.426953701075396,\n        \"max\": 135354.0,\n        \"num_unique_values\": 8,\n        \"samples\": [\n          74.93166777487184,\n          79.2,\n          135354.0\n        ],\n        \"semantic_type\": \"\",\n        \"description\": \"\"\n      }\n    },\n    {\n      \"column\": \"Low\",\n      \"properties\": {\n        \"dtype\": \"number\",\n        \"std\": 47830.770409453835,\n        \"min\": 15.412676688878888,\n        \"max\": 135354.0,\n        \"num_unique_values\": 8,\n        \"samples\": [\n          74.83462490949658,\n          79.1,\n          135354.0\n        ],\n        \"semantic_type\": \"\",\n        \"description\": \"\"\n      }\n    },\n    {\n      \"column\": \"Close\",\n      \"properties\": {\n        \"dtype\": \"number\",\n        \"std\": 47830.75265932952,\n        \"min\": 15.418856904720723,\n        \"max\": 135354.0,\n        \"num_unique_values\": 8,\n        \"samples\": [\n          74.88075889888735,\n          79.1,\n          135354.0\n        ],\n        \"semantic_type\": \"\",\n        \"description\": \"\"\n      }\n    },\n    {\n      \"column\": \"Volume\",\n      \"properties\": {\n        \"dtype\": \"number\",\n        \"std\": 1158927.886539332,\n        \"min\": 10.0,\n        \"max\": 3300680.0,\n        \"num_unique_values\": 8,\n        \"samples\": [\n          5683.577729509287,\n          2000.0,\n          135354.0\n        ],\n        \"semantic_type\": \"\",\n        \"description\": \"\"\n      }\n    },\n    {\n      \"column\": \"Open Interest\",\n      \"properties\": {\n        \"dtype\": \"number\",\n        \"std\": 47854.86563036198,\n        \"min\": 0.0,\n        \"max\": 135354.0,\n        \"num_unique_values\": 2,\n        \"samples\": [\n          0.0,\n          135354.0\n        ],\n        \"semantic_type\": \"\",\n        \"description\": \"\"\n      }\n    }\n  ]\n}"
            }
          },
          "metadata": {},
          "execution_count": 9
        }
      ]
    },
    {
      "cell_type": "code",
      "source": [
        "import matplotlib.pyplot as plt"
      ],
      "metadata": {
        "id": "FExA8ZPRHeNS"
      },
      "execution_count": 10,
      "outputs": []
    },
    {
      "cell_type": "code",
      "source": [
        "# Sử dụng Histogram để kiểm tra sự phân bổ giá trị trong mỗi cột\n",
        "for column in df.columns:\n",
        "    plt.figure(figsize=(2, 1))\n",
        "    plt.hist(df[column], bins=20, color='green', edgecolor='black')\n",
        "    plt.title(f'Histogram của cột {column}')\n",
        "    plt.xlabel('Giá trị')\n",
        "    plt.ylabel('Số lượng')\n",
        "    plt.show()"
      ],
      "metadata": {
        "colab": {
          "base_uri": "https://localhost:8080/",
          "height": 1000
        },
        "id": "g5c66hG2HZsi",
        "outputId": "3c45a226-8ff1-476a-d3c7-9ba5ff560875"
      },
      "execution_count": 11,
      "outputs": [
        {
          "output_type": "display_data",
          "data": {
            "text/plain": [
              "<Figure size 200x100 with 1 Axes>"
            ],
            "image/png": "[encoded data removed]"
          },
          "metadata": {}
        },
        {
          "output_type": "display_data",
          "data": {
            "text/plain": [
              "<Figure size 200x100 with 1 Axes>"
            ],
            "image/png": "[encoded data removed]"
          },
          "metadata": {}
        },
        {
          "output_type": "display_data",
          "data": {
            "text/plain": [
              "<Figure size 200x100 with 1 Axes>"
            ],
            "image/png": "[encoded data removed]"
          },
          "metadata": {}
        },
        {
          "output_type": "display_data",
          "data": {
            "text/plain": [
              "<Figure size 200x100 with 1 Axes>"
            ],
            "image/png": "[encoded data removed]"
          },
          "metadata": {}
        },
        {
          "output_type": "display_data",
          "data": {
            "text/plain": [
              "<Figure size 200x100 with 1 Axes>"
            ],
            "image/png": "[encoded data removed]"
          },
          "metadata": {}
        },
        {
          "output_type": "display_data",
          "data": {
            "text/plain": [
              "<Figure size 200x100 with 1 Axes>"
            ],
            "image/png": "[encoded data removed]"
          },
          "metadata": {}
        },
        {
          "output_type": "display_data",
          "data": {
            "text/plain": [
              "<Figure size 200x100 with 1 Axes>"
            ],
            "image/png": "[encoded data removed]"
          },
          "metadata": {}
        },
        {
          "output_type": "display_data",
          "data": {
            "text/plain": [
              "<Figure size 200x100 with 1 Axes>"
            ],
            "image/png": "[encoded data removed]"
          },
          "metadata": {}
        }
      ]
    },
    {
      "cell_type": "code",
      "source": [
        "plt.figure(figsize=(4, 2))\n",
        "plt.hist(df['Volume'], bins=20, color='red', edgecolor='black')\n",
        "plt.title('Histogram của cột Volume')\n",
        "plt.xlabel('Giá trị')\n",
        "plt.ylabel('Số lượng')\n",
        "plt.show()"
      ],
      "metadata": {
        "colab": {
          "base_uri": "https://localhost:8080/",
          "height": 257
        },
        "id": "WFMLSBE6IrOX",
        "outputId": "50e67567-9769-41eb-b3a2-17e90f3787d2"
      },
      "execution_count": 12,
      "outputs": [
        {
          "output_type": "display_data",
          "data": {
            "text/plain": [
              "<Figure size 400x200 with 1 Axes>"
            ],
            "image/png": "[encoded data removed]"
          },
          "metadata": {}
        }
      ]
    },
    {
      "cell_type": "markdown",
      "source": [
        "### Nhận xét dữ liệu\n",
        "+ Cột Volume có sự chênh lệch lớn giữa các giá trị, có thể làm dự báo sai lệch.\n",
        "+ Ở đây bài toán đặt ra là dự báo giá trị cổ phiếu thì em sẽ sử dụng cột Close làm thuộc tính quyết định để dự báo. Do các cột Open, High, Low có sự tương đồng nên loại bỏ để giảm thời gian thực thi.\n",
        "+ Để tăng Accuracy của thuật toán thì sẽ sử dụng Scale giá trị cột Close bằng công thức: (Giá trị - min)/(max - min)"
      ],
      "metadata": {
        "id": "U5e6xyfFJ6cM"
      }
    },
    {
      "cell_type": "code",
      "source": [
        "df1 = df.reset_index()['Close']\n",
        "df1 = df1.reset_index(drop=True)"
      ],
      "metadata": {
        "id": "-XIVAjmxtsi1"
      },
      "execution_count": 13,
      "outputs": []
    },
    {
      "cell_type": "code",
      "source": [
        "from sklearn.preprocessing import MinMaxScaler"
      ],
      "metadata": {
        "id": "WZOUP7WbuHuO"
      },
      "execution_count": 15,
      "outputs": []
    },
    {
      "cell_type": "code",
      "source": [
        "# Scale cột Close và lưu vào mảng\n",
        "scaler = MinMaxScaler(feature_range=(0,1))\n",
        "df1 = scaler.fit_transform(np.array(df1).reshape(-1,1))"
      ],
      "metadata": {
        "id": "phgwpOqKt62f"
      },
      "execution_count": 16,
      "outputs": []
    },
    {
      "cell_type": "code",
      "source": [
        "df1"
      ],
      "metadata": {
        "colab": {
          "base_uri": "https://localhost:8080/"
        },
        "id": "6O5T8eWbuKA-",
        "outputId": "c0139eee-6ca3-45c0-b239-9af88992a091"
      },
      "execution_count": 17,
      "outputs": [
        {
          "output_type": "execute_result",
          "data": {
            "text/plain": [
              "array([[0.37290503],\n",
              "       [0.37150838],\n",
              "       [0.37849162],\n",
              "       ...,\n",
              "       [0.50837989],\n",
              "       [0.50837989],\n",
              "       [0.50837989]])"
            ]
          },
          "metadata": {},
          "execution_count": 17
        }
      ]
    },
    {
      "cell_type": "markdown",
      "source": [
        "##Phân tích dữ liệu"
      ],
      "metadata": {
        "id": "L_JX9qwKQHut"
      }
    },
    {
      "cell_type": "markdown",
      "source": [
        "### Phương pháp sử dụng\n",
        "- Đề bài là phân tích biến động giá cổ phiếu, ở đây em lựa chọn giá cổ phiếu giờ đóng cửa (Close) để phân tích.\n",
        "- Đối với tập dữ liệu này có 3 phương pháp phổ biến để phân tích:\n",
        "  + 1.Phương pháp phân tích chuỗi thời gian (Time Series Analysis): ARIMA, SARIMA ...\n",
        "  + 2.Phương pháp Machine Learning : Linear Regression, KNN ...\n",
        "  + 3.Phương pháp Deep Learning\n",
        "- Với bài toán dự báo xu hướng giá trị em sẽ sử dụng 2 mô hình Recurrent Neural Network (RNN) và mô hình Gated Recurrent Unit (GRU) nằm trong phương pháp Deep Learning. Trong phương pháp này mô hình Long short term memory (LSTM) có Accuracy tốt hơn, nhưng với tập dữ liệu có 135354 dòng thì LSTM có thời gian thực thi lâu hơn rất nhiều do sử dụng nhiều tham số."
      ],
      "metadata": {
        "id": "Z7F0S0uEQOz1"
      }
    },
    {
      "cell_type": "code",
      "source": [
        "# Chia dữ liệu thành 3 phần Train, Test, Validate theo tỉ lệ 7:2:1\n",
        "train_size = int(0.7 * len(df1))\n",
        "test_size = int(0.2 * len(df1))\n",
        "val_size = len(df1) - train_size - test_size\n",
        "\n",
        "train_data = df1[:train_size]\n",
        "test_data = df1[train_size:train_size+test_size]\n",
        "val_data = df1[train_size+test_size:]"
      ],
      "metadata": {
        "id": "DqAnbI9SbO0R"
      },
      "execution_count": 18,
      "outputs": []
    },
    {
      "cell_type": "code",
      "source": [
        "train_data"
      ],
      "metadata": {
        "colab": {
          "base_uri": "https://localhost:8080/"
        },
        "id": "QyQjpLEBundd",
        "outputId": "b86a3e1a-3dec-4dd1-93ba-14bfc1f4e579"
      },
      "execution_count": 19,
      "outputs": [
        {
          "output_type": "execute_result",
          "data": {
            "text/plain": [
              "array([[0.37290503],\n",
              "       [0.37150838],\n",
              "       [0.37849162],\n",
              "       ...,\n",
              "       [0.03282123],\n",
              "       [0.03282123],\n",
              "       [0.03282123]])"
            ]
          },
          "metadata": {},
          "execution_count": 19
        }
      ]
    },
    {
      "cell_type": "code",
      "source": [
        "test_data"
      ],
      "metadata": {
        "colab": {
          "base_uri": "https://localhost:8080/"
        },
        "id": "HPx9LWnAupez",
        "outputId": "af5feba9-37c5-4209-ac0b-e9a7ee9624b6"
      },
      "execution_count": 20,
      "outputs": [
        {
          "output_type": "execute_result",
          "data": {
            "text/plain": [
              "array([[0.03282123],\n",
              "       [0.03282123],\n",
              "       [0.03282123],\n",
              "       ...,\n",
              "       [0.10963687],\n",
              "       [0.10963687],\n",
              "       [0.11103352]])"
            ]
          },
          "metadata": {},
          "execution_count": 20
        }
      ]
    },
    {
      "cell_type": "code",
      "source": [
        "val_data"
      ],
      "metadata": {
        "colab": {
          "base_uri": "https://localhost:8080/"
        },
        "id": "u-lJgySquq8T",
        "outputId": "9a97f9b4-a545-4b1a-915c-609974d7f733"
      },
      "execution_count": 21,
      "outputs": [
        {
          "output_type": "execute_result",
          "data": {
            "text/plain": [
              "array([[0.11103352],\n",
              "       [0.11103352],\n",
              "       [0.11243017],\n",
              "       ...,\n",
              "       [0.50837989],\n",
              "       [0.50837989],\n",
              "       [0.50837989]])"
            ]
          },
          "metadata": {},
          "execution_count": 21
        }
      ]
    },
    {
      "cell_type": "markdown",
      "source": [
        "### Mô hình RNN"
      ],
      "metadata": {
        "id": "jJ4LuSjsSORw"
      }
    },
    {
      "cell_type": "code",
      "source": [
        "# Gọi các thư viện cần thiết để xây dựng RNN\n",
        "from keras.models import Sequential\n",
        "from keras.layers import Dense, SimpleRNN"
      ],
      "metadata": {
        "id": "EZ8j3Lx5TtYt"
      },
      "execution_count": 22,
      "outputs": []
    },
    {
      "cell_type": "code",
      "source": [
        "train_data_RNN = train_data\n",
        "test_data_RNN = test_data\n",
        "val_data_RNN = val_data"
      ],
      "metadata": {
        "id": "CiXhDptwT4bk"
      },
      "execution_count": 23,
      "outputs": []
    },
    {
      "cell_type": "code",
      "source": [
        "# Hàm Create Dataset để chuyển đổi mảng thành ma trận\n",
        "def create_dataset(dataset, time_step=1):\n",
        "\tdataX, dataY = [], []\n",
        "\tfor i in range(len(dataset)-time_step-1):\n",
        "\t\ta = dataset[i:(i+time_step), 0]\n",
        "\t\tdataX.append(a)\n",
        "\t\tdataY.append(dataset[i + time_step, 0])\n",
        "\treturn np.array(dataX), np.array(dataY)"
      ],
      "metadata": {
        "id": "2YhxqoOHsI3z"
      },
      "execution_count": 24,
      "outputs": []
    },
    {
      "cell_type": "code",
      "source": [
        "# Sử dụng hàm Create Dataset để chuyển đổi các mảng Train, Test, Validate\n",
        "time_step = 100\n",
        "x_train_RNN, y_train_RNN = create_dataset(train_data_RNN, time_step)\n",
        "x_val_RNN, y_val_RNN = create_dataset(val_data_RNN, time_step)\n",
        "x_test_RNN, y_test_RNN = create_dataset(test_data_RNN, time_step)"
      ],
      "metadata": {
        "id": "A9X6ZdzDTzIl"
      },
      "execution_count": 25,
      "outputs": []
    },
    {
      "cell_type": "code",
      "source": [
        "# Reshape đầu vào để phù hợp với mô hình RNN\n",
        "x_train_RNN = x_train_RNN.reshape(x_train_RNN.shape[0], x_train_RNN.shape[1], 1)\n",
        "x_test_RNN = x_test_RNN.reshape(x_test_RNN.shape[0], x_test_RNN.shape[1], 1)\n",
        "x_val_RNN = x_val_RNN.reshape(x_val_RNN.shape[0], x_val_RNN.shape[1], 1)"
      ],
      "metadata": {
        "id": "H9-RARp4Vgum"
      },
      "execution_count": 26,
      "outputs": []
    },
    {
      "cell_type": "code",
      "source": [
        "# Khai báo mô hình RNN\n",
        "model = Sequential()\n",
        "model.add(SimpleRNN(50, input_shape=(time_step, 1)))\n",
        "model.add(Dense(1))\n",
        "model.compile(loss='mean_squared_error',optimizer='adam')"
      ],
      "metadata": {
        "id": "6kDwiFuVVmAz"
      },
      "execution_count": 27,
      "outputs": []
    },
    {
      "cell_type": "code",
      "source": [
        "# Fit mô hình với dữ liệu Train\n",
        "model.fit(x_train_RNN, y_train_RNN , validation_data = (x_test_RNN, y_test_RNN),epochs=100,batch_size=64,verbose=1)"
      ],
      "metadata": {
        "colab": {
          "base_uri": "https://localhost:8080/"
        },
        "id": "-xJdKYvaVpZ-",
        "outputId": "16e2b34d-0dd7-40e3-9d2b-d9871bfc7b42"
      },
      "execution_count": 28,
      "outputs": [
        {
          "output_type": "stream",
          "name": "stdout",
          "text": [
            "Epoch 1/100\n",
            "1479/1479 [==============================] - 32s 21ms/step - loss: 1.2571e-04 - val_loss: 7.1997e-06\n",
            "Epoch 2/100\n",
            "1479/1479 [==============================] - 31s 21ms/step - loss: 1.6150e-05 - val_loss: 5.0725e-06\n",
            "Epoch 3/100\n",
            "1479/1479 [==============================] - 31s 21ms/step - loss: 1.3661e-05 - val_loss: 5.0482e-06\n",
            "Epoch 4/100\n",
            "1479/1479 [==============================] - 29s 20ms/step - loss: 1.2018e-05 - val_loss: 4.7094e-06\n",
            "Epoch 5/100\n",
            "1479/1479 [==============================] - 29s 20ms/step - loss: 1.1552e-05 - val_loss: 3.9731e-06\n",
            "Epoch 6/100\n",
            "1479/1479 [==============================] - 32s 22ms/step - loss: 1.0598e-05 - val_loss: 2.7804e-06\n",
            "Epoch 7/100\n",
            "1479/1479 [==============================] - 30s 20ms/step - loss: 1.0381e-05 - val_loss: 3.7070e-06\n",
            "Epoch 8/100\n",
            "1479/1479 [==============================] - 31s 21ms/step - loss: 9.8117e-06 - val_loss: 3.0454e-06\n",
            "Epoch 9/100\n",
            "1479/1479 [==============================] - 30s 20ms/step - loss: 9.7244e-06 - val_loss: 2.7986e-06\n",
            "Epoch 10/100\n",
            "1479/1479 [==============================] - 31s 21ms/step - loss: 9.8638e-06 - val_loss: 5.4803e-06\n",
            "Epoch 11/100\n",
            "1479/1479 [==============================] - 31s 21ms/step - loss: 9.4919e-06 - val_loss: 2.7278e-06\n",
            "Epoch 12/100\n",
            "1479/1479 [==============================] - 30s 20ms/step - loss: 9.5160e-06 - val_loss: 2.8563e-06\n",
            "Epoch 13/100\n",
            "1479/1479 [==============================] - 32s 22ms/step - loss: 9.3922e-06 - val_loss: 2.8228e-06\n",
            "Epoch 14/100\n",
            "1479/1479 [==============================] - 30s 20ms/step - loss: 9.4743e-06 - val_loss: 2.8984e-06\n",
            "Epoch 15/100\n",
            "1479/1479 [==============================] - 32s 22ms/step - loss: 9.4091e-06 - val_loss: 2.8516e-06\n",
            "Epoch 16/100\n",
            "1479/1479 [==============================] - 31s 21ms/step - loss: 9.4835e-06 - val_loss: 2.7619e-06\n",
            "Epoch 17/100\n",
            "1479/1479 [==============================] - 31s 21ms/step - loss: 9.4953e-06 - val_loss: 2.8389e-06\n",
            "Epoch 18/100\n",
            "1479/1479 [==============================] - 30s 21ms/step - loss: 9.2928e-06 - val_loss: 3.9841e-06\n",
            "Epoch 19/100\n",
            "1479/1479 [==============================] - 32s 22ms/step - loss: 9.2113e-06 - val_loss: 2.7923e-06\n",
            "Epoch 20/100\n",
            "1479/1479 [==============================] - 31s 21ms/step - loss: 9.3690e-06 - val_loss: 2.8380e-06\n",
            "Epoch 21/100\n",
            "1479/1479 [==============================] - 32s 22ms/step - loss: 9.0413e-06 - val_loss: 3.8738e-06\n",
            "Epoch 22/100\n",
            "1479/1479 [==============================] - 31s 21ms/step - loss: 9.2990e-06 - val_loss: 2.7600e-06\n",
            "Epoch 23/100\n",
            "1479/1479 [==============================] - 31s 21ms/step - loss: 9.5754e-06 - val_loss: 2.8475e-06\n",
            "Epoch 24/100\n",
            "1479/1479 [==============================] - 30s 20ms/step - loss: 9.0952e-06 - val_loss: 5.0442e-06\n",
            "Epoch 25/100\n",
            "1479/1479 [==============================] - 31s 21ms/step - loss: 9.3535e-06 - val_loss: 2.7456e-06\n",
            "Epoch 26/100\n",
            "1479/1479 [==============================] - 32s 21ms/step - loss: 8.9465e-06 - val_loss: 3.8941e-06\n",
            "Epoch 27/100\n",
            "1479/1479 [==============================] - 30s 20ms/step - loss: 9.0555e-06 - val_loss: 3.5498e-06\n",
            "Epoch 28/100\n",
            "1479/1479 [==============================] - 32s 21ms/step - loss: 9.2026e-06 - val_loss: 4.1883e-06\n",
            "Epoch 29/100\n",
            "1479/1479 [==============================] - 30s 20ms/step - loss: 9.1257e-06 - val_loss: 3.8855e-06\n",
            "Epoch 30/100\n",
            "1479/1479 [==============================] - 31s 21ms/step - loss: 9.0327e-06 - val_loss: 2.8089e-06\n",
            "Epoch 31/100\n",
            "1479/1479 [==============================] - 30s 20ms/step - loss: 9.2023e-06 - val_loss: 3.4283e-06\n",
            "Epoch 32/100\n",
            "1479/1479 [==============================] - 31s 21ms/step - loss: 9.1427e-06 - val_loss: 3.2668e-06\n",
            "Epoch 33/100\n",
            "1479/1479 [==============================] - 30s 20ms/step - loss: 9.1938e-06 - val_loss: 2.7908e-06\n",
            "Epoch 34/100\n",
            "1479/1479 [==============================] - 32s 22ms/step - loss: 8.9888e-06 - val_loss: 3.5690e-06\n",
            "Epoch 35/100\n",
            "1479/1479 [==============================] - 30s 21ms/step - loss: 9.0591e-06 - val_loss: 2.7977e-06\n",
            "Epoch 36/100\n",
            "1479/1479 [==============================] - 33s 22ms/step - loss: 9.2787e-06 - val_loss: 2.9465e-06\n",
            "Epoch 37/100\n",
            "1479/1479 [==============================] - 30s 21ms/step - loss: 8.7389e-06 - val_loss: 3.0052e-06\n",
            "Epoch 38/100\n",
            "1479/1479 [==============================] - 31s 21ms/step - loss: 9.1405e-06 - val_loss: 2.7508e-06\n",
            "Epoch 39/100\n",
            "1479/1479 [==============================] - 31s 21ms/step - loss: 8.9672e-06 - val_loss: 3.0371e-06\n",
            "Epoch 40/100\n",
            "1479/1479 [==============================] - 30s 20ms/step - loss: 9.0797e-06 - val_loss: 3.4361e-06\n",
            "Epoch 41/100\n",
            "1479/1479 [==============================] - 31s 21ms/step - loss: 9.0189e-06 - val_loss: 3.1443e-06\n",
            "Epoch 42/100\n",
            "1479/1479 [==============================] - 30s 20ms/step - loss: 8.8156e-06 - val_loss: 3.9451e-06\n",
            "Epoch 43/100\n",
            "1479/1479 [==============================] - 32s 22ms/step - loss: 8.9925e-06 - val_loss: 4.2203e-06\n",
            "Epoch 44/100\n",
            "1479/1479 [==============================] - 31s 21ms/step - loss: 9.0075e-06 - val_loss: 3.1964e-06\n",
            "Epoch 45/100\n",
            "1479/1479 [==============================] - 32s 22ms/step - loss: 8.9679e-06 - val_loss: 3.3037e-06\n",
            "Epoch 46/100\n",
            "1479/1479 [==============================] - 30s 20ms/step - loss: 8.9062e-06 - val_loss: 2.7545e-06\n",
            "Epoch 47/100\n",
            "1479/1479 [==============================] - 33s 22ms/step - loss: 8.9897e-06 - val_loss: 2.8234e-06\n",
            "Epoch 48/100\n",
            "1479/1479 [==============================] - 30s 20ms/step - loss: 8.7772e-06 - val_loss: 3.4906e-06\n",
            "Epoch 49/100\n",
            "1479/1479 [==============================] - 33s 22ms/step - loss: 8.9595e-06 - val_loss: 2.9030e-06\n",
            "Epoch 50/100\n",
            "1479/1479 [==============================] - 31s 21ms/step - loss: 8.8559e-06 - val_loss: 2.8886e-06\n",
            "Epoch 51/100\n",
            "1479/1479 [==============================] - 32s 21ms/step - loss: 8.8530e-06 - val_loss: 3.2251e-06\n",
            "Epoch 52/100\n",
            "1479/1479 [==============================] - 30s 20ms/step - loss: 8.8999e-06 - val_loss: 2.7440e-06\n",
            "Epoch 53/100\n",
            "1479/1479 [==============================] - 31s 21ms/step - loss: 8.9148e-06 - val_loss: 2.9798e-06\n",
            "Epoch 54/100\n",
            "1479/1479 [==============================] - 31s 21ms/step - loss: 8.9360e-06 - val_loss: 2.8095e-06\n",
            "Epoch 55/100\n",
            "1479/1479 [==============================] - 31s 21ms/step - loss: 8.8171e-06 - val_loss: 2.8409e-06\n",
            "Epoch 56/100\n",
            "1479/1479 [==============================] - 32s 21ms/step - loss: 8.7526e-06 - val_loss: 3.8803e-06\n",
            "Epoch 57/100\n",
            "1479/1479 [==============================] - 30s 21ms/step - loss: 8.9739e-06 - val_loss: 2.8451e-06\n",
            "Epoch 58/100\n",
            "1479/1479 [==============================] - 32s 22ms/step - loss: 8.7773e-06 - val_loss: 3.0982e-06\n",
            "Epoch 59/100\n",
            "1479/1479 [==============================] - 31s 21ms/step - loss: 8.8965e-06 - val_loss: 3.2461e-06\n",
            "Epoch 60/100\n",
            "1479/1479 [==============================] - 32s 22ms/step - loss: 8.7978e-06 - val_loss: 2.8528e-06\n",
            "Epoch 61/100\n",
            "1479/1479 [==============================] - 31s 21ms/step - loss: 8.8028e-06 - val_loss: 2.7689e-06\n",
            "Epoch 62/100\n",
            "1479/1479 [==============================] - 31s 21ms/step - loss: 8.7227e-06 - val_loss: 3.3444e-06\n",
            "Epoch 63/100\n",
            "1479/1479 [==============================] - 31s 21ms/step - loss: 8.8687e-06 - val_loss: 3.4202e-06\n",
            "Epoch 64/100\n",
            "1479/1479 [==============================] - 31s 21ms/step - loss: 8.8178e-06 - val_loss: 2.7794e-06\n",
            "Epoch 65/100\n",
            "1479/1479 [==============================] - 30s 20ms/step - loss: 8.7614e-06 - val_loss: 2.8970e-06\n",
            "Epoch 66/100\n",
            "1479/1479 [==============================] - 33s 22ms/step - loss: 8.9410e-06 - val_loss: 2.7570e-06\n",
            "Epoch 67/100\n",
            "1479/1479 [==============================] - 31s 21ms/step - loss: 8.8009e-06 - val_loss: 3.3602e-06\n",
            "Epoch 68/100\n",
            "1479/1479 [==============================] - 31s 21ms/step - loss: 8.7237e-06 - val_loss: 2.7512e-06\n",
            "Epoch 69/100\n",
            "1479/1479 [==============================] - 30s 21ms/step - loss: 8.7671e-06 - val_loss: 2.7713e-06\n",
            "Epoch 70/100\n",
            "1479/1479 [==============================] - 34s 23ms/step - loss: 8.8012e-06 - val_loss: 3.0361e-06\n",
            "Epoch 71/100\n",
            "1479/1479 [==============================] - 30s 20ms/step - loss: 8.8189e-06 - val_loss: 2.9727e-06\n",
            "Epoch 72/100\n",
            "1479/1479 [==============================] - 32s 21ms/step - loss: 8.6961e-06 - val_loss: 3.2951e-06\n",
            "Epoch 73/100\n",
            "1479/1479 [==============================] - 30s 21ms/step - loss: 8.8384e-06 - val_loss: 7.1354e-06\n",
            "Epoch 74/100\n",
            "1479/1479 [==============================] - 31s 21ms/step - loss: 8.7359e-06 - val_loss: 2.8761e-06\n",
            "Epoch 75/100\n",
            "1479/1479 [==============================] - 31s 21ms/step - loss: 8.7452e-06 - val_loss: 2.8322e-06\n",
            "Epoch 76/100\n",
            "1479/1479 [==============================] - 31s 21ms/step - loss: 8.6931e-06 - val_loss: 3.5442e-06\n",
            "Epoch 77/100\n",
            "1479/1479 [==============================] - 32s 22ms/step - loss: 8.8974e-06 - val_loss: 2.8036e-06\n",
            "Epoch 78/100\n",
            "1479/1479 [==============================] - 30s 20ms/step - loss: 8.7273e-06 - val_loss: 2.8712e-06\n",
            "Epoch 79/100\n",
            "1479/1479 [==============================] - 31s 21ms/step - loss: 8.7854e-06 - val_loss: 3.1576e-06\n",
            "Epoch 80/100\n",
            "1479/1479 [==============================] - 30s 21ms/step - loss: 8.8961e-06 - val_loss: 3.0831e-06\n",
            "Epoch 81/100\n",
            "1479/1479 [==============================] - 31s 21ms/step - loss: 8.6395e-06 - val_loss: 3.0735e-06\n",
            "Epoch 82/100\n",
            "1479/1479 [==============================] - 31s 21ms/step - loss: 8.6530e-06 - val_loss: 3.5663e-06\n",
            "Epoch 83/100\n",
            "1479/1479 [==============================] - 30s 21ms/step - loss: 8.7399e-06 - val_loss: 2.7733e-06\n",
            "Epoch 84/100\n",
            "1479/1479 [==============================] - 31s 21ms/step - loss: 8.7312e-06 - val_loss: 4.2077e-06\n",
            "Epoch 85/100\n",
            "1479/1479 [==============================] - 31s 21ms/step - loss: 8.6564e-06 - val_loss: 3.1357e-06\n",
            "Epoch 86/100\n",
            "1479/1479 [==============================] - 31s 21ms/step - loss: 8.7394e-06 - val_loss: 2.7101e-06\n",
            "Epoch 87/100\n",
            "1479/1479 [==============================] - 30s 20ms/step - loss: 8.7448e-06 - val_loss: 2.8213e-06\n",
            "Epoch 88/100\n",
            "1479/1479 [==============================] - 31s 21ms/step - loss: 8.7865e-06 - val_loss: 2.8963e-06\n",
            "Epoch 89/100\n",
            "1479/1479 [==============================] - 30s 20ms/step - loss: 8.6772e-06 - val_loss: 2.7425e-06\n",
            "Epoch 90/100\n",
            "1479/1479 [==============================] - 30s 20ms/step - loss: 8.7147e-06 - val_loss: 2.7298e-06\n",
            "Epoch 91/100\n",
            "1479/1479 [==============================] - 31s 21ms/step - loss: 8.6885e-06 - val_loss: 2.7914e-06\n",
            "Epoch 92/100\n",
            "1479/1479 [==============================] - 30s 20ms/step - loss: 8.5457e-06 - val_loss: 3.0909e-06\n",
            "Epoch 93/100\n",
            "1479/1479 [==============================] - 31s 21ms/step - loss: 8.7970e-06 - val_loss: 2.8522e-06\n",
            "Epoch 94/100\n",
            "1479/1479 [==============================] - 30s 20ms/step - loss: 8.6803e-06 - val_loss: 2.8311e-06\n",
            "Epoch 95/100\n",
            "1479/1479 [==============================] - 31s 21ms/step - loss: 8.6436e-06 - val_loss: 3.7289e-06\n",
            "Epoch 96/100\n",
            "1479/1479 [==============================] - 31s 21ms/step - loss: 8.7133e-06 - val_loss: 3.2378e-06\n",
            "Epoch 97/100\n",
            "1479/1479 [==============================] - 30s 20ms/step - loss: 9.5494e-06 - val_loss: 3.9372e-06\n",
            "Epoch 98/100\n",
            "1479/1479 [==============================] - 32s 22ms/step - loss: 8.6162e-06 - val_loss: 2.7516e-06\n",
            "Epoch 99/100\n",
            "1479/1479 [==============================] - 31s 21ms/step - loss: 8.6665e-06 - val_loss: 2.7891e-06\n",
            "Epoch 100/100\n",
            "1479/1479 [==============================] - 31s 21ms/step - loss: 8.5732e-06 - val_loss: 2.9691e-06\n"
          ]
        },
        {
          "output_type": "execute_result",
          "data": {
            "text/plain": [
              "<keras.src.callbacks.History at 0x7d9f2d209210>"
            ]
          },
          "metadata": {},
          "execution_count": 28
        }
      ]
    },
    {
      "cell_type": "code",
      "source": [
        "# Dự báo dữ liệu train_predict_RNN, y_pred_RNN, y_pred_val_RNN\n",
        "train_predict_RNN = model.predict(x_train_RNN)\n",
        "y_pred_RNN = model.predict(x_test_RNN)\n",
        "y_pred_val_RNN = model.predict(x_val_RNN)"
      ],
      "metadata": {
        "colab": {
          "base_uri": "https://localhost:8080/"
        },
        "id": "Oj-056AFVvRt",
        "outputId": "f10dd760-ca53-4915-fce2-6770e4c7c5a6"
      },
      "execution_count": 29,
      "outputs": [
        {
          "output_type": "stream",
          "name": "stdout",
          "text": [
            "2958/2958 [==============================] - 19s 6ms/step\n",
            "843/843 [==============================] - 5s 6ms/step\n",
            "420/420 [==============================] - 3s 6ms/step\n"
          ]
        }
      ]
    },
    {
      "cell_type": "code",
      "source": [
        "# Đảo ngược giá trị dự đoán trên tập Test và Validate về giá trị chuẩn\n",
        "train_predict_RNN = scaler.inverse_transform(train_predict_RNN)\n",
        "y_pred_RNN = scaler.inverse_transform(y_pred_RNN)\n",
        "y_pred_val_RNN = scaler.inverse_transform(y_pred_val_RNN)"
      ],
      "metadata": {
        "id": "p-AdO8iKVz01"
      },
      "execution_count": 30,
      "outputs": []
    },
    {
      "cell_type": "code",
      "source": [
        "# Đảo ngược giá trị thực tế của tập Test và Validate về giá trị chuẩn\n",
        "real_val_RNN = scaler.inverse_transform(y_val_RNN.reshape(-1, 1))\n",
        "real_test_RNN = scaler.inverse_transform(y_test_RNN.reshape(-1, 1))"
      ],
      "metadata": {
        "id": "aA29_yAWxFti"
      },
      "execution_count": 31,
      "outputs": []
    },
    {
      "cell_type": "code",
      "source": [
        "# Đánh giá độ chính xác thuật toán bằng RMSE\n",
        "test_rmse_RNN = np.sqrt(np.mean((y_pred_RNN - real_test_RNN)**2))\n",
        "val_rmse_RNN = np.sqrt(np.mean((y_pred_val_RNN - real_val_RNN)**2))\n",
        "print('Testing RMSE:', test_rmse_RNN)\n",
        "print('Validation RMSE:', val_rmse_RNN)"
      ],
      "metadata": {
        "colab": {
          "base_uri": "https://localhost:8080/"
        },
        "id": "cApTnAXsxIfB",
        "outputId": "17dddc76-d9db-48cc-92c5-17a813abc5a5"
      },
      "execution_count": 32,
      "outputs": [
        {
          "output_type": "stream",
          "name": "stdout",
          "text": [
            "Testing RMSE: 0.12337524535772978\n",
            "Validation RMSE: 0.36134073900009084\n"
          ]
        }
      ]
    },
    {
      "cell_type": "code",
      "source": [
        "# Đánh giá độ chính xác thuật toán bằng MAPE\n",
        "test_mape_RNN = np.mean((np.absolute(real_test_RNN - y_pred_RNN)/real_test_RNN)*100)\n",
        "val_mape_RNN = np.mean((np.absolute(real_val_RNN - y_pred_val_RNN)/real_val_RNN)*100)\n",
        "print('Testing MAPE:', test_mape_RNN)\n",
        "print('Validation MAPE:', val_mape_RNN)"
      ],
      "metadata": {
        "colab": {
          "base_uri": "https://localhost:8080/"
        },
        "id": "g5jLK5564B1j",
        "outputId": "8e55c978-4390-455c-e25f-cde1645cd815"
      },
      "execution_count": 33,
      "outputs": [
        {
          "output_type": "stream",
          "name": "stdout",
          "text": [
            "Testing MAPE: 0.1367045936659107\n",
            "Validation MAPE: 0.26029047897800756\n"
          ]
        }
      ]
    },
    {
      "cell_type": "code",
      "source": [
        "# Tính phần trăm độ chính xác trên tập Test và Validate\n",
        "data_range_RNN = df['Close'].max() - df['Close'].min()\n",
        "test_accuracy_RNN = (1 - test_rmse_RNN / data_range_RNN) * 100\n",
        "val_accuracy_RNN = (1 - val_rmse_RNN / data_range_RNN) * 100\n",
        "print('Testing Accuracy (%):', test_accuracy_RNN)\n",
        "print('Validation Accuracy (%):', val_accuracy_RNN)"
      ],
      "metadata": {
        "colab": {
          "base_uri": "https://localhost:8080/"
        },
        "id": "XVQEiM3Cyptp",
        "outputId": "0b7c390a-c3e0-499d-88be-60d80914fdd7"
      },
      "execution_count": 34,
      "outputs": [
        {
          "output_type": "stream",
          "name": "stdout",
          "text": [
            "Testing Accuracy (%): 99.82768820480764\n",
            "Validation Accuracy (%): 99.49533416340769\n"
          ]
        }
      ]
    },
    {
      "cell_type": "code",
      "source": [
        "# Dự báo 15 stage tiếp theo\n",
        "x_input_RNN = val_data_RNN[60:].reshape(1, -1)\n",
        "x_input_RNN.shape\n",
        "\n",
        "temp_input_RNN = list(x_input_RNN)\n",
        "temp_input_RNN = temp_input_RNN[0].tolist()\n",
        "\n",
        "lst_output_RNN = []\n",
        "n_steps_RNN = 13476\n",
        "i = 0\n",
        "while i < 15:\n",
        "    if len(temp_input_RNN) > 13476:\n",
        "          x_input_RNN = np.array(temp_input_RNN[1:])\n",
        "         #print(\"{} day input {}\".format(i, x_input))\n",
        "          x_input_RNN = x_input_RNN.reshape(1, -1)\n",
        "          x_input_RNN = x_input_RNN.reshape((1, n_steps_RNN, 1))\n",
        "          yhat = model.predict(x_input_RNN, verbose=0)\n",
        "        #print(\"{} day output {}\".format(i, yhat))\n",
        "          temp_input_RNN.extend(yhat[0].tolist())\n",
        "          temp_input_RNN = temp_input_RNN[1:]\n",
        "          lst_output_RNN.extend(yhat.tolist())\n",
        "          i = i + 1\n",
        "    else:\n",
        "        x_input_RNN = x_input_RNN.reshape((1, n_steps_RNN, 1))\n",
        "        yhat = model.predict(x_input_RNN, verbose=0)\n",
        "        print(yhat[0])\n",
        "        temp_input_RNN.extend(yhat[0].tolist())\n",
        "        print(len(temp_input_RNN))\n",
        "        lst_output_RNN.extend(yhat.tolist())\n",
        "        i = i + 1\n",
        "\n",
        "# Chuẩn hóa lại dự đoán 15 stage\n",
        "predicted_values_RNN = np.array(lst_output_RNN)\n",
        "predicted_values_RNN = predicted_values_RNN.reshape(-1, 1)\n",
        "\n",
        "# Chuẩn hóa dự đoán\n",
        "predicted_values_RNN = scaler.inverse_transform(predicted_values_RNN)\n",
        "\n",
        "print(\"Dự đoán 15 stage tiếp theo:\")\n",
        "print(predicted_values_RNN)"
      ],
      "metadata": {
        "colab": {
          "base_uri": "https://localhost:8080/"
        },
        "id": "cl68TJ4syrSe",
        "outputId": "95c4772f-e15d-4388-f286-936c8e480ad4"
      },
      "execution_count": 36,
      "outputs": [
        {
          "output_type": "stream",
          "name": "stdout",
          "text": [
            "Dự đoán 15 stage tiếp theo:\n",
            "[[82.72539563]\n",
            " [82.66206307]\n",
            " [82.6071208 ]\n",
            " [82.5414026 ]\n",
            " [82.47678974]\n",
            " [82.4100601 ]\n",
            " [82.34130757]\n",
            " [82.26798434]\n",
            " [82.19365394]\n",
            " [82.11537166]\n",
            " [82.03600965]\n",
            " [81.95350235]\n",
            " [81.86747847]\n",
            " [81.77849708]\n",
            " [81.68640027]]\n"
          ]
        }
      ]
    },
    {
      "cell_type": "code",
      "source": [
        "# Vẽ hình\n",
        "plt.figure(figsize=(8, 6))\n",
        "train_data_index_RNN = pd.RangeIndex(start=0, stop=train_size, step=1)\n",
        "plt.plot(scaler.inverse_transform(train_data_RNN))\n",
        "test_data_index_RNN = pd.RangeIndex(start=train_size, stop=train_size+test_size, step=1)\n",
        "plt.plot(test_data_index_RNN, scaler.inverse_transform(test_data_RNN))\n",
        "test_data_index_RNN = pd.RangeIndex(start=train_size+101, stop=train_size+test_size, step=1)\n",
        "plt.plot(test_data_index_RNN,(y_pred_RNN))\n",
        "val_data_index_RNN = pd.RangeIndex(start=train_size+test_size, stop=train_size+test_size+val_size, step=1)\n",
        "plt.plot(val_data_index_RNN, scaler.inverse_transform(val_data_RNN))\n",
        "val_data_index_RNN = pd.RangeIndex(start=train_size+test_size+101, stop=train_size+test_size+val_size, step=1)\n",
        "plt.plot(val_data_index_RNN, y_pred_val_RNN)\n",
        "predict_data_index_RNN = pd.RangeIndex(start=len(df1)-1, stop=len(df1)+14, step=1)\n",
        "plt.plot(predict_data_index_RNN, scaler.inverse_transform(lst_output_RNN), color='black')\n",
        "plt.title('Hình 1.Dự đoán sử dụng mô hình RNN')\n",
        "plt.legend(['Train','Test','Predict_Test','Validate','Predict_Validate','Predict_15_Stage'])\n",
        "plt.show()"
      ],
      "metadata": {
        "colab": {
          "base_uri": "https://localhost:8080/",
          "height": 546
        },
        "id": "VPYTFTN85FOq",
        "outputId": "32a73093-f4a1-46ea-da2e-0b6a8da39e50"
      },
      "execution_count": 56,
      "outputs": [
        {
          "output_type": "display_data",
          "data": {
            "text/plain": [
              "<Figure size 800x600 with 1 Axes>"
            ],
            "image/png": "[encoded data removed]"
          },
          "metadata": {}
        }
      ]
    },
    {
      "cell_type": "markdown",
      "source": [
        "#### Nhận xét\n",
        "- Kết quả dự báo 15 stage tiếp theo bằng mô hình RNN là pha giảm giá trị cổ phiếu.\n",
        "- Độ chính xác của thuật toán dựa trên các thang đo RMSE và MAPE là rất cao.\n",
        "- Độ chính xác của thuật toán để dự báo trên tập Test và Validate khoảng 99.7%.\n",
        "- Nhìn trên ảnh ta thấy:\n",
        "  + Kết quả dự báo trên tập Test (màu xanh) gần như trùng khớp với kết quả thực tế trên tập Test (màu vàng).\n",
        "  + Kết quả dự báo trên tập Validate (màu tím) gần như trùng khớp với kết quả thực tế trên tập Validate (đỏ).\n",
        "- Mô hình đang dự báo khá đúng với xu hướng giảm nhẹ của giá trị cổ phiếu, giảm 0.05 mỗi stage.\n"
      ],
      "metadata": {
        "id": "pjN7ZGCFaCsM"
      }
    },
    {
      "cell_type": "markdown",
      "source": [
        "### Mô hình GRU"
      ],
      "metadata": {
        "id": "i0_6UNiDfOal"
      }
    },
    {
      "cell_type": "code",
      "source": [
        "# Gọi các thư viện cần thiết để xây dựng RNN\n",
        "from keras.models import Sequential\n",
        "from keras.layers import Dense, GRU, BatchNormalization"
      ],
      "metadata": {
        "id": "YzDekJGZfV34"
      },
      "execution_count": 38,
      "outputs": []
    },
    {
      "cell_type": "code",
      "source": [
        "train_data_GRU = train_data\n",
        "test_data_GRU = test_data\n",
        "val_data_GRU = val_data"
      ],
      "metadata": {
        "id": "208HT10BfN1J"
      },
      "execution_count": 39,
      "outputs": []
    },
    {
      "cell_type": "code",
      "source": [
        "# Hàm Create Dataset để chuyển đổi mảng thành ma trận\n",
        "def create_dataset(dataset, time_step=1):\n",
        "\tdataX, dataY = [], []\n",
        "\tfor i in range(len(dataset)-time_step-1):\n",
        "\t\ta = dataset[i:(i+time_step), 0]\n",
        "\t\tdataX.append(a)\n",
        "\t\tdataY.append(dataset[i + time_step, 0])\n",
        "\treturn np.array(dataX), np.array(dataY)"
      ],
      "metadata": {
        "id": "eBzSMLlrfZWw"
      },
      "execution_count": 40,
      "outputs": []
    },
    {
      "cell_type": "code",
      "source": [
        "# Sử dụng hàm Create Dataset để chuyển đổi các mảng Train, Test, Validate\n",
        "time_step = 100\n",
        "x_train_GRU, y_train_GRU = create_dataset(train_data_GRU, time_step)\n",
        "x_val_GRU, y_val_GRU = create_dataset(val_data_GRU, time_step)\n",
        "x_test_GRU, y_test_GRU = create_dataset(test_data_GRU, time_step)"
      ],
      "metadata": {
        "id": "_oyWdvmwy5ko"
      },
      "execution_count": 41,
      "outputs": []
    },
    {
      "cell_type": "code",
      "source": [
        "# Reshape đầu vào để phù hợp với mô hình GRU\n",
        "x_train_GRU = x_train_GRU.reshape(x_train_GRU.shape[0], x_train_GRU.shape[1] , 1)\n",
        "x_test_GRU = x_test_GRU.reshape(x_test_GRU.shape[0], x_test_GRU.shape[1] , 1)\n",
        "x_val_GRU = x_val_GRU.reshape(x_val_GRU.shape[0], x_val_GRU.shape[1] , 1)"
      ],
      "metadata": {
        "id": "0zl7uqzRfcU5"
      },
      "execution_count": 42,
      "outputs": []
    },
    {
      "cell_type": "code",
      "source": [
        "# Khai báo mô hình GRU\n",
        "model = Sequential()\n",
        "model.add(GRU(64, input_shape=(time_step, 1)))\n",
        "model.add(Dense(1))\n",
        "model.compile(optimizer='adam', loss='mean_squared_error')"
      ],
      "metadata": {
        "id": "VyXl8ZKKfhWD"
      },
      "execution_count": 43,
      "outputs": []
    },
    {
      "cell_type": "code",
      "source": [
        "# 9. Fit mô hình với dữ liệu Train\n",
        "model.fit(x_train_GRU, y_train_GRU, validation_data = (x_test_GRU, y_test_GRU), epochs=100, batch_size=64, verbose=1)"
      ],
      "metadata": {
        "colab": {
          "base_uri": "https://localhost:8080/"
        },
        "id": "8ZwS9tvhfjAR",
        "outputId": "38882b64-8836-4863-a465-ec2a4d9b7039"
      },
      "execution_count": 44,
      "outputs": [
        {
          "output_type": "stream",
          "name": "stdout",
          "text": [
            "Epoch 1/100\n",
            "1479/1479 [==============================] - 83s 54ms/step - loss: 4.7228e-04 - val_loss: 3.1411e-06\n",
            "Epoch 2/100\n",
            "1479/1479 [==============================] - 83s 56ms/step - loss: 8.9036e-06 - val_loss: 2.9130e-06\n",
            "Epoch 3/100\n",
            "1479/1479 [==============================] - 79s 54ms/step - loss: 9.4247e-06 - val_loss: 3.5779e-06\n",
            "Epoch 4/100\n",
            "1479/1479 [==============================] - 79s 53ms/step - loss: 1.0842e-05 - val_loss: 2.7880e-06\n",
            "Epoch 5/100\n",
            "1479/1479 [==============================] - 83s 56ms/step - loss: 1.0150e-05 - val_loss: 2.9117e-06\n",
            "Epoch 6/100\n",
            "1479/1479 [==============================] - 78s 53ms/step - loss: 9.7938e-06 - val_loss: 5.8085e-06\n",
            "Epoch 7/100\n",
            "1479/1479 [==============================] - 80s 54ms/step - loss: 1.0259e-05 - val_loss: 4.1401e-06\n",
            "Epoch 8/100\n",
            "1479/1479 [==============================] - 80s 54ms/step - loss: 9.5344e-06 - val_loss: 3.1054e-06\n",
            "Epoch 9/100\n",
            "1479/1479 [==============================] - 79s 54ms/step - loss: 9.8853e-06 - val_loss: 2.7792e-06\n",
            "Epoch 10/100\n",
            "1479/1479 [==============================] - 81s 55ms/step - loss: 9.4502e-06 - val_loss: 2.9258e-06\n",
            "Epoch 11/100\n",
            "1479/1479 [==============================] - 79s 53ms/step - loss: 9.6573e-06 - val_loss: 2.9341e-06\n",
            "Epoch 12/100\n",
            "1479/1479 [==============================] - 80s 54ms/step - loss: 9.4563e-06 - val_loss: 2.8606e-06\n",
            "Epoch 13/100\n",
            "1479/1479 [==============================] - 82s 56ms/step - loss: 9.4528e-06 - val_loss: 2.7525e-06\n",
            "Epoch 14/100\n",
            "1479/1479 [==============================] - 80s 54ms/step - loss: 9.6047e-06 - val_loss: 2.8603e-06\n",
            "Epoch 15/100\n",
            "1479/1479 [==============================] - 80s 54ms/step - loss: 9.2677e-06 - val_loss: 3.3541e-06\n",
            "Epoch 16/100\n",
            "1479/1479 [==============================] - 79s 53ms/step - loss: 9.2125e-06 - val_loss: 2.8235e-06\n",
            "Epoch 17/100\n",
            "1479/1479 [==============================] - 78s 53ms/step - loss: 9.4066e-06 - val_loss: 2.6466e-06\n",
            "Epoch 18/100\n",
            "1479/1479 [==============================] - 84s 57ms/step - loss: 9.5084e-06 - val_loss: 3.6646e-06\n",
            "Epoch 19/100\n",
            "1479/1479 [==============================] - 83s 56ms/step - loss: 9.1922e-06 - val_loss: 2.7189e-06\n",
            "Epoch 20/100\n",
            "1479/1479 [==============================] - 80s 54ms/step - loss: 9.2026e-06 - val_loss: 2.8335e-06\n",
            "Epoch 21/100\n",
            "1479/1479 [==============================] - 79s 53ms/step - loss: 9.1440e-06 - val_loss: 3.8825e-06\n",
            "Epoch 22/100\n",
            "1479/1479 [==============================] - 79s 53ms/step - loss: 8.8461e-06 - val_loss: 3.5807e-06\n",
            "Epoch 23/100\n",
            "1479/1479 [==============================] - 80s 54ms/step - loss: 8.8504e-06 - val_loss: 4.0865e-06\n",
            "Epoch 24/100\n",
            "1479/1479 [==============================] - 78s 53ms/step - loss: 8.9936e-06 - val_loss: 2.9905e-06\n",
            "Epoch 25/100\n",
            "1479/1479 [==============================] - 80s 54ms/step - loss: 9.0113e-06 - val_loss: 3.0155e-06\n",
            "Epoch 26/100\n",
            "1479/1479 [==============================] - 80s 54ms/step - loss: 8.7421e-06 - val_loss: 2.6755e-06\n",
            "Epoch 27/100\n",
            "1479/1479 [==============================] - 78s 53ms/step - loss: 9.0733e-06 - val_loss: 5.1302e-06\n",
            "Epoch 28/100\n",
            "1479/1479 [==============================] - 78s 53ms/step - loss: 8.8171e-06 - val_loss: 2.6660e-06\n",
            "Epoch 29/100\n",
            "1479/1479 [==============================] - 77s 52ms/step - loss: 8.8350e-06 - val_loss: 2.6706e-06\n",
            "Epoch 30/100\n",
            "1479/1479 [==============================] - 81s 54ms/step - loss: 8.7304e-06 - val_loss: 2.9458e-06\n",
            "Epoch 31/100\n",
            "1479/1479 [==============================] - 80s 54ms/step - loss: 8.8907e-06 - val_loss: 3.3824e-06\n",
            "Epoch 32/100\n",
            "1479/1479 [==============================] - 81s 55ms/step - loss: 8.6180e-06 - val_loss: 5.6983e-06\n",
            "Epoch 33/100\n",
            "1479/1479 [==============================] - 79s 54ms/step - loss: 8.6877e-06 - val_loss: 3.0130e-06\n",
            "Epoch 34/100\n",
            "1479/1479 [==============================] - 79s 53ms/step - loss: 8.7228e-06 - val_loss: 2.7661e-06\n",
            "Epoch 35/100\n",
            "1479/1479 [==============================] - 80s 54ms/step - loss: 8.5763e-06 - val_loss: 2.6619e-06\n",
            "Epoch 36/100\n",
            "1479/1479 [==============================] - 80s 54ms/step - loss: 8.8418e-06 - val_loss: 3.0250e-06\n",
            "Epoch 37/100\n",
            "1479/1479 [==============================] - 83s 56ms/step - loss: 8.6197e-06 - val_loss: 2.9320e-06\n",
            "Epoch 38/100\n",
            "1479/1479 [==============================] - 83s 56ms/step - loss: 8.8677e-06 - val_loss: 3.2387e-06\n",
            "Epoch 39/100\n",
            "1479/1479 [==============================] - 80s 54ms/step - loss: 8.6305e-06 - val_loss: 3.2520e-06\n",
            "Epoch 40/100\n",
            "1479/1479 [==============================] - 85s 57ms/step - loss: 8.7210e-06 - val_loss: 2.8413e-06\n",
            "Epoch 41/100\n",
            "1479/1479 [==============================] - 83s 56ms/step - loss: 8.6955e-06 - val_loss: 2.8260e-06\n",
            "Epoch 42/100\n",
            "1479/1479 [==============================] - 79s 53ms/step - loss: 8.6237e-06 - val_loss: 2.6927e-06\n",
            "Epoch 43/100\n",
            "1479/1479 [==============================] - 80s 54ms/step - loss: 8.6512e-06 - val_loss: 2.9167e-06\n",
            "Epoch 44/100\n",
            "1479/1479 [==============================] - 80s 54ms/step - loss: 8.7338e-06 - val_loss: 3.2926e-06\n",
            "Epoch 45/100\n",
            "1479/1479 [==============================] - 86s 58ms/step - loss: 8.5079e-06 - val_loss: 3.5265e-06\n",
            "Epoch 46/100\n",
            "1479/1479 [==============================] - 85s 58ms/step - loss: 8.6352e-06 - val_loss: 2.9453e-06\n",
            "Epoch 47/100\n",
            "1479/1479 [==============================] - 82s 56ms/step - loss: 8.5708e-06 - val_loss: 2.9614e-06\n",
            "Epoch 48/100\n",
            "1479/1479 [==============================] - 80s 54ms/step - loss: 8.5038e-06 - val_loss: 2.8195e-06\n",
            "Epoch 49/100\n",
            "1479/1479 [==============================] - 78s 53ms/step - loss: 8.4502e-06 - val_loss: 3.6040e-06\n",
            "Epoch 50/100\n",
            "1479/1479 [==============================] - 78s 53ms/step - loss: 8.8986e-06 - val_loss: 2.7042e-06\n",
            "Epoch 51/100\n",
            "1479/1479 [==============================] - 79s 54ms/step - loss: 8.6144e-06 - val_loss: 2.9018e-06\n",
            "Epoch 52/100\n",
            "1479/1479 [==============================] - 79s 54ms/step - loss: 8.5326e-06 - val_loss: 2.9548e-06\n",
            "Epoch 53/100\n",
            "1479/1479 [==============================] - 84s 57ms/step - loss: 8.4773e-06 - val_loss: 5.0056e-06\n",
            "Epoch 54/100\n",
            "1479/1479 [==============================] - 79s 54ms/step - loss: 8.5882e-06 - val_loss: 3.8990e-06\n",
            "Epoch 55/100\n",
            "1479/1479 [==============================] - 79s 53ms/step - loss: 8.6675e-06 - val_loss: 2.7096e-06\n",
            "Epoch 56/100\n",
            "1479/1479 [==============================] - 79s 53ms/step - loss: 8.5208e-06 - val_loss: 4.7851e-06\n",
            "Epoch 57/100\n",
            "1479/1479 [==============================] - 81s 55ms/step - loss: 8.3961e-06 - val_loss: 5.2737e-06\n",
            "Epoch 58/100\n",
            "1479/1479 [==============================] - 78s 53ms/step - loss: 8.3890e-06 - val_loss: 2.6450e-06\n",
            "Epoch 59/100\n",
            "1479/1479 [==============================] - 81s 55ms/step - loss: 8.4755e-06 - val_loss: 3.5702e-06\n",
            "Epoch 60/100\n",
            "1479/1479 [==============================] - 81s 55ms/step - loss: 8.5386e-06 - val_loss: 3.4989e-06\n",
            "Epoch 61/100\n",
            "1479/1479 [==============================] - 78s 53ms/step - loss: 8.5427e-06 - val_loss: 2.6408e-06\n",
            "Epoch 62/100\n",
            "1479/1479 [==============================] - 80s 54ms/step - loss: 8.5207e-06 - val_loss: 3.6718e-06\n",
            "Epoch 63/100\n",
            "1479/1479 [==============================] - 80s 54ms/step - loss: 8.4104e-06 - val_loss: 3.2067e-06\n",
            "Epoch 64/100\n",
            "1479/1479 [==============================] - 80s 54ms/step - loss: 8.5061e-06 - val_loss: 3.2261e-06\n",
            "Epoch 65/100\n",
            "1479/1479 [==============================] - 79s 54ms/step - loss: 8.4073e-06 - val_loss: 2.6657e-06\n",
            "Epoch 66/100\n",
            "1479/1479 [==============================] - 80s 54ms/step - loss: 8.5364e-06 - val_loss: 3.1180e-06\n",
            "Epoch 67/100\n",
            "1479/1479 [==============================] - 80s 54ms/step - loss: 8.3935e-06 - val_loss: 2.7712e-06\n",
            "Epoch 68/100\n",
            "1479/1479 [==============================] - 84s 56ms/step - loss: 8.4008e-06 - val_loss: 2.7782e-06\n",
            "Epoch 69/100\n",
            "1479/1479 [==============================] - 79s 53ms/step - loss: 8.4029e-06 - val_loss: 2.8628e-06\n",
            "Epoch 70/100\n",
            "1479/1479 [==============================] - 84s 57ms/step - loss: 8.6310e-06 - val_loss: 2.6861e-06\n",
            "Epoch 71/100\n",
            "1479/1479 [==============================] - 84s 57ms/step - loss: 8.3724e-06 - val_loss: 3.4030e-06\n",
            "Epoch 72/100\n",
            "1479/1479 [==============================] - 80s 54ms/step - loss: 8.4247e-06 - val_loss: 2.6509e-06\n",
            "Epoch 73/100\n",
            "1479/1479 [==============================] - 80s 54ms/step - loss: 8.3621e-06 - val_loss: 2.8759e-06\n",
            "Epoch 74/100\n",
            "1479/1479 [==============================] - 81s 55ms/step - loss: 8.4284e-06 - val_loss: 2.6653e-06\n",
            "Epoch 75/100\n",
            "1479/1479 [==============================] - 80s 54ms/step - loss: 8.5063e-06 - val_loss: 3.4698e-06\n",
            "Epoch 76/100\n",
            "1479/1479 [==============================] - 80s 54ms/step - loss: 8.4512e-06 - val_loss: 2.7225e-06\n",
            "Epoch 77/100\n",
            "1479/1479 [==============================] - 81s 55ms/step - loss: 8.4270e-06 - val_loss: 3.2710e-06\n",
            "Epoch 78/100\n",
            "1479/1479 [==============================] - 80s 54ms/step - loss: 8.5244e-06 - val_loss: 2.6635e-06\n",
            "Epoch 79/100\n",
            "1479/1479 [==============================] - 85s 57ms/step - loss: 8.4396e-06 - val_loss: 2.9804e-06\n",
            "Epoch 80/100\n",
            "1479/1479 [==============================] - 79s 54ms/step - loss: 8.3761e-06 - val_loss: 3.7521e-06\n",
            "Epoch 81/100\n",
            "1479/1479 [==============================] - 81s 55ms/step - loss: 8.3340e-06 - val_loss: 2.7087e-06\n",
            "Epoch 82/100\n",
            "1479/1479 [==============================] - 81s 55ms/step - loss: 8.4766e-06 - val_loss: 2.6811e-06\n",
            "Epoch 83/100\n",
            "1479/1479 [==============================] - 85s 57ms/step - loss: 8.4489e-06 - val_loss: 3.1864e-06\n",
            "Epoch 84/100\n",
            "1479/1479 [==============================] - 80s 54ms/step - loss: 8.3963e-06 - val_loss: 2.6442e-06\n",
            "Epoch 85/100\n",
            "1479/1479 [==============================] - 81s 55ms/step - loss: 8.3546e-06 - val_loss: 2.7101e-06\n",
            "Epoch 86/100\n",
            "1479/1479 [==============================] - 79s 54ms/step - loss: 8.5345e-06 - val_loss: 2.6918e-06\n",
            "Epoch 87/100\n",
            "1479/1479 [==============================] - 79s 53ms/step - loss: 8.4247e-06 - val_loss: 4.1939e-06\n",
            "Epoch 88/100\n",
            "1479/1479 [==============================] - 80s 54ms/step - loss: 8.4861e-06 - val_loss: 2.6859e-06\n",
            "Epoch 89/100\n",
            "1479/1479 [==============================] - 79s 54ms/step - loss: 8.5023e-06 - val_loss: 3.0827e-06\n",
            "Epoch 90/100\n",
            "1479/1479 [==============================] - 81s 55ms/step - loss: 8.4913e-06 - val_loss: 2.6643e-06\n",
            "Epoch 91/100\n",
            "1479/1479 [==============================] - 80s 54ms/step - loss: 8.5570e-06 - val_loss: 3.8453e-06\n",
            "Epoch 92/100\n",
            "1479/1479 [==============================] - 80s 54ms/step - loss: 8.3794e-06 - val_loss: 3.6762e-06\n",
            "Epoch 93/100\n",
            "1479/1479 [==============================] - 82s 55ms/step - loss: 8.4136e-06 - val_loss: 3.0044e-06\n",
            "Epoch 94/100\n",
            "1479/1479 [==============================] - 84s 57ms/step - loss: 8.3283e-06 - val_loss: 2.6531e-06\n",
            "Epoch 95/100\n",
            "1479/1479 [==============================] - 80s 54ms/step - loss: 8.3058e-06 - val_loss: 2.6542e-06\n",
            "Epoch 96/100\n",
            "1479/1479 [==============================] - 80s 54ms/step - loss: 8.5814e-06 - val_loss: 2.8526e-06\n",
            "Epoch 97/100\n",
            "1479/1479 [==============================] - 80s 54ms/step - loss: 8.2967e-06 - val_loss: 2.8057e-06\n",
            "Epoch 98/100\n",
            "1479/1479 [==============================] - 84s 57ms/step - loss: 8.3074e-06 - val_loss: 2.6404e-06\n",
            "Epoch 99/100\n",
            "1479/1479 [==============================] - 81s 55ms/step - loss: 8.3342e-06 - val_loss: 3.2821e-06\n",
            "Epoch 100/100\n",
            "1479/1479 [==============================] - 81s 55ms/step - loss: 8.4368e-06 - val_loss: 3.5490e-06\n"
          ]
        },
        {
          "output_type": "execute_result",
          "data": {
            "text/plain": [
              "<keras.src.callbacks.History at 0x7d9f2e297e20>"
            ]
          },
          "metadata": {},
          "execution_count": 44
        }
      ]
    },
    {
      "cell_type": "code",
      "source": [
        "# Dự báo dữ liệu train_predict_GRU, y_pred_GRU, y_pred_val_GRU\n",
        "train_predict_GRU = model.predict(x_train_GRU)\n",
        "y_pred_GRU = model.predict(x_test_GRU)\n",
        "y_pred_val_GRU = model.predict(x_val_GRU)"
      ],
      "metadata": {
        "colab": {
          "base_uri": "https://localhost:8080/"
        },
        "id": "Uk8OCwsYTOGm",
        "outputId": "9d2a342f-24bb-4ea6-9836-27fd67007b8e"
      },
      "execution_count": 45,
      "outputs": [
        {
          "output_type": "stream",
          "name": "stdout",
          "text": [
            "2958/2958 [==============================] - 45s 15ms/step\n",
            "843/843 [==============================] - 10s 11ms/step\n",
            "420/420 [==============================] - 5s 11ms/step\n"
          ]
        }
      ]
    },
    {
      "cell_type": "code",
      "source": [
        "# Đảo ngược giá trị thực tế của tập Test và Validate về giá trị chuẩn\n",
        "train_predict_GRU = scaler.inverse_transform(train_predict_GRU)\n",
        "y_pred_GRU = scaler.inverse_transform(y_pred_GRU)\n",
        "y_pred_val_GRU = scaler.inverse_transform(y_pred_val_GRU)"
      ],
      "metadata": {
        "id": "3LklErypTlg0"
      },
      "execution_count": 46,
      "outputs": []
    },
    {
      "cell_type": "code",
      "source": [
        "# Đảo ngược giá trị thực tế của tập Test và Validate về giá trị chuẩn\n",
        "real_val_GRU = scaler.inverse_transform(y_val_GRU.reshape(-1, 1))\n",
        "real_test_GRU = scaler.inverse_transform(y_test_GRU.reshape(-1, 1))"
      ],
      "metadata": {
        "id": "BAP6916QT13d"
      },
      "execution_count": 47,
      "outputs": []
    },
    {
      "cell_type": "code",
      "source": [
        "# Đánh giá độ chính xác thuật toán bằng RMSE\n",
        "test_rmse_GRU = np.sqrt(np.mean((y_pred_GRU - real_test_GRU)**2))\n",
        "val_rmse_GRU = np.sqrt(np.mean((y_pred_val_GRU - real_val_GRU)**2))\n",
        "print('Testing RMSE:', test_rmse_GRU)\n",
        "print('Validation RMSE:', val_rmse_GRU)"
      ],
      "metadata": {
        "colab": {
          "base_uri": "https://localhost:8080/"
        },
        "id": "7H3F2UIUUCPV",
        "outputId": "7a52979e-6edc-4893-97f5-1afda2a03415"
      },
      "execution_count": 48,
      "outputs": [
        {
          "output_type": "stream",
          "name": "stdout",
          "text": [
            "Testing RMSE: 0.1348855806474804\n",
            "Validation RMSE: 0.35655054237407485\n"
          ]
        }
      ]
    },
    {
      "cell_type": "code",
      "source": [
        "# Đánh giá độ chính xác thuật toán bằng MAPE\n",
        "test_mape_GRU = np.mean((np.absolute(real_test_GRU - y_pred_GRU)/real_test_GRU)*100)\n",
        "val_mape_GRU = np.mean((np.absolute(real_val_GRU - y_pred_val_GRU)/real_val_GRU)*100)\n",
        "print('Testing MAPE:', test_mape_GRU)\n",
        "print('Validation MAPE:', val_mape_GRU)"
      ],
      "metadata": {
        "colab": {
          "base_uri": "https://localhost:8080/"
        },
        "id": "HVQhGs9uUTjS",
        "outputId": "de33c584-a3dc-45df-b146-367241af0ee5"
      },
      "execution_count": 49,
      "outputs": [
        {
          "output_type": "stream",
          "name": "stdout",
          "text": [
            "Testing MAPE: 0.16920010147616732\n",
            "Validation MAPE: 0.2667750353716251\n"
          ]
        }
      ]
    },
    {
      "cell_type": "code",
      "source": [
        "# Tính phần trăm độ chính xác trên tập Test và Validate\n",
        "data_range_GRU = df['Close'].max() - df['Close'].min()\n",
        "test_accuracy_GRU = (1 - test_rmse_GRU / data_range_GRU) * 100\n",
        "val_accuracy_GRU = (1 - val_rmse_GRU / data_range_GRU) * 100\n",
        "print('Testing Accuracy (%):', test_accuracy_GRU)\n",
        "print('Validation Accuracy (%):', val_accuracy_GRU)"
      ],
      "metadata": {
        "colab": {
          "base_uri": "https://localhost:8080/"
        },
        "id": "KZDYvQqQWpbS",
        "outputId": "75429366-c00b-4349-fad6-fc0ab37e3fcc"
      },
      "execution_count": 50,
      "outputs": [
        {
          "output_type": "stream",
          "name": "stdout",
          "text": [
            "Testing Accuracy (%): 99.81161231753146\n",
            "Validation Accuracy (%): 99.50202438215912\n"
          ]
        }
      ]
    },
    {
      "cell_type": "code",
      "source": [
        "# Dự báo 15 stage tiếp theo\n",
        "x_input_GRU = val_data_GRU[60:].reshape(1, -1)\n",
        "x_input_GRU.shape\n",
        "\n",
        "temp_input_GRU = list(x_input_GRU)\n",
        "temp_input_GRU = temp_input_GRU[0].tolist()\n",
        "\n",
        "lst_output_GRU = []\n",
        "n_steps_GRU = 13476\n",
        "i = 0\n",
        "while i < 15:\n",
        "    if len(temp_input_GRU) > 13476:\n",
        "          x_input_GRU = np.array(temp_input_GRU[1:])\n",
        "\n",
        "          x_input_GRU = x_input_GRU.reshape(1, -1)\n",
        "          x_input_GRU = x_input_GRU.reshape((1, n_steps_GRU, 1))\n",
        "          yhat = model.predict(x_input_GRU, verbose=0)\n",
        "\n",
        "          temp_input_GRU.extend(yhat[0].tolist())\n",
        "          temp_input_GRU = temp_input_GRU[1:]\n",
        "          lst_output_GRU.extend(yhat.tolist())\n",
        "          i = i + 1\n",
        "    else:\n",
        "        x_input_GRU = x_input_GRU.reshape((1, n_steps_GRU, 1))\n",
        "        yhat = model.predict(x_input_GRU, verbose=0)\n",
        "\n",
        "        temp_input_GRU.extend(yhat[0].tolist())\n",
        "\n",
        "        lst_output_GRU.extend(yhat.tolist())\n",
        "        i = i + 1\n",
        "\n",
        "# Chuẩn hóa lại dự đoán 15 stage\n",
        "predicted_values_GRU = np.array(lst_output_GRU)\n",
        "predicted_values_GRU = predicted_values_GRU.reshape(-1, 1)\n",
        "\n",
        "# Chuẩn hóa dự đoán\n",
        "predicted_values_GRU = scaler.inverse_transform(predicted_values_GRU)\n",
        "\n",
        "print(\"Dự đoán 15 stage tiếp theo:\")\n",
        "print(predicted_values_GRU)"
      ],
      "metadata": {
        "colab": {
          "base_uri": "https://localhost:8080/"
        },
        "id": "6B-WsIxCSVX7",
        "outputId": "e036eaaa-8d4e-4b0c-855a-e8f7328ae9e8"
      },
      "execution_count": 52,
      "outputs": [
        {
          "output_type": "stream",
          "name": "stdout",
          "text": [
            "Dự đoán 15 stage tiếp theo:\n",
            "[[82.71217005]\n",
            " [82.64877348]\n",
            " [82.586064  ]\n",
            " [82.52324357]\n",
            " [82.46098647]\n",
            " [82.39892569]\n",
            " [82.33700573]\n",
            " [82.27515407]\n",
            " [82.21336641]\n",
            " [82.15163851]\n",
            " [82.08997889]\n",
            " [82.02836834]\n",
            " [81.96680261]\n",
            " [81.90527529]\n",
            " [81.84377784]]\n"
          ]
        }
      ]
    },
    {
      "cell_type": "code",
      "source": [
        "# Vẽ hình\n",
        "plt.figure(figsize=(8, 6))\n",
        "train_data_index_GRU = pd.RangeIndex(start=0, stop=train_size, step=1)\n",
        "plt.plot(scaler.inverse_transform(train_data_GRU))\n",
        "test_data_index_GRU = pd.RangeIndex(start=train_size, stop=train_size+test_size, step=1)\n",
        "plt.plot(test_data_index_GRU, scaler.inverse_transform(test_data_GRU))\n",
        "test_data_index_GRU = pd.RangeIndex(start=train_size+101, stop=train_size+test_size, step=1)\n",
        "plt.plot(test_data_index_GRU, (y_pred_GRU))\n",
        "val_data_index_GRU = pd.RangeIndex(start=train_size+test_size, stop=train_size+test_size+val_size, step=1)\n",
        "plt.plot(val_data_index_GRU, scaler.inverse_transform(val_data_GRU))\n",
        "val_data_index_GRU = pd.RangeIndex(start=train_size+test_size+101, stop=train_size+test_size+val_size, step=1)\n",
        "plt.plot(val_data_index_GRU, y_pred_val_GRU)\n",
        "predict_data_index_GRU = pd.RangeIndex(start=len(df1)-1, stop=len(df1)+14, step=1)\n",
        "plt.plot(predict_data_index_GRU, scaler.inverse_transform(lst_output_GRU), color='black')\n",
        "plt.title('Hình 2.Dự đoán sử dụng mô hình GRU')\n",
        "plt.legend(['Train','Test','Predict_Test','Validate','Predict_Validate','Predict_15_Stage'])\n",
        "plt.show()"
      ],
      "metadata": {
        "colab": {
          "base_uri": "https://localhost:8080/",
          "height": 546
        },
        "id": "Kn0SOL-TSdU5",
        "outputId": "3567ea2c-f349-423f-99db-b5ad0902beba"
      },
      "execution_count": 53,
      "outputs": [
        {
          "output_type": "display_data",
          "data": {
            "text/plain": [
              "<Figure size 800x600 with 1 Axes>"
            ],
            "image/png": "[encoded data removed]"
          },
          "metadata": {}
        }
      ]
    },
    {
      "cell_type": "markdown",
      "source": [
        "#### Nhận xét\n",
        "- Kết quả dự báo 15 stage tiếp theo bằng mô hình GRU là pha giảm giá trị cổ phiếu.\n",
        "- Độ chính xác của thuật toán dựa trên các thang đo RMSE và MAPE là rất cao.\n",
        "- Độ chính xác của thuật toán để dự báo trên tập Test và Validate khoảng 99.7%.\n",
        "- Nhìn trên ảnh ta thấy:\n",
        "  + Kết quả dự báo trên tập Test (màu xanh) gần như trùng khớp với kết quả thực tế trên tập Test (màu vàng).\n",
        "  + Kết quả dự báo trên tập Validate (màu tím) gần như trùng khớp với kết quả thực tế trên tập Validate (đỏ).\n",
        "- Mô hình đang dự báo khá đúng với xu hướng giảm nhẹ của giá trị cổ phiếu, giảm 0.05 mỗi stage.\n"
      ],
      "metadata": {
        "id": "JRO0j7AAao1M"
      }
    },
    {
      "cell_type": "markdown",
      "source": [
        "## Tổng kết"
      ],
      "metadata": {
        "id": "L0D2q7SadJEx"
      }
    },
    {
      "cell_type": "code",
      "source": [
        "# So sánh 2 mô hình RNN và GRU\n",
        "data = {\n",
        "    'Độ đo': ['Test Accuracy (%)', 'Validation Accuracy (%)', 'Test RMSE', 'Validation RMSE', 'Test MAPE', 'Validation MAPE'],\n",
        "    'Mô hình RNN': [test_accuracy_RNN, val_accuracy_RNN, test_rmse_RNN, val_rmse_RNN, test_mape_RNN, val_mape_RNN],\n",
        "    'Mô hình GRU': [test_accuracy_GRU, val_accuracy_GRU, test_rmse_GRU, val_rmse_GRU, test_mape_GRU, val_mape_GRU]\n",
        "}\n",
        "\n",
        "df = pd.DataFrame(data).set_index('Độ đo')\n",
        "\n",
        "print(df)"
      ],
      "metadata": {
        "colab": {
          "base_uri": "https://localhost:8080/"
        },
        "id": "owCS5sVvYL6P",
        "outputId": "07991ee1-2268-4248-a1ee-3a640da1e9c6"
      },
      "execution_count": 54,
      "outputs": [
        {
          "output_type": "stream",
          "name": "stdout",
          "text": [
            "                         Mô hình RNN  Mô hình GRU\n",
            "Độ đo                                            \n",
            "Test Accuracy (%)          99.827688    99.811612\n",
            "Validation Accuracy (%)    99.495334    99.502024\n",
            "Test RMSE                   0.123375     0.134886\n",
            "Validation RMSE             0.361341     0.356551\n",
            "Test MAPE                   0.136705     0.169200\n",
            "Validation MAPE             0.260290     0.266775\n"
          ]
        }
      ]
    },
    {
      "cell_type": "code",
      "source": [
        "# Nhận xét Predict 15 stage của 2 mô hình\n",
        "plt.figure(figsize=(6, 4))\n",
        "predict_data_index_RNN = pd.RangeIndex(start=len(df1)-1, stop=len(df1)+14, step=1)\n",
        "plt.plot(predict_data_index_RNN, scaler.inverse_transform(lst_output_RNN), color='green')\n",
        "predict_data_index_GRU = pd.RangeIndex(start=len(df1)-1, stop=len(df1)+14, step=1)\n",
        "plt.plot(predict_data_index_GRU, scaler.inverse_transform(lst_output_GRU), color='blue')\n",
        "plt.title('Hình 3.Xu hướng dự báo giữa 2 mô hình RNN và GRU')\n",
        "plt.legend(['Predict_15_Stage_RNN', 'Predict_15_Stage_GRU'])\n",
        "plt.show()"
      ],
      "metadata": {
        "colab": {
          "base_uri": "https://localhost:8080/",
          "height": 409
        },
        "id": "E2kMcsFdSiup",
        "outputId": "a85cf51f-0848-465b-b316-df1d0942ff8d"
      },
      "execution_count": 55,
      "outputs": [
        {
          "output_type": "display_data",
          "data": {
            "text/plain": [
              "<Figure size 600x400 with 1 Axes>"
            ],
            "image/png": "[encoded data removed]"
          },
          "metadata": {}
        }
      ]
    },
    {
      "cell_type": "markdown",
      "source": [
        "### Tổng kết\n",
        "- Nhìn ảnh so sánh trên, ta thấy cả 2 mô hình có kết dự đoán khá đúng so với xu hướng giảm của cổ phiếu.\n",
        "- Tuy nhiên ta thấy, dự đoán xu hướng giảm của mô hình GRU chính xác hơn, khi các stage có xu hướng giảm tương đối nhẹ, còn dự đoán của RNN có xu hướng giảm hơn.\n"
      ],
      "metadata": {
        "id": "2pL43qYeazLy"
      }
    }
  ]
}