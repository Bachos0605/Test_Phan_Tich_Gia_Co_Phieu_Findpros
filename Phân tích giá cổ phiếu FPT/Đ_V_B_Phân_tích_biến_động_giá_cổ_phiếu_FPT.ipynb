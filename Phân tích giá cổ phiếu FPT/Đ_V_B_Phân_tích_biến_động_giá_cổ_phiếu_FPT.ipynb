{
  "nbformat": 4,
  "nbformat_minor": 0,
  "metadata": {
    "colab": {
      "provenance": [],
      "toc_visible": true
    },
    "kernelspec": {
      "name": "python3",
      "display_name": "Python 3"
    },
    "language_info": {
      "name": "python"
    }
  },
  "cells": [
    {
      "cell_type": "markdown",
      "source": [
        "Phân tích biến động giá cổ phiếu FPT <br>\n",
        "Người thực hiện: Đỗ Việt Bách <br>\n",
        "Phone: 0559 686 243 <br>\n",
        "Email: 19521230@gm.uit.edu.vn <br>\n",
        "Dataset: Giá trị cổ phiếu FPT từ ngày 25/12/2018 tới ngày 22/12/2020 <br>\n",
        "Mô hình dự báo: RNN vs. GRU"
      ],
      "metadata": {
        "id": "nBQzSbHIMTfw"
      }
    },
    {
      "cell_type": "markdown",
      "source": [
        "##Import dữ liệu và thư viện cần thiết"
      ],
      "metadata": {
        "id": "57RKIGBfN-Tw"
      }
    },
    {
      "cell_type": "code",
      "execution_count": null,
      "metadata": {
        "id": "ywveR1aTBj7g",
        "colab": {
          "base_uri": "https://localhost:8080/",
          "height": 73
        },
        "outputId": "8d0834ae-1d2a-45cc-dd2d-f043bc730a88"
      },
      "outputs": [
        {
          "output_type": "display_data",
          "data": {
            "text/plain": [
              "<IPython.core.display.HTML object>"
            ],
            "text/html": [
              "\n",
              "     <input type=\"file\" id=\"files-35b81eeb-6d6d-4e63-a02c-c58863df231b\" name=\"files[]\" multiple disabled\n",
              "        style=\"border:none\" />\n",
              "     <output id=\"result-35b81eeb-6d6d-4e63-a02c-c58863df231b\">\n",
              "      Upload widget is only available when the cell has been executed in the\n",
              "      current browser session. Please rerun this cell to enable.\n",
              "      </output>\n",
              "      <script>// Copyright 2017 Google LLC\n",
              "//\n",
              "// Licensed under the Apache License, Version 2.0 (the \"License\");\n",
              "// you may not use this file except in compliance with the License.\n",
              "// You may obtain a copy of the License at\n",
              "//\n",
              "//      http://www.apache.org/licenses/LICENSE-2.0\n",
              "//\n",
              "// Unless required by applicable law or agreed to in writing, software\n",
              "// distributed under the License is distributed on an \"AS IS\" BASIS,\n",
              "// WITHOUT WARRANTIES OR CONDITIONS OF ANY KIND, either express or implied.\n",
              "// See the License for the specific language governing permissions and\n",
              "// limitations under the License.\n",
              "\n",
              "/**\n",
              " * @fileoverview Helpers for google.colab Python module.\n",
              " */\n",
              "(function(scope) {\n",
              "function span(text, styleAttributes = {}) {\n",
              "  const element = document.createElement('span');\n",
              "  element.textContent = text;\n",
              "  for (const key of Object.keys(styleAttributes)) {\n",
              "    element.style[key] = styleAttributes[key];\n",
              "  }\n",
              "  return element;\n",
              "}\n",
              "\n",
              "// Max number of bytes which will be uploaded at a time.\n",
              "const MAX_PAYLOAD_SIZE = 100 * 1024;\n",
              "\n",
              "function _uploadFiles(inputId, outputId) {\n",
              "  const steps = uploadFilesStep(inputId, outputId);\n",
              "  const outputElement = document.getElementById(outputId);\n",
              "  // Cache steps on the outputElement to make it available for the next call\n",
              "  // to uploadFilesContinue from Python.\n",
              "  outputElement.steps = steps;\n",
              "\n",
              "  return _uploadFilesContinue(outputId);\n",
              "}\n",
              "\n",
              "// This is roughly an async generator (not supported in the browser yet),\n",
              "// where there are multiple asynchronous steps and the Python side is going\n",
              "// to poll for completion of each step.\n",
              "// This uses a Promise to block the python side on completion of each step,\n",
              "// then passes the result of the previous step as the input to the next step.\n",
              "function _uploadFilesContinue(outputId) {\n",
              "  const outputElement = document.getElementById(outputId);\n",
              "  const steps = outputElement.steps;\n",
              "\n",
              "  const next = steps.next(outputElement.lastPromiseValue);\n",
              "  return Promise.resolve(next.value.promise).then((value) => {\n",
              "    // Cache the last promise value to make it available to the next\n",
              "    // step of the generator.\n",
              "    outputElement.lastPromiseValue = value;\n",
              "    return next.value.response;\n",
              "  });\n",
              "}\n",
              "\n",
              "/**\n",
              " * Generator function which is called between each async step of the upload\n",
              " * process.\n",
              " * @param {string} inputId Element ID of the input file picker element.\n",
              " * @param {string} outputId Element ID of the output display.\n",
              " * @return {!Iterable<!Object>} Iterable of next steps.\n",
              " */\n",
              "function* uploadFilesStep(inputId, outputId) {\n",
              "  const inputElement = document.getElementById(inputId);\n",
              "  inputElement.disabled = false;\n",
              "\n",
              "  const outputElement = document.getElementById(outputId);\n",
              "  outputElement.innerHTML = '';\n",
              "\n",
              "  const pickedPromise = new Promise((resolve) => {\n",
              "    inputElement.addEventListener('change', (e) => {\n",
              "      resolve(e.target.files);\n",
              "    });\n",
              "  });\n",
              "\n",
              "  const cancel = document.createElement('button');\n",
              "  inputElement.parentElement.appendChild(cancel);\n",
              "  cancel.textContent = 'Cancel upload';\n",
              "  const cancelPromise = new Promise((resolve) => {\n",
              "    cancel.onclick = () => {\n",
              "      resolve(null);\n",
              "    };\n",
              "  });\n",
              "\n",
              "  // Wait for the user to pick the files.\n",
              "  const files = yield {\n",
              "    promise: Promise.race([pickedPromise, cancelPromise]),\n",
              "    response: {\n",
              "      action: 'starting',\n",
              "    }\n",
              "  };\n",
              "\n",
              "  cancel.remove();\n",
              "\n",
              "  // Disable the input element since further picks are not allowed.\n",
              "  inputElement.disabled = true;\n",
              "\n",
              "  if (!files) {\n",
              "    return {\n",
              "      response: {\n",
              "        action: 'complete',\n",
              "      }\n",
              "    };\n",
              "  }\n",
              "\n",
              "  for (const file of files) {\n",
              "    const li = document.createElement('li');\n",
              "    li.append(span(file.name, {fontWeight: 'bold'}));\n",
              "    li.append(span(\n",
              "        `(${file.type || 'n/a'}) - ${file.size} bytes, ` +\n",
              "        `last modified: ${\n",
              "            file.lastModifiedDate ? file.lastModifiedDate.toLocaleDateString() :\n",
              "                                    'n/a'} - `));\n",
              "    const percent = span('0% done');\n",
              "    li.appendChild(percent);\n",
              "\n",
              "    outputElement.appendChild(li);\n",
              "\n",
              "    const fileDataPromise = new Promise((resolve) => {\n",
              "      const reader = new FileReader();\n",
              "      reader.onload = (e) => {\n",
              "        resolve(e.target.result);\n",
              "      };\n",
              "      reader.readAsArrayBuffer(file);\n",
              "    });\n",
              "    // Wait for the data to be ready.\n",
              "    let fileData = yield {\n",
              "      promise: fileDataPromise,\n",
              "      response: {\n",
              "        action: 'continue',\n",
              "      }\n",
              "    };\n",
              "\n",
              "    // Use a chunked sending to avoid message size limits. See b/62115660.\n",
              "    let position = 0;\n",
              "    do {\n",
              "      const length = Math.min(fileData.byteLength - position, MAX_PAYLOAD_SIZE);\n",
              "      const chunk = new Uint8Array(fileData, position, length);\n",
              "      position += length;\n",
              "\n",
              "      const base64 = btoa(String.fromCharCode.apply(null, chunk));\n",
              "      yield {\n",
              "        response: {\n",
              "          action: 'append',\n",
              "          file: file.name,\n",
              "          data: base64,\n",
              "        },\n",
              "      };\n",
              "\n",
              "      let percentDone = fileData.byteLength === 0 ?\n",
              "          100 :\n",
              "          Math.round((position / fileData.byteLength) * 100);\n",
              "      percent.textContent = `${percentDone}% done`;\n",
              "\n",
              "    } while (position < fileData.byteLength);\n",
              "  }\n",
              "\n",
              "  // All done.\n",
              "  yield {\n",
              "    response: {\n",
              "      action: 'complete',\n",
              "    }\n",
              "  };\n",
              "}\n",
              "\n",
              "scope.google = scope.google || {};\n",
              "scope.google.colab = scope.google.colab || {};\n",
              "scope.google.colab._files = {\n",
              "  _uploadFiles,\n",
              "  _uploadFilesContinue,\n",
              "};\n",
              "})(self);\n",
              "</script> "
            ]
          },
          "metadata": {}
        },
        {
          "output_type": "stream",
          "name": "stdout",
          "text": [
            "Saving FPT.csv to FPT (1).csv\n"
          ]
        }
      ],
      "source": [
        "from google.colab import files\n",
        "uploaded = files.upload()"
      ]
    },
    {
      "cell_type": "code",
      "source": [
        "import pandas as pd\n",
        "import numpy as np"
      ],
      "metadata": {
        "id": "CRXjUHRSCvqj"
      },
      "execution_count": null,
      "outputs": []
    },
    {
      "cell_type": "code",
      "source": [
        "df = pd.read_csv('/content/FPT.csv')"
      ],
      "metadata": {
        "id": "ElItuCDhDKTy"
      },
      "execution_count": null,
      "outputs": []
    },
    {
      "cell_type": "code",
      "source": [
        "df"
      ],
      "metadata": {
        "colab": {
          "base_uri": "https://localhost:8080/",
          "height": 423
        },
        "id": "FLAHw4LVDQvh",
        "outputId": "dc348f73-061d-4af8-e597-a087b44785a7"
      },
      "execution_count": null,
      "outputs": [
        {
          "output_type": "execute_result",
          "data": {
            "text/plain": [
              "      Ticker         Date/Time   Open   High    Low  Close  Volume  \\\n",
              "0        FPT   12/25/2018 9:15  30.89  30.89  30.89  30.89   35410   \n",
              "1        FPT   12/25/2018 9:16  30.81  30.81  30.81  30.81     190   \n",
              "2        FPT   12/25/2018 9:17  30.74  30.81  30.74  30.74    1120   \n",
              "3        FPT   12/25/2018 9:18  30.74  30.74  30.74  30.74    2120   \n",
              "4        FPT   12/25/2018 9:19  30.74  30.74  30.74  30.74   22500   \n",
              "...      ...               ...    ...    ...    ...    ...     ...   \n",
              "97401    FPT  12/22/2020 14:24  58.20  58.20  58.20  58.20   27470   \n",
              "97402    FPT  12/22/2020 14:25  58.20  58.20  58.20  58.20   14820   \n",
              "97403    FPT  12/22/2020 14:26  58.20  58.20  58.20  58.20     500   \n",
              "97404    FPT  12/22/2020 14:29  58.10  58.10  58.10  58.10    2500   \n",
              "97405    FPT  12/22/2020 14:46  58.10  58.10  58.10  58.10   11170   \n",
              "\n",
              "       Open Interest  \n",
              "0                  0  \n",
              "1                  0  \n",
              "2                  0  \n",
              "3                  0  \n",
              "4                  0  \n",
              "...              ...  \n",
              "97401              0  \n",
              "97402              0  \n",
              "97403              0  \n",
              "97404              0  \n",
              "97405              0  \n",
              "\n",
              "[97406 rows x 8 columns]"
            ],
            "text/html": [
              "\n",
              "  <div id=\"df-2d9f3599-2bf7-4dc3-a0c0-18183cde81c3\" class=\"colab-df-container\">\n",
              "    <div>\n",
              "<style scoped>\n",
              "    .dataframe tbody tr th:only-of-type {\n",
              "        vertical-align: middle;\n",
              "    }\n",
              "\n",
              "    .dataframe tbody tr th {\n",
              "        vertical-align: top;\n",
              "    }\n",
              "\n",
              "    .dataframe thead th {\n",
              "        text-align: right;\n",
              "    }\n",
              "</style>\n",
              "<table border=\"1\" class=\"dataframe\">\n",
              "  <thead>\n",
              "    <tr style=\"text-align: right;\">\n",
              "      <th></th>\n",
              "      <th>Ticker</th>\n",
              "      <th>Date/Time</th>\n",
              "      <th>Open</th>\n",
              "      <th>High</th>\n",
              "      <th>Low</th>\n",
              "      <th>Close</th>\n",
              "      <th>Volume</th>\n",
              "      <th>Open Interest</th>\n",
              "    </tr>\n",
              "  </thead>\n",
              "  <tbody>\n",
              "    <tr>\n",
              "      <th>0</th>\n",
              "      <td>FPT</td>\n",
              "      <td>12/25/2018 9:15</td>\n",
              "      <td>30.89</td>\n",
              "      <td>30.89</td>\n",
              "      <td>30.89</td>\n",
              "      <td>30.89</td>\n",
              "      <td>35410</td>\n",
              "      <td>0</td>\n",
              "    </tr>\n",
              "    <tr>\n",
              "      <th>1</th>\n",
              "      <td>FPT</td>\n",
              "      <td>12/25/2018 9:16</td>\n",
              "      <td>30.81</td>\n",
              "      <td>30.81</td>\n",
              "      <td>30.81</td>\n",
              "      <td>30.81</td>\n",
              "      <td>190</td>\n",
              "      <td>0</td>\n",
              "    </tr>\n",
              "    <tr>\n",
              "      <th>2</th>\n",
              "      <td>FPT</td>\n",
              "      <td>12/25/2018 9:17</td>\n",
              "      <td>30.74</td>\n",
              "      <td>30.81</td>\n",
              "      <td>30.74</td>\n",
              "      <td>30.74</td>\n",
              "      <td>1120</td>\n",
              "      <td>0</td>\n",
              "    </tr>\n",
              "    <tr>\n",
              "      <th>3</th>\n",
              "      <td>FPT</td>\n",
              "      <td>12/25/2018 9:18</td>\n",
              "      <td>30.74</td>\n",
              "      <td>30.74</td>\n",
              "      <td>30.74</td>\n",
              "      <td>30.74</td>\n",
              "      <td>2120</td>\n",
              "      <td>0</td>\n",
              "    </tr>\n",
              "    <tr>\n",
              "      <th>4</th>\n",
              "      <td>FPT</td>\n",
              "      <td>12/25/2018 9:19</td>\n",
              "      <td>30.74</td>\n",
              "      <td>30.74</td>\n",
              "      <td>30.74</td>\n",
              "      <td>30.74</td>\n",
              "      <td>22500</td>\n",
              "      <td>0</td>\n",
              "    </tr>\n",
              "    <tr>\n",
              "      <th>...</th>\n",
              "      <td>...</td>\n",
              "      <td>...</td>\n",
              "      <td>...</td>\n",
              "      <td>...</td>\n",
              "      <td>...</td>\n",
              "      <td>...</td>\n",
              "      <td>...</td>\n",
              "      <td>...</td>\n",
              "    </tr>\n",
              "    <tr>\n",
              "      <th>97401</th>\n",
              "      <td>FPT</td>\n",
              "      <td>12/22/2020 14:24</td>\n",
              "      <td>58.20</td>\n",
              "      <td>58.20</td>\n",
              "      <td>58.20</td>\n",
              "      <td>58.20</td>\n",
              "      <td>27470</td>\n",
              "      <td>0</td>\n",
              "    </tr>\n",
              "    <tr>\n",
              "      <th>97402</th>\n",
              "      <td>FPT</td>\n",
              "      <td>12/22/2020 14:25</td>\n",
              "      <td>58.20</td>\n",
              "      <td>58.20</td>\n",
              "      <td>58.20</td>\n",
              "      <td>58.20</td>\n",
              "      <td>14820</td>\n",
              "      <td>0</td>\n",
              "    </tr>\n",
              "    <tr>\n",
              "      <th>97403</th>\n",
              "      <td>FPT</td>\n",
              "      <td>12/22/2020 14:26</td>\n",
              "      <td>58.20</td>\n",
              "      <td>58.20</td>\n",
              "      <td>58.20</td>\n",
              "      <td>58.20</td>\n",
              "      <td>500</td>\n",
              "      <td>0</td>\n",
              "    </tr>\n",
              "    <tr>\n",
              "      <th>97404</th>\n",
              "      <td>FPT</td>\n",
              "      <td>12/22/2020 14:29</td>\n",
              "      <td>58.10</td>\n",
              "      <td>58.10</td>\n",
              "      <td>58.10</td>\n",
              "      <td>58.10</td>\n",
              "      <td>2500</td>\n",
              "      <td>0</td>\n",
              "    </tr>\n",
              "    <tr>\n",
              "      <th>97405</th>\n",
              "      <td>FPT</td>\n",
              "      <td>12/22/2020 14:46</td>\n",
              "      <td>58.10</td>\n",
              "      <td>58.10</td>\n",
              "      <td>58.10</td>\n",
              "      <td>58.10</td>\n",
              "      <td>11170</td>\n",
              "      <td>0</td>\n",
              "    </tr>\n",
              "  </tbody>\n",
              "</table>\n",
              "<p>97406 rows × 8 columns</p>\n",
              "</div>\n",
              "    <div class=\"colab-df-buttons\">\n",
              "\n",
              "  <div class=\"colab-df-container\">\n",
              "    <button class=\"colab-df-convert\" onclick=\"convertToInteractive('df-2d9f3599-2bf7-4dc3-a0c0-18183cde81c3')\"\n",
              "            title=\"Convert this dataframe to an interactive table.\"\n",
              "            style=\"display:none;\">\n",
              "\n",
              "  <svg xmlns=\"http://www.w3.org/2000/svg\" height=\"24px\" viewBox=\"0 -960 960 960\">\n",
              "    <path d=\"M120-120v-720h720v720H120Zm60-500h600v-160H180v160Zm220 220h160v-160H400v160Zm0 220h160v-160H400v160ZM180-400h160v-160H180v160Zm440 0h160v-160H620v160ZM180-180h160v-160H180v160Zm440 0h160v-160H620v160Z\"/>\n",
              "  </svg>\n",
              "    </button>\n",
              "\n",
              "  <style>\n",
              "    .colab-df-container {\n",
              "      display:flex;\n",
              "      gap: 12px;\n",
              "    }\n",
              "\n",
              "    .colab-df-convert {\n",
              "      background-color: #E8F0FE;\n",
              "      border: none;\n",
              "      border-radius: 50%;\n",
              "      cursor: pointer;\n",
              "      display: none;\n",
              "      fill: #1967D2;\n",
              "      height: 32px;\n",
              "      padding: 0 0 0 0;\n",
              "      width: 32px;\n",
              "    }\n",
              "\n",
              "    .colab-df-convert:hover {\n",
              "      background-color: #E2EBFA;\n",
              "      box-shadow: 0px 1px 2px rgba(60, 64, 67, 0.3), 0px 1px 3px 1px rgba(60, 64, 67, 0.15);\n",
              "      fill: #174EA6;\n",
              "    }\n",
              "\n",
              "    .colab-df-buttons div {\n",
              "      margin-bottom: 4px;\n",
              "    }\n",
              "\n",
              "    [theme=dark] .colab-df-convert {\n",
              "      background-color: #3B4455;\n",
              "      fill: #D2E3FC;\n",
              "    }\n",
              "\n",
              "    [theme=dark] .colab-df-convert:hover {\n",
              "      background-color: #434B5C;\n",
              "      box-shadow: 0px 1px 3px 1px rgba(0, 0, 0, 0.15);\n",
              "      filter: drop-shadow(0px 1px 2px rgba(0, 0, 0, 0.3));\n",
              "      fill: #FFFFFF;\n",
              "    }\n",
              "  </style>\n",
              "\n",
              "    <script>\n",
              "      const buttonEl =\n",
              "        document.querySelector('#df-2d9f3599-2bf7-4dc3-a0c0-18183cde81c3 button.colab-df-convert');\n",
              "      buttonEl.style.display =\n",
              "        google.colab.kernel.accessAllowed ? 'block' : 'none';\n",
              "\n",
              "      async function convertToInteractive(key) {\n",
              "        const element = document.querySelector('#df-2d9f3599-2bf7-4dc3-a0c0-18183cde81c3');\n",
              "        const dataTable =\n",
              "          await google.colab.kernel.invokeFunction('convertToInteractive',\n",
              "                                                    [key], {});\n",
              "        if (!dataTable) return;\n",
              "\n",
              "        const docLinkHtml = 'Like what you see? Visit the ' +\n",
              "          '<a target=\"_blank\" href=https://colab.research.google.com/notebooks/data_table.ipynb>data table notebook</a>'\n",
              "          + ' to learn more about interactive tables.';\n",
              "        element.innerHTML = '';\n",
              "        dataTable['output_type'] = 'display_data';\n",
              "        await google.colab.output.renderOutput(dataTable, element);\n",
              "        const docLink = document.createElement('div');\n",
              "        docLink.innerHTML = docLinkHtml;\n",
              "        element.appendChild(docLink);\n",
              "      }\n",
              "    </script>\n",
              "  </div>\n",
              "\n",
              "\n",
              "<div id=\"df-5ddeae62-293b-41d6-be87-9975e3621580\">\n",
              "  <button class=\"colab-df-quickchart\" onclick=\"quickchart('df-5ddeae62-293b-41d6-be87-9975e3621580')\"\n",
              "            title=\"Suggest charts\"\n",
              "            style=\"display:none;\">\n",
              "\n",
              "<svg xmlns=\"http://www.w3.org/2000/svg\" height=\"24px\"viewBox=\"0 0 24 24\"\n",
              "     width=\"24px\">\n",
              "    <g>\n",
              "        <path d=\"M19 3H5c-1.1 0-2 .9-2 2v14c0 1.1.9 2 2 2h14c1.1 0 2-.9 2-2V5c0-1.1-.9-2-2-2zM9 17H7v-7h2v7zm4 0h-2V7h2v10zm4 0h-2v-4h2v4z\"/>\n",
              "    </g>\n",
              "</svg>\n",
              "  </button>\n",
              "\n",
              "<style>\n",
              "  .colab-df-quickchart {\n",
              "      --bg-color: #E8F0FE;\n",
              "      --fill-color: #1967D2;\n",
              "      --hover-bg-color: #E2EBFA;\n",
              "      --hover-fill-color: #174EA6;\n",
              "      --disabled-fill-color: #AAA;\n",
              "      --disabled-bg-color: #DDD;\n",
              "  }\n",
              "\n",
              "  [theme=dark] .colab-df-quickchart {\n",
              "      --bg-color: #3B4455;\n",
              "      --fill-color: #D2E3FC;\n",
              "      --hover-bg-color: #434B5C;\n",
              "      --hover-fill-color: #FFFFFF;\n",
              "      --disabled-bg-color: #3B4455;\n",
              "      --disabled-fill-color: #666;\n",
              "  }\n",
              "\n",
              "  .colab-df-quickchart {\n",
              "    background-color: var(--bg-color);\n",
              "    border: none;\n",
              "    border-radius: 50%;\n",
              "    cursor: pointer;\n",
              "    display: none;\n",
              "    fill: var(--fill-color);\n",
              "    height: 32px;\n",
              "    padding: 0;\n",
              "    width: 32px;\n",
              "  }\n",
              "\n",
              "  .colab-df-quickchart:hover {\n",
              "    background-color: var(--hover-bg-color);\n",
              "    box-shadow: 0 1px 2px rgba(60, 64, 67, 0.3), 0 1px 3px 1px rgba(60, 64, 67, 0.15);\n",
              "    fill: var(--button-hover-fill-color);\n",
              "  }\n",
              "\n",
              "  .colab-df-quickchart-complete:disabled,\n",
              "  .colab-df-quickchart-complete:disabled:hover {\n",
              "    background-color: var(--disabled-bg-color);\n",
              "    fill: var(--disabled-fill-color);\n",
              "    box-shadow: none;\n",
              "  }\n",
              "\n",
              "  .colab-df-spinner {\n",
              "    border: 2px solid var(--fill-color);\n",
              "    border-color: transparent;\n",
              "    border-bottom-color: var(--fill-color);\n",
              "    animation:\n",
              "      spin 1s steps(1) infinite;\n",
              "  }\n",
              "\n",
              "  @keyframes spin {\n",
              "    0% {\n",
              "      border-color: transparent;\n",
              "      border-bottom-color: var(--fill-color);\n",
              "      border-left-color: var(--fill-color);\n",
              "    }\n",
              "    20% {\n",
              "      border-color: transparent;\n",
              "      border-left-color: var(--fill-color);\n",
              "      border-top-color: var(--fill-color);\n",
              "    }\n",
              "    30% {\n",
              "      border-color: transparent;\n",
              "      border-left-color: var(--fill-color);\n",
              "      border-top-color: var(--fill-color);\n",
              "      border-right-color: var(--fill-color);\n",
              "    }\n",
              "    40% {\n",
              "      border-color: transparent;\n",
              "      border-right-color: var(--fill-color);\n",
              "      border-top-color: var(--fill-color);\n",
              "    }\n",
              "    60% {\n",
              "      border-color: transparent;\n",
              "      border-right-color: var(--fill-color);\n",
              "    }\n",
              "    80% {\n",
              "      border-color: transparent;\n",
              "      border-right-color: var(--fill-color);\n",
              "      border-bottom-color: var(--fill-color);\n",
              "    }\n",
              "    90% {\n",
              "      border-color: transparent;\n",
              "      border-bottom-color: var(--fill-color);\n",
              "    }\n",
              "  }\n",
              "</style>\n",
              "\n",
              "  <script>\n",
              "    async function quickchart(key) {\n",
              "      const quickchartButtonEl =\n",
              "        document.querySelector('#' + key + ' button');\n",
              "      quickchartButtonEl.disabled = true;  // To prevent multiple clicks.\n",
              "      quickchartButtonEl.classList.add('colab-df-spinner');\n",
              "      try {\n",
              "        const charts = await google.colab.kernel.invokeFunction(\n",
              "            'suggestCharts', [key], {});\n",
              "      } catch (error) {\n",
              "        console.error('Error during call to suggestCharts:', error);\n",
              "      }\n",
              "      quickchartButtonEl.classList.remove('colab-df-spinner');\n",
              "      quickchartButtonEl.classList.add('colab-df-quickchart-complete');\n",
              "    }\n",
              "    (() => {\n",
              "      let quickchartButtonEl =\n",
              "        document.querySelector('#df-5ddeae62-293b-41d6-be87-9975e3621580 button');\n",
              "      quickchartButtonEl.style.display =\n",
              "        google.colab.kernel.accessAllowed ? 'block' : 'none';\n",
              "    })();\n",
              "  </script>\n",
              "</div>\n",
              "    </div>\n",
              "  </div>\n"
            ],
            "application/vnd.google.colaboratory.intrinsic+json": {
              "type": "dataframe",
              "variable_name": "df",
              "summary": "{\n  \"name\": \"df\",\n  \"rows\": 97406,\n  \"fields\": [\n    {\n      \"column\": \"Ticker\",\n      \"properties\": {\n        \"dtype\": \"category\",\n        \"num_unique_values\": 1,\n        \"samples\": [\n          \"FPT\"\n        ],\n        \"semantic_type\": \"\",\n        \"description\": \"\"\n      }\n    },\n    {\n      \"column\": \"Date/Time\",\n      \"properties\": {\n        \"dtype\": \"object\",\n        \"num_unique_values\": 97406,\n        \"samples\": [\n          \"9/16/2020 13:28\"\n        ],\n        \"semantic_type\": \"\",\n        \"description\": \"\"\n      }\n    },\n    {\n      \"column\": \"Open\",\n      \"properties\": {\n        \"dtype\": \"number\",\n        \"std\": 6.35980305876542,\n        \"min\": 30.25,\n        \"max\": 58.4,\n        \"num_unique_values\": 802,\n        \"samples\": [\n          37.68\n        ],\n        \"semantic_type\": \"\",\n        \"description\": \"\"\n      }\n    },\n    {\n      \"column\": \"High\",\n      \"properties\": {\n        \"dtype\": \"number\",\n        \"std\": 6.364950227706257,\n        \"min\": 30.25,\n        \"max\": 58.5,\n        \"num_unique_values\": 800,\n        \"samples\": [\n          45.35\n        ],\n        \"semantic_type\": \"\",\n        \"description\": \"\"\n      }\n    },\n    {\n      \"column\": \"Low\",\n      \"properties\": {\n        \"dtype\": \"number\",\n        \"std\": 6.354245483598624,\n        \"min\": 30.22,\n        \"max\": 58.4,\n        \"num_unique_values\": 802,\n        \"samples\": [\n          37.75\n        ],\n        \"semantic_type\": \"\",\n        \"description\": \"\"\n      }\n    },\n    {\n      \"column\": \"Close\",\n      \"properties\": {\n        \"dtype\": \"number\",\n        \"std\": 6.359798823149514,\n        \"min\": 30.25,\n        \"max\": 58.4,\n        \"num_unique_values\": 802,\n        \"samples\": [\n          37.75\n        ],\n        \"semantic_type\": \"\",\n        \"description\": \"\"\n      }\n    },\n    {\n      \"column\": \"Volume\",\n      \"properties\": {\n        \"dtype\": \"number\",\n        \"std\": 17532,\n        \"min\": 10,\n        \"max\": 1255930,\n        \"num_unique_values\": 6221,\n        \"samples\": [\n          46050\n        ],\n        \"semantic_type\": \"\",\n        \"description\": \"\"\n      }\n    },\n    {\n      \"column\": \"Open Interest\",\n      \"properties\": {\n        \"dtype\": \"number\",\n        \"std\": 0,\n        \"min\": 0,\n        \"max\": 0,\n        \"num_unique_values\": 1,\n        \"samples\": [\n          0\n        ],\n        \"semantic_type\": \"\",\n        \"description\": \"\"\n      }\n    }\n  ]\n}"
            }
          },
          "metadata": {},
          "execution_count": 136
        }
      ]
    },
    {
      "cell_type": "markdown",
      "source": [
        "##Làm sạch dữ liệu"
      ],
      "metadata": {
        "id": "HQTT9sdlOPwP"
      }
    },
    {
      "cell_type": "code",
      "source": [
        "# Xem kiểu dữ liệu\n",
        "df.info()"
      ],
      "metadata": {
        "colab": {
          "base_uri": "https://localhost:8080/"
        },
        "id": "75SiPtsnDb0C",
        "outputId": "2df5fd23-c442-4a99-f0e0-fd0d6b7fd781"
      },
      "execution_count": null,
      "outputs": [
        {
          "output_type": "stream",
          "name": "stdout",
          "text": [
            "<class 'pandas.core.frame.DataFrame'>\n",
            "RangeIndex: 97406 entries, 0 to 97405\n",
            "Data columns (total 8 columns):\n",
            " #   Column         Non-Null Count  Dtype  \n",
            "---  ------         --------------  -----  \n",
            " 0   Ticker         97406 non-null  object \n",
            " 1   Date/Time      97406 non-null  object \n",
            " 2   Open           97406 non-null  float64\n",
            " 3   High           97406 non-null  float64\n",
            " 4   Low            97406 non-null  float64\n",
            " 5   Close          97406 non-null  float64\n",
            " 6   Volume         97406 non-null  int64  \n",
            " 7   Open Interest  97406 non-null  int64  \n",
            "dtypes: float64(4), int64(2), object(2)\n",
            "memory usage: 5.9+ MB\n"
          ]
        }
      ]
    },
    {
      "cell_type": "code",
      "source": [
        "# Kiểm tra hàng trùng lặp\n",
        "df.duplicated().any()"
      ],
      "metadata": {
        "colab": {
          "base_uri": "https://localhost:8080/"
        },
        "id": "3a0ZkgHnENqR",
        "outputId": "5a923e7b-78ec-4530-d0bf-5a25b9dd8719"
      },
      "execution_count": null,
      "outputs": [
        {
          "output_type": "execute_result",
          "data": {
            "text/plain": [
              "False"
            ]
          },
          "metadata": {},
          "execution_count": 139
        }
      ]
    },
    {
      "cell_type": "code",
      "source": [
        "# Kiểm tra Null\n",
        "df.isnull().any()"
      ],
      "metadata": {
        "colab": {
          "base_uri": "https://localhost:8080/"
        },
        "id": "RhkA3_dOG6qE",
        "outputId": "51293182-e271-4967-d079-64535ca7a200"
      },
      "execution_count": null,
      "outputs": [
        {
          "output_type": "execute_result",
          "data": {
            "text/plain": [
              "Ticker           False\n",
              "Date/Time        False\n",
              "Open             False\n",
              "High             False\n",
              "Low              False\n",
              "Close            False\n",
              "Volume           False\n",
              "Open Interest    False\n",
              "dtype: bool"
            ]
          },
          "metadata": {},
          "execution_count": 140
        }
      ]
    },
    {
      "cell_type": "code",
      "source": [
        "# Kiểm tra các giá trị min, max, mean(giá trị trung bình), standard(độ lệch chuẩn) của mỗi cột\n",
        "df.describe()"
      ],
      "metadata": {
        "colab": {
          "base_uri": "https://localhost:8080/",
          "height": 300
        },
        "id": "rEyJh3gBHJ6x",
        "outputId": "e04454e2-6ee2-4eae-bde1-f850d5ae6dbe"
      },
      "execution_count": null,
      "outputs": [
        {
          "output_type": "execute_result",
          "data": {
            "text/plain": [
              "               Open          High           Low         Close        Volume  \\\n",
              "count  97406.000000  97406.000000  97406.000000  97406.000000  9.740600e+04   \n",
              "mean      45.071630     45.090138     45.051430     45.071631  8.044173e+03   \n",
              "std        6.359803      6.364950      6.354245      6.359799  1.753203e+04   \n",
              "min       30.250000     30.250000     30.220000     30.250000  1.000000e+01   \n",
              "25%       39.740000     39.740000     39.700000     39.740000  7.500000e+02   \n",
              "50%       46.950000     46.950000     46.950000     46.950000  2.960000e+03   \n",
              "75%       49.200000     49.250000     49.170000     49.200000  8.960000e+03   \n",
              "max       58.400000     58.500000     58.400000     58.400000  1.255930e+06   \n",
              "\n",
              "       Open Interest  \n",
              "count        97406.0  \n",
              "mean             0.0  \n",
              "std              0.0  \n",
              "min              0.0  \n",
              "25%              0.0  \n",
              "50%              0.0  \n",
              "75%              0.0  \n",
              "max              0.0  "
            ],
            "text/html": [
              "\n",
              "  <div id=\"df-c28bd666-a5c2-43f1-a06a-e9922d8a39e9\" class=\"colab-df-container\">\n",
              "    <div>\n",
              "<style scoped>\n",
              "    .dataframe tbody tr th:only-of-type {\n",
              "        vertical-align: middle;\n",
              "    }\n",
              "\n",
              "    .dataframe tbody tr th {\n",
              "        vertical-align: top;\n",
              "    }\n",
              "\n",
              "    .dataframe thead th {\n",
              "        text-align: right;\n",
              "    }\n",
              "</style>\n",
              "<table border=\"1\" class=\"dataframe\">\n",
              "  <thead>\n",
              "    <tr style=\"text-align: right;\">\n",
              "      <th></th>\n",
              "      <th>Open</th>\n",
              "      <th>High</th>\n",
              "      <th>Low</th>\n",
              "      <th>Close</th>\n",
              "      <th>Volume</th>\n",
              "      <th>Open Interest</th>\n",
              "    </tr>\n",
              "  </thead>\n",
              "  <tbody>\n",
              "    <tr>\n",
              "      <th>count</th>\n",
              "      <td>97406.000000</td>\n",
              "      <td>97406.000000</td>\n",
              "      <td>97406.000000</td>\n",
              "      <td>97406.000000</td>\n",
              "      <td>9.740600e+04</td>\n",
              "      <td>97406.0</td>\n",
              "    </tr>\n",
              "    <tr>\n",
              "      <th>mean</th>\n",
              "      <td>45.071630</td>\n",
              "      <td>45.090138</td>\n",
              "      <td>45.051430</td>\n",
              "      <td>45.071631</td>\n",
              "      <td>8.044173e+03</td>\n",
              "      <td>0.0</td>\n",
              "    </tr>\n",
              "    <tr>\n",
              "      <th>std</th>\n",
              "      <td>6.359803</td>\n",
              "      <td>6.364950</td>\n",
              "      <td>6.354245</td>\n",
              "      <td>6.359799</td>\n",
              "      <td>1.753203e+04</td>\n",
              "      <td>0.0</td>\n",
              "    </tr>\n",
              "    <tr>\n",
              "      <th>min</th>\n",
              "      <td>30.250000</td>\n",
              "      <td>30.250000</td>\n",
              "      <td>30.220000</td>\n",
              "      <td>30.250000</td>\n",
              "      <td>1.000000e+01</td>\n",
              "      <td>0.0</td>\n",
              "    </tr>\n",
              "    <tr>\n",
              "      <th>25%</th>\n",
              "      <td>39.740000</td>\n",
              "      <td>39.740000</td>\n",
              "      <td>39.700000</td>\n",
              "      <td>39.740000</td>\n",
              "      <td>7.500000e+02</td>\n",
              "      <td>0.0</td>\n",
              "    </tr>\n",
              "    <tr>\n",
              "      <th>50%</th>\n",
              "      <td>46.950000</td>\n",
              "      <td>46.950000</td>\n",
              "      <td>46.950000</td>\n",
              "      <td>46.950000</td>\n",
              "      <td>2.960000e+03</td>\n",
              "      <td>0.0</td>\n",
              "    </tr>\n",
              "    <tr>\n",
              "      <th>75%</th>\n",
              "      <td>49.200000</td>\n",
              "      <td>49.250000</td>\n",
              "      <td>49.170000</td>\n",
              "      <td>49.200000</td>\n",
              "      <td>8.960000e+03</td>\n",
              "      <td>0.0</td>\n",
              "    </tr>\n",
              "    <tr>\n",
              "      <th>max</th>\n",
              "      <td>58.400000</td>\n",
              "      <td>58.500000</td>\n",
              "      <td>58.400000</td>\n",
              "      <td>58.400000</td>\n",
              "      <td>1.255930e+06</td>\n",
              "      <td>0.0</td>\n",
              "    </tr>\n",
              "  </tbody>\n",
              "</table>\n",
              "</div>\n",
              "    <div class=\"colab-df-buttons\">\n",
              "\n",
              "  <div class=\"colab-df-container\">\n",
              "    <button class=\"colab-df-convert\" onclick=\"convertToInteractive('df-c28bd666-a5c2-43f1-a06a-e9922d8a39e9')\"\n",
              "            title=\"Convert this dataframe to an interactive table.\"\n",
              "            style=\"display:none;\">\n",
              "\n",
              "  <svg xmlns=\"http://www.w3.org/2000/svg\" height=\"24px\" viewBox=\"0 -960 960 960\">\n",
              "    <path d=\"M120-120v-720h720v720H120Zm60-500h600v-160H180v160Zm220 220h160v-160H400v160Zm0 220h160v-160H400v160ZM180-400h160v-160H180v160Zm440 0h160v-160H620v160ZM180-180h160v-160H180v160Zm440 0h160v-160H620v160Z\"/>\n",
              "  </svg>\n",
              "    </button>\n",
              "\n",
              "  <style>\n",
              "    .colab-df-container {\n",
              "      display:flex;\n",
              "      gap: 12px;\n",
              "    }\n",
              "\n",
              "    .colab-df-convert {\n",
              "      background-color: #E8F0FE;\n",
              "      border: none;\n",
              "      border-radius: 50%;\n",
              "      cursor: pointer;\n",
              "      display: none;\n",
              "      fill: #1967D2;\n",
              "      height: 32px;\n",
              "      padding: 0 0 0 0;\n",
              "      width: 32px;\n",
              "    }\n",
              "\n",
              "    .colab-df-convert:hover {\n",
              "      background-color: #E2EBFA;\n",
              "      box-shadow: 0px 1px 2px rgba(60, 64, 67, 0.3), 0px 1px 3px 1px rgba(60, 64, 67, 0.15);\n",
              "      fill: #174EA6;\n",
              "    }\n",
              "\n",
              "    .colab-df-buttons div {\n",
              "      margin-bottom: 4px;\n",
              "    }\n",
              "\n",
              "    [theme=dark] .colab-df-convert {\n",
              "      background-color: #3B4455;\n",
              "      fill: #D2E3FC;\n",
              "    }\n",
              "\n",
              "    [theme=dark] .colab-df-convert:hover {\n",
              "      background-color: #434B5C;\n",
              "      box-shadow: 0px 1px 3px 1px rgba(0, 0, 0, 0.15);\n",
              "      filter: drop-shadow(0px 1px 2px rgba(0, 0, 0, 0.3));\n",
              "      fill: #FFFFFF;\n",
              "    }\n",
              "  </style>\n",
              "\n",
              "    <script>\n",
              "      const buttonEl =\n",
              "        document.querySelector('#df-c28bd666-a5c2-43f1-a06a-e9922d8a39e9 button.colab-df-convert');\n",
              "      buttonEl.style.display =\n",
              "        google.colab.kernel.accessAllowed ? 'block' : 'none';\n",
              "\n",
              "      async function convertToInteractive(key) {\n",
              "        const element = document.querySelector('#df-c28bd666-a5c2-43f1-a06a-e9922d8a39e9');\n",
              "        const dataTable =\n",
              "          await google.colab.kernel.invokeFunction('convertToInteractive',\n",
              "                                                    [key], {});\n",
              "        if (!dataTable) return;\n",
              "\n",
              "        const docLinkHtml = 'Like what you see? Visit the ' +\n",
              "          '<a target=\"_blank\" href=https://colab.research.google.com/notebooks/data_table.ipynb>data table notebook</a>'\n",
              "          + ' to learn more about interactive tables.';\n",
              "        element.innerHTML = '';\n",
              "        dataTable['output_type'] = 'display_data';\n",
              "        await google.colab.output.renderOutput(dataTable, element);\n",
              "        const docLink = document.createElement('div');\n",
              "        docLink.innerHTML = docLinkHtml;\n",
              "        element.appendChild(docLink);\n",
              "      }\n",
              "    </script>\n",
              "  </div>\n",
              "\n",
              "\n",
              "<div id=\"df-a007b6c3-af02-4bbb-8784-c9595c661582\">\n",
              "  <button class=\"colab-df-quickchart\" onclick=\"quickchart('df-a007b6c3-af02-4bbb-8784-c9595c661582')\"\n",
              "            title=\"Suggest charts\"\n",
              "            style=\"display:none;\">\n",
              "\n",
              "<svg xmlns=\"http://www.w3.org/2000/svg\" height=\"24px\"viewBox=\"0 0 24 24\"\n",
              "     width=\"24px\">\n",
              "    <g>\n",
              "        <path d=\"M19 3H5c-1.1 0-2 .9-2 2v14c0 1.1.9 2 2 2h14c1.1 0 2-.9 2-2V5c0-1.1-.9-2-2-2zM9 17H7v-7h2v7zm4 0h-2V7h2v10zm4 0h-2v-4h2v4z\"/>\n",
              "    </g>\n",
              "</svg>\n",
              "  </button>\n",
              "\n",
              "<style>\n",
              "  .colab-df-quickchart {\n",
              "      --bg-color: #E8F0FE;\n",
              "      --fill-color: #1967D2;\n",
              "      --hover-bg-color: #E2EBFA;\n",
              "      --hover-fill-color: #174EA6;\n",
              "      --disabled-fill-color: #AAA;\n",
              "      --disabled-bg-color: #DDD;\n",
              "  }\n",
              "\n",
              "  [theme=dark] .colab-df-quickchart {\n",
              "      --bg-color: #3B4455;\n",
              "      --fill-color: #D2E3FC;\n",
              "      --hover-bg-color: #434B5C;\n",
              "      --hover-fill-color: #FFFFFF;\n",
              "      --disabled-bg-color: #3B4455;\n",
              "      --disabled-fill-color: #666;\n",
              "  }\n",
              "\n",
              "  .colab-df-quickchart {\n",
              "    background-color: var(--bg-color);\n",
              "    border: none;\n",
              "    border-radius: 50%;\n",
              "    cursor: pointer;\n",
              "    display: none;\n",
              "    fill: var(--fill-color);\n",
              "    height: 32px;\n",
              "    padding: 0;\n",
              "    width: 32px;\n",
              "  }\n",
              "\n",
              "  .colab-df-quickchart:hover {\n",
              "    background-color: var(--hover-bg-color);\n",
              "    box-shadow: 0 1px 2px rgba(60, 64, 67, 0.3), 0 1px 3px 1px rgba(60, 64, 67, 0.15);\n",
              "    fill: var(--button-hover-fill-color);\n",
              "  }\n",
              "\n",
              "  .colab-df-quickchart-complete:disabled,\n",
              "  .colab-df-quickchart-complete:disabled:hover {\n",
              "    background-color: var(--disabled-bg-color);\n",
              "    fill: var(--disabled-fill-color);\n",
              "    box-shadow: none;\n",
              "  }\n",
              "\n",
              "  .colab-df-spinner {\n",
              "    border: 2px solid var(--fill-color);\n",
              "    border-color: transparent;\n",
              "    border-bottom-color: var(--fill-color);\n",
              "    animation:\n",
              "      spin 1s steps(1) infinite;\n",
              "  }\n",
              "\n",
              "  @keyframes spin {\n",
              "    0% {\n",
              "      border-color: transparent;\n",
              "      border-bottom-color: var(--fill-color);\n",
              "      border-left-color: var(--fill-color);\n",
              "    }\n",
              "    20% {\n",
              "      border-color: transparent;\n",
              "      border-left-color: var(--fill-color);\n",
              "      border-top-color: var(--fill-color);\n",
              "    }\n",
              "    30% {\n",
              "      border-color: transparent;\n",
              "      border-left-color: var(--fill-color);\n",
              "      border-top-color: var(--fill-color);\n",
              "      border-right-color: var(--fill-color);\n",
              "    }\n",
              "    40% {\n",
              "      border-color: transparent;\n",
              "      border-right-color: var(--fill-color);\n",
              "      border-top-color: var(--fill-color);\n",
              "    }\n",
              "    60% {\n",
              "      border-color: transparent;\n",
              "      border-right-color: var(--fill-color);\n",
              "    }\n",
              "    80% {\n",
              "      border-color: transparent;\n",
              "      border-right-color: var(--fill-color);\n",
              "      border-bottom-color: var(--fill-color);\n",
              "    }\n",
              "    90% {\n",
              "      border-color: transparent;\n",
              "      border-bottom-color: var(--fill-color);\n",
              "    }\n",
              "  }\n",
              "</style>\n",
              "\n",
              "  <script>\n",
              "    async function quickchart(key) {\n",
              "      const quickchartButtonEl =\n",
              "        document.querySelector('#' + key + ' button');\n",
              "      quickchartButtonEl.disabled = true;  // To prevent multiple clicks.\n",
              "      quickchartButtonEl.classList.add('colab-df-spinner');\n",
              "      try {\n",
              "        const charts = await google.colab.kernel.invokeFunction(\n",
              "            'suggestCharts', [key], {});\n",
              "      } catch (error) {\n",
              "        console.error('Error during call to suggestCharts:', error);\n",
              "      }\n",
              "      quickchartButtonEl.classList.remove('colab-df-spinner');\n",
              "      quickchartButtonEl.classList.add('colab-df-quickchart-complete');\n",
              "    }\n",
              "    (() => {\n",
              "      let quickchartButtonEl =\n",
              "        document.querySelector('#df-a007b6c3-af02-4bbb-8784-c9595c661582 button');\n",
              "      quickchartButtonEl.style.display =\n",
              "        google.colab.kernel.accessAllowed ? 'block' : 'none';\n",
              "    })();\n",
              "  </script>\n",
              "</div>\n",
              "    </div>\n",
              "  </div>\n"
            ],
            "application/vnd.google.colaboratory.intrinsic+json": {
              "type": "dataframe",
              "summary": "{\n  \"name\": \"df\",\n  \"rows\": 8,\n  \"fields\": [\n    {\n      \"column\": \"Open\",\n      \"properties\": {\n        \"dtype\": \"number\",\n        \"std\": 34424.28647428577,\n        \"min\": 6.35980305876542,\n        \"max\": 97406.0,\n        \"num_unique_values\": 8,\n        \"samples\": [\n          45.07163018705213,\n          46.95,\n          97406.0\n        ],\n        \"semantic_type\": \"\",\n        \"description\": \"\"\n      }\n    },\n    {\n      \"column\": \"High\",\n      \"properties\": {\n        \"dtype\": \"number\",\n        \"std\": 34424.27771300896,\n        \"min\": 6.364950227706257,\n        \"max\": 97406.0,\n        \"num_unique_values\": 8,\n        \"samples\": [\n          45.09013849249532,\n          46.95,\n          97406.0\n        ],\n        \"semantic_type\": \"\",\n        \"description\": \"\"\n      }\n    },\n    {\n      \"column\": \"Low\",\n      \"properties\": {\n        \"dtype\": \"number\",\n        \"std\": 34424.29282619759,\n        \"min\": 6.354245483598624,\n        \"max\": 97406.0,\n        \"num_unique_values\": 8,\n        \"samples\": [\n          45.051429583393215,\n          46.95,\n          97406.0\n        ],\n        \"semantic_type\": \"\",\n        \"description\": \"\"\n      }\n    },\n    {\n      \"column\": \"Close\",\n      \"properties\": {\n        \"dtype\": \"number\",\n        \"std\": 34424.286474464,\n        \"min\": 6.359798823149514,\n        \"max\": 97406.0,\n        \"num_unique_values\": 8,\n        \"samples\": [\n          45.07163090569369,\n          46.95,\n          97406.0\n        ],\n        \"semantic_type\": \"\",\n        \"description\": \"\"\n      }\n    },\n    {\n      \"column\": \"Volume\",\n      \"properties\": {\n        \"dtype\": \"number\",\n        \"std\": 438380.7337977361,\n        \"min\": 10.0,\n        \"max\": 1255930.0,\n        \"num_unique_values\": 8,\n        \"samples\": [\n          8044.172638235837,\n          2960.0,\n          97406.0\n        ],\n        \"semantic_type\": \"\",\n        \"description\": \"\"\n      }\n    },\n    {\n      \"column\": \"Open Interest\",\n      \"properties\": {\n        \"dtype\": \"number\",\n        \"std\": 34438.22156412843,\n        \"min\": 0.0,\n        \"max\": 97406.0,\n        \"num_unique_values\": 2,\n        \"samples\": [\n          0.0,\n          97406.0\n        ],\n        \"semantic_type\": \"\",\n        \"description\": \"\"\n      }\n    }\n  ]\n}"
            }
          },
          "metadata": {},
          "execution_count": 141
        }
      ]
    },
    {
      "cell_type": "code",
      "source": [
        "import matplotlib.pyplot as plt"
      ],
      "metadata": {
        "id": "FExA8ZPRHeNS"
      },
      "execution_count": null,
      "outputs": []
    },
    {
      "cell_type": "code",
      "source": [
        "# Sử dụng Histogram để kiểm tra sự phân bổ giá trị trong mỗi cột\n",
        "for column in df.columns:\n",
        "    plt.figure(figsize=(2, 1))\n",
        "    plt.hist(df[column], bins=20, color='green', edgecolor='black')\n",
        "    plt.title(f'Histogram của cột {column}')\n",
        "    plt.xlabel('Giá trị')\n",
        "    plt.ylabel('Số lượng')\n",
        "    plt.show()"
      ],
      "metadata": {
        "colab": {
          "base_uri": "https://localhost:8080/",
          "height": 1000
        },
        "id": "g5c66hG2HZsi",
        "outputId": "634d1d53-425e-4cee-c27b-19b30e2b62cf"
      },
      "execution_count": null,
      "outputs": [
        {
          "output_type": "display_data",
          "data": {
            "text/plain": [
              "<Figure size 200x100 with 1 Axes>"
            ],
            "image/png": "[encoded data removed]"
          },
          "metadata": {}
        },
        {
          "output_type": "display_data",
          "data": {
            "text/plain": [
              "<Figure size 200x100 with 1 Axes>"
            ],
            "image/png": "[encoded data removed]"
          },
          "metadata": {}
        },
        {
          "output_type": "display_data",
          "data": {
            "text/plain": [
              "<Figure size 200x100 with 1 Axes>"
            ],
            "image/png": "[encoded data removed]"
          },
          "metadata": {}
        },
        {
          "output_type": "display_data",
          "data": {
            "text/plain": [
              "<Figure size 200x100 with 1 Axes>"
            ],
            "image/png": "[encoded data removed]"
          },
          "metadata": {}
        },
        {
          "output_type": "display_data",
          "data": {
            "text/plain": [
              "<Figure size 200x100 with 1 Axes>"
            ],
            "image/png": "[encoded data removed]"
          },
          "metadata": {}
        },
        {
          "output_type": "display_data",
          "data": {
            "text/plain": [
              "<Figure size 200x100 with 1 Axes>"
            ],
            "image/png": "[encoded data removed]"
          },
          "metadata": {}
        },
        {
          "output_type": "display_data",
          "data": {
            "text/plain": [
              "<Figure size 200x100 with 1 Axes>"
            ],
            "image/png": "[encoded data removed]"
          },
          "metadata": {}
        },
        {
          "output_type": "display_data",
          "data": {
            "text/plain": [
              "<Figure size 200x100 with 1 Axes>"
            ],
            "image/png": "[encoded data removed]"
          },
          "metadata": {}
        }
      ]
    },
    {
      "cell_type": "code",
      "source": [
        "# Kiểm tra Histogram của cột Volume\n",
        "plt.figure(figsize=(4, 2))\n",
        "plt.hist(df['Volume'], bins=20, color='red', edgecolor='black')\n",
        "plt.title('Histogram của cột Volume')\n",
        "plt.xlabel('Giá trị')\n",
        "plt.ylabel('Số lượng')\n",
        "plt.show()"
      ],
      "metadata": {
        "colab": {
          "base_uri": "https://localhost:8080/",
          "height": 257
        },
        "id": "WFMLSBE6IrOX",
        "outputId": "99b8c306-6405-4e7a-e7ec-05bc74862827"
      },
      "execution_count": null,
      "outputs": [
        {
          "output_type": "display_data",
          "data": {
            "text/plain": [
              "<Figure size 400x200 with 1 Axes>"
            ],
            "image/png": "[encoded data removed]"
          },
          "metadata": {}
        }
      ]
    },
    {
      "cell_type": "markdown",
      "source": [
        "### Nhận xét dữ liệu\n",
        "+ Cột Volume có sự chênh lệch lớn giữa các giá trị, có thể làm dự báo sai lệch.\n",
        "+ Ở đây bài toán đặt ra là dự báo giá trị cổ phiếu thì em sẽ sử dụng cột Close làm thuộc tính quyết định để dự báo. Do các cột Open, High, Low có sự tương đồng nên loại bỏ để giảm thời gian thực thi.\n",
        "+ Để tăng Accuracy của thuật toán thì sẽ sử dụng Scale giá trị cột Close bằng công thức: (Giá trị - min)/(max - min)"
      ],
      "metadata": {
        "id": "U5e6xyfFJ6cM"
      }
    },
    {
      "cell_type": "code",
      "source": [
        "# Trích xuất cột Close từ Dataset\n",
        "df1 = df.reset_index()['Close']\n",
        "df1 = df1.reset_index(drop=True)"
      ],
      "metadata": {
        "id": "-XIVAjmxtsi1"
      },
      "execution_count": null,
      "outputs": []
    },
    {
      "cell_type": "code",
      "source": [
        "from sklearn.preprocessing import MinMaxScaler"
      ],
      "metadata": {
        "id": "WZOUP7WbuHuO"
      },
      "execution_count": null,
      "outputs": []
    },
    {
      "cell_type": "code",
      "source": [
        "# Scale cột Close và lưu vào mảng\n",
        "scaler = MinMaxScaler(feature_range=(0,1))\n",
        "df1 = scaler.fit_transform(np.array(df1).reshape(-1,1))"
      ],
      "metadata": {
        "id": "phgwpOqKt62f"
      },
      "execution_count": null,
      "outputs": []
    },
    {
      "cell_type": "code",
      "source": [
        "df1"
      ],
      "metadata": {
        "colab": {
          "base_uri": "https://localhost:8080/"
        },
        "id": "6O5T8eWbuKA-",
        "outputId": "f95e166f-f36f-4cd0-d53d-1ab27e67c039"
      },
      "execution_count": null,
      "outputs": [
        {
          "output_type": "execute_result",
          "data": {
            "text/plain": [
              "array([[0.02273535],\n",
              "       [0.01989343],\n",
              "       [0.01740675],\n",
              "       ...,\n",
              "       [0.9928952 ],\n",
              "       [0.98934281],\n",
              "       [0.98934281]])"
            ]
          },
          "metadata": {},
          "execution_count": 148
        }
      ]
    },
    {
      "cell_type": "markdown",
      "source": [
        "##Phân tích dữ liệu"
      ],
      "metadata": {
        "id": "L_JX9qwKQHut"
      }
    },
    {
      "cell_type": "markdown",
      "source": [
        "### Phương pháp sử dụng\n",
        "- Đề bài là phân tích biến động giá cổ phiếu, ở đây em lựa chọn giá cổ phiếu giờ đóng cửa (Close) để phân tích.\n",
        "- Đối với tập dữ liệu này có 3 phương pháp phổ biến để phân tích:\n",
        "  + 1.Phương pháp phân tích chuỗi thời gian (Time Series Analysis): ARIMA, SARIMA ...\n",
        "  + 2.Phương pháp Machine Learning : Linear Regression, KNN ...\n",
        "  + 3.Phương pháp Deep Learning\n",
        "- Với bài toán dự báo xu hướng giá trị em sẽ sử dụng 2 mô hình Recurrent Neural Network (RNN) và mô hình Gated Recurrent Unit (GRU) nằm trong phương pháp Deep Learning. Trong phương pháp này mô hình Long short term memory (LSTM) có Accuracy tốt hơn, nhưng với tập dữ liệu có 97406 dòng thì LSTM có thời gian thực thi lâu hơn rất nhiều do sử dụng nhiều tham số."
      ],
      "metadata": {
        "id": "Z7F0S0uEQOz1"
      }
    },
    {
      "cell_type": "code",
      "source": [
        "# Chia dữ liệu thành 3 phần Train, Test, Validate theo tỉ lệ 7:2:1\n",
        "train_size = int(0.7 * len(df1))\n",
        "test_size = int(0.2 * len(df1))\n",
        "val_size = len(df1) - train_size - test_size\n",
        "\n",
        "train_data = df1[:train_size]\n",
        "test_data = df1[train_size:train_size+test_size]\n",
        "val_data = df1[train_size+test_size:]"
      ],
      "metadata": {
        "id": "DqAnbI9SbO0R"
      },
      "execution_count": null,
      "outputs": []
    },
    {
      "cell_type": "code",
      "source": [
        "train_data"
      ],
      "metadata": {
        "colab": {
          "base_uri": "https://localhost:8080/"
        },
        "id": "QyQjpLEBundd",
        "outputId": "89b2691c-5000-432f-f891-d57fc0697fc3"
      },
      "execution_count": null,
      "outputs": [
        {
          "output_type": "execute_result",
          "data": {
            "text/plain": [
              "array([[0.02273535],\n",
              "       [0.01989343],\n",
              "       [0.01740675],\n",
              "       ...,\n",
              "       [0.65008881],\n",
              "       [0.65186501],\n",
              "       [0.65186501]])"
            ]
          },
          "metadata": {},
          "execution_count": 150
        }
      ]
    },
    {
      "cell_type": "code",
      "source": [
        "test_data"
      ],
      "metadata": {
        "colab": {
          "base_uri": "https://localhost:8080/"
        },
        "id": "HPx9LWnAupez",
        "outputId": "6d0aa15d-4109-4d25-baf7-1ff9b9271b96"
      },
      "execution_count": null,
      "outputs": [
        {
          "output_type": "execute_result",
          "data": {
            "text/plain": [
              "array([[0.65008881],\n",
              "       [0.64831261],\n",
              "       [0.65008881],\n",
              "       ...,\n",
              "       [0.81172291],\n",
              "       [0.80817052],\n",
              "       [0.81172291]])"
            ]
          },
          "metadata": {},
          "execution_count": 151
        }
      ]
    },
    {
      "cell_type": "code",
      "source": [
        "val_data"
      ],
      "metadata": {
        "colab": {
          "base_uri": "https://localhost:8080/"
        },
        "id": "u-lJgySquq8T",
        "outputId": "ba6a463c-30cc-47cd-e27c-af5492a30c44"
      },
      "execution_count": null,
      "outputs": [
        {
          "output_type": "execute_result",
          "data": {
            "text/plain": [
              "array([[0.81172291],\n",
              "       [0.81172291],\n",
              "       [0.80817052],\n",
              "       ...,\n",
              "       [0.9928952 ],\n",
              "       [0.98934281],\n",
              "       [0.98934281]])"
            ]
          },
          "metadata": {},
          "execution_count": 152
        }
      ]
    },
    {
      "cell_type": "markdown",
      "source": [
        "### Mô hình RNN"
      ],
      "metadata": {
        "id": "jJ4LuSjsSORw"
      }
    },
    {
      "cell_type": "code",
      "source": [
        "# Gọi các thư viện cần thiết để xây dựng RNN\n",
        "from keras.models import Sequential\n",
        "from keras.layers import Dense, SimpleRNN"
      ],
      "metadata": {
        "id": "EZ8j3Lx5TtYt"
      },
      "execution_count": null,
      "outputs": []
    },
    {
      "cell_type": "code",
      "source": [
        "train_data_RNN = train_data\n",
        "test_data_RNN = test_data\n",
        "val_data_RNN = val_data"
      ],
      "metadata": {
        "id": "CiXhDptwT4bk"
      },
      "execution_count": null,
      "outputs": []
    },
    {
      "cell_type": "code",
      "source": [
        "# Hàm Create Dataset để chuyển đổi mảng thành ma trận\n",
        "def create_dataset(dataset, time_step=1):\n",
        "\tdataX, dataY = [], []\n",
        "\tfor i in range(len(dataset)-time_step-1):\n",
        "\t\ta = dataset[i:(i+time_step), 0]\n",
        "\t\tdataX.append(a)\n",
        "\t\tdataY.append(dataset[i + time_step, 0])\n",
        "\treturn np.array(dataX), np.array(dataY)"
      ],
      "metadata": {
        "id": "2YhxqoOHsI3z"
      },
      "execution_count": null,
      "outputs": []
    },
    {
      "cell_type": "code",
      "source": [
        "# Sử dụng hàm Create Dataset để chuyển đổi các mảng Train, Test, Validate\n",
        "time_step = 100\n",
        "x_train_RNN, y_train_RNN = create_dataset(train_data_RNN, time_step)\n",
        "x_val_RNN, y_val_RNN = create_dataset(val_data_RNN, time_step)\n",
        "x_test_RNN, y_test_RNN = create_dataset(test_data_RNN, time_step)"
      ],
      "metadata": {
        "id": "A9X6ZdzDTzIl"
      },
      "execution_count": null,
      "outputs": []
    },
    {
      "cell_type": "code",
      "source": [
        "# Reshape đầu vào để phù hợp với mô hình RNN\n",
        "x_train_RNN =x_train_RNN.reshape(x_train_RNN.shape[0],x_train_RNN.shape[1] , 1)\n",
        "x_test_RNN = x_test_RNN.reshape(x_test_RNN.shape[0],x_test_RNN.shape[1] , 1)\n",
        "x_val_RNN = x_val_RNN.reshape(x_val_RNN.shape[0],x_val_RNN.shape[1] , 1)"
      ],
      "metadata": {
        "id": "H9-RARp4Vgum"
      },
      "execution_count": null,
      "outputs": []
    },
    {
      "cell_type": "code",
      "source": [
        "# Khai báo mô hình RNN\n",
        "model = Sequential()\n",
        "model.add(SimpleRNN(50, input_shape=(time_step, 1)))\n",
        "model.add(Dense(1))\n",
        "model.compile(loss='mean_squared_error',optimizer='adam')"
      ],
      "metadata": {
        "id": "6kDwiFuVVmAz"
      },
      "execution_count": null,
      "outputs": []
    },
    {
      "cell_type": "code",
      "source": [
        "# Fit mô hình với dữ liệu Train\n",
        "model.fit(x_train_RNN, y_train_RNN, validation_data = (x_test_RNN, y_test_RNN),epochs=100,batch_size=64,verbose=1)"
      ],
      "metadata": {
        "colab": {
          "base_uri": "https://localhost:8080/"
        },
        "id": "-xJdKYvaVpZ-",
        "outputId": "d6ec4860-cd57-4e84-bc63-1bd8516799ae"
      },
      "execution_count": null,
      "outputs": [
        {
          "output_type": "stream",
          "name": "stdout",
          "text": [
            "Epoch 1/100\n",
            "1064/1064 [==============================] - 22s 19ms/step - loss: 1.1058e-04 - val_loss: 2.2765e-05\n",
            "Epoch 2/100\n",
            "1064/1064 [==============================] - 35s 33ms/step - loss: 9.3904e-06 - val_loss: 6.1786e-06\n",
            "Epoch 3/100\n",
            "1064/1064 [==============================] - 23s 22ms/step - loss: 8.1760e-06 - val_loss: 1.0443e-05\n",
            "Epoch 4/100\n",
            "1064/1064 [==============================] - 25s 24ms/step - loss: 8.1895e-06 - val_loss: 1.7741e-05\n",
            "Epoch 5/100\n",
            "1064/1064 [==============================] - 27s 25ms/step - loss: 7.8534e-06 - val_loss: 1.0890e-05\n",
            "Epoch 6/100\n",
            "1064/1064 [==============================] - 33s 31ms/step - loss: 7.1011e-06 - val_loss: 5.8592e-06\n",
            "Epoch 7/100\n",
            "1064/1064 [==============================] - 31s 29ms/step - loss: 6.7576e-06 - val_loss: 1.6221e-05\n",
            "Epoch 8/100\n",
            "1064/1064 [==============================] - 19s 18ms/step - loss: 7.2473e-06 - val_loss: 5.8661e-06\n",
            "Epoch 9/100\n",
            "1064/1064 [==============================] - 20s 19ms/step - loss: 6.8402e-06 - val_loss: 4.6501e-06\n",
            "Epoch 10/100\n",
            "1064/1064 [==============================] - 20s 19ms/step - loss: 6.8433e-06 - val_loss: 1.3404e-05\n",
            "Epoch 11/100\n",
            "1064/1064 [==============================] - 19s 18ms/step - loss: 6.8598e-06 - val_loss: 1.4699e-05\n",
            "Epoch 12/100\n",
            "1064/1064 [==============================] - 20s 19ms/step - loss: 6.4340e-06 - val_loss: 4.5554e-06\n",
            "Epoch 13/100\n",
            "1064/1064 [==============================] - 19s 18ms/step - loss: 6.3222e-06 - val_loss: 4.9217e-06\n",
            "Epoch 14/100\n",
            "1064/1064 [==============================] - 20s 19ms/step - loss: 6.3904e-06 - val_loss: 4.4068e-06\n",
            "Epoch 15/100\n",
            "1064/1064 [==============================] - 19s 18ms/step - loss: 6.1351e-06 - val_loss: 4.7316e-06\n",
            "Epoch 16/100\n",
            "1064/1064 [==============================] - 21s 20ms/step - loss: 6.3071e-06 - val_loss: 5.3634e-06\n",
            "Epoch 17/100\n",
            "1064/1064 [==============================] - 20s 19ms/step - loss: 5.8079e-06 - val_loss: 7.5580e-06\n",
            "Epoch 18/100\n",
            "1064/1064 [==============================] - 19s 18ms/step - loss: 6.2283e-06 - val_loss: 1.2163e-05\n",
            "Epoch 19/100\n",
            "1064/1064 [==============================] - 20s 19ms/step - loss: 6.0229e-06 - val_loss: 5.2922e-06\n",
            "Epoch 20/100\n",
            "1064/1064 [==============================] - 19s 18ms/step - loss: 6.0958e-06 - val_loss: 5.0553e-06\n",
            "Epoch 21/100\n",
            "1064/1064 [==============================] - 20s 19ms/step - loss: 6.1888e-06 - val_loss: 4.4630e-06\n",
            "Epoch 22/100\n",
            "1064/1064 [==============================] - 20s 19ms/step - loss: 6.0463e-06 - val_loss: 4.8118e-06\n",
            "Epoch 23/100\n",
            "1064/1064 [==============================] - 19s 18ms/step - loss: 6.0190e-06 - val_loss: 7.5606e-06\n",
            "Epoch 24/100\n",
            "1064/1064 [==============================] - 20s 19ms/step - loss: 6.0352e-06 - val_loss: 4.4707e-06\n",
            "Epoch 25/100\n",
            "1064/1064 [==============================] - 19s 18ms/step - loss: 6.0404e-06 - val_loss: 5.2288e-06\n",
            "Epoch 26/100\n",
            "1064/1064 [==============================] - 21s 19ms/step - loss: 5.7881e-06 - val_loss: 4.4690e-06\n",
            "Epoch 27/100\n",
            "1064/1064 [==============================] - 20s 19ms/step - loss: 6.0002e-06 - val_loss: 4.4910e-06\n",
            "Epoch 28/100\n",
            "1064/1064 [==============================] - 19s 18ms/step - loss: 5.8104e-06 - val_loss: 4.6833e-06\n",
            "Epoch 29/100\n",
            "1064/1064 [==============================] - 20s 19ms/step - loss: 5.9153e-06 - val_loss: 6.7033e-06\n",
            "Epoch 30/100\n",
            "1064/1064 [==============================] - 19s 18ms/step - loss: 5.7283e-06 - val_loss: 5.4078e-06\n",
            "Epoch 31/100\n",
            "1064/1064 [==============================] - 21s 19ms/step - loss: 5.8882e-06 - val_loss: 4.5157e-06\n",
            "Epoch 32/100\n",
            "1064/1064 [==============================] - 20s 18ms/step - loss: 5.8943e-06 - val_loss: 7.5782e-06\n",
            "Epoch 33/100\n",
            "1064/1064 [==============================] - 19s 18ms/step - loss: 5.8108e-06 - val_loss: 4.4375e-06\n",
            "Epoch 34/100\n",
            "1064/1064 [==============================] - 20s 19ms/step - loss: 5.8109e-06 - val_loss: 4.5814e-06\n",
            "Epoch 35/100\n",
            "1064/1064 [==============================] - 19s 18ms/step - loss: 5.8789e-06 - val_loss: 5.2079e-06\n",
            "Epoch 36/100\n",
            "1064/1064 [==============================] - 20s 19ms/step - loss: 5.8965e-06 - val_loss: 4.6740e-06\n",
            "Epoch 37/100\n",
            "1064/1064 [==============================] - 19s 18ms/step - loss: 5.8105e-06 - val_loss: 6.6887e-06\n",
            "Epoch 38/100\n",
            "1064/1064 [==============================] - 20s 19ms/step - loss: 5.7694e-06 - val_loss: 4.7486e-06\n",
            "Epoch 39/100\n",
            "1064/1064 [==============================] - 20s 19ms/step - loss: 5.6479e-06 - val_loss: 6.6178e-06\n",
            "Epoch 40/100\n",
            "1064/1064 [==============================] - 19s 18ms/step - loss: 5.8687e-06 - val_loss: 5.9933e-06\n",
            "Epoch 41/100\n",
            "1064/1064 [==============================] - 20s 19ms/step - loss: 5.6404e-06 - val_loss: 4.8797e-06\n",
            "Epoch 42/100\n",
            "1064/1064 [==============================] - 19s 18ms/step - loss: 5.8919e-06 - val_loss: 6.7228e-06\n",
            "Epoch 43/100\n",
            "1064/1064 [==============================] - 20s 19ms/step - loss: 5.6659e-06 - val_loss: 6.8171e-06\n",
            "Epoch 44/100\n",
            "1064/1064 [==============================] - 20s 19ms/step - loss: 5.7518e-06 - val_loss: 5.4535e-06\n",
            "Epoch 45/100\n",
            "1064/1064 [==============================] - 20s 18ms/step - loss: 5.7031e-06 - val_loss: 4.5103e-06\n",
            "Epoch 46/100\n",
            "1064/1064 [==============================] - 20s 19ms/step - loss: 5.7417e-06 - val_loss: 4.4376e-06\n",
            "Epoch 47/100\n",
            "1064/1064 [==============================] - 19s 18ms/step - loss: 5.6827e-06 - val_loss: 4.5903e-06\n",
            "Epoch 48/100\n",
            "1064/1064 [==============================] - 20s 19ms/step - loss: 5.6654e-06 - val_loss: 4.4393e-06\n",
            "Epoch 49/100\n",
            "1064/1064 [==============================] - 19s 18ms/step - loss: 5.5501e-06 - val_loss: 4.7974e-06\n",
            "Epoch 50/100\n",
            "1064/1064 [==============================] - 21s 19ms/step - loss: 5.6203e-06 - val_loss: 4.4379e-06\n",
            "Epoch 51/100\n",
            "1064/1064 [==============================] - 20s 19ms/step - loss: 5.7525e-06 - val_loss: 4.4714e-06\n",
            "Epoch 52/100\n",
            "1064/1064 [==============================] - 19s 18ms/step - loss: 5.7282e-06 - val_loss: 5.0606e-06\n",
            "Epoch 53/100\n",
            "1064/1064 [==============================] - 20s 19ms/step - loss: 5.6846e-06 - val_loss: 5.0508e-06\n",
            "Epoch 54/100\n",
            "1064/1064 [==============================] - 19s 18ms/step - loss: 5.7538e-06 - val_loss: 6.4357e-06\n",
            "Epoch 55/100\n",
            "1064/1064 [==============================] - 20s 19ms/step - loss: 5.5637e-06 - val_loss: 4.4430e-06\n",
            "Epoch 56/100\n",
            "1064/1064 [==============================] - 20s 18ms/step - loss: 5.8011e-06 - val_loss: 4.5554e-06\n",
            "Epoch 57/100\n",
            "1064/1064 [==============================] - 20s 19ms/step - loss: 5.5868e-06 - val_loss: 4.5626e-06\n",
            "Epoch 58/100\n",
            "1064/1064 [==============================] - 20s 19ms/step - loss: 5.7641e-06 - val_loss: 4.7596e-06\n",
            "Epoch 59/100\n",
            "1064/1064 [==============================] - 19s 18ms/step - loss: 5.5612e-06 - val_loss: 4.9527e-06\n",
            "Epoch 60/100\n",
            "1064/1064 [==============================] - 20s 19ms/step - loss: 5.7494e-06 - val_loss: 7.6674e-06\n",
            "Epoch 61/100\n",
            "1064/1064 [==============================] - 19s 18ms/step - loss: 5.5124e-06 - val_loss: 5.7404e-06\n",
            "Epoch 62/100\n",
            "1064/1064 [==============================] - 20s 19ms/step - loss: 5.7675e-06 - val_loss: 6.0827e-06\n",
            "Epoch 63/100\n",
            "1064/1064 [==============================] - 20s 19ms/step - loss: 5.5894e-06 - val_loss: 4.4225e-06\n",
            "Epoch 64/100\n",
            "1064/1064 [==============================] - 19s 18ms/step - loss: 5.5551e-06 - val_loss: 8.1421e-06\n",
            "Epoch 65/100\n",
            "1064/1064 [==============================] - 21s 20ms/step - loss: 5.6920e-06 - val_loss: 4.4593e-06\n",
            "Epoch 66/100\n",
            "1064/1064 [==============================] - 19s 18ms/step - loss: 5.6236e-06 - val_loss: 4.5658e-06\n",
            "Epoch 67/100\n",
            "1064/1064 [==============================] - 20s 19ms/step - loss: 5.6631e-06 - val_loss: 4.9085e-06\n",
            "Epoch 68/100\n",
            "1064/1064 [==============================] - 20s 19ms/step - loss: 5.6441e-06 - val_loss: 4.3996e-06\n",
            "Epoch 69/100\n",
            "1064/1064 [==============================] - 19s 18ms/step - loss: 5.6916e-06 - val_loss: 5.6986e-06\n",
            "Epoch 70/100\n",
            "1064/1064 [==============================] - 20s 19ms/step - loss: 5.5841e-06 - val_loss: 5.7175e-06\n",
            "Epoch 71/100\n",
            "1064/1064 [==============================] - 19s 18ms/step - loss: 5.6700e-06 - val_loss: 4.5362e-06\n",
            "Epoch 72/100\n",
            "1064/1064 [==============================] - 20s 19ms/step - loss: 5.6621e-06 - val_loss: 5.0592e-06\n",
            "Epoch 73/100\n",
            "1064/1064 [==============================] - 20s 19ms/step - loss: 5.6941e-06 - val_loss: 4.8630e-06\n",
            "Epoch 74/100\n",
            "1064/1064 [==============================] - 20s 19ms/step - loss: 5.5206e-06 - val_loss: 4.4699e-06\n",
            "Epoch 75/100\n",
            "1064/1064 [==============================] - 20s 19ms/step - loss: 5.6377e-06 - val_loss: 4.5581e-06\n",
            "Epoch 76/100\n",
            "1064/1064 [==============================] - 19s 18ms/step - loss: 5.6980e-06 - val_loss: 4.6743e-06\n",
            "Epoch 77/100\n",
            "1064/1064 [==============================] - 20s 19ms/step - loss: 5.4771e-06 - val_loss: 5.9529e-06\n",
            "Epoch 78/100\n",
            "1064/1064 [==============================] - 20s 19ms/step - loss: 5.6761e-06 - val_loss: 5.7865e-06\n",
            "Epoch 79/100\n",
            "1064/1064 [==============================] - 19s 18ms/step - loss: 5.5969e-06 - val_loss: 4.7008e-06\n",
            "Epoch 80/100\n",
            "1064/1064 [==============================] - 20s 19ms/step - loss: 5.6819e-06 - val_loss: 6.4244e-06\n",
            "Epoch 81/100\n",
            "1064/1064 [==============================] - 19s 18ms/step - loss: 5.6527e-06 - val_loss: 7.7474e-06\n",
            "Epoch 82/100\n",
            "1064/1064 [==============================] - 20s 19ms/step - loss: 5.4428e-06 - val_loss: 6.5614e-06\n",
            "Epoch 83/100\n",
            "1064/1064 [==============================] - 21s 20ms/step - loss: 5.7605e-06 - val_loss: 5.1781e-06\n",
            "Epoch 84/100\n",
            "1064/1064 [==============================] - 19s 18ms/step - loss: 5.4443e-06 - val_loss: 4.7692e-06\n",
            "Epoch 85/100\n",
            "1064/1064 [==============================] - 20s 19ms/step - loss: 5.5386e-06 - val_loss: 4.4361e-06\n",
            "Epoch 86/100\n",
            "1064/1064 [==============================] - 20s 18ms/step - loss: 5.5982e-06 - val_loss: 4.8467e-06\n",
            "Epoch 87/100\n",
            "1064/1064 [==============================] - 20s 19ms/step - loss: 5.5926e-06 - val_loss: 4.4963e-06\n",
            "Epoch 88/100\n",
            "1064/1064 [==============================] - 20s 19ms/step - loss: 5.5957e-06 - val_loss: 5.4517e-06\n",
            "Epoch 89/100\n",
            "1064/1064 [==============================] - 19s 18ms/step - loss: 5.5356e-06 - val_loss: 6.5171e-06\n",
            "Epoch 90/100\n",
            "1064/1064 [==============================] - 20s 19ms/step - loss: 5.5676e-06 - val_loss: 4.9286e-06\n",
            "Epoch 91/100\n",
            "1064/1064 [==============================] - 20s 18ms/step - loss: 5.5669e-06 - val_loss: 4.4636e-06\n",
            "Epoch 92/100\n",
            "1064/1064 [==============================] - 20s 19ms/step - loss: 5.7359e-06 - val_loss: 5.6502e-06\n",
            "Epoch 93/100\n",
            "1064/1064 [==============================] - 20s 19ms/step - loss: 5.5193e-06 - val_loss: 4.5636e-06\n",
            "Epoch 94/100\n",
            "1064/1064 [==============================] - 19s 18ms/step - loss: 5.5782e-06 - val_loss: 5.2052e-06\n",
            "Epoch 95/100\n",
            "1064/1064 [==============================] - 21s 19ms/step - loss: 5.5577e-06 - val_loss: 4.5188e-06\n",
            "Epoch 96/100\n",
            "1064/1064 [==============================] - 20s 18ms/step - loss: 5.5545e-06 - val_loss: 4.4974e-06\n",
            "Epoch 97/100\n",
            "1064/1064 [==============================] - 20s 19ms/step - loss: 5.6175e-06 - val_loss: 4.8989e-06\n",
            "Epoch 98/100\n",
            "1064/1064 [==============================] - 21s 19ms/step - loss: 5.6304e-06 - val_loss: 6.0858e-06\n",
            "Epoch 99/100\n",
            "1064/1064 [==============================] - 19s 18ms/step - loss: 5.5675e-06 - val_loss: 4.5774e-06\n",
            "Epoch 100/100\n",
            "1064/1064 [==============================] - 21s 20ms/step - loss: 5.5142e-06 - val_loss: 4.6974e-06\n"
          ]
        },
        {
          "output_type": "execute_result",
          "data": {
            "text/plain": [
              "<keras.src.callbacks.History at 0x797428c80e50>"
            ]
          },
          "metadata": {},
          "execution_count": 159
        }
      ]
    },
    {
      "cell_type": "code",
      "source": [
        "# Dự báo dữ liệu train_predict_RNN, y_pred_RNN, y_pred_val_RNN\n",
        "train_predict_RNN = model.predict(x_train_RNN)\n",
        "y_pred_RNN = model.predict(x_test_RNN)\n",
        "y_pred_val_RNN = model.predict(x_val_RNN)"
      ],
      "metadata": {
        "colab": {
          "base_uri": "https://localhost:8080/"
        },
        "id": "NL7Fxr60eJtZ",
        "outputId": "30fad7d8-b47d-4cb9-a79c-6a988bef9cf1"
      },
      "execution_count": null,
      "outputs": [
        {
          "output_type": "stream",
          "name": "stdout",
          "text": [
            "2128/2128 [==============================] - 12s 6ms/step\n",
            "606/606 [==============================] - 3s 5ms/step\n",
            "302/302 [==============================] - 2s 5ms/step\n"
          ]
        }
      ]
    },
    {
      "cell_type": "code",
      "source": [
        "# Đảo ngược giá trị dự đoán trên tập Test và Validate về giá trị chuẩn\n",
        "train_predict_RNN = scaler.inverse_transform(train_predict_RNN)\n",
        "y_pred_RNN = scaler.inverse_transform(y_pred_RNN)\n",
        "y_pred_val_RNN = scaler.inverse_transform(y_pred_val_RNN)"
      ],
      "metadata": {
        "id": "1faiungReVzG"
      },
      "execution_count": null,
      "outputs": []
    },
    {
      "cell_type": "code",
      "source": [
        "# Đảo ngược giá trị thực tế của tập Test và Validate về giá trị chuẩn\n",
        "real_val_RNN = scaler.inverse_transform(y_val_RNN.reshape(-1, 1))\n",
        "real_test_RNN = scaler.inverse_transform(y_test_RNN.reshape(-1, 1))"
      ],
      "metadata": {
        "id": "_PlSZkjpelnn"
      },
      "execution_count": null,
      "outputs": []
    },
    {
      "cell_type": "code",
      "source": [
        "# Đánh giá độ chính xác thuật toán bằng RMSE\n",
        "test_rmse_RNN = np.sqrt(np.mean((y_pred_RNN - real_test_RNN)**2))\n",
        "val_rmse_RNN = np.sqrt(np.mean((y_pred_val_RNN - real_val_RNN)**2))\n",
        "print('Testing RMSE:', test_rmse_RNN)\n",
        "print('Validation RMSE:', val_rmse_RNN)"
      ],
      "metadata": {
        "colab": {
          "base_uri": "https://localhost:8080/"
        },
        "id": "0haMz2D4er9g",
        "outputId": "bebfa0e6-51c1-45ac-c738-2b4ee7759321"
      },
      "execution_count": null,
      "outputs": [
        {
          "output_type": "stream",
          "name": "stdout",
          "text": [
            "Testing RMSE: 0.061011084923566626\n",
            "Validation RMSE: 0.12979233650758107\n"
          ]
        }
      ]
    },
    {
      "cell_type": "code",
      "source": [
        "# Đánh giá độ chính xác thuật toán bằng MAPE\n",
        "test_mape_RNN = np.mean((np.absolute(real_test_RNN - y_pred_RNN)/real_test_RNN)*100)\n",
        "val_mape_RNN = np.mean((np.absolute(real_val_RNN - y_pred_val_RNN)/real_val_RNN)*100)\n",
        "print('Testing MAPE:', test_mape_RNN)\n",
        "print('Validation MAPE:', val_mape_RNN)"
      ],
      "metadata": {
        "colab": {
          "base_uri": "https://localhost:8080/"
        },
        "id": "Kui1t1l7mu5p",
        "outputId": "b073542e-2439-4c9f-ae2d-bc18b3c6f8f4"
      },
      "execution_count": null,
      "outputs": [
        {
          "output_type": "stream",
          "name": "stdout",
          "text": [
            "Testing MAPE: 0.07876879515850632\n",
            "Validation MAPE: 0.19603730340028458\n"
          ]
        }
      ]
    },
    {
      "cell_type": "code",
      "source": [
        "# Tính phần trăm độ chính xác trên tập Test và Validate\n",
        "data_range_RNN = df['Close'].max() - df['Close'].min()\n",
        "test_accuracy_RNN = (1 - test_rmse_RNN / data_range_RNN) * 100\n",
        "val_accuracy_RNN = (1 - val_rmse_RNN / data_range_RNN) * 100\n",
        "print('Testing Accuracy (%):', test_accuracy_RNN)\n",
        "print('Validation Accuracy (%):', val_accuracy_RNN)"
      ],
      "metadata": {
        "colab": {
          "base_uri": "https://localhost:8080/"
        },
        "id": "x838hD3Yny7f",
        "outputId": "438cd7c1-89ee-464e-d676-5ad88a1a8a11"
      },
      "execution_count": null,
      "outputs": [
        {
          "output_type": "stream",
          "name": "stdout",
          "text": [
            "Testing Accuracy (%): 99.7832643519589\n",
            "Validation Accuracy (%): 99.53892598043488\n"
          ]
        }
      ]
    },
    {
      "cell_type": "code",
      "source": [
        "# Dự báo 15 stage tiếp theo\n",
        "x_input_RNN = val_data_RNN[60:].reshape(1, -1)\n",
        "x_input_RNN.shape\n",
        "\n",
        "temp_input_RNN = list(x_input_RNN)\n",
        "temp_input_RNN = temp_input_RNN[0].tolist()\n",
        "\n",
        "lst_output_RNN = []\n",
        "n_steps_RNN = 9680\n",
        "i = 0\n",
        "while i < 15:\n",
        "    if len(temp_input_RNN) > 9680:\n",
        "          x_input_RNN = np.array(temp_input_RNN[1:])\n",
        "\n",
        "          x_input_RNN = x_input_RNN.reshape(1, -1)\n",
        "          x_input_RNN = x_input_RNN.reshape((1, n_steps_RNN, 1))\n",
        "          yhat = model.predict(x_input_RNN, verbose=0)\n",
        "\n",
        "          temp_input_RNN.extend(yhat[0].tolist())\n",
        "          temp_input_RNN = temp_input_RNN[1:]\n",
        "          lst_output_RNN.extend(yhat.tolist())\n",
        "          i = i + 1\n",
        "    else:\n",
        "        x_input_RNN = x_input_RNN.reshape((1, n_steps_RNN, 1))\n",
        "        yhat = model.predict(x_input_RNN, verbose=0)\n",
        "        print(yhat[0])\n",
        "        temp_input_RNN.extend(yhat[0].tolist())\n",
        "        print(len(temp_input_RNN))\n",
        "        lst_output_RNN.extend(yhat.tolist())\n",
        "        i = i + 1\n",
        "\n",
        "# Chuẩn hóa lại dự đoán 15 stage\n",
        "predicted_values_RNN = np.array(lst_output_RNN)\n",
        "predicted_values_RNN = predicted_values_RNN.reshape(-1, 1)\n",
        "\n",
        "# Chuẩn hóa dự đoán\n",
        "predicted_values_RNN = scaler.inverse_transform(predicted_values_RNN)\n",
        "\n",
        "print(\"Dự đoán 15 stage tiếp theo:\")\n",
        "print(predicted_values_RNN)"
      ],
      "metadata": {
        "colab": {
          "base_uri": "https://localhost:8080/"
        },
        "id": "g5jLK5564B1j",
        "outputId": "0780daa8-0bb5-4815-ebaa-cc6abbc19efa"
      },
      "execution_count": null,
      "outputs": [
        {
          "output_type": "stream",
          "name": "stdout",
          "text": [
            "Dự đoán 15 stage tiếp theo:\n",
            "[[57.90682345]\n",
            " [57.7402176 ]\n",
            " [57.58211519]\n",
            " [57.42853297]\n",
            " [57.27672594]\n",
            " [57.12770081]\n",
            " [56.98242405]\n",
            " [56.84125472]\n",
            " [56.70386395]\n",
            " [56.56960744]\n",
            " [56.43714961]\n",
            " [56.30764148]\n",
            " [56.18121728]\n",
            " [56.05718572]\n",
            " [55.93576156]]\n"
          ]
        }
      ]
    },
    {
      "cell_type": "code",
      "source": [
        "# Vẽ hình\n",
        "plt.figure(figsize=(8, 6))\n",
        "train_data_index_RNN = pd.RangeIndex(start=0, stop=train_size, step=1)\n",
        "plt.plot(scaler.inverse_transform(train_data_RNN))\n",
        "test_data_index_RNN = pd.RangeIndex(start=train_size, stop=train_size+test_size, step=1)\n",
        "plt.plot(test_data_index_RNN, scaler.inverse_transform(test_data_RNN))\n",
        "test_data_index_RNN = pd.RangeIndex(start=train_size+101, stop=train_size+test_size, step=1)\n",
        "plt.plot(test_data_index_RNN,(y_pred_RNN))\n",
        "val_data_index_RNN = pd.RangeIndex(start=train_size+test_size, stop=train_size+test_size+val_size, step=1)\n",
        "plt.plot(val_data_index_RNN, scaler.inverse_transform(val_data_RNN))\n",
        "val_data_index_RNN = pd.RangeIndex(start=train_size+test_size+101, stop=train_size+test_size+val_size, step=1)\n",
        "plt.plot(val_data_index_RNN, y_pred_val_RNN)\n",
        "predict_data_index_RNN = pd.RangeIndex(start=len(df1)-1, stop=len(df1)+14, step=1)\n",
        "plt.plot(predict_data_index_RNN, scaler.inverse_transform(lst_output_RNN), color='black')\n",
        "plt.title('Hình 1.Dự đoán sử dụng mô hình RNN')\n",
        "plt.legend(['Train','Test','Predict_Test','Validate','Predict_Validate','Predict_15_Stage'])\n",
        "plt.show()"
      ],
      "metadata": {
        "colab": {
          "base_uri": "https://localhost:8080/",
          "height": 546
        },
        "id": "VPYTFTN85FOq",
        "outputId": "42c30c25-d15e-4bda-bff4-b548f4cbb5fb"
      },
      "execution_count": null,
      "outputs": [
        {
          "output_type": "display_data",
          "data": {
            "text/plain": [
              "<Figure size 800x600 with 1 Axes>"
            ],
            "image/png": "[encoded data removed]"
          },
          "metadata": {}
        }
      ]
    },
    {
      "cell_type": "markdown",
      "source": [
        "#### Nhận xét\n",
        "- Kết quả dự báo 15 stage tiếp theo bằng mô hình RNN là pha giảm giá trị cổ phiếu.\n",
        "- Độ chính xác của thuật toán dựa trên các thang đo RMSE và MAPE là rất cao.\n",
        "- Độ chính xác của thuật toán để dự báo trên tập Test và Validate khoảng 99.8%.\n",
        "- Nhìn trên ảnh ta thấy:\n",
        "  + Kết quả dự báo trên tập Test (màu xanh) gần như trùng khớp với kết quả thực tế trên tập Test (màu vàng).\n",
        "  + Kết quả dự báo trên tập Validate (màu tím) gần như trùng khớp với kết quả thực tế trên tập Validate (đỏ).\n",
        "- Mô hình RNN không phải mô hình thường xuyên để sử dụng phân tích sự biến thiên của giá trị cổ phiếu. Điểm yếu của mô hình này là gặp vấn đề biến mất và vượt quá gradient (vanishing and exploding gradient) dẫn đến dự báo xu hướng trong các stage tiếp theo có sự giảm khá lớn (khoảng 0.2) nhưng thực tế có vẻ là 0.1\n",
        "- Mặc dù vậy, điểm mạnh của mô hình là thực thi nhanh hơn so với các mô hình mạng neural khác như RNN và LSTM.\n",
        "- => Nên sử dụng các mô hình như GRU và LSTM để dự báo chính xác hơn."
      ],
      "metadata": {
        "id": "stz7N9ZtF_JP"
      }
    },
    {
      "cell_type": "markdown",
      "source": [
        "### Mô hình GRU"
      ],
      "metadata": {
        "id": "i0_6UNiDfOal"
      }
    },
    {
      "cell_type": "code",
      "source": [
        "# Gọi các thư viện cần thiết để xây dựng RNN\n",
        "from keras.models import Sequential\n",
        "from keras.layers import Dense, GRU, BatchNormalization"
      ],
      "metadata": {
        "id": "YzDekJGZfV34"
      },
      "execution_count": null,
      "outputs": []
    },
    {
      "cell_type": "code",
      "source": [
        "train_data_GRU = train_data\n",
        "test_data_GRU = test_data\n",
        "val_data_GRU = val_data"
      ],
      "metadata": {
        "id": "208HT10BfN1J"
      },
      "execution_count": null,
      "outputs": []
    },
    {
      "cell_type": "code",
      "source": [
        "# Hàm Create Dataset để chuyển đổi mảng thành ma trận\n",
        "def create_dataset(dataset, time_step=1):\n",
        "\tdataX, dataY = [], []\n",
        "\tfor i in range(len(dataset)-time_step-1):\n",
        "\t\ta = dataset[i:(i+time_step), 0]\n",
        "\t\tdataX.append(a)\n",
        "\t\tdataY.append(dataset[i + time_step, 0])\n",
        "\treturn np.array(dataX), np.array(dataY)"
      ],
      "metadata": {
        "id": "eBzSMLlrfZWw"
      },
      "execution_count": null,
      "outputs": []
    },
    {
      "cell_type": "code",
      "source": [
        "# Sử dụng hàm Create Dataset để chuyển đổi các mảng Train, Test, Validate\n",
        "time_step = 100\n",
        "x_train_GRU, y_train_GRU = create_dataset(train_data_GRU, time_step)\n",
        "x_val_GRU, y_val_GRU = create_dataset(val_data_GRU, time_step)\n",
        "x_test_GRU, y_test_GRU = create_dataset(test_data_GRU, time_step)"
      ],
      "metadata": {
        "id": "YuY0NfnqpBc1"
      },
      "execution_count": null,
      "outputs": []
    },
    {
      "cell_type": "code",
      "source": [
        "# Reshape đầu vào để phù hợp với mô hình GRU\n",
        "x_train_GRU = x_train_GRU.reshape(x_train_GRU.shape[0], x_train_GRU.shape[1] , 1)\n",
        "x_test_GRU = x_test_GRU.reshape(x_test_GRU.shape[0], x_test_GRU.shape[1] , 1)\n",
        "x_val_GRU = x_val_GRU.reshape(x_val_GRU.shape[0], x_val_GRU.shape[1] , 1)"
      ],
      "metadata": {
        "id": "0zl7uqzRfcU5"
      },
      "execution_count": null,
      "outputs": []
    },
    {
      "cell_type": "code",
      "source": [
        "# Khai báo mô hình GRU\n",
        "model = Sequential()\n",
        "model.add(GRU(64, input_shape=(time_step, 1)))\n",
        "model.add(Dense(1))\n",
        "model.compile(optimizer='adam', loss='mean_squared_error')"
      ],
      "metadata": {
        "id": "VyXl8ZKKfhWD"
      },
      "execution_count": null,
      "outputs": []
    },
    {
      "cell_type": "code",
      "source": [
        "# Fit mô hình với dữ liệu Train\n",
        "model.fit(x_train_GRU, y_train_GRU, validation_data = (x_test_GRU, y_test_GRU), epochs=100, batch_size=64, verbose=1)"
      ],
      "metadata": {
        "colab": {
          "base_uri": "https://localhost:8080/"
        },
        "id": "8ZwS9tvhfjAR",
        "outputId": "90148a1f-2278-455f-e0c0-813fbf0e2f6f"
      },
      "execution_count": null,
      "outputs": [
        {
          "output_type": "stream",
          "name": "stdout",
          "text": [
            "Epoch 1/100\n",
            "1064/1064 [==============================] - 58s 53ms/step - loss: 0.0019 - val_loss: 6.8686e-06\n",
            "Epoch 2/100\n",
            "1064/1064 [==============================] - 53s 50ms/step - loss: 8.0241e-06 - val_loss: 6.1190e-06\n",
            "Epoch 3/100\n",
            "1064/1064 [==============================] - 53s 50ms/step - loss: 7.5324e-06 - val_loss: 6.9591e-06\n",
            "Epoch 4/100\n",
            "1064/1064 [==============================] - 54s 51ms/step - loss: 7.3734e-06 - val_loss: 5.4649e-06\n",
            "Epoch 5/100\n",
            "1064/1064 [==============================] - 54s 51ms/step - loss: 7.5011e-06 - val_loss: 6.3782e-06\n",
            "Epoch 6/100\n",
            "1064/1064 [==============================] - 54s 51ms/step - loss: 7.4600e-06 - val_loss: 1.0214e-05\n",
            "Epoch 7/100\n",
            "1064/1064 [==============================] - 53s 50ms/step - loss: 7.9862e-06 - val_loss: 5.4222e-06\n",
            "Epoch 8/100\n",
            "1064/1064 [==============================] - 54s 51ms/step - loss: 7.3888e-06 - val_loss: 4.6158e-06\n",
            "Epoch 9/100\n",
            "1064/1064 [==============================] - 53s 50ms/step - loss: 6.8660e-06 - val_loss: 5.1533e-06\n",
            "Epoch 10/100\n",
            "1064/1064 [==============================] - 54s 50ms/step - loss: 6.9555e-06 - val_loss: 7.1629e-06\n",
            "Epoch 11/100\n",
            "1064/1064 [==============================] - 54s 51ms/step - loss: 6.5698e-06 - val_loss: 8.0351e-06\n",
            "Epoch 12/100\n",
            "1064/1064 [==============================] - 54s 51ms/step - loss: 6.6659e-06 - val_loss: 4.6640e-06\n",
            "Epoch 13/100\n",
            "1064/1064 [==============================] - 53s 50ms/step - loss: 6.2903e-06 - val_loss: 5.4338e-06\n",
            "Epoch 14/100\n",
            "1064/1064 [==============================] - 54s 51ms/step - loss: 6.4396e-06 - val_loss: 4.5160e-06\n",
            "Epoch 15/100\n",
            "1064/1064 [==============================] - 53s 50ms/step - loss: 6.1325e-06 - val_loss: 1.1873e-05\n",
            "Epoch 16/100\n",
            "1064/1064 [==============================] - 54s 50ms/step - loss: 6.3733e-06 - val_loss: 8.8459e-06\n",
            "Epoch 17/100\n",
            "1064/1064 [==============================] - 55s 51ms/step - loss: 6.2208e-06 - val_loss: 4.5248e-06\n",
            "Epoch 18/100\n",
            "1064/1064 [==============================] - 54s 50ms/step - loss: 6.1788e-06 - val_loss: 8.2142e-06\n",
            "Epoch 19/100\n",
            "1064/1064 [==============================] - 54s 51ms/step - loss: 6.2448e-06 - val_loss: 5.2733e-06\n",
            "Epoch 20/100\n",
            "1064/1064 [==============================] - 54s 51ms/step - loss: 6.0854e-06 - val_loss: 5.9945e-06\n",
            "Epoch 21/100\n",
            "1064/1064 [==============================] - 53s 50ms/step - loss: 6.3727e-06 - val_loss: 4.3706e-06\n",
            "Epoch 22/100\n",
            "1064/1064 [==============================] - 57s 54ms/step - loss: 5.8931e-06 - val_loss: 6.3216e-06\n",
            "Epoch 23/100\n",
            "1064/1064 [==============================] - 59s 55ms/step - loss: 6.2234e-06 - val_loss: 4.3612e-06\n",
            "Epoch 24/100\n",
            "1064/1064 [==============================] - 56s 53ms/step - loss: 6.3795e-06 - val_loss: 4.3740e-06\n",
            "Epoch 25/100\n",
            "1064/1064 [==============================] - 54s 50ms/step - loss: 6.0097e-06 - val_loss: 6.3500e-06\n",
            "Epoch 26/100\n",
            "1064/1064 [==============================] - 56s 53ms/step - loss: 6.0674e-06 - val_loss: 5.3528e-06\n",
            "Epoch 27/100\n",
            "1064/1064 [==============================] - 53s 50ms/step - loss: 6.2397e-06 - val_loss: 4.7966e-06\n",
            "Epoch 28/100\n",
            "1064/1064 [==============================] - 54s 51ms/step - loss: 5.6324e-06 - val_loss: 5.3901e-06\n",
            "Epoch 29/100\n",
            "1064/1064 [==============================] - 55s 52ms/step - loss: 6.0040e-06 - val_loss: 6.6411e-06\n",
            "Epoch 30/100\n",
            "1064/1064 [==============================] - 54s 50ms/step - loss: 5.9517e-06 - val_loss: 4.3441e-06\n",
            "Epoch 31/100\n",
            "1064/1064 [==============================] - 54s 50ms/step - loss: 5.9799e-06 - val_loss: 1.0337e-05\n",
            "Epoch 32/100\n",
            "1064/1064 [==============================] - 54s 51ms/step - loss: 5.9189e-06 - val_loss: 8.8513e-06\n",
            "Epoch 33/100\n",
            "1064/1064 [==============================] - 54s 50ms/step - loss: 5.8015e-06 - val_loss: 4.3812e-06\n",
            "Epoch 34/100\n",
            "1064/1064 [==============================] - 54s 51ms/step - loss: 5.7800e-06 - val_loss: 4.8155e-06\n",
            "Epoch 35/100\n",
            "1064/1064 [==============================] - 54s 51ms/step - loss: 5.6610e-06 - val_loss: 5.1578e-06\n",
            "Epoch 36/100\n",
            "1064/1064 [==============================] - 54s 51ms/step - loss: 6.0435e-06 - val_loss: 1.0588e-05\n",
            "Epoch 37/100\n",
            "1064/1064 [==============================] - 54s 51ms/step - loss: 5.7956e-06 - val_loss: 9.9850e-06\n",
            "Epoch 38/100\n",
            "1064/1064 [==============================] - 55s 51ms/step - loss: 5.8799e-06 - val_loss: 4.3902e-06\n",
            "Epoch 39/100\n",
            "1064/1064 [==============================] - 54s 51ms/step - loss: 5.8298e-06 - val_loss: 8.5851e-06\n",
            "Epoch 40/100\n",
            "1064/1064 [==============================] - 54s 51ms/step - loss: 5.7139e-06 - val_loss: 4.3842e-06\n",
            "Epoch 41/100\n",
            "1064/1064 [==============================] - 54s 51ms/step - loss: 6.0173e-06 - val_loss: 5.1930e-06\n",
            "Epoch 42/100\n",
            "1064/1064 [==============================] - 54s 51ms/step - loss: 5.7709e-06 - val_loss: 5.7537e-06\n",
            "Epoch 43/100\n",
            "1064/1064 [==============================] - 54s 51ms/step - loss: 5.8193e-06 - val_loss: 5.2408e-06\n",
            "Epoch 44/100\n",
            "1064/1064 [==============================] - 54s 51ms/step - loss: 5.8841e-06 - val_loss: 5.1511e-06\n",
            "Epoch 45/100\n",
            "1064/1064 [==============================] - 54s 51ms/step - loss: 5.6891e-06 - val_loss: 4.6812e-06\n",
            "Epoch 46/100\n",
            "1064/1064 [==============================] - 55s 52ms/step - loss: 5.7588e-06 - val_loss: 4.9953e-06\n",
            "Epoch 47/100\n",
            "1064/1064 [==============================] - 54s 51ms/step - loss: 5.7206e-06 - val_loss: 4.3696e-06\n",
            "Epoch 48/100\n",
            "1064/1064 [==============================] - 55s 52ms/step - loss: 5.8511e-06 - val_loss: 7.6948e-06\n",
            "Epoch 49/100\n",
            "1064/1064 [==============================] - 55s 51ms/step - loss: 5.6781e-06 - val_loss: 6.8576e-06\n",
            "Epoch 50/100\n",
            "1064/1064 [==============================] - 54s 51ms/step - loss: 5.6690e-06 - val_loss: 5.0985e-06\n",
            "Epoch 51/100\n",
            "1064/1064 [==============================] - 55s 52ms/step - loss: 5.7359e-06 - val_loss: 6.4284e-06\n",
            "Epoch 52/100\n",
            "1064/1064 [==============================] - 55s 51ms/step - loss: 5.7090e-06 - val_loss: 4.7329e-06\n",
            "Epoch 53/100\n",
            "1064/1064 [==============================] - 54s 51ms/step - loss: 5.9550e-06 - val_loss: 5.6232e-06\n",
            "Epoch 54/100\n",
            "1064/1064 [==============================] - 55s 51ms/step - loss: 5.6443e-06 - val_loss: 7.3479e-06\n",
            "Epoch 55/100\n",
            "1064/1064 [==============================] - 54s 51ms/step - loss: 5.5787e-06 - val_loss: 4.4101e-06\n",
            "Epoch 56/100\n",
            "1064/1064 [==============================] - 54s 51ms/step - loss: 5.9491e-06 - val_loss: 4.3911e-06\n",
            "Epoch 57/100\n",
            "1064/1064 [==============================] - 55s 52ms/step - loss: 5.6482e-06 - val_loss: 5.1055e-06\n",
            "Epoch 58/100\n",
            "1064/1064 [==============================] - 54s 51ms/step - loss: 5.4995e-06 - val_loss: 7.0531e-06\n",
            "Epoch 59/100\n",
            "1064/1064 [==============================] - 54s 51ms/step - loss: 5.6467e-06 - val_loss: 4.4805e-06\n",
            "Epoch 60/100\n",
            "1064/1064 [==============================] - 54s 51ms/step - loss: 5.6473e-06 - val_loss: 4.4926e-06\n",
            "Epoch 61/100\n",
            "1064/1064 [==============================] - 54s 50ms/step - loss: 5.5939e-06 - val_loss: 4.5244e-06\n",
            "Epoch 62/100\n",
            "1064/1064 [==============================] - 55s 51ms/step - loss: 5.6122e-06 - val_loss: 5.1251e-06\n",
            "Epoch 63/100\n",
            "1064/1064 [==============================] - 54s 51ms/step - loss: 5.7011e-06 - val_loss: 4.5088e-06\n",
            "Epoch 64/100\n",
            "1064/1064 [==============================] - 54s 51ms/step - loss: 5.4915e-06 - val_loss: 4.8603e-06\n",
            "Epoch 65/100\n",
            "1064/1064 [==============================] - 54s 51ms/step - loss: 5.4775e-06 - val_loss: 4.4834e-06\n",
            "Epoch 66/100\n",
            "1064/1064 [==============================] - 54s 51ms/step - loss: 5.6815e-06 - val_loss: 6.0319e-06\n",
            "Epoch 67/100\n",
            "1064/1064 [==============================] - 55s 51ms/step - loss: 5.5468e-06 - val_loss: 5.8112e-06\n",
            "Epoch 68/100\n",
            "1064/1064 [==============================] - 55s 52ms/step - loss: 5.5411e-06 - val_loss: 4.8648e-06\n",
            "Epoch 69/100\n",
            "1064/1064 [==============================] - 54s 51ms/step - loss: 5.5469e-06 - val_loss: 5.6013e-06\n",
            "Epoch 70/100\n",
            "1064/1064 [==============================] - 54s 51ms/step - loss: 5.5266e-06 - val_loss: 4.3616e-06\n",
            "Epoch 71/100\n",
            "1064/1064 [==============================] - 54s 51ms/step - loss: 5.5385e-06 - val_loss: 4.3553e-06\n",
            "Epoch 72/100\n",
            "1064/1064 [==============================] - 54s 51ms/step - loss: 5.5883e-06 - val_loss: 4.4124e-06\n",
            "Epoch 73/100\n",
            "1064/1064 [==============================] - 55s 52ms/step - loss: 5.5166e-06 - val_loss: 4.5478e-06\n",
            "Epoch 74/100\n",
            "1064/1064 [==============================] - 54s 51ms/step - loss: 5.6494e-06 - val_loss: 4.3670e-06\n",
            "Epoch 75/100\n",
            "1064/1064 [==============================] - 54s 51ms/step - loss: 5.4973e-06 - val_loss: 4.4594e-06\n",
            "Epoch 76/100\n",
            "1064/1064 [==============================] - 55s 52ms/step - loss: 5.5409e-06 - val_loss: 4.4641e-06\n",
            "Epoch 77/100\n",
            "1064/1064 [==============================] - 54s 51ms/step - loss: 5.4924e-06 - val_loss: 4.3454e-06\n",
            "Epoch 78/100\n",
            "1064/1064 [==============================] - 54s 51ms/step - loss: 5.5185e-06 - val_loss: 5.1729e-06\n",
            "Epoch 79/100\n",
            "1064/1064 [==============================] - 55s 52ms/step - loss: 5.5618e-06 - val_loss: 5.0148e-06\n",
            "Epoch 80/100\n",
            "1064/1064 [==============================] - 54s 51ms/step - loss: 5.5144e-06 - val_loss: 4.6252e-06\n",
            "Epoch 81/100\n",
            "1064/1064 [==============================] - 55s 52ms/step - loss: 5.5321e-06 - val_loss: 4.8521e-06\n",
            "Epoch 82/100\n",
            "1064/1064 [==============================] - 55s 51ms/step - loss: 5.5359e-06 - val_loss: 5.2798e-06\n",
            "Epoch 83/100\n",
            "1064/1064 [==============================] - 54s 51ms/step - loss: 5.4858e-06 - val_loss: 5.3431e-06\n",
            "Epoch 84/100\n",
            "1064/1064 [==============================] - 55s 52ms/step - loss: 5.5010e-06 - val_loss: 4.8272e-06\n",
            "Epoch 85/100\n",
            "1064/1064 [==============================] - 55s 51ms/step - loss: 5.4875e-06 - val_loss: 4.4509e-06\n",
            "Epoch 86/100\n",
            "1064/1064 [==============================] - 55s 52ms/step - loss: 5.4021e-06 - val_loss: 4.3819e-06\n",
            "Epoch 87/100\n",
            "1064/1064 [==============================] - 55s 52ms/step - loss: 5.4673e-06 - val_loss: 6.1014e-06\n",
            "Epoch 88/100\n",
            "1064/1064 [==============================] - 54s 51ms/step - loss: 5.5541e-06 - val_loss: 4.3255e-06\n",
            "Epoch 89/100\n",
            "1064/1064 [==============================] - 55s 52ms/step - loss: 5.5410e-06 - val_loss: 4.6128e-06\n",
            "Epoch 90/100\n",
            "1064/1064 [==============================] - 55s 52ms/step - loss: 5.3922e-06 - val_loss: 6.9209e-06\n",
            "Epoch 91/100\n",
            "1064/1064 [==============================] - 55s 52ms/step - loss: 5.6008e-06 - val_loss: 4.3718e-06\n",
            "Epoch 92/100\n",
            "1064/1064 [==============================] - 55s 52ms/step - loss: 5.4865e-06 - val_loss: 4.3976e-06\n",
            "Epoch 93/100\n",
            "1064/1064 [==============================] - 55s 52ms/step - loss: 5.4811e-06 - val_loss: 4.9066e-06\n",
            "Epoch 94/100\n",
            "1064/1064 [==============================] - 55s 51ms/step - loss: 5.4528e-06 - val_loss: 4.3290e-06\n",
            "Epoch 95/100\n",
            "1064/1064 [==============================] - 54s 51ms/step - loss: 5.5296e-06 - val_loss: 4.6108e-06\n",
            "Epoch 96/100\n",
            "1064/1064 [==============================] - 54s 51ms/step - loss: 5.4438e-06 - val_loss: 4.8134e-06\n",
            "Epoch 97/100\n",
            "1064/1064 [==============================] - 55s 52ms/step - loss: 5.4731e-06 - val_loss: 5.5479e-06\n",
            "Epoch 98/100\n",
            "1064/1064 [==============================] - 54s 51ms/step - loss: 5.4830e-06 - val_loss: 4.4032e-06\n",
            "Epoch 99/100\n",
            "1064/1064 [==============================] - 55s 52ms/step - loss: 5.5057e-06 - val_loss: 4.3350e-06\n",
            "Epoch 100/100\n",
            "1064/1064 [==============================] - 55s 51ms/step - loss: 5.5167e-06 - val_loss: 4.6750e-06\n"
          ]
        },
        {
          "output_type": "execute_result",
          "data": {
            "text/plain": [
              "<keras.src.callbacks.History at 0x797424703790>"
            ]
          },
          "metadata": {},
          "execution_count": 179
        }
      ]
    },
    {
      "cell_type": "code",
      "source": [
        "# Dự báo dữ liệu train_predict_GRU, y_pred_GRU, y_pred_val_GRU\n",
        "train_predict_GRU = model.predict(x_train_GRU)\n",
        "y_pred_GRU = model.predict(x_test_GRU)\n",
        "y_pred_val_GRU = model.predict(x_val_GRU)"
      ],
      "metadata": {
        "colab": {
          "base_uri": "https://localhost:8080/"
        },
        "id": "Uk8OCwsYTOGm",
        "outputId": "9b69c97f-3f20-42da-e766-468938c465b8"
      },
      "execution_count": null,
      "outputs": [
        {
          "output_type": "stream",
          "name": "stdout",
          "text": [
            "2128/2128 [==============================] - 23s 11ms/step\n",
            "606/606 [==============================] - 6s 10ms/step\n",
            "302/302 [==============================] - 4s 12ms/step\n"
          ]
        }
      ]
    },
    {
      "cell_type": "code",
      "source": [
        "# Đảo ngược giá trị dự đoán trên tập Test và Validate về giá trị chuẩn\n",
        "train_predict_GRU = scaler.inverse_transform(train_predict_GRU)\n",
        "y_pred_GRU = scaler.inverse_transform(y_pred_GRU)\n",
        "y_pred_val_GRU = scaler.inverse_transform(y_pred_val_GRU)"
      ],
      "metadata": {
        "id": "3LklErypTlg0"
      },
      "execution_count": null,
      "outputs": []
    },
    {
      "cell_type": "code",
      "source": [
        "# Đảo ngược giá trị thực tế của tập Test và Validate về giá trị chuẩn\n",
        "real_val_GRU = scaler.inverse_transform(y_val_GRU.reshape(-1, 1))\n",
        "real_test_GRU = scaler.inverse_transform(y_test_GRU.reshape(-1, 1))"
      ],
      "metadata": {
        "id": "KbkSwe_E-sKJ"
      },
      "execution_count": null,
      "outputs": []
    },
    {
      "cell_type": "code",
      "source": [
        "# Đánh giá độ chính xác thuật toán bằng RMSE\n",
        "test_rmse_GRU = np.sqrt(np.mean((y_pred_GRU - real_test_GRU)**2))\n",
        "val_rmse_GRU = np.sqrt(np.mean((y_pred_val_GRU - real_val_GRU)**2))\n",
        "print('Testing RMSE:', test_rmse_GRU)\n",
        "print('Validation RMSE:', val_rmse_GRU)"
      ],
      "metadata": {
        "colab": {
          "base_uri": "https://localhost:8080/"
        },
        "id": "BAP6916QT13d",
        "outputId": "cf665a9c-3dde-42a0-da02-d7b7c267d9b1"
      },
      "execution_count": null,
      "outputs": [
        {
          "output_type": "stream",
          "name": "stdout",
          "text": [
            "Testing RMSE: 0.06086493149748374\n",
            "Validation RMSE: 0.09021646443318068\n"
          ]
        }
      ]
    },
    {
      "cell_type": "code",
      "source": [
        "# Đánh giá độ chính xác thuật toán bằng MAPE\n",
        "test_mape_GRU = np.mean((np.absolute(real_test_GRU - y_pred_GRU)/real_test_GRU)*100)\n",
        "val_mape_GRU = np.mean((np.absolute(real_val_GRU - y_pred_val_GRU)/real_val_GRU)*100)\n",
        "print('Testing MAPE:', test_mape_GRU)\n",
        "print('Validation MAPE:', val_mape_GRU)"
      ],
      "metadata": {
        "colab": {
          "base_uri": "https://localhost:8080/"
        },
        "id": "7H3F2UIUUCPV",
        "outputId": "0e4fd910-da5b-4adf-e821-04f65d8548f0"
      },
      "execution_count": null,
      "outputs": [
        {
          "output_type": "stream",
          "name": "stdout",
          "text": [
            "Testing MAPE: 0.08270059847456368\n",
            "Validation MAPE: 0.13043842602605704\n"
          ]
        }
      ]
    },
    {
      "cell_type": "code",
      "source": [
        "# Tính phần trăm độ chính xác trên tập Test và Validate\n",
        "data_range_GRU = df['Close'].max() - df['Close'].min()\n",
        "test_accuracy_GRU = (1 - test_rmse_GRU / data_range_GRU) * 100\n",
        "val_accuracy_GRU = (1 - val_rmse_GRU / data_range_GRU) * 100\n",
        "print('Testing Accuracy (%):', test_accuracy_GRU)\n",
        "print('Validation Accuracy (%):', val_accuracy_GRU)"
      ],
      "metadata": {
        "colab": {
          "base_uri": "https://localhost:8080/"
        },
        "id": "dYQFIHJj_MOo",
        "outputId": "725474c6-ad8a-4f59-a78e-f5e03e306dc2"
      },
      "execution_count": null,
      "outputs": [
        {
          "output_type": "stream",
          "name": "stdout",
          "text": [
            "Testing Accuracy (%): 99.78378354707822\n",
            "Validation Accuracy (%): 99.67951522403844\n"
          ]
        }
      ]
    },
    {
      "cell_type": "code",
      "source": [
        "# Dự báo 15 stage tiếp theo\n",
        "x_input_GRU = val_data_GRU[60:].reshape(1, -1)\n",
        "x_input_GRU.shape\n",
        "\n",
        "temp_input_GRU = list(x_input_GRU)\n",
        "temp_input_GRU = temp_input_GRU[0].tolist()\n",
        "\n",
        "lst_output_GRU = []\n",
        "n_steps_GRU = 9681\n",
        "i = 0\n",
        "while i < 15:\n",
        "    if len(temp_input_GRU) > 9681:\n",
        "          x_input_GRU = np.array(temp_input_GRU[1:])\n",
        "\n",
        "          x_input_GRU = x_input_GRU.reshape(1, -1)\n",
        "          x_input_GRU = x_input_GRU.reshape((1, n_steps_GRU, 1))\n",
        "          yhat = model.predict(x_input_GRU, verbose=0)\n",
        "\n",
        "          temp_input_GRU.extend(yhat[0].tolist())\n",
        "          temp_input_GRU = temp_input_GRU[1:]\n",
        "          lst_output_GRU.extend(yhat.tolist())\n",
        "          i = i + 1\n",
        "    else:\n",
        "        x_input_GRU = x_input_GRU.reshape((1, n_steps_GRU, 1))\n",
        "        yhat = model.predict(x_input_GRU, verbose=0)\n",
        "\n",
        "        temp_input_GRU.extend(yhat[0].tolist())\n",
        "\n",
        "        lst_output_GRU.extend(yhat.tolist())\n",
        "        i = i + 1\n",
        "\n",
        "# Chuẩn hóa lại dự đoán 15 stage\n",
        "predicted_values_GRU = np.array(lst_output_GRU)\n",
        "predicted_values_GRU = predicted_values_GRU.reshape(-1, 1)\n",
        "\n",
        "# Chuẩn hóa dự đoán\n",
        "predicted_values_GRU = scaler.inverse_transform(predicted_values_GRU)\n",
        "\n",
        "print(\"Dự đoán 15 stage tiếp theo:\")\n",
        "print(predicted_values_GRU)"
      ],
      "metadata": {
        "colab": {
          "base_uri": "https://localhost:8080/"
        },
        "id": "HVQhGs9uUTjS",
        "outputId": "b86109ad-647f-476b-d1b6-bea13bb47343"
      },
      "execution_count": null,
      "outputs": [
        {
          "output_type": "stream",
          "name": "stdout",
          "text": [
            "Dự đoán 15 stage tiếp theo:\n",
            "[[58.01511323]\n",
            " [57.94246143]\n",
            " [57.87003446]\n",
            " [57.80019476]\n",
            " [57.7315128 ]\n",
            " [57.66457918]\n",
            " [57.59922612]\n",
            " [57.53552072]\n",
            " [57.47334386]\n",
            " [57.41260662]\n",
            " [57.35319825]\n",
            " [57.29502815]\n",
            " [57.23801075]\n",
            " [57.18207557]\n",
            " [57.12715383]]\n"
          ]
        }
      ]
    },
    {
      "cell_type": "code",
      "source": [
        "# Vẽ hình\n",
        "plt.figure(figsize=(8, 6))\n",
        "train_data_index_GRU = pd.RangeIndex(start=0, stop=train_size, step=1)\n",
        "plt.plot(scaler.inverse_transform(train_data_GRU))\n",
        "test_data_index_GRU = pd.RangeIndex(start=train_size, stop=train_size+test_size, step=1)\n",
        "plt.plot(test_data_index_GRU, scaler.inverse_transform(test_data_GRU))\n",
        "test_data_index_GRU = pd.RangeIndex(start=train_size+101, stop=train_size+test_size, step=1)\n",
        "plt.plot(test_data_index_GRU, (y_pred_GRU))\n",
        "val_data_index_GRU = pd.RangeIndex(start=train_size+test_size, stop=train_size+test_size+val_size, step=1)\n",
        "plt.plot(val_data_index_GRU, scaler.inverse_transform(val_data_GRU))\n",
        "val_data_index_GRU = pd.RangeIndex(start=train_size+test_size+101, stop=train_size+test_size+val_size, step=1)\n",
        "plt.plot(val_data_index_GRU, y_pred_val_GRU)\n",
        "predict_data_index_GRU = pd.RangeIndex(start=len(df1)-1, stop=len(df1)+14, step=1)\n",
        "plt.plot(predict_data_index_GRU, scaler.inverse_transform(lst_output_GRU), color='black')\n",
        "plt.title('Hình 2.Dự đoán sử dụng mô hình GRU')\n",
        "plt.legend(['Train','Test','Predict_Test','Validate','Predict_Validate','Predict_15_Stage'])\n",
        "plt.show()"
      ],
      "metadata": {
        "colab": {
          "base_uri": "https://localhost:8080/",
          "height": 546
        },
        "id": "KZDYvQqQWpbS",
        "outputId": "b8cbf9bd-65e4-4fb1-82e0-bf263d2af979"
      },
      "execution_count": null,
      "outputs": [
        {
          "output_type": "display_data",
          "data": {
            "text/plain": [
              "<Figure size 800x600 with 1 Axes>"
            ],
            "image/png": "[encoded data removed]"
          },
          "metadata": {}
        }
      ]
    },
    {
      "cell_type": "markdown",
      "source": [
        "#### Nhận xét\n",
        "- Kết quả dự báo 15 stage tiếp theo bằng mô hình RNN là pha giảm giá trị cổ phiếu.\n",
        "- Độ chính xác của thuật toán dựa trên các thang đo RMSE và MAPE là rất cao.\n",
        "- Độ chính xác của thuật toán để dự báo trên tập Test và Validate khoảng 99.8%.\n",
        "- Nhìn trên ảnh ta thấy:\n",
        "  + Kết quả dự báo trên tập Test (màu xanh) gần như trùng khớp với kết quả thực tế trên tập Test (màu vàng).\n",
        "  + Kết quả dự báo trên tập Validate (màu tím) gần như trùng khớp với kết quả thực tế trên tập Validate (đỏ).\n",
        "- Mô hình GRU đã có sự cải tiến rõ rệt so với mô hình RNN. Sự giảm pha của 15 stage tiếp theo khoảng 0.05, trông có vẻ phù hợp với dữ liệu trên.\n"
      ],
      "metadata": {
        "id": "EcGM3cNtJiIm"
      }
    },
    {
      "cell_type": "markdown",
      "source": [
        "## Tổng kết"
      ],
      "metadata": {
        "id": "L0D2q7SadJEx"
      }
    },
    {
      "cell_type": "code",
      "source": [
        "# So sánh 2 mô hình RNN và GRU\n",
        "data = {\n",
        "    'Độ đo': ['Test Accuracy (%)', 'Validation Accuracy (%)', 'Test RMSE', 'Validation RMSE', 'Test MAPE', 'Validation MAPE'],\n",
        "    'Mô hình RNN': [test_accuracy_RNN, val_accuracy_RNN, test_rmse_RNN, val_rmse_RNN, test_mape_RNN, val_mape_RNN],\n",
        "    'Mô hình GRU': [test_accuracy_GRU, val_accuracy_GRU, test_rmse_GRU, val_rmse_GRU, test_mape_GRU, val_mape_GRU]\n",
        "}\n",
        "\n",
        "df = pd.DataFrame(data).set_index('Độ đo')\n",
        "\n",
        "print(df)"
      ],
      "metadata": {
        "colab": {
          "base_uri": "https://localhost:8080/"
        },
        "id": "s6jDnIhpBJxm",
        "outputId": "893edc32-15fe-4d1d-c51b-116a0ddb8215"
      },
      "execution_count": null,
      "outputs": [
        {
          "output_type": "stream",
          "name": "stdout",
          "text": [
            "                         Mô hình RNN  Mô hình GRU\n",
            "Độ đo                                            \n",
            "Test Accuracy (%)          99.783264    99.783784\n",
            "Validation Accuracy (%)    99.538926    99.679515\n",
            "Test RMSE                   0.061011     0.060865\n",
            "Validation RMSE             0.129792     0.090216\n",
            "Test MAPE                   0.078769     0.082701\n",
            "Validation MAPE             0.196037     0.130438\n"
          ]
        }
      ]
    },
    {
      "cell_type": "code",
      "source": [
        "# Nhận xét Predict 15 stage của 2 mô hình\n",
        "plt.figure(figsize=(6, 4))\n",
        "predict_data_index_RNN = pd.RangeIndex(start=len(df1)-1, stop=len(df1)+14, step=1)\n",
        "plt.plot(predict_data_index_RNN, scaler.inverse_transform(lst_output_RNN), color='green')\n",
        "predict_data_index_GRU = pd.RangeIndex(start=len(df1)-1, stop=len(df1)+14, step=1)\n",
        "plt.plot(predict_data_index_GRU, scaler.inverse_transform(lst_output_GRU), color='blue')\n",
        "plt.title('Hình 3.Xu hướng dự báo giữa 2 mô hình RNN và GRU')\n",
        "plt.legend(['Predict_15_Stage_RNN', 'Predict_15_Stage_GRU'])\n",
        "plt.show()"
      ],
      "metadata": {
        "colab": {
          "base_uri": "https://localhost:8080/",
          "height": 391
        },
        "id": "HBKIPpDSAoKI",
        "outputId": "d318dff3-65e5-462c-80f1-d866cb21f379"
      },
      "execution_count": null,
      "outputs": [
        {
          "output_type": "display_data",
          "data": {
            "text/plain": [
              "<Figure size 600x400 with 1 Axes>"
            ],
            "image/png": "[encoded data removed]"
          },
          "metadata": {}
        }
      ]
    },
    {
      "cell_type": "markdown",
      "source": [
        "### Tổng kết\n",
        "- Nhìn ảnh so sánh trên, ta thấy mô hình GRU dự đoán pha giảm của các stage tiếp theo tốt hơn mô hình RNN.\n",
        "- Tuy nhiên, ở đây em mới chỉ phân tích dựa trên giá trị cổ phiếu đóng cửa (Close). Em đã bỏ qua phân tích một thuộc tính khá quan trọng là lưu lượng mua/bán (Volume). Ví dụ, Volume đột ngột tăng mạnh và giá trị Close đột ngột giảm mạnh thể hiện người dùng đang bán xả giá trị cổ phiếu đó. Nên đây sẽ là hướng cải tiến mô hình chính xác hơn nữa, tránh trường hợp bị overfitting."
      ],
      "metadata": {
        "id": "TOlxkkkSKTFV"
      }
    }
  ]
}