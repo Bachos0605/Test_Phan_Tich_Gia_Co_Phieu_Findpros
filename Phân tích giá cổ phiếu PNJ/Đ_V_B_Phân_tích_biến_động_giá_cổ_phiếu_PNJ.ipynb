{
  "nbformat": 4,
  "nbformat_minor": 0,
  "metadata": {
    "colab": {
      "provenance": [],
      "toc_visible": true
    },
    "kernelspec": {
      "name": "python3",
      "display_name": "Python 3"
    },
    "language_info": {
      "name": "python"
    }
  },
  "cells": [
    {
      "cell_type": "markdown",
      "source": [
        "Phân tích biến động giá cổ phiếu PNJ <br>\n",
        "Người thực hiện: Đỗ Việt Bách <br>\n",
        "Phone: 0559 686 243 <br>\n",
        "Email: 19521230@gm.uit.edu.vn <br>\n",
        "Dataset: Giá trị cổ phiếu PNJ từ ngày 28/02/2018 tới ngày 22/12/2020 <br>\n",
        "Mô hình dự báo: RNN vs. GRU"
      ],
      "metadata": {
        "id": "jSKY7CVkSAuq"
      }
    },
    {
      "cell_type": "markdown",
      "source": [
        "##Import dữ liệu và thư viện cần thiết"
      ],
      "metadata": {
        "id": "57RKIGBfN-Tw"
      }
    },
    {
      "cell_type": "code",
      "execution_count": 1,
      "metadata": {
        "id": "ywveR1aTBj7g",
        "colab": {
          "base_uri": "https://localhost:8080/",
          "height": 73
        },
        "outputId": "54413032-2e30-49eb-e37d-b0821e2ff8f9"
      },
      "outputs": [
        {
          "output_type": "display_data",
          "data": {
            "text/plain": [
              "<IPython.core.display.HTML object>"
            ],
            "text/html": [
              "\n",
              "     <input type=\"file\" id=\"files-577ed90d-a988-4ce0-8a28-6de5730bd60c\" name=\"files[]\" multiple disabled\n",
              "        style=\"border:none\" />\n",
              "     <output id=\"result-577ed90d-a988-4ce0-8a28-6de5730bd60c\">\n",
              "      Upload widget is only available when the cell has been executed in the\n",
              "      current browser session. Please rerun this cell to enable.\n",
              "      </output>\n",
              "      <script>// Copyright 2017 Google LLC\n",
              "//\n",
              "// Licensed under the Apache License, Version 2.0 (the \"License\");\n",
              "// you may not use this file except in compliance with the License.\n",
              "// You may obtain a copy of the License at\n",
              "//\n",
              "//      http://www.apache.org/licenses/LICENSE-2.0\n",
              "//\n",
              "// Unless required by applicable law or agreed to in writing, software\n",
              "// distributed under the License is distributed on an \"AS IS\" BASIS,\n",
              "// WITHOUT WARRANTIES OR CONDITIONS OF ANY KIND, either express or implied.\n",
              "// See the License for the specific language governing permissions and\n",
              "// limitations under the License.\n",
              "\n",
              "/**\n",
              " * @fileoverview Helpers for google.colab Python module.\n",
              " */\n",
              "(function(scope) {\n",
              "function span(text, styleAttributes = {}) {\n",
              "  const element = document.createElement('span');\n",
              "  element.textContent = text;\n",
              "  for (const key of Object.keys(styleAttributes)) {\n",
              "    element.style[key] = styleAttributes[key];\n",
              "  }\n",
              "  return element;\n",
              "}\n",
              "\n",
              "// Max number of bytes which will be uploaded at a time.\n",
              "const MAX_PAYLOAD_SIZE = 100 * 1024;\n",
              "\n",
              "function _uploadFiles(inputId, outputId) {\n",
              "  const steps = uploadFilesStep(inputId, outputId);\n",
              "  const outputElement = document.getElementById(outputId);\n",
              "  // Cache steps on the outputElement to make it available for the next call\n",
              "  // to uploadFilesContinue from Python.\n",
              "  outputElement.steps = steps;\n",
              "\n",
              "  return _uploadFilesContinue(outputId);\n",
              "}\n",
              "\n",
              "// This is roughly an async generator (not supported in the browser yet),\n",
              "// where there are multiple asynchronous steps and the Python side is going\n",
              "// to poll for completion of each step.\n",
              "// This uses a Promise to block the python side on completion of each step,\n",
              "// then passes the result of the previous step as the input to the next step.\n",
              "function _uploadFilesContinue(outputId) {\n",
              "  const outputElement = document.getElementById(outputId);\n",
              "  const steps = outputElement.steps;\n",
              "\n",
              "  const next = steps.next(outputElement.lastPromiseValue);\n",
              "  return Promise.resolve(next.value.promise).then((value) => {\n",
              "    // Cache the last promise value to make it available to the next\n",
              "    // step of the generator.\n",
              "    outputElement.lastPromiseValue = value;\n",
              "    return next.value.response;\n",
              "  });\n",
              "}\n",
              "\n",
              "/**\n",
              " * Generator function which is called between each async step of the upload\n",
              " * process.\n",
              " * @param {string} inputId Element ID of the input file picker element.\n",
              " * @param {string} outputId Element ID of the output display.\n",
              " * @return {!Iterable<!Object>} Iterable of next steps.\n",
              " */\n",
              "function* uploadFilesStep(inputId, outputId) {\n",
              "  const inputElement = document.getElementById(inputId);\n",
              "  inputElement.disabled = false;\n",
              "\n",
              "  const outputElement = document.getElementById(outputId);\n",
              "  outputElement.innerHTML = '';\n",
              "\n",
              "  const pickedPromise = new Promise((resolve) => {\n",
              "    inputElement.addEventListener('change', (e) => {\n",
              "      resolve(e.target.files);\n",
              "    });\n",
              "  });\n",
              "\n",
              "  const cancel = document.createElement('button');\n",
              "  inputElement.parentElement.appendChild(cancel);\n",
              "  cancel.textContent = 'Cancel upload';\n",
              "  const cancelPromise = new Promise((resolve) => {\n",
              "    cancel.onclick = () => {\n",
              "      resolve(null);\n",
              "    };\n",
              "  });\n",
              "\n",
              "  // Wait for the user to pick the files.\n",
              "  const files = yield {\n",
              "    promise: Promise.race([pickedPromise, cancelPromise]),\n",
              "    response: {\n",
              "      action: 'starting',\n",
              "    }\n",
              "  };\n",
              "\n",
              "  cancel.remove();\n",
              "\n",
              "  // Disable the input element since further picks are not allowed.\n",
              "  inputElement.disabled = true;\n",
              "\n",
              "  if (!files) {\n",
              "    return {\n",
              "      response: {\n",
              "        action: 'complete',\n",
              "      }\n",
              "    };\n",
              "  }\n",
              "\n",
              "  for (const file of files) {\n",
              "    const li = document.createElement('li');\n",
              "    li.append(span(file.name, {fontWeight: 'bold'}));\n",
              "    li.append(span(\n",
              "        `(${file.type || 'n/a'}) - ${file.size} bytes, ` +\n",
              "        `last modified: ${\n",
              "            file.lastModifiedDate ? file.lastModifiedDate.toLocaleDateString() :\n",
              "                                    'n/a'} - `));\n",
              "    const percent = span('0% done');\n",
              "    li.appendChild(percent);\n",
              "\n",
              "    outputElement.appendChild(li);\n",
              "\n",
              "    const fileDataPromise = new Promise((resolve) => {\n",
              "      const reader = new FileReader();\n",
              "      reader.onload = (e) => {\n",
              "        resolve(e.target.result);\n",
              "      };\n",
              "      reader.readAsArrayBuffer(file);\n",
              "    });\n",
              "    // Wait for the data to be ready.\n",
              "    let fileData = yield {\n",
              "      promise: fileDataPromise,\n",
              "      response: {\n",
              "        action: 'continue',\n",
              "      }\n",
              "    };\n",
              "\n",
              "    // Use a chunked sending to avoid message size limits. See b/62115660.\n",
              "    let position = 0;\n",
              "    do {\n",
              "      const length = Math.min(fileData.byteLength - position, MAX_PAYLOAD_SIZE);\n",
              "      const chunk = new Uint8Array(fileData, position, length);\n",
              "      position += length;\n",
              "\n",
              "      const base64 = btoa(String.fromCharCode.apply(null, chunk));\n",
              "      yield {\n",
              "        response: {\n",
              "          action: 'append',\n",
              "          file: file.name,\n",
              "          data: base64,\n",
              "        },\n",
              "      };\n",
              "\n",
              "      let percentDone = fileData.byteLength === 0 ?\n",
              "          100 :\n",
              "          Math.round((position / fileData.byteLength) * 100);\n",
              "      percent.textContent = `${percentDone}% done`;\n",
              "\n",
              "    } while (position < fileData.byteLength);\n",
              "  }\n",
              "\n",
              "  // All done.\n",
              "  yield {\n",
              "    response: {\n",
              "      action: 'complete',\n",
              "    }\n",
              "  };\n",
              "}\n",
              "\n",
              "scope.google = scope.google || {};\n",
              "scope.google.colab = scope.google.colab || {};\n",
              "scope.google.colab._files = {\n",
              "  _uploadFiles,\n",
              "  _uploadFilesContinue,\n",
              "};\n",
              "})(self);\n",
              "</script> "
            ]
          },
          "metadata": {}
        },
        {
          "output_type": "stream",
          "name": "stdout",
          "text": [
            "Saving PNJ.csv to PNJ.csv\n"
          ]
        }
      ],
      "source": [
        "from google.colab import files\n",
        "uploaded = files.upload()"
      ]
    },
    {
      "cell_type": "code",
      "source": [
        "import pandas as pd\n",
        "import numpy as np"
      ],
      "metadata": {
        "id": "CRXjUHRSCvqj"
      },
      "execution_count": 2,
      "outputs": []
    },
    {
      "cell_type": "code",
      "source": [
        "df = pd.read_csv('/content/PNJ.csv')"
      ],
      "metadata": {
        "id": "ElItuCDhDKTy"
      },
      "execution_count": 3,
      "outputs": []
    },
    {
      "cell_type": "code",
      "source": [
        "df"
      ],
      "metadata": {
        "colab": {
          "base_uri": "https://localhost:8080/",
          "height": 423
        },
        "id": "FLAHw4LVDQvh",
        "outputId": "ab495c66-ae12-471e-9a6b-fa3c36e7927e"
      },
      "execution_count": 4,
      "outputs": [
        {
          "output_type": "execute_result",
          "data": {
            "text/plain": [
              "       Ticker         Date/Time   Open   High    Low  Close  Volume  \\\n",
              "0         PNJ    2/28/2018 9:15  78.14  78.99  78.14  78.99     270   \n",
              "1         PNJ    2/28/2018 9:16  78.94  78.94  78.94  78.94      10   \n",
              "2         PNJ    2/28/2018 9:19  78.14  78.14  78.14  78.14     283   \n",
              "3         PNJ    2/28/2018 9:20  78.14  78.14  78.14  78.14     480   \n",
              "4         PNJ    2/28/2018 9:21  78.14  78.14  78.14  78.14     146   \n",
              "...       ...               ...    ...    ...    ...    ...     ...   \n",
              "125304    PNJ  12/22/2020 14:22  78.20  78.20  78.20  78.20    5000   \n",
              "125305    PNJ  12/22/2020 14:23  78.20  78.20  78.20  78.20    1700   \n",
              "125306    PNJ  12/22/2020 14:24  78.20  78.20  78.20  78.20     870   \n",
              "125307    PNJ  12/22/2020 14:25  78.10  78.10  78.10  78.10   13000   \n",
              "125308    PNJ  12/22/2020 14:46  78.30  78.30  78.30  78.30    1500   \n",
              "\n",
              "        Open Interest  \n",
              "0                   0  \n",
              "1                   0  \n",
              "2                   0  \n",
              "3                   0  \n",
              "4                   0  \n",
              "...               ...  \n",
              "125304              0  \n",
              "125305              0  \n",
              "125306              0  \n",
              "125307              0  \n",
              "125308              0  \n",
              "\n",
              "[125309 rows x 8 columns]"
            ],
            "text/html": [
              "\n",
              "  <div id=\"df-4685e04b-953f-4321-9860-4a6e46f0506c\" class=\"colab-df-container\">\n",
              "    <div>\n",
              "<style scoped>\n",
              "    .dataframe tbody tr th:only-of-type {\n",
              "        vertical-align: middle;\n",
              "    }\n",
              "\n",
              "    .dataframe tbody tr th {\n",
              "        vertical-align: top;\n",
              "    }\n",
              "\n",
              "    .dataframe thead th {\n",
              "        text-align: right;\n",
              "    }\n",
              "</style>\n",
              "<table border=\"1\" class=\"dataframe\">\n",
              "  <thead>\n",
              "    <tr style=\"text-align: right;\">\n",
              "      <th></th>\n",
              "      <th>Ticker</th>\n",
              "      <th>Date/Time</th>\n",
              "      <th>Open</th>\n",
              "      <th>High</th>\n",
              "      <th>Low</th>\n",
              "      <th>Close</th>\n",
              "      <th>Volume</th>\n",
              "      <th>Open Interest</th>\n",
              "    </tr>\n",
              "  </thead>\n",
              "  <tbody>\n",
              "    <tr>\n",
              "      <th>0</th>\n",
              "      <td>PNJ</td>\n",
              "      <td>2/28/2018 9:15</td>\n",
              "      <td>78.14</td>\n",
              "      <td>78.99</td>\n",
              "      <td>78.14</td>\n",
              "      <td>78.99</td>\n",
              "      <td>270</td>\n",
              "      <td>0</td>\n",
              "    </tr>\n",
              "    <tr>\n",
              "      <th>1</th>\n",
              "      <td>PNJ</td>\n",
              "      <td>2/28/2018 9:16</td>\n",
              "      <td>78.94</td>\n",
              "      <td>78.94</td>\n",
              "      <td>78.94</td>\n",
              "      <td>78.94</td>\n",
              "      <td>10</td>\n",
              "      <td>0</td>\n",
              "    </tr>\n",
              "    <tr>\n",
              "      <th>2</th>\n",
              "      <td>PNJ</td>\n",
              "      <td>2/28/2018 9:19</td>\n",
              "      <td>78.14</td>\n",
              "      <td>78.14</td>\n",
              "      <td>78.14</td>\n",
              "      <td>78.14</td>\n",
              "      <td>283</td>\n",
              "      <td>0</td>\n",
              "    </tr>\n",
              "    <tr>\n",
              "      <th>3</th>\n",
              "      <td>PNJ</td>\n",
              "      <td>2/28/2018 9:20</td>\n",
              "      <td>78.14</td>\n",
              "      <td>78.14</td>\n",
              "      <td>78.14</td>\n",
              "      <td>78.14</td>\n",
              "      <td>480</td>\n",
              "      <td>0</td>\n",
              "    </tr>\n",
              "    <tr>\n",
              "      <th>4</th>\n",
              "      <td>PNJ</td>\n",
              "      <td>2/28/2018 9:21</td>\n",
              "      <td>78.14</td>\n",
              "      <td>78.14</td>\n",
              "      <td>78.14</td>\n",
              "      <td>78.14</td>\n",
              "      <td>146</td>\n",
              "      <td>0</td>\n",
              "    </tr>\n",
              "    <tr>\n",
              "      <th>...</th>\n",
              "      <td>...</td>\n",
              "      <td>...</td>\n",
              "      <td>...</td>\n",
              "      <td>...</td>\n",
              "      <td>...</td>\n",
              "      <td>...</td>\n",
              "      <td>...</td>\n",
              "      <td>...</td>\n",
              "    </tr>\n",
              "    <tr>\n",
              "      <th>125304</th>\n",
              "      <td>PNJ</td>\n",
              "      <td>12/22/2020 14:22</td>\n",
              "      <td>78.20</td>\n",
              "      <td>78.20</td>\n",
              "      <td>78.20</td>\n",
              "      <td>78.20</td>\n",
              "      <td>5000</td>\n",
              "      <td>0</td>\n",
              "    </tr>\n",
              "    <tr>\n",
              "      <th>125305</th>\n",
              "      <td>PNJ</td>\n",
              "      <td>12/22/2020 14:23</td>\n",
              "      <td>78.20</td>\n",
              "      <td>78.20</td>\n",
              "      <td>78.20</td>\n",
              "      <td>78.20</td>\n",
              "      <td>1700</td>\n",
              "      <td>0</td>\n",
              "    </tr>\n",
              "    <tr>\n",
              "      <th>125306</th>\n",
              "      <td>PNJ</td>\n",
              "      <td>12/22/2020 14:24</td>\n",
              "      <td>78.20</td>\n",
              "      <td>78.20</td>\n",
              "      <td>78.20</td>\n",
              "      <td>78.20</td>\n",
              "      <td>870</td>\n",
              "      <td>0</td>\n",
              "    </tr>\n",
              "    <tr>\n",
              "      <th>125307</th>\n",
              "      <td>PNJ</td>\n",
              "      <td>12/22/2020 14:25</td>\n",
              "      <td>78.10</td>\n",
              "      <td>78.10</td>\n",
              "      <td>78.10</td>\n",
              "      <td>78.10</td>\n",
              "      <td>13000</td>\n",
              "      <td>0</td>\n",
              "    </tr>\n",
              "    <tr>\n",
              "      <th>125308</th>\n",
              "      <td>PNJ</td>\n",
              "      <td>12/22/2020 14:46</td>\n",
              "      <td>78.30</td>\n",
              "      <td>78.30</td>\n",
              "      <td>78.30</td>\n",
              "      <td>78.30</td>\n",
              "      <td>1500</td>\n",
              "      <td>0</td>\n",
              "    </tr>\n",
              "  </tbody>\n",
              "</table>\n",
              "<p>125309 rows × 8 columns</p>\n",
              "</div>\n",
              "    <div class=\"colab-df-buttons\">\n",
              "\n",
              "  <div class=\"colab-df-container\">\n",
              "    <button class=\"colab-df-convert\" onclick=\"convertToInteractive('df-4685e04b-953f-4321-9860-4a6e46f0506c')\"\n",
              "            title=\"Convert this dataframe to an interactive table.\"\n",
              "            style=\"display:none;\">\n",
              "\n",
              "  <svg xmlns=\"http://www.w3.org/2000/svg\" height=\"24px\" viewBox=\"0 -960 960 960\">\n",
              "    <path d=\"M120-120v-720h720v720H120Zm60-500h600v-160H180v160Zm220 220h160v-160H400v160Zm0 220h160v-160H400v160ZM180-400h160v-160H180v160Zm440 0h160v-160H620v160ZM180-180h160v-160H180v160Zm440 0h160v-160H620v160Z\"/>\n",
              "  </svg>\n",
              "    </button>\n",
              "\n",
              "  <style>\n",
              "    .colab-df-container {\n",
              "      display:flex;\n",
              "      gap: 12px;\n",
              "    }\n",
              "\n",
              "    .colab-df-convert {\n",
              "      background-color: #E8F0FE;\n",
              "      border: none;\n",
              "      border-radius: 50%;\n",
              "      cursor: pointer;\n",
              "      display: none;\n",
              "      fill: #1967D2;\n",
              "      height: 32px;\n",
              "      padding: 0 0 0 0;\n",
              "      width: 32px;\n",
              "    }\n",
              "\n",
              "    .colab-df-convert:hover {\n",
              "      background-color: #E2EBFA;\n",
              "      box-shadow: 0px 1px 2px rgba(60, 64, 67, 0.3), 0px 1px 3px 1px rgba(60, 64, 67, 0.15);\n",
              "      fill: #174EA6;\n",
              "    }\n",
              "\n",
              "    .colab-df-buttons div {\n",
              "      margin-bottom: 4px;\n",
              "    }\n",
              "\n",
              "    [theme=dark] .colab-df-convert {\n",
              "      background-color: #3B4455;\n",
              "      fill: #D2E3FC;\n",
              "    }\n",
              "\n",
              "    [theme=dark] .colab-df-convert:hover {\n",
              "      background-color: #434B5C;\n",
              "      box-shadow: 0px 1px 3px 1px rgba(0, 0, 0, 0.15);\n",
              "      filter: drop-shadow(0px 1px 2px rgba(0, 0, 0, 0.3));\n",
              "      fill: #FFFFFF;\n",
              "    }\n",
              "  </style>\n",
              "\n",
              "    <script>\n",
              "      const buttonEl =\n",
              "        document.querySelector('#df-4685e04b-953f-4321-9860-4a6e46f0506c button.colab-df-convert');\n",
              "      buttonEl.style.display =\n",
              "        google.colab.kernel.accessAllowed ? 'block' : 'none';\n",
              "\n",
              "      async function convertToInteractive(key) {\n",
              "        const element = document.querySelector('#df-4685e04b-953f-4321-9860-4a6e46f0506c');\n",
              "        const dataTable =\n",
              "          await google.colab.kernel.invokeFunction('convertToInteractive',\n",
              "                                                    [key], {});\n",
              "        if (!dataTable) return;\n",
              "\n",
              "        const docLinkHtml = 'Like what you see? Visit the ' +\n",
              "          '<a target=\"_blank\" href=https://colab.research.google.com/notebooks/data_table.ipynb>data table notebook</a>'\n",
              "          + ' to learn more about interactive tables.';\n",
              "        element.innerHTML = '';\n",
              "        dataTable['output_type'] = 'display_data';\n",
              "        await google.colab.output.renderOutput(dataTable, element);\n",
              "        const docLink = document.createElement('div');\n",
              "        docLink.innerHTML = docLinkHtml;\n",
              "        element.appendChild(docLink);\n",
              "      }\n",
              "    </script>\n",
              "  </div>\n",
              "\n",
              "\n",
              "<div id=\"df-c8883546-57f1-49be-b33c-c557eb1bb11f\">\n",
              "  <button class=\"colab-df-quickchart\" onclick=\"quickchart('df-c8883546-57f1-49be-b33c-c557eb1bb11f')\"\n",
              "            title=\"Suggest charts\"\n",
              "            style=\"display:none;\">\n",
              "\n",
              "<svg xmlns=\"http://www.w3.org/2000/svg\" height=\"24px\"viewBox=\"0 0 24 24\"\n",
              "     width=\"24px\">\n",
              "    <g>\n",
              "        <path d=\"M19 3H5c-1.1 0-2 .9-2 2v14c0 1.1.9 2 2 2h14c1.1 0 2-.9 2-2V5c0-1.1-.9-2-2-2zM9 17H7v-7h2v7zm4 0h-2V7h2v10zm4 0h-2v-4h2v4z\"/>\n",
              "    </g>\n",
              "</svg>\n",
              "  </button>\n",
              "\n",
              "<style>\n",
              "  .colab-df-quickchart {\n",
              "      --bg-color: #E8F0FE;\n",
              "      --fill-color: #1967D2;\n",
              "      --hover-bg-color: #E2EBFA;\n",
              "      --hover-fill-color: #174EA6;\n",
              "      --disabled-fill-color: #AAA;\n",
              "      --disabled-bg-color: #DDD;\n",
              "  }\n",
              "\n",
              "  [theme=dark] .colab-df-quickchart {\n",
              "      --bg-color: #3B4455;\n",
              "      --fill-color: #D2E3FC;\n",
              "      --hover-bg-color: #434B5C;\n",
              "      --hover-fill-color: #FFFFFF;\n",
              "      --disabled-bg-color: #3B4455;\n",
              "      --disabled-fill-color: #666;\n",
              "  }\n",
              "\n",
              "  .colab-df-quickchart {\n",
              "    background-color: var(--bg-color);\n",
              "    border: none;\n",
              "    border-radius: 50%;\n",
              "    cursor: pointer;\n",
              "    display: none;\n",
              "    fill: var(--fill-color);\n",
              "    height: 32px;\n",
              "    padding: 0;\n",
              "    width: 32px;\n",
              "  }\n",
              "\n",
              "  .colab-df-quickchart:hover {\n",
              "    background-color: var(--hover-bg-color);\n",
              "    box-shadow: 0 1px 2px rgba(60, 64, 67, 0.3), 0 1px 3px 1px rgba(60, 64, 67, 0.15);\n",
              "    fill: var(--button-hover-fill-color);\n",
              "  }\n",
              "\n",
              "  .colab-df-quickchart-complete:disabled,\n",
              "  .colab-df-quickchart-complete:disabled:hover {\n",
              "    background-color: var(--disabled-bg-color);\n",
              "    fill: var(--disabled-fill-color);\n",
              "    box-shadow: none;\n",
              "  }\n",
              "\n",
              "  .colab-df-spinner {\n",
              "    border: 2px solid var(--fill-color);\n",
              "    border-color: transparent;\n",
              "    border-bottom-color: var(--fill-color);\n",
              "    animation:\n",
              "      spin 1s steps(1) infinite;\n",
              "  }\n",
              "\n",
              "  @keyframes spin {\n",
              "    0% {\n",
              "      border-color: transparent;\n",
              "      border-bottom-color: var(--fill-color);\n",
              "      border-left-color: var(--fill-color);\n",
              "    }\n",
              "    20% {\n",
              "      border-color: transparent;\n",
              "      border-left-color: var(--fill-color);\n",
              "      border-top-color: var(--fill-color);\n",
              "    }\n",
              "    30% {\n",
              "      border-color: transparent;\n",
              "      border-left-color: var(--fill-color);\n",
              "      border-top-color: var(--fill-color);\n",
              "      border-right-color: var(--fill-color);\n",
              "    }\n",
              "    40% {\n",
              "      border-color: transparent;\n",
              "      border-right-color: var(--fill-color);\n",
              "      border-top-color: var(--fill-color);\n",
              "    }\n",
              "    60% {\n",
              "      border-color: transparent;\n",
              "      border-right-color: var(--fill-color);\n",
              "    }\n",
              "    80% {\n",
              "      border-color: transparent;\n",
              "      border-right-color: var(--fill-color);\n",
              "      border-bottom-color: var(--fill-color);\n",
              "    }\n",
              "    90% {\n",
              "      border-color: transparent;\n",
              "      border-bottom-color: var(--fill-color);\n",
              "    }\n",
              "  }\n",
              "</style>\n",
              "\n",
              "  <script>\n",
              "    async function quickchart(key) {\n",
              "      const quickchartButtonEl =\n",
              "        document.querySelector('#' + key + ' button');\n",
              "      quickchartButtonEl.disabled = true;  // To prevent multiple clicks.\n",
              "      quickchartButtonEl.classList.add('colab-df-spinner');\n",
              "      try {\n",
              "        const charts = await google.colab.kernel.invokeFunction(\n",
              "            'suggestCharts', [key], {});\n",
              "      } catch (error) {\n",
              "        console.error('Error during call to suggestCharts:', error);\n",
              "      }\n",
              "      quickchartButtonEl.classList.remove('colab-df-spinner');\n",
              "      quickchartButtonEl.classList.add('colab-df-quickchart-complete');\n",
              "    }\n",
              "    (() => {\n",
              "      let quickchartButtonEl =\n",
              "        document.querySelector('#df-c8883546-57f1-49be-b33c-c557eb1bb11f button');\n",
              "      quickchartButtonEl.style.display =\n",
              "        google.colab.kernel.accessAllowed ? 'block' : 'none';\n",
              "    })();\n",
              "  </script>\n",
              "</div>\n",
              "\n",
              "  <div id=\"id_fa53676a-639a-41c5-bea8-4b7b608398b2\">\n",
              "    <style>\n",
              "      .colab-df-generate {\n",
              "        background-color: #E8F0FE;\n",
              "        border: none;\n",
              "        border-radius: 50%;\n",
              "        cursor: pointer;\n",
              "        display: none;\n",
              "        fill: #1967D2;\n",
              "        height: 32px;\n",
              "        padding: 0 0 0 0;\n",
              "        width: 32px;\n",
              "      }\n",
              "\n",
              "      .colab-df-generate:hover {\n",
              "        background-color: #E2EBFA;\n",
              "        box-shadow: 0px 1px 2px rgba(60, 64, 67, 0.3), 0px 1px 3px 1px rgba(60, 64, 67, 0.15);\n",
              "        fill: #174EA6;\n",
              "      }\n",
              "\n",
              "      [theme=dark] .colab-df-generate {\n",
              "        background-color: #3B4455;\n",
              "        fill: #D2E3FC;\n",
              "      }\n",
              "\n",
              "      [theme=dark] .colab-df-generate:hover {\n",
              "        background-color: #434B5C;\n",
              "        box-shadow: 0px 1px 3px 1px rgba(0, 0, 0, 0.15);\n",
              "        filter: drop-shadow(0px 1px 2px rgba(0, 0, 0, 0.3));\n",
              "        fill: #FFFFFF;\n",
              "      }\n",
              "    </style>\n",
              "    <button class=\"colab-df-generate\" onclick=\"generateWithVariable('df')\"\n",
              "            title=\"Generate code using this dataframe.\"\n",
              "            style=\"display:none;\">\n",
              "\n",
              "  <svg xmlns=\"http://www.w3.org/2000/svg\" height=\"24px\"viewBox=\"0 0 24 24\"\n",
              "       width=\"24px\">\n",
              "    <path d=\"M7,19H8.4L18.45,9,17,7.55,7,17.6ZM5,21V16.75L18.45,3.32a2,2,0,0,1,2.83,0l1.4,1.43a1.91,1.91,0,0,1,.58,1.4,1.91,1.91,0,0,1-.58,1.4L9.25,21ZM18.45,9,17,7.55Zm-12,3A5.31,5.31,0,0,0,4.9,8.1,5.31,5.31,0,0,0,1,6.5,5.31,5.31,0,0,0,4.9,4.9,5.31,5.31,0,0,0,6.5,1,5.31,5.31,0,0,0,8.1,4.9,5.31,5.31,0,0,0,12,6.5,5.46,5.46,0,0,0,6.5,12Z\"/>\n",
              "  </svg>\n",
              "    </button>\n",
              "    <script>\n",
              "      (() => {\n",
              "      const buttonEl =\n",
              "        document.querySelector('#id_fa53676a-639a-41c5-bea8-4b7b608398b2 button.colab-df-generate');\n",
              "      buttonEl.style.display =\n",
              "        google.colab.kernel.accessAllowed ? 'block' : 'none';\n",
              "\n",
              "      buttonEl.onclick = () => {\n",
              "        google.colab.notebook.generateWithVariable('df');\n",
              "      }\n",
              "      })();\n",
              "    </script>\n",
              "  </div>\n",
              "\n",
              "    </div>\n",
              "  </div>\n"
            ],
            "application/vnd.google.colaboratory.intrinsic+json": {
              "type": "dataframe",
              "variable_name": "df"
            }
          },
          "metadata": {},
          "execution_count": 4
        }
      ]
    },
    {
      "cell_type": "markdown",
      "source": [
        "##Làm sạch dữ liệu"
      ],
      "metadata": {
        "id": "HQTT9sdlOPwP"
      }
    },
    {
      "cell_type": "code",
      "source": [
        "# Xem kiểu dữ liệu\n",
        "df.info()"
      ],
      "metadata": {
        "colab": {
          "base_uri": "https://localhost:8080/"
        },
        "id": "75SiPtsnDb0C",
        "outputId": "03916a1c-77a4-4214-e26d-576a9d3d1f18"
      },
      "execution_count": 5,
      "outputs": [
        {
          "output_type": "stream",
          "name": "stdout",
          "text": [
            "<class 'pandas.core.frame.DataFrame'>\n",
            "RangeIndex: 125309 entries, 0 to 125308\n",
            "Data columns (total 8 columns):\n",
            " #   Column         Non-Null Count   Dtype  \n",
            "---  ------         --------------   -----  \n",
            " 0   Ticker         125309 non-null  object \n",
            " 1   Date/Time      125309 non-null  object \n",
            " 2   Open           125309 non-null  float64\n",
            " 3   High           125309 non-null  float64\n",
            " 4   Low            125309 non-null  float64\n",
            " 5   Close          125309 non-null  float64\n",
            " 6   Volume         125309 non-null  int64  \n",
            " 7   Open Interest  125309 non-null  int64  \n",
            "dtypes: float64(4), int64(2), object(2)\n",
            "memory usage: 7.6+ MB\n"
          ]
        }
      ]
    },
    {
      "cell_type": "code",
      "source": [
        "df.dtypes"
      ],
      "metadata": {
        "colab": {
          "base_uri": "https://localhost:8080/"
        },
        "id": "NzfOcKmCGG2t",
        "outputId": "cc7e2dc5-c76a-440b-eb3e-6079ece74cf6"
      },
      "execution_count": 6,
      "outputs": [
        {
          "output_type": "execute_result",
          "data": {
            "text/plain": [
              "Ticker            object\n",
              "Date/Time         object\n",
              "Open             float64\n",
              "High             float64\n",
              "Low              float64\n",
              "Close            float64\n",
              "Volume             int64\n",
              "Open Interest      int64\n",
              "dtype: object"
            ]
          },
          "metadata": {},
          "execution_count": 6
        }
      ]
    },
    {
      "cell_type": "code",
      "source": [
        "# Kiểm tra hàng trùng lặp\n",
        "df.duplicated().any()"
      ],
      "metadata": {
        "colab": {
          "base_uri": "https://localhost:8080/"
        },
        "id": "3a0ZkgHnENqR",
        "outputId": "8e24eb39-c9bf-48bf-c42e-3de752791674"
      },
      "execution_count": 7,
      "outputs": [
        {
          "output_type": "execute_result",
          "data": {
            "text/plain": [
              "False"
            ]
          },
          "metadata": {},
          "execution_count": 7
        }
      ]
    },
    {
      "cell_type": "code",
      "source": [
        "# Kiểm tra Null\n",
        "df.isnull().any()"
      ],
      "metadata": {
        "colab": {
          "base_uri": "https://localhost:8080/"
        },
        "id": "RhkA3_dOG6qE",
        "outputId": "f0759bb3-e47e-413a-8071-de0dac2ff42d"
      },
      "execution_count": 8,
      "outputs": [
        {
          "output_type": "execute_result",
          "data": {
            "text/plain": [
              "Ticker           False\n",
              "Date/Time        False\n",
              "Open             False\n",
              "High             False\n",
              "Low              False\n",
              "Close            False\n",
              "Volume           False\n",
              "Open Interest    False\n",
              "dtype: bool"
            ]
          },
          "metadata": {},
          "execution_count": 8
        }
      ]
    },
    {
      "cell_type": "code",
      "source": [
        "# Kiểm tra các giá trị min, max, mean(giá trị trung bình), standard(độ lệch chuẩn) của mỗi cột\n",
        "df.describe()"
      ],
      "metadata": {
        "colab": {
          "base_uri": "https://localhost:8080/",
          "height": 300
        },
        "id": "rEyJh3gBHJ6x",
        "outputId": "bd069513-6954-422d-9d3b-d4c3c3cad644"
      },
      "execution_count": 9,
      "outputs": [
        {
          "output_type": "execute_result",
          "data": {
            "text/plain": [
              "                Open           High            Low          Close  \\\n",
              "count  125309.000000  125309.000000  125309.000000  125309.000000   \n",
              "mean       72.182052      72.372590      72.042287      72.179371   \n",
              "std         9.900263       9.995786       9.830847       9.899401   \n",
              "min        44.430000      44.530000      44.040000      44.140000   \n",
              "25%        64.600000      64.700000      64.570000      64.600000   \n",
              "50%        72.800000      73.010000      72.640000      72.830000   \n",
              "75%        80.160000      80.350000      80.060000      80.160000   \n",
              "max       100.160000     100.160000     100.160000     100.160000   \n",
              "\n",
              "              Volume  Open Interest  \n",
              "count  125309.000000       125309.0  \n",
              "mean     3031.830451            0.0  \n",
              "std      7248.952968            0.0  \n",
              "min         1.000000            0.0  \n",
              "25%       220.000000            0.0  \n",
              "50%      1000.000000            0.0  \n",
              "75%      3130.000000            0.0  \n",
              "max    580730.000000            0.0  "
            ],
            "text/html": [
              "\n",
              "  <div id=\"df-0097912c-a3bb-495e-8d74-38f7d4623d4d\" class=\"colab-df-container\">\n",
              "    <div>\n",
              "<style scoped>\n",
              "    .dataframe tbody tr th:only-of-type {\n",
              "        vertical-align: middle;\n",
              "    }\n",
              "\n",
              "    .dataframe tbody tr th {\n",
              "        vertical-align: top;\n",
              "    }\n",
              "\n",
              "    .dataframe thead th {\n",
              "        text-align: right;\n",
              "    }\n",
              "</style>\n",
              "<table border=\"1\" class=\"dataframe\">\n",
              "  <thead>\n",
              "    <tr style=\"text-align: right;\">\n",
              "      <th></th>\n",
              "      <th>Open</th>\n",
              "      <th>High</th>\n",
              "      <th>Low</th>\n",
              "      <th>Close</th>\n",
              "      <th>Volume</th>\n",
              "      <th>Open Interest</th>\n",
              "    </tr>\n",
              "  </thead>\n",
              "  <tbody>\n",
              "    <tr>\n",
              "      <th>count</th>\n",
              "      <td>125309.000000</td>\n",
              "      <td>125309.000000</td>\n",
              "      <td>125309.000000</td>\n",
              "      <td>125309.000000</td>\n",
              "      <td>125309.000000</td>\n",
              "      <td>125309.0</td>\n",
              "    </tr>\n",
              "    <tr>\n",
              "      <th>mean</th>\n",
              "      <td>72.182052</td>\n",
              "      <td>72.372590</td>\n",
              "      <td>72.042287</td>\n",
              "      <td>72.179371</td>\n",
              "      <td>3031.830451</td>\n",
              "      <td>0.0</td>\n",
              "    </tr>\n",
              "    <tr>\n",
              "      <th>std</th>\n",
              "      <td>9.900263</td>\n",
              "      <td>9.995786</td>\n",
              "      <td>9.830847</td>\n",
              "      <td>9.899401</td>\n",
              "      <td>7248.952968</td>\n",
              "      <td>0.0</td>\n",
              "    </tr>\n",
              "    <tr>\n",
              "      <th>min</th>\n",
              "      <td>44.430000</td>\n",
              "      <td>44.530000</td>\n",
              "      <td>44.040000</td>\n",
              "      <td>44.140000</td>\n",
              "      <td>1.000000</td>\n",
              "      <td>0.0</td>\n",
              "    </tr>\n",
              "    <tr>\n",
              "      <th>25%</th>\n",
              "      <td>64.600000</td>\n",
              "      <td>64.700000</td>\n",
              "      <td>64.570000</td>\n",
              "      <td>64.600000</td>\n",
              "      <td>220.000000</td>\n",
              "      <td>0.0</td>\n",
              "    </tr>\n",
              "    <tr>\n",
              "      <th>50%</th>\n",
              "      <td>72.800000</td>\n",
              "      <td>73.010000</td>\n",
              "      <td>72.640000</td>\n",
              "      <td>72.830000</td>\n",
              "      <td>1000.000000</td>\n",
              "      <td>0.0</td>\n",
              "    </tr>\n",
              "    <tr>\n",
              "      <th>75%</th>\n",
              "      <td>80.160000</td>\n",
              "      <td>80.350000</td>\n",
              "      <td>80.060000</td>\n",
              "      <td>80.160000</td>\n",
              "      <td>3130.000000</td>\n",
              "      <td>0.0</td>\n",
              "    </tr>\n",
              "    <tr>\n",
              "      <th>max</th>\n",
              "      <td>100.160000</td>\n",
              "      <td>100.160000</td>\n",
              "      <td>100.160000</td>\n",
              "      <td>100.160000</td>\n",
              "      <td>580730.000000</td>\n",
              "      <td>0.0</td>\n",
              "    </tr>\n",
              "  </tbody>\n",
              "</table>\n",
              "</div>\n",
              "    <div class=\"colab-df-buttons\">\n",
              "\n",
              "  <div class=\"colab-df-container\">\n",
              "    <button class=\"colab-df-convert\" onclick=\"convertToInteractive('df-0097912c-a3bb-495e-8d74-38f7d4623d4d')\"\n",
              "            title=\"Convert this dataframe to an interactive table.\"\n",
              "            style=\"display:none;\">\n",
              "\n",
              "  <svg xmlns=\"http://www.w3.org/2000/svg\" height=\"24px\" viewBox=\"0 -960 960 960\">\n",
              "    <path d=\"M120-120v-720h720v720H120Zm60-500h600v-160H180v160Zm220 220h160v-160H400v160Zm0 220h160v-160H400v160ZM180-400h160v-160H180v160Zm440 0h160v-160H620v160ZM180-180h160v-160H180v160Zm440 0h160v-160H620v160Z\"/>\n",
              "  </svg>\n",
              "    </button>\n",
              "\n",
              "  <style>\n",
              "    .colab-df-container {\n",
              "      display:flex;\n",
              "      gap: 12px;\n",
              "    }\n",
              "\n",
              "    .colab-df-convert {\n",
              "      background-color: #E8F0FE;\n",
              "      border: none;\n",
              "      border-radius: 50%;\n",
              "      cursor: pointer;\n",
              "      display: none;\n",
              "      fill: #1967D2;\n",
              "      height: 32px;\n",
              "      padding: 0 0 0 0;\n",
              "      width: 32px;\n",
              "    }\n",
              "\n",
              "    .colab-df-convert:hover {\n",
              "      background-color: #E2EBFA;\n",
              "      box-shadow: 0px 1px 2px rgba(60, 64, 67, 0.3), 0px 1px 3px 1px rgba(60, 64, 67, 0.15);\n",
              "      fill: #174EA6;\n",
              "    }\n",
              "\n",
              "    .colab-df-buttons div {\n",
              "      margin-bottom: 4px;\n",
              "    }\n",
              "\n",
              "    [theme=dark] .colab-df-convert {\n",
              "      background-color: #3B4455;\n",
              "      fill: #D2E3FC;\n",
              "    }\n",
              "\n",
              "    [theme=dark] .colab-df-convert:hover {\n",
              "      background-color: #434B5C;\n",
              "      box-shadow: 0px 1px 3px 1px rgba(0, 0, 0, 0.15);\n",
              "      filter: drop-shadow(0px 1px 2px rgba(0, 0, 0, 0.3));\n",
              "      fill: #FFFFFF;\n",
              "    }\n",
              "  </style>\n",
              "\n",
              "    <script>\n",
              "      const buttonEl =\n",
              "        document.querySelector('#df-0097912c-a3bb-495e-8d74-38f7d4623d4d button.colab-df-convert');\n",
              "      buttonEl.style.display =\n",
              "        google.colab.kernel.accessAllowed ? 'block' : 'none';\n",
              "\n",
              "      async function convertToInteractive(key) {\n",
              "        const element = document.querySelector('#df-0097912c-a3bb-495e-8d74-38f7d4623d4d');\n",
              "        const dataTable =\n",
              "          await google.colab.kernel.invokeFunction('convertToInteractive',\n",
              "                                                    [key], {});\n",
              "        if (!dataTable) return;\n",
              "\n",
              "        const docLinkHtml = 'Like what you see? Visit the ' +\n",
              "          '<a target=\"_blank\" href=https://colab.research.google.com/notebooks/data_table.ipynb>data table notebook</a>'\n",
              "          + ' to learn more about interactive tables.';\n",
              "        element.innerHTML = '';\n",
              "        dataTable['output_type'] = 'display_data';\n",
              "        await google.colab.output.renderOutput(dataTable, element);\n",
              "        const docLink = document.createElement('div');\n",
              "        docLink.innerHTML = docLinkHtml;\n",
              "        element.appendChild(docLink);\n",
              "      }\n",
              "    </script>\n",
              "  </div>\n",
              "\n",
              "\n",
              "<div id=\"df-a44214b6-47b5-4ddb-b84f-965875187293\">\n",
              "  <button class=\"colab-df-quickchart\" onclick=\"quickchart('df-a44214b6-47b5-4ddb-b84f-965875187293')\"\n",
              "            title=\"Suggest charts\"\n",
              "            style=\"display:none;\">\n",
              "\n",
              "<svg xmlns=\"http://www.w3.org/2000/svg\" height=\"24px\"viewBox=\"0 0 24 24\"\n",
              "     width=\"24px\">\n",
              "    <g>\n",
              "        <path d=\"M19 3H5c-1.1 0-2 .9-2 2v14c0 1.1.9 2 2 2h14c1.1 0 2-.9 2-2V5c0-1.1-.9-2-2-2zM9 17H7v-7h2v7zm4 0h-2V7h2v10zm4 0h-2v-4h2v4z\"/>\n",
              "    </g>\n",
              "</svg>\n",
              "  </button>\n",
              "\n",
              "<style>\n",
              "  .colab-df-quickchart {\n",
              "      --bg-color: #E8F0FE;\n",
              "      --fill-color: #1967D2;\n",
              "      --hover-bg-color: #E2EBFA;\n",
              "      --hover-fill-color: #174EA6;\n",
              "      --disabled-fill-color: #AAA;\n",
              "      --disabled-bg-color: #DDD;\n",
              "  }\n",
              "\n",
              "  [theme=dark] .colab-df-quickchart {\n",
              "      --bg-color: #3B4455;\n",
              "      --fill-color: #D2E3FC;\n",
              "      --hover-bg-color: #434B5C;\n",
              "      --hover-fill-color: #FFFFFF;\n",
              "      --disabled-bg-color: #3B4455;\n",
              "      --disabled-fill-color: #666;\n",
              "  }\n",
              "\n",
              "  .colab-df-quickchart {\n",
              "    background-color: var(--bg-color);\n",
              "    border: none;\n",
              "    border-radius: 50%;\n",
              "    cursor: pointer;\n",
              "    display: none;\n",
              "    fill: var(--fill-color);\n",
              "    height: 32px;\n",
              "    padding: 0;\n",
              "    width: 32px;\n",
              "  }\n",
              "\n",
              "  .colab-df-quickchart:hover {\n",
              "    background-color: var(--hover-bg-color);\n",
              "    box-shadow: 0 1px 2px rgba(60, 64, 67, 0.3), 0 1px 3px 1px rgba(60, 64, 67, 0.15);\n",
              "    fill: var(--button-hover-fill-color);\n",
              "  }\n",
              "\n",
              "  .colab-df-quickchart-complete:disabled,\n",
              "  .colab-df-quickchart-complete:disabled:hover {\n",
              "    background-color: var(--disabled-bg-color);\n",
              "    fill: var(--disabled-fill-color);\n",
              "    box-shadow: none;\n",
              "  }\n",
              "\n",
              "  .colab-df-spinner {\n",
              "    border: 2px solid var(--fill-color);\n",
              "    border-color: transparent;\n",
              "    border-bottom-color: var(--fill-color);\n",
              "    animation:\n",
              "      spin 1s steps(1) infinite;\n",
              "  }\n",
              "\n",
              "  @keyframes spin {\n",
              "    0% {\n",
              "      border-color: transparent;\n",
              "      border-bottom-color: var(--fill-color);\n",
              "      border-left-color: var(--fill-color);\n",
              "    }\n",
              "    20% {\n",
              "      border-color: transparent;\n",
              "      border-left-color: var(--fill-color);\n",
              "      border-top-color: var(--fill-color);\n",
              "    }\n",
              "    30% {\n",
              "      border-color: transparent;\n",
              "      border-left-color: var(--fill-color);\n",
              "      border-top-color: var(--fill-color);\n",
              "      border-right-color: var(--fill-color);\n",
              "    }\n",
              "    40% {\n",
              "      border-color: transparent;\n",
              "      border-right-color: var(--fill-color);\n",
              "      border-top-color: var(--fill-color);\n",
              "    }\n",
              "    60% {\n",
              "      border-color: transparent;\n",
              "      border-right-color: var(--fill-color);\n",
              "    }\n",
              "    80% {\n",
              "      border-color: transparent;\n",
              "      border-right-color: var(--fill-color);\n",
              "      border-bottom-color: var(--fill-color);\n",
              "    }\n",
              "    90% {\n",
              "      border-color: transparent;\n",
              "      border-bottom-color: var(--fill-color);\n",
              "    }\n",
              "  }\n",
              "</style>\n",
              "\n",
              "  <script>\n",
              "    async function quickchart(key) {\n",
              "      const quickchartButtonEl =\n",
              "        document.querySelector('#' + key + ' button');\n",
              "      quickchartButtonEl.disabled = true;  // To prevent multiple clicks.\n",
              "      quickchartButtonEl.classList.add('colab-df-spinner');\n",
              "      try {\n",
              "        const charts = await google.colab.kernel.invokeFunction(\n",
              "            'suggestCharts', [key], {});\n",
              "      } catch (error) {\n",
              "        console.error('Error during call to suggestCharts:', error);\n",
              "      }\n",
              "      quickchartButtonEl.classList.remove('colab-df-spinner');\n",
              "      quickchartButtonEl.classList.add('colab-df-quickchart-complete');\n",
              "    }\n",
              "    (() => {\n",
              "      let quickchartButtonEl =\n",
              "        document.querySelector('#df-a44214b6-47b5-4ddb-b84f-965875187293 button');\n",
              "      quickchartButtonEl.style.display =\n",
              "        google.colab.kernel.accessAllowed ? 'block' : 'none';\n",
              "    })();\n",
              "  </script>\n",
              "</div>\n",
              "\n",
              "    </div>\n",
              "  </div>\n"
            ],
            "application/vnd.google.colaboratory.intrinsic+json": {
              "type": "dataframe",
              "summary": "{\n  \"name\": \"df\",\n  \"rows\": 8,\n  \"fields\": [\n    {\n      \"column\": \"Open\",\n      \"properties\": {\n        \"dtype\": \"number\",\n        \"std\": 44280.99280120225,\n        \"min\": 9.900262882105629,\n        \"max\": 125309.0,\n        \"num_unique_values\": 8,\n        \"samples\": [\n          72.18205244635261,\n          72.8,\n          125309.0\n        ],\n        \"semantic_type\": \"\",\n        \"description\": \"\"\n      }\n    },\n    {\n      \"column\": \"High\",\n      \"properties\": {\n        \"dtype\": \"number\",\n        \"std\": 44280.94804806585,\n        \"min\": 9.995786398531326,\n        \"max\": 125309.0,\n        \"num_unique_values\": 8,\n        \"samples\": [\n          72.37258999752612,\n          73.01,\n          125309.0\n        ],\n        \"semantic_type\": \"\",\n        \"description\": \"\"\n      }\n    },\n    {\n      \"column\": \"Low\",\n      \"properties\": {\n        \"dtype\": \"number\",\n        \"std\": 44281.03773346894,\n        \"min\": 9.830846942465119,\n        \"max\": 125309.0,\n        \"num_unique_values\": 8,\n        \"samples\": [\n          72.04228738558282,\n          72.64,\n          125309.0\n        ],\n        \"semantic_type\": \"\",\n        \"description\": \"\"\n      }\n    },\n    {\n      \"column\": \"Close\",\n      \"properties\": {\n        \"dtype\": \"number\",\n        \"std\": 44281.00613104492,\n        \"min\": 9.899401069536058,\n        \"max\": 125309.0,\n        \"num_unique_values\": 8,\n        \"samples\": [\n          72.17937107470333,\n          72.83,\n          125309.0\n        ],\n        \"semantic_type\": \"\",\n        \"description\": \"\"\n      }\n    },\n    {\n      \"column\": \"Volume\",\n      \"properties\": {\n        \"dtype\": \"number\",\n        \"std\": 202872.74890493203,\n        \"min\": 1.0,\n        \"max\": 580730.0,\n        \"num_unique_values\": 8,\n        \"samples\": [\n          3031.8304511248193,\n          1000.0,\n          125309.0\n        ],\n        \"semantic_type\": \"\",\n        \"description\": \"\"\n      }\n    },\n    {\n      \"column\": \"Open Interest\",\n      \"properties\": {\n        \"dtype\": \"number\",\n        \"std\": 44303.42182185254,\n        \"min\": 0.0,\n        \"max\": 125309.0,\n        \"num_unique_values\": 2,\n        \"samples\": [\n          0.0,\n          125309.0\n        ],\n        \"semantic_type\": \"\",\n        \"description\": \"\"\n      }\n    }\n  ]\n}"
            }
          },
          "metadata": {},
          "execution_count": 9
        }
      ]
    },
    {
      "cell_type": "code",
      "source": [
        "import matplotlib.pyplot as plt"
      ],
      "metadata": {
        "id": "FExA8ZPRHeNS"
      },
      "execution_count": 10,
      "outputs": []
    },
    {
      "cell_type": "code",
      "source": [
        "# Sử dụng Histogram để kiểm tra sự phân bổ giá trị trong mỗi cột\n",
        "for column in df.columns:\n",
        "    plt.figure(figsize=(2, 1))\n",
        "    plt.hist(df[column], bins=20, color='green', edgecolor='black')\n",
        "    plt.title(f'Histogram của cột {column}')\n",
        "    plt.xlabel('Giá trị')\n",
        "    plt.ylabel('Số lượng')\n",
        "    plt.show()"
      ],
      "metadata": {
        "colab": {
          "base_uri": "https://localhost:8080/",
          "height": 1000
        },
        "id": "g5c66hG2HZsi",
        "outputId": "0cd5ed7c-652f-4c92-ce21-7a797193949b"
      },
      "execution_count": 11,
      "outputs": [
        {
          "output_type": "display_data",
          "data": {
            "text/plain": [
              "<Figure size 200x100 with 1 Axes>"
            ],
            "image/png": "[encoded data removed]"
          },
          "metadata": {}
        },
        {
          "output_type": "display_data",
          "data": {
            "text/plain": [
              "<Figure size 200x100 with 1 Axes>"
            ],
            "image/png": "[encoded data removed]"
          },
          "metadata": {}
        },
        {
          "output_type": "display_data",
          "data": {
            "text/plain": [
              "<Figure size 200x100 with 1 Axes>"
            ],
            "image/png": "[encoded data removed]"
          },
          "metadata": {}
        },
        {
          "output_type": "display_data",
          "data": {
            "text/plain": [
              "<Figure size 200x100 with 1 Axes>"
            ],
            "image/png": "[encoded data removed]"
          },
          "metadata": {}
        },
        {
          "output_type": "display_data",
          "data": {
            "text/plain": [
              "<Figure size 200x100 with 1 Axes>"
            ],
            "image/png": "[encoded data removed]"
          },
          "metadata": {}
        },
        {
          "output_type": "display_data",
          "data": {
            "text/plain": [
              "<Figure size 200x100 with 1 Axes>"
            ],
            "image/png": "[encoded data removed]"
          },
          "metadata": {}
        },
        {
          "output_type": "display_data",
          "data": {
            "text/plain": [
              "<Figure size 200x100 with 1 Axes>"
            ],
            "image/png": "[encoded data removed]"
          },
          "metadata": {}
        },
        {
          "output_type": "display_data",
          "data": {
            "text/plain": [
              "<Figure size 200x100 with 1 Axes>"
            ],
            "image/png": "[encoded data removed]"
          },
          "metadata": {}
        }
      ]
    },
    {
      "cell_type": "code",
      "source": [
        "plt.figure(figsize=(4, 2))\n",
        "plt.hist(df['Volume'], bins=20, color='red', edgecolor='black')\n",
        "plt.title('Histogram của cột Volume')\n",
        "plt.xlabel('Giá trị')\n",
        "plt.ylabel('Số lượng')\n",
        "plt.show()"
      ],
      "metadata": {
        "colab": {
          "base_uri": "https://localhost:8080/",
          "height": 257
        },
        "id": "WFMLSBE6IrOX",
        "outputId": "73f719c0-54a3-4e71-a6de-81e6792d642c"
      },
      "execution_count": 12,
      "outputs": [
        {
          "output_type": "display_data",
          "data": {
            "text/plain": [
              "<Figure size 400x200 with 1 Axes>"
            ],
            "image/png": "[encoded data removed]"
          },
          "metadata": {}
        }
      ]
    },
    {
      "cell_type": "markdown",
      "source": [
        "### Nhận xét dữ liệu\n",
        "+ Cột Volume có sự chênh lệch lớn giữa các giá trị, có thể làm dự báo sai lệch.\n",
        "+ Ở đây bài toán đặt ra là dự báo giá trị cổ phiếu thì em sẽ sử dụng cột Close làm thuộc tính quyết định để dự báo. Do các cột Open, High, Low có sự tương đồng nên loại bỏ để giảm thời gian thực thi.\n",
        "+ Để tăng Accuracy của thuật toán thì sẽ sử dụng Scale giá trị cột Close bằng công thức: (Giá trị - min)/(max - min)"
      ],
      "metadata": {
        "id": "U5e6xyfFJ6cM"
      }
    },
    {
      "cell_type": "code",
      "source": [
        "df1 = df.reset_index()['Close']\n",
        "df1 = df1.reset_index(drop=True)"
      ],
      "metadata": {
        "id": "-XIVAjmxtsi1"
      },
      "execution_count": 13,
      "outputs": []
    },
    {
      "cell_type": "code",
      "source": [
        "from sklearn.preprocessing import MinMaxScaler"
      ],
      "metadata": {
        "id": "WZOUP7WbuHuO"
      },
      "execution_count": 15,
      "outputs": []
    },
    {
      "cell_type": "code",
      "source": [
        "# Scale cột Close và lưu vào mảng\n",
        "scaler = MinMaxScaler(feature_range=(0,1))\n",
        "df1 = scaler.fit_transform(np.array(df1).reshape(-1,1))"
      ],
      "metadata": {
        "id": "phgwpOqKt62f"
      },
      "execution_count": 16,
      "outputs": []
    },
    {
      "cell_type": "code",
      "source": [
        "df1"
      ],
      "metadata": {
        "colab": {
          "base_uri": "https://localhost:8080/"
        },
        "id": "6O5T8eWbuKA-",
        "outputId": "f5c7c95f-7a32-4ff5-f8e4-5be146141184"
      },
      "execution_count": 17,
      "outputs": [
        {
          "output_type": "execute_result",
          "data": {
            "text/plain": [
              "array([[0.62209925],\n",
              "       [0.62120671],\n",
              "       [0.6069261 ],\n",
              "       ...,\n",
              "       [0.60799714],\n",
              "       [0.60621207],\n",
              "       [0.60978222]])"
            ]
          },
          "metadata": {},
          "execution_count": 17
        }
      ]
    },
    {
      "cell_type": "markdown",
      "source": [
        "##Phân tích dữ liệu"
      ],
      "metadata": {
        "id": "L_JX9qwKQHut"
      }
    },
    {
      "cell_type": "markdown",
      "source": [
        "### Phương pháp sử dụng\n",
        "- Đề bài là phân tích biến động giá cổ phiếu, ở đây em lựa chọn giá cổ phiếu giờ đóng cửa (Close) để phân tích.\n",
        "- Đối với tập dữ liệu này có 3 phương pháp phổ biến để phân tích:\n",
        "  + 1.Phương pháp phân tích chuỗi thời gian (Time Series Analysis): ARIMA, SARIMA ...\n",
        "  + 2.Phương pháp Machine Learning : Linear Regression, KNN ...\n",
        "  + 3.Phương pháp Deep Learning\n",
        "- Với bài toán dự báo xu hướng giá trị em sẽ sử dụng 2 mô hình Recurrent Neural Network (RNN) và mô hình Gated Recurrent Unit (GRU) nằm trong phương pháp Deep Learning. Trong phương pháp này mô hình Long short term memory (LSTM) có Accuracy tốt hơn, nhưng với tập dữ liệu có 125309 dòng thì LSTM có thời gian thực thi lâu hơn rất nhiều do sử dụng nhiều tham số."
      ],
      "metadata": {
        "id": "Z7F0S0uEQOz1"
      }
    },
    {
      "cell_type": "code",
      "source": [
        "# Chia dữ liệu thành 3 phần Train, Test, Validate theo tỉ lệ 7:2:1\n",
        "train_size = int(0.7 * len(df1))\n",
        "test_size = int(0.2 * len(df1))\n",
        "val_size = len(df1) - train_size - test_size\n",
        "\n",
        "train_data = df1[:train_size]\n",
        "test_data = df1[train_size:train_size+test_size]\n",
        "val_data = df1[train_size+test_size:]"
      ],
      "metadata": {
        "id": "DqAnbI9SbO0R"
      },
      "execution_count": 18,
      "outputs": []
    },
    {
      "cell_type": "code",
      "source": [
        "train_data"
      ],
      "metadata": {
        "colab": {
          "base_uri": "https://localhost:8080/"
        },
        "id": "QyQjpLEBundd",
        "outputId": "9779d33e-cba8-4866-9a02-47ed8c6b569f"
      },
      "execution_count": 19,
      "outputs": [
        {
          "output_type": "execute_result",
          "data": {
            "text/plain": [
              "array([[0.62209925],\n",
              "       [0.62120671],\n",
              "       [0.6069261 ],\n",
              "       ...,\n",
              "       [0.16940378],\n",
              "       [0.17118886],\n",
              "       [0.19207426]])"
            ]
          },
          "metadata": {},
          "execution_count": 19
        }
      ]
    },
    {
      "cell_type": "code",
      "source": [
        "test_data"
      ],
      "metadata": {
        "colab": {
          "base_uri": "https://localhost:8080/"
        },
        "id": "HPx9LWnAupez",
        "outputId": "38320ab1-ebf8-4f3c-d004-566cb36f9e86"
      },
      "execution_count": 20,
      "outputs": [
        {
          "output_type": "execute_result",
          "data": {
            "text/plain": [
              "array([[0.16940378],\n",
              "       [0.17118886],\n",
              "       [0.17118886],\n",
              "       ...,\n",
              "       [0.30863977],\n",
              "       [0.30863977],\n",
              "       [0.30863977]])"
            ]
          },
          "metadata": {},
          "execution_count": 20
        }
      ]
    },
    {
      "cell_type": "code",
      "source": [
        "val_data"
      ],
      "metadata": {
        "colab": {
          "base_uri": "https://localhost:8080/"
        },
        "id": "u-lJgySquq8T",
        "outputId": "998ea6b6-05e0-4dd8-9329-fc668372e6ec"
      },
      "execution_count": 21,
      "outputs": [
        {
          "output_type": "execute_result",
          "data": {
            "text/plain": [
              "array([[0.30863977],\n",
              "       [0.30863977],\n",
              "       [0.30863977],\n",
              "       ...,\n",
              "       [0.60799714],\n",
              "       [0.60621207],\n",
              "       [0.60978222]])"
            ]
          },
          "metadata": {},
          "execution_count": 21
        }
      ]
    },
    {
      "cell_type": "markdown",
      "source": [
        "### Mô hình RNN"
      ],
      "metadata": {
        "id": "jJ4LuSjsSORw"
      }
    },
    {
      "cell_type": "code",
      "source": [
        "# Gọi các thư viện cần thiết để xây dựng RNN\n",
        "from keras.models import Sequential\n",
        "from keras.layers import Dense, SimpleRNN"
      ],
      "metadata": {
        "id": "EZ8j3Lx5TtYt"
      },
      "execution_count": 22,
      "outputs": []
    },
    {
      "cell_type": "code",
      "source": [
        "train_data_RNN = train_data\n",
        "test_data_RNN = test_data\n",
        "val_data_RNN = val_data"
      ],
      "metadata": {
        "id": "CiXhDptwT4bk"
      },
      "execution_count": 23,
      "outputs": []
    },
    {
      "cell_type": "code",
      "source": [
        "# Hàm Create Dataset để chuyển đổi mảng thành ma trận\n",
        "def create_dataset(dataset, time_step=1):\n",
        "\tdataX, dataY = [], []\n",
        "\tfor i in range(len(dataset)-time_step-1):\n",
        "\t\ta = dataset[i:(i+time_step), 0]\n",
        "\t\tdataX.append(a)\n",
        "\t\tdataY.append(dataset[i + time_step, 0])\n",
        "\treturn np.array(dataX), np.array(dataY)"
      ],
      "metadata": {
        "id": "2YhxqoOHsI3z"
      },
      "execution_count": 24,
      "outputs": []
    },
    {
      "cell_type": "code",
      "source": [
        "# Sử dụng hàm Create Dataset để chuyển đổi các mảng Train, Test, Validate\n",
        "time_step = 100\n",
        "x_train_RNN, y_train_RNN = create_dataset(train_data_RNN, time_step)\n",
        "x_val_RNN, y_val_RNN = create_dataset(val_data_RNN, time_step)\n",
        "x_test_RNN, y_test_RNN = create_dataset(test_data_RNN, time_step)"
      ],
      "metadata": {
        "id": "A9X6ZdzDTzIl"
      },
      "execution_count": 25,
      "outputs": []
    },
    {
      "cell_type": "code",
      "source": [
        "# Reshape đầu vào để phù hợp với mô hình RNN\n",
        "x_train_RNN = x_train_RNN.reshape(x_train_RNN.shape[0], x_train_RNN.shape[1], 1)\n",
        "x_test_RNN = x_test_RNN.reshape(x_test_RNN.shape[0], x_test_RNN.shape[1], 1)\n",
        "x_val_RNN = x_val_RNN.reshape(x_val_RNN.shape[0], x_val_RNN.shape[1], 1)"
      ],
      "metadata": {
        "id": "H9-RARp4Vgum"
      },
      "execution_count": 26,
      "outputs": []
    },
    {
      "cell_type": "code",
      "source": [
        "# Khai báo mô hình RNN\n",
        "model = Sequential()\n",
        "model.add(SimpleRNN(50, input_shape=(time_step, 1)))\n",
        "model.add(Dense(1))\n",
        "model.compile(loss='mean_squared_error',optimizer='adam')"
      ],
      "metadata": {
        "id": "6kDwiFuVVmAz"
      },
      "execution_count": 27,
      "outputs": []
    },
    {
      "cell_type": "code",
      "source": [
        "# Fit mô hình với dữ liệu Train\n",
        "model.fit(x_train_RNN, y_train_RNN , validation_data = (x_test_RNN, y_test_RNN),epochs=100,batch_size=64,verbose=1)"
      ],
      "metadata": {
        "colab": {
          "base_uri": "https://localhost:8080/"
        },
        "id": "-xJdKYvaVpZ-",
        "outputId": "bfff5c47-734e-49c1-d7a1-3eac7f88b650"
      },
      "execution_count": 28,
      "outputs": [
        {
          "output_type": "stream",
          "name": "stdout",
          "text": [
            "Epoch 1/100\n",
            "1369/1369 [==============================] - 27s 19ms/step - loss: 0.0017 - val_loss: 5.7102e-05\n",
            "Epoch 2/100\n",
            "1369/1369 [==============================] - 26s 19ms/step - loss: 1.8248e-04 - val_loss: 3.2963e-05\n",
            "Epoch 3/100\n",
            "1369/1369 [==============================] - 28s 20ms/step - loss: 1.6684e-04 - val_loss: 1.5504e-05\n",
            "Epoch 4/100\n",
            "1369/1369 [==============================] - 26s 19ms/step - loss: 1.6573e-04 - val_loss: 2.9210e-05\n",
            "Epoch 5/100\n",
            "1369/1369 [==============================] - 25s 18ms/step - loss: 1.5823e-04 - val_loss: 7.5193e-05\n",
            "Epoch 6/100\n",
            "1369/1369 [==============================] - 25s 18ms/step - loss: 1.5647e-04 - val_loss: 9.1055e-06\n",
            "Epoch 7/100\n",
            "1369/1369 [==============================] - 26s 19ms/step - loss: 1.5221e-04 - val_loss: 7.9345e-06\n",
            "Epoch 8/100\n",
            "1369/1369 [==============================] - 25s 18ms/step - loss: 1.5193e-04 - val_loss: 1.7683e-05\n",
            "Epoch 9/100\n",
            "1369/1369 [==============================] - 24s 18ms/step - loss: 1.5093e-04 - val_loss: 1.5712e-05\n",
            "Epoch 10/100\n",
            "1369/1369 [==============================] - 25s 18ms/step - loss: 1.4944e-04 - val_loss: 1.1452e-05\n",
            "Epoch 11/100\n",
            "1369/1369 [==============================] - 24s 18ms/step - loss: 1.4774e-04 - val_loss: 2.3543e-05\n",
            "Epoch 12/100\n",
            "1369/1369 [==============================] - 24s 18ms/step - loss: 1.5037e-04 - val_loss: 7.3270e-06\n",
            "Epoch 13/100\n",
            "1369/1369 [==============================] - 25s 18ms/step - loss: 1.4875e-04 - val_loss: 8.4866e-06\n",
            "Epoch 14/100\n",
            "1369/1369 [==============================] - 24s 18ms/step - loss: 1.4834e-04 - val_loss: 1.1338e-05\n",
            "Epoch 15/100\n",
            "1369/1369 [==============================] - 24s 18ms/step - loss: 1.4812e-04 - val_loss: 1.0740e-05\n",
            "Epoch 16/100\n",
            "1369/1369 [==============================] - 24s 18ms/step - loss: 1.4750e-04 - val_loss: 1.0678e-05\n",
            "Epoch 17/100\n",
            "1369/1369 [==============================] - 24s 18ms/step - loss: 1.4750e-04 - val_loss: 3.3634e-05\n",
            "Epoch 18/100\n",
            "1369/1369 [==============================] - 24s 18ms/step - loss: 1.4754e-04 - val_loss: 1.1247e-05\n",
            "Epoch 19/100\n",
            "1369/1369 [==============================] - 25s 18ms/step - loss: 1.4666e-04 - val_loss: 7.0263e-06\n",
            "Epoch 20/100\n",
            "1369/1369 [==============================] - 25s 19ms/step - loss: 1.4656e-04 - val_loss: 2.0501e-05\n",
            "Epoch 21/100\n",
            "1369/1369 [==============================] - 25s 18ms/step - loss: 1.4638e-04 - val_loss: 1.2361e-05\n",
            "Epoch 22/100\n",
            "1369/1369 [==============================] - 25s 19ms/step - loss: 1.4706e-04 - val_loss: 7.7035e-06\n",
            "Epoch 23/100\n",
            "1369/1369 [==============================] - 25s 18ms/step - loss: 1.5017e-04 - val_loss: 1.2286e-05\n",
            "Epoch 24/100\n",
            "1369/1369 [==============================] - 25s 18ms/step - loss: 1.4618e-04 - val_loss: 5.9820e-05\n",
            "Epoch 25/100\n",
            "1369/1369 [==============================] - 25s 18ms/step - loss: 1.4727e-04 - val_loss: 8.1556e-06\n",
            "Epoch 26/100\n",
            "1369/1369 [==============================] - 25s 18ms/step - loss: 1.4776e-04 - val_loss: 1.3106e-05\n",
            "Epoch 27/100\n",
            "1369/1369 [==============================] - 25s 18ms/step - loss: 1.4701e-04 - val_loss: 2.1829e-05\n",
            "Epoch 28/100\n",
            "1369/1369 [==============================] - 25s 18ms/step - loss: 1.4509e-04 - val_loss: 8.3304e-06\n",
            "Epoch 29/100\n",
            "1369/1369 [==============================] - 25s 18ms/step - loss: 1.4583e-04 - val_loss: 4.2682e-05\n",
            "Epoch 30/100\n",
            "1369/1369 [==============================] - 26s 19ms/step - loss: 1.4515e-04 - val_loss: 2.0067e-05\n",
            "Epoch 31/100\n",
            "1369/1369 [==============================] - 26s 19ms/step - loss: 1.5395e-04 - val_loss: 3.4120e-05\n",
            "Epoch 32/100\n",
            "1369/1369 [==============================] - 26s 19ms/step - loss: 1.4795e-04 - val_loss: 8.7552e-06\n",
            "Epoch 33/100\n",
            "1369/1369 [==============================] - 26s 19ms/step - loss: 1.4461e-04 - val_loss: 2.6822e-05\n",
            "Epoch 34/100\n",
            "1369/1369 [==============================] - 27s 20ms/step - loss: 1.4593e-04 - val_loss: 1.0428e-05\n",
            "Epoch 35/100\n",
            "1369/1369 [==============================] - 29s 21ms/step - loss: 1.4841e-04 - val_loss: 1.4309e-05\n",
            "Epoch 36/100\n",
            "1369/1369 [==============================] - 28s 20ms/step - loss: 1.4484e-04 - val_loss: 9.6727e-06\n",
            "Epoch 37/100\n",
            "1369/1369 [==============================] - 27s 20ms/step - loss: 1.4359e-04 - val_loss: 9.4148e-06\n",
            "Epoch 38/100\n",
            "1369/1369 [==============================] - 27s 19ms/step - loss: 1.4417e-04 - val_loss: 1.1655e-05\n",
            "Epoch 39/100\n",
            "1369/1369 [==============================] - 26s 19ms/step - loss: 1.4536e-04 - val_loss: 1.9397e-05\n",
            "Epoch 40/100\n",
            "1369/1369 [==============================] - 26s 19ms/step - loss: 1.4659e-04 - val_loss: 1.4940e-05\n",
            "Epoch 41/100\n",
            "1369/1369 [==============================] - 26s 19ms/step - loss: 1.4609e-04 - val_loss: 2.3879e-05\n",
            "Epoch 42/100\n",
            "1369/1369 [==============================] - 29s 21ms/step - loss: 1.4435e-04 - val_loss: 3.3290e-05\n",
            "Epoch 43/100\n",
            "1369/1369 [==============================] - 26s 19ms/step - loss: 1.4401e-04 - val_loss: 8.3867e-06\n",
            "Epoch 44/100\n",
            "1369/1369 [==============================] - 25s 18ms/step - loss: 1.4821e-04 - val_loss: 9.0387e-06\n",
            "Epoch 45/100\n",
            "1369/1369 [==============================] - 25s 18ms/step - loss: 1.4479e-04 - val_loss: 8.7888e-06\n",
            "Epoch 46/100\n",
            "1369/1369 [==============================] - 25s 18ms/step - loss: 1.4309e-04 - val_loss: 1.0509e-05\n",
            "Epoch 47/100\n",
            "1369/1369 [==============================] - 25s 18ms/step - loss: 1.4344e-04 - val_loss: 3.2920e-05\n",
            "Epoch 48/100\n",
            "1369/1369 [==============================] - 25s 18ms/step - loss: 1.4690e-04 - val_loss: 1.4891e-05\n",
            "Epoch 49/100\n",
            "1369/1369 [==============================] - 25s 18ms/step - loss: 1.4328e-04 - val_loss: 3.5773e-05\n",
            "Epoch 50/100\n",
            "1369/1369 [==============================] - 25s 18ms/step - loss: 1.4420e-04 - val_loss: 1.2978e-05\n",
            "Epoch 51/100\n",
            "1369/1369 [==============================] - 28s 21ms/step - loss: 1.4457e-04 - val_loss: 7.8569e-06\n",
            "Epoch 52/100\n",
            "1369/1369 [==============================] - 29s 21ms/step - loss: 1.4351e-04 - val_loss: 9.6028e-06\n",
            "Epoch 53/100\n",
            "1369/1369 [==============================] - 28s 21ms/step - loss: 1.4637e-04 - val_loss: 8.6164e-06\n",
            "Epoch 54/100\n",
            "1369/1369 [==============================] - 29s 21ms/step - loss: 1.4366e-04 - val_loss: 1.2852e-05\n",
            "Epoch 55/100\n",
            "1369/1369 [==============================] - 26s 19ms/step - loss: 1.4581e-04 - val_loss: 9.8709e-06\n",
            "Epoch 56/100\n",
            "1369/1369 [==============================] - 26s 19ms/step - loss: 1.4287e-04 - val_loss: 1.2607e-05\n",
            "Epoch 57/100\n",
            "1369/1369 [==============================] - 26s 19ms/step - loss: 1.4524e-04 - val_loss: 8.3656e-06\n",
            "Epoch 58/100\n",
            "1369/1369 [==============================] - 26s 19ms/step - loss: 1.4338e-04 - val_loss: 2.4902e-05\n",
            "Epoch 59/100\n",
            "1369/1369 [==============================] - 28s 20ms/step - loss: 1.4347e-04 - val_loss: 3.6065e-05\n",
            "Epoch 60/100\n",
            "1369/1369 [==============================] - 26s 19ms/step - loss: 1.9080e-04 - val_loss: 1.4991e-05\n",
            "Epoch 61/100\n",
            "1369/1369 [==============================] - 25s 18ms/step - loss: 1.4800e-04 - val_loss: 7.2057e-06\n",
            "Epoch 62/100\n",
            "1369/1369 [==============================] - 24s 18ms/step - loss: 1.4424e-04 - val_loss: 9.5673e-06\n",
            "Epoch 63/100\n",
            "1369/1369 [==============================] - 24s 18ms/step - loss: 1.4048e-04 - val_loss: 1.8562e-05\n",
            "Epoch 64/100\n",
            "1369/1369 [==============================] - 24s 17ms/step - loss: 1.4220e-04 - val_loss: 3.1175e-05\n",
            "Epoch 65/100\n",
            "1369/1369 [==============================] - 24s 18ms/step - loss: 1.4566e-04 - val_loss: 9.0951e-06\n",
            "Epoch 66/100\n",
            "1369/1369 [==============================] - 24s 18ms/step - loss: 1.4464e-04 - val_loss: 7.4720e-06\n",
            "Epoch 67/100\n",
            "1369/1369 [==============================] - 24s 18ms/step - loss: 1.4387e-04 - val_loss: 1.8794e-05\n",
            "Epoch 68/100\n",
            "1369/1369 [==============================] - 25s 18ms/step - loss: 1.4416e-04 - val_loss: 7.7136e-06\n",
            "Epoch 69/100\n",
            "1369/1369 [==============================] - 25s 18ms/step - loss: 1.4363e-04 - val_loss: 9.9650e-06\n",
            "Epoch 70/100\n",
            "1369/1369 [==============================] - 25s 18ms/step - loss: 3.2881e-04 - val_loss: 1.6002e-05\n",
            "Epoch 71/100\n",
            "1369/1369 [==============================] - 25s 18ms/step - loss: 1.4948e-04 - val_loss: 7.1832e-06\n",
            "Epoch 72/100\n",
            "1369/1369 [==============================] - 25s 18ms/step - loss: 1.4543e-04 - val_loss: 1.5776e-05\n",
            "Epoch 73/100\n",
            "1369/1369 [==============================] - 25s 18ms/step - loss: 1.4498e-04 - val_loss: 3.2193e-05\n",
            "Epoch 74/100\n",
            "1369/1369 [==============================] - 25s 18ms/step - loss: 1.4292e-04 - val_loss: 9.8791e-06\n",
            "Epoch 75/100\n",
            "1369/1369 [==============================] - 25s 18ms/step - loss: 1.4231e-04 - val_loss: 8.8154e-06\n",
            "Epoch 76/100\n",
            "1369/1369 [==============================] - 25s 18ms/step - loss: 1.4537e-04 - val_loss: 1.5080e-05\n",
            "Epoch 77/100\n",
            "1369/1369 [==============================] - 25s 18ms/step - loss: 1.4319e-04 - val_loss: 2.0931e-05\n",
            "Epoch 78/100\n",
            "1369/1369 [==============================] - 25s 18ms/step - loss: 1.4372e-04 - val_loss: 1.5123e-05\n",
            "Epoch 79/100\n",
            "1369/1369 [==============================] - 25s 18ms/step - loss: 1.4195e-04 - val_loss: 2.8623e-05\n",
            "Epoch 80/100\n",
            "1369/1369 [==============================] - 25s 18ms/step - loss: 1.4584e-04 - val_loss: 5.4619e-05\n",
            "Epoch 81/100\n",
            "1369/1369 [==============================] - 25s 18ms/step - loss: 1.4336e-04 - val_loss: 1.7328e-05\n",
            "Epoch 82/100\n",
            "1369/1369 [==============================] - 25s 18ms/step - loss: 0.0069 - val_loss: 0.0039\n",
            "Epoch 83/100\n",
            "1369/1369 [==============================] - 25s 18ms/step - loss: 7.2158e-04 - val_loss: 6.3806e-04\n",
            "Epoch 84/100\n",
            "1369/1369 [==============================] - 25s 18ms/step - loss: 6.0230e-04 - val_loss: 7.9046e-04\n",
            "Epoch 85/100\n",
            "1369/1369 [==============================] - 25s 18ms/step - loss: 3.7323e-04 - val_loss: 1.3893e-04\n",
            "Epoch 86/100\n",
            "1369/1369 [==============================] - 25s 18ms/step - loss: 2.3469e-04 - val_loss: 6.8027e-05\n",
            "Epoch 87/100\n",
            "1369/1369 [==============================] - 25s 18ms/step - loss: 0.0028 - val_loss: 3.4747e-04\n",
            "Epoch 88/100\n",
            "1369/1369 [==============================] - 25s 18ms/step - loss: 2.3611e-04 - val_loss: 4.4492e-04\n",
            "Epoch 89/100\n",
            "1369/1369 [==============================] - 25s 18ms/step - loss: 1.9352e-04 - val_loss: 5.6536e-05\n",
            "Epoch 90/100\n",
            "1369/1369 [==============================] - 25s 18ms/step - loss: 1.8920e-04 - val_loss: 1.5366e-05\n",
            "Epoch 91/100\n",
            "1369/1369 [==============================] - 25s 18ms/step - loss: 1.9142e-04 - val_loss: 2.7761e-04\n",
            "Epoch 92/100\n",
            "1369/1369 [==============================] - 25s 18ms/step - loss: 1.8839e-04 - val_loss: 4.1086e-05\n",
            "Epoch 93/100\n",
            "1369/1369 [==============================] - 25s 18ms/step - loss: 1.8424e-04 - val_loss: 2.3869e-05\n",
            "Epoch 94/100\n",
            "1369/1369 [==============================] - 25s 18ms/step - loss: 1.7911e-04 - val_loss: 1.6259e-05\n",
            "Epoch 95/100\n",
            "1369/1369 [==============================] - 25s 18ms/step - loss: 0.0033 - val_loss: 2.1228e-05\n",
            "Epoch 96/100\n",
            "1369/1369 [==============================] - 25s 18ms/step - loss: 1.7014e-04 - val_loss: 2.9528e-05\n",
            "Epoch 97/100\n",
            "1369/1369 [==============================] - 25s 18ms/step - loss: 1.8455e-04 - val_loss: 2.4582e-05\n",
            "Epoch 98/100\n",
            "1369/1369 [==============================] - 25s 18ms/step - loss: 1.9634e-04 - val_loss: 5.0912e-05\n",
            "Epoch 99/100\n",
            "1369/1369 [==============================] - 25s 18ms/step - loss: 1.9376e-04 - val_loss: 2.5316e-05\n",
            "Epoch 100/100\n",
            "1369/1369 [==============================] - 25s 18ms/step - loss: 1.9729e-04 - val_loss: 1.0304e-05\n"
          ]
        },
        {
          "output_type": "execute_result",
          "data": {
            "text/plain": [
              "<keras.src.callbacks.History at 0x7c13343c9510>"
            ]
          },
          "metadata": {},
          "execution_count": 28
        }
      ]
    },
    {
      "cell_type": "code",
      "source": [
        "# Dự báo dữ liệu train_predict_RNN, y_pred_RNN, y_pred_val_RNN\n",
        "train_predict_RNN = model.predict(x_train_RNN)\n",
        "y_pred_RNN = model.predict(x_test_RNN)\n",
        "y_pred_val_RNN = model.predict(x_val_RNN)"
      ],
      "metadata": {
        "colab": {
          "base_uri": "https://localhost:8080/"
        },
        "id": "Oj-056AFVvRt",
        "outputId": "c0028323-325b-4039-afe9-37c922ac0e91"
      },
      "execution_count": 29,
      "outputs": [
        {
          "output_type": "stream",
          "name": "stdout",
          "text": [
            "2738/2738 [==============================] - 16s 6ms/step\n",
            "780/780 [==============================] - 4s 6ms/step\n",
            "389/389 [==============================] - 2s 5ms/step\n"
          ]
        }
      ]
    },
    {
      "cell_type": "code",
      "source": [
        "# Đảo ngược giá trị dự đoán trên tập Test và Validate về giá trị chuẩn\n",
        "train_predict_RNN = scaler.inverse_transform(train_predict_RNN)\n",
        "y_pred_RNN = scaler.inverse_transform(y_pred_RNN)\n",
        "y_pred_val_RNN = scaler.inverse_transform(y_pred_val_RNN)"
      ],
      "metadata": {
        "id": "p-AdO8iKVz01"
      },
      "execution_count": 30,
      "outputs": []
    },
    {
      "cell_type": "code",
      "source": [
        "# Đảo ngược giá trị thực tế của tập Test và Validate về giá trị chuẩn\n",
        "real_val_RNN = scaler.inverse_transform(y_val_RNN.reshape(-1, 1))\n",
        "real_test_RNN = scaler.inverse_transform(y_test_RNN.reshape(-1, 1))"
      ],
      "metadata": {
        "id": "aA29_yAWxFti"
      },
      "execution_count": 31,
      "outputs": []
    },
    {
      "cell_type": "code",
      "source": [
        "# Đánh giá độ chính xác thuật toán bằng RMSE\n",
        "test_rmse_RNN = np.sqrt(np.mean((y_pred_RNN - real_test_RNN)**2))\n",
        "val_rmse_RNN = np.sqrt(np.mean((y_pred_val_RNN - real_val_RNN)**2))\n",
        "print('Testing RMSE:', test_rmse_RNN)\n",
        "print('Validation RMSE:', val_rmse_RNN)"
      ],
      "metadata": {
        "colab": {
          "base_uri": "https://localhost:8080/"
        },
        "id": "cApTnAXsxIfB",
        "outputId": "f88defe1-11c6-42ae-be84-5151679f8fa4"
      },
      "execution_count": 32,
      "outputs": [
        {
          "output_type": "stream",
          "name": "stdout",
          "text": [
            "Testing RMSE: 0.17981912012194998\n",
            "Validation RMSE: 0.19397695353241398\n"
          ]
        }
      ]
    },
    {
      "cell_type": "code",
      "source": [
        "# Đánh giá độ chính xác thuật toán bằng MAPE\n",
        "test_mape_RNN = np.mean((np.absolute(real_test_RNN - y_pred_RNN)/real_test_RNN)*100)\n",
        "val_mape_RNN = np.mean((np.absolute(real_val_RNN - y_pred_val_RNN)/real_val_RNN)*100)\n",
        "print('Testing MAPE:', test_mape_RNN)\n",
        "print('Validation MAPE:', val_mape_RNN)"
      ],
      "metadata": {
        "colab": {
          "base_uri": "https://localhost:8080/"
        },
        "id": "g5jLK5564B1j",
        "outputId": "c5f7b886-abb1-4604-f240-621967de7500"
      },
      "execution_count": 33,
      "outputs": [
        {
          "output_type": "stream",
          "name": "stdout",
          "text": [
            "Testing MAPE: 0.22352091831529025\n",
            "Validation MAPE: 0.18898133795213765\n"
          ]
        }
      ]
    },
    {
      "cell_type": "code",
      "source": [
        "# Tính phần trăm độ chính xác trên tập Test và Validate\n",
        "data_range_RNN = df['Close'].max() - df['Close'].min()\n",
        "test_accuracy_RNN = (1 - test_rmse_RNN / data_range_RNN) * 100\n",
        "val_accuracy_RNN = (1 - val_rmse_RNN / data_range_RNN) * 100\n",
        "print('Testing Accuracy (%):', test_accuracy_RNN)\n",
        "print('Validation Accuracy (%):', val_accuracy_RNN)"
      ],
      "metadata": {
        "colab": {
          "base_uri": "https://localhost:8080/"
        },
        "id": "VPYTFTN85FOq",
        "outputId": "3a67cdd3-2fc0-46fc-a6a2-5c15894e6227"
      },
      "execution_count": 34,
      "outputs": [
        {
          "output_type": "stream",
          "name": "stdout",
          "text": [
            "Testing Accuracy (%): 99.67900906797225\n",
            "Validation Accuracy (%): 99.65373624860334\n"
          ]
        }
      ]
    },
    {
      "cell_type": "code",
      "source": [
        "# Dự báo 15 stage tiếp theo\n",
        "x_input_RNN = val_data_RNN[60:].reshape(1, -1)\n",
        "x_input_RNN.shape\n",
        "\n",
        "temp_input_RNN = list(x_input_RNN)\n",
        "temp_input_RNN = temp_input_RNN[0].tolist()\n",
        "\n",
        "lst_output_RNN = []\n",
        "n_steps_RNN = 12471\n",
        "i = 0\n",
        "while i < 15:\n",
        "    if len(temp_input_RNN) > 12471:\n",
        "          x_input_RNN = np.array(temp_input_RNN[1:])\n",
        "         #print(\"{} day input {}\".format(i, x_input))\n",
        "          x_input_RNN = x_input_RNN.reshape(1, -1)\n",
        "          x_input_RNN = x_input_RNN.reshape((1, n_steps_RNN, 1))\n",
        "          yhat = model.predict(x_input_RNN, verbose=0)\n",
        "        #print(\"{} day output {}\".format(i, yhat))\n",
        "          temp_input_RNN.extend(yhat[0].tolist())\n",
        "          temp_input_RNN = temp_input_RNN[1:]\n",
        "          lst_output_RNN.extend(yhat.tolist())\n",
        "          i = i + 1\n",
        "    else:\n",
        "        x_input_RNN = x_input_RNN.reshape((1, n_steps_RNN, 1))\n",
        "        yhat = model.predict(x_input_RNN, verbose=0)\n",
        "\n",
        "        temp_input_RNN.extend(yhat[0].tolist())\n",
        "\n",
        "        lst_output_RNN.extend(yhat.tolist())\n",
        "        i = i + 1\n",
        "\n",
        "# Chuẩn hóa lại dự đoán 15 stage\n",
        "predicted_values_RNN = np.array(lst_output_RNN)\n",
        "predicted_values_RNN = predicted_values_RNN.reshape(-1, 1)\n",
        "\n",
        "# Chuẩn hóa dự đoán\n",
        "predicted_values_RNN = scaler.inverse_transform(predicted_values_RNN)\n",
        "\n",
        "print(\"Dự đoán 15 stage tiếp theo:\")\n",
        "print(predicted_values_RNN)"
      ],
      "metadata": {
        "colab": {
          "base_uri": "https://localhost:8080/"
        },
        "id": "gO_AGuL1vJHv",
        "outputId": "7a10eee5-7040-4b5a-b7c5-2aba62e82e91"
      },
      "execution_count": 36,
      "outputs": [
        {
          "output_type": "stream",
          "name": "stdout",
          "text": [
            "Dự đoán 15 stage tiếp theo:\n",
            "[[81.14182049]\n",
            " [82.01941022]\n",
            " [82.4399772 ]\n",
            " [82.52678922]\n",
            " [82.50155266]\n",
            " [82.45925021]\n",
            " [82.42081104]\n",
            " [82.38483609]\n",
            " [82.36245776]\n",
            " [82.35131869]\n",
            " [82.34638023]\n",
            " [82.3430178 ]\n",
            " [82.34141506]\n",
            " [82.34090084]\n",
            " [82.34088415]]\n"
          ]
        }
      ]
    },
    {
      "cell_type": "code",
      "source": [
        "# Vẽ hình\n",
        "plt.figure(figsize=(8, 6))\n",
        "train_data_index_RNN = pd.RangeIndex(start=0, stop=train_size, step=1)\n",
        "plt.plot(scaler.inverse_transform(train_data_RNN))\n",
        "test_data_index_RNN = pd.RangeIndex(start=train_size, stop=train_size+test_size, step=1)\n",
        "plt.plot(test_data_index_RNN, scaler.inverse_transform(test_data_RNN))\n",
        "test_data_index_RNN = pd.RangeIndex(start=train_size+101, stop=train_size+test_size, step=1)\n",
        "plt.plot(test_data_index_RNN,(y_pred_RNN))\n",
        "val_data_index_RNN = pd.RangeIndex(start=train_size+test_size, stop=train_size+test_size+val_size, step=1)\n",
        "plt.plot(val_data_index_RNN, scaler.inverse_transform(val_data_RNN))\n",
        "val_data_index_RNN = pd.RangeIndex(start=train_size+test_size+101, stop=train_size+test_size+val_size, step=1)\n",
        "plt.plot(val_data_index_RNN, y_pred_val_RNN)\n",
        "predict_data_index_RNN = pd.RangeIndex(start=len(df1)-1, stop=len(df1)+14, step=1)\n",
        "plt.plot(predict_data_index_RNN, scaler.inverse_transform(lst_output_RNN), color='black')\n",
        "plt.title('Hình 1.Dự đoán sử dụng mô hình RNN')\n",
        "plt.legend(['Train','Test','Predict_Test','Validate','Predict_Validate','Predict_15_Stage'])\n",
        "plt.show()"
      ],
      "metadata": {
        "colab": {
          "base_uri": "https://localhost:8080/",
          "height": 546
        },
        "id": "oS9YEMtivRgA",
        "outputId": "274dee40-f5af-4035-b5bb-d8ff228c27a2"
      },
      "execution_count": 56,
      "outputs": [
        {
          "output_type": "display_data",
          "data": {
            "text/plain": [
              "<Figure size 800x600 with 1 Axes>"
            ],
            "image/png": "[encoded data removed]"
          },
          "metadata": {}
        }
      ]
    },
    {
      "cell_type": "markdown",
      "source": [
        "#### Nhận xét\n",
        "- Kết quả dự báo 15 stage tiếp theo bằng mô hình RNN là 10 stage tăng và 5 stage bình ổn.\n",
        "- Độ chính xác của thuật toán dựa trên các thang đo RMSE và MAPE là rất cao.\n",
        "- Độ chính xác của thuật toán để dự báo trên tập Test và Validate khoảng 99.6%.\n",
        "- Nhìn trên ảnh ta thấy:\n",
        "  + Kết quả dự báo trên tập Test (màu xanh) gần như trùng khớp với kết quả thực tế trên tập Test (màu vàng).\n",
        "  + Kết quả dự báo trên tập Validate (màu tím) gần như trùng khớp với kết quả thực tế trên tập Validate (đỏ).\n",
        "- Tuy nhiên mô hình đang dự báo sai sự chuyển tiếp giữa các pha. Giá trị Close ngày gấn nhất là 78.3 nhưng ngày dự báo tiếp theo là 82.14. Nên mô hình này không đáng tin cậy.\n",
        "- => Nên sử dụng các mô hình như GRU và LSTM để dự báo chính xác hơn."
      ],
      "metadata": {
        "id": "NRYryUvXTV8i"
      }
    },
    {
      "cell_type": "markdown",
      "source": [
        "### Mô hình GRU"
      ],
      "metadata": {
        "id": "i0_6UNiDfOal"
      }
    },
    {
      "cell_type": "code",
      "source": [
        "# Gọi các thư viện cần thiết để xây dựng RNN\n",
        "from keras.models import Sequential\n",
        "from keras.layers import Dense, GRU, BatchNormalization"
      ],
      "metadata": {
        "id": "YzDekJGZfV34"
      },
      "execution_count": 38,
      "outputs": []
    },
    {
      "cell_type": "code",
      "source": [
        "train_data_GRU = train_data\n",
        "test_data_GRU = test_data\n",
        "val_data_GRU = val_data"
      ],
      "metadata": {
        "id": "208HT10BfN1J"
      },
      "execution_count": 39,
      "outputs": []
    },
    {
      "cell_type": "code",
      "source": [
        "# Hàm Create Dataset để chuyển đổi mảng thành ma trận\n",
        "def create_dataset(dataset, time_step=1):\n",
        "\tdataX, dataY = [], []\n",
        "\tfor i in range(len(dataset)-time_step-1):\n",
        "\t\ta = dataset[i:(i+time_step), 0]\n",
        "\t\tdataX.append(a)\n",
        "\t\tdataY.append(dataset[i + time_step, 0])\n",
        "\treturn np.array(dataX), np.array(dataY)"
      ],
      "metadata": {
        "id": "eBzSMLlrfZWw"
      },
      "execution_count": 40,
      "outputs": []
    },
    {
      "cell_type": "code",
      "source": [
        "# Sử dụng hàm Create Dataset để chuyển đổi các mảng Train, Test, Validate\n",
        "time_step = 100\n",
        "x_train_GRU, y_train_GRU = create_dataset(train_data_GRU, time_step)\n",
        "x_val_GRU, y_val_GRU = create_dataset(val_data_GRU, time_step)\n",
        "x_test_GRU, y_test_GRU = create_dataset(test_data_GRU, time_step)"
      ],
      "metadata": {
        "id": "OOu4l7YBvgV-"
      },
      "execution_count": 41,
      "outputs": []
    },
    {
      "cell_type": "code",
      "source": [
        "# Reshape đầu vào để phù hợp với mô hình GRU\n",
        "x_train_GRU = x_train_GRU.reshape(x_train_GRU.shape[0], x_train_GRU.shape[1] , 1)\n",
        "x_test_GRU = x_test_GRU.reshape(x_test_GRU.shape[0], x_test_GRU.shape[1] , 1)\n",
        "x_val_GRU = x_val_GRU.reshape(x_val_GRU.shape[0], x_val_GRU.shape[1] , 1)"
      ],
      "metadata": {
        "id": "0zl7uqzRfcU5"
      },
      "execution_count": 42,
      "outputs": []
    },
    {
      "cell_type": "code",
      "source": [
        "# Khai báo mô hình GRU\n",
        "model = Sequential()\n",
        "model.add(GRU(64, input_shape=(time_step, 1)))\n",
        "model.add(Dense(1))\n",
        "model.compile(optimizer='adam', loss='mean_squared_error')"
      ],
      "metadata": {
        "id": "VyXl8ZKKfhWD"
      },
      "execution_count": 43,
      "outputs": []
    },
    {
      "cell_type": "code",
      "source": [
        "# 9. Fit mô hình với dữ liệu Train\n",
        "model.fit(x_train_GRU, y_train_GRU, validation_data = (x_test_GRU, y_test_GRU), epochs=100, batch_size=64, verbose=1)"
      ],
      "metadata": {
        "colab": {
          "base_uri": "https://localhost:8080/"
        },
        "id": "8ZwS9tvhfjAR",
        "outputId": "6ab49791-acd1-4699-d81b-8710a58842ae"
      },
      "execution_count": 44,
      "outputs": [
        {
          "output_type": "stream",
          "name": "stdout",
          "text": [
            "Epoch 1/100\n",
            "1369/1369 [==============================] - 67s 48ms/step - loss: 0.0025 - val_loss: 1.7206e-05\n",
            "Epoch 2/100\n",
            "1369/1369 [==============================] - 66s 48ms/step - loss: 1.3802e-04 - val_loss: 9.5367e-06\n",
            "Epoch 3/100\n",
            "1369/1369 [==============================] - 68s 49ms/step - loss: 1.4276e-04 - val_loss: 2.1976e-05\n",
            "Epoch 4/100\n",
            "1369/1369 [==============================] - 70s 51ms/step - loss: 1.4610e-04 - val_loss: 2.6716e-05\n",
            "Epoch 5/100\n",
            "1369/1369 [==============================] - 74s 54ms/step - loss: 1.4231e-04 - val_loss: 1.2937e-05\n",
            "Epoch 6/100\n",
            "1369/1369 [==============================] - 65s 47ms/step - loss: 1.4333e-04 - val_loss: 8.2351e-06\n",
            "Epoch 7/100\n",
            "1369/1369 [==============================] - 64s 47ms/step - loss: 1.4303e-04 - val_loss: 8.2714e-06\n",
            "Epoch 8/100\n",
            "1369/1369 [==============================] - 65s 47ms/step - loss: 1.4348e-04 - val_loss: 3.5007e-05\n",
            "Epoch 9/100\n",
            "1369/1369 [==============================] - 64s 47ms/step - loss: 1.4085e-04 - val_loss: 8.3452e-06\n",
            "Epoch 10/100\n",
            "1369/1369 [==============================] - 64s 47ms/step - loss: 1.4213e-04 - val_loss: 7.3125e-06\n",
            "Epoch 11/100\n",
            "1369/1369 [==============================] - 64s 47ms/step - loss: 1.4112e-04 - val_loss: 1.0478e-05\n",
            "Epoch 12/100\n",
            "1369/1369 [==============================] - 65s 47ms/step - loss: 1.4141e-04 - val_loss: 8.4410e-06\n",
            "Epoch 13/100\n",
            "1369/1369 [==============================] - 64s 47ms/step - loss: 1.3903e-04 - val_loss: 4.2250e-05\n",
            "Epoch 14/100\n",
            "1369/1369 [==============================] - 64s 47ms/step - loss: 1.3913e-04 - val_loss: 9.0918e-06\n",
            "Epoch 15/100\n",
            "1369/1369 [==============================] - 64s 47ms/step - loss: 1.3966e-04 - val_loss: 7.7308e-06\n",
            "Epoch 16/100\n",
            "1369/1369 [==============================] - 64s 47ms/step - loss: 1.3882e-04 - val_loss: 1.7381e-05\n",
            "Epoch 17/100\n",
            "1369/1369 [==============================] - 65s 47ms/step - loss: 1.3910e-04 - val_loss: 9.9240e-06\n",
            "Epoch 18/100\n",
            "1369/1369 [==============================] - 65s 47ms/step - loss: 1.3842e-04 - val_loss: 7.1419e-06\n",
            "Epoch 19/100\n",
            "1369/1369 [==============================] - 65s 47ms/step - loss: 1.3881e-04 - val_loss: 1.0248e-05\n",
            "Epoch 20/100\n",
            "1369/1369 [==============================] - 65s 47ms/step - loss: 1.3903e-04 - val_loss: 2.9929e-05\n",
            "Epoch 21/100\n",
            "1369/1369 [==============================] - 65s 47ms/step - loss: 1.3838e-04 - val_loss: 7.0311e-06\n",
            "Epoch 22/100\n",
            "1369/1369 [==============================] - 65s 48ms/step - loss: 1.3839e-04 - val_loss: 9.2262e-06\n",
            "Epoch 23/100\n",
            "1369/1369 [==============================] - 65s 47ms/step - loss: 1.3711e-04 - val_loss: 6.7319e-06\n",
            "Epoch 24/100\n",
            "1369/1369 [==============================] - 64s 47ms/step - loss: 1.3787e-04 - val_loss: 6.9789e-06\n",
            "Epoch 25/100\n",
            "1369/1369 [==============================] - 64s 47ms/step - loss: 1.3790e-04 - val_loss: 1.6843e-05\n",
            "Epoch 26/100\n",
            "1369/1369 [==============================] - 65s 47ms/step - loss: 1.3718e-04 - val_loss: 7.4060e-06\n",
            "Epoch 27/100\n",
            "1369/1369 [==============================] - 64s 47ms/step - loss: 1.3729e-04 - val_loss: 1.5394e-05\n",
            "Epoch 28/100\n",
            "1369/1369 [==============================] - 65s 47ms/step - loss: 1.3689e-04 - val_loss: 1.6387e-05\n",
            "Epoch 29/100\n",
            "1369/1369 [==============================] - 64s 47ms/step - loss: 1.3833e-04 - val_loss: 7.3915e-06\n",
            "Epoch 30/100\n",
            "1369/1369 [==============================] - 70s 51ms/step - loss: 1.3684e-04 - val_loss: 2.3832e-05\n",
            "Epoch 31/100\n",
            "1369/1369 [==============================] - 64s 47ms/step - loss: 1.3682e-04 - val_loss: 2.7489e-05\n",
            "Epoch 32/100\n",
            "1369/1369 [==============================] - 64s 47ms/step - loss: 1.3734e-04 - val_loss: 7.1234e-06\n",
            "Epoch 33/100\n",
            "1369/1369 [==============================] - 66s 48ms/step - loss: 1.3683e-04 - val_loss: 7.2603e-06\n",
            "Epoch 34/100\n",
            "1369/1369 [==============================] - 65s 47ms/step - loss: 1.3630e-04 - val_loss: 1.1726e-05\n",
            "Epoch 35/100\n",
            "1369/1369 [==============================] - 65s 48ms/step - loss: 1.3568e-04 - val_loss: 7.7509e-06\n",
            "Epoch 36/100\n",
            "1369/1369 [==============================] - 70s 51ms/step - loss: 1.3654e-04 - val_loss: 9.7202e-06\n",
            "Epoch 37/100\n",
            "1369/1369 [==============================] - 65s 47ms/step - loss: 1.3658e-04 - val_loss: 6.6903e-06\n",
            "Epoch 38/100\n",
            "1369/1369 [==============================] - 64s 47ms/step - loss: 1.3582e-04 - val_loss: 1.1262e-05\n",
            "Epoch 39/100\n",
            "1369/1369 [==============================] - 65s 48ms/step - loss: 1.3650e-04 - val_loss: 1.0273e-05\n",
            "Epoch 40/100\n",
            "1369/1369 [==============================] - 64s 47ms/step - loss: 1.3632e-04 - val_loss: 6.8325e-06\n",
            "Epoch 41/100\n",
            "1369/1369 [==============================] - 64s 47ms/step - loss: 1.3623e-04 - val_loss: 8.5570e-06\n",
            "Epoch 42/100\n",
            "1369/1369 [==============================] - 67s 49ms/step - loss: 1.3471e-04 - val_loss: 1.0684e-05\n",
            "Epoch 43/100\n",
            "1369/1369 [==============================] - 68s 50ms/step - loss: 1.3667e-04 - val_loss: 6.8794e-06\n",
            "Epoch 44/100\n",
            "1369/1369 [==============================] - 68s 50ms/step - loss: 1.3467e-04 - val_loss: 8.4691e-06\n",
            "Epoch 45/100\n",
            "1369/1369 [==============================] - 69s 50ms/step - loss: 1.3690e-04 - val_loss: 6.8466e-06\n",
            "Epoch 46/100\n",
            "1369/1369 [==============================] - 69s 50ms/step - loss: 1.3504e-04 - val_loss: 6.8032e-06\n",
            "Epoch 47/100\n",
            "1369/1369 [==============================] - 75s 55ms/step - loss: 1.3591e-04 - val_loss: 7.1207e-06\n",
            "Epoch 48/100\n",
            "1369/1369 [==============================] - 69s 50ms/step - loss: 1.3532e-04 - val_loss: 7.9267e-06\n",
            "Epoch 49/100\n",
            "1369/1369 [==============================] - 67s 49ms/step - loss: 1.3523e-04 - val_loss: 9.0488e-06\n",
            "Epoch 50/100\n",
            "1369/1369 [==============================] - 64s 47ms/step - loss: 1.3549e-04 - val_loss: 8.3117e-06\n",
            "Epoch 51/100\n",
            "1369/1369 [==============================] - 64s 47ms/step - loss: 1.3575e-04 - val_loss: 8.0874e-06\n",
            "Epoch 52/100\n",
            "1369/1369 [==============================] - 64s 47ms/step - loss: 1.3518e-04 - val_loss: 8.5176e-06\n",
            "Epoch 53/100\n",
            "1369/1369 [==============================] - 69s 50ms/step - loss: 1.3496e-04 - val_loss: 7.8079e-06\n",
            "Epoch 54/100\n",
            "1369/1369 [==============================] - 76s 55ms/step - loss: 1.3576e-04 - val_loss: 1.3556e-05\n",
            "Epoch 55/100\n",
            "1369/1369 [==============================] - 72s 52ms/step - loss: 1.3607e-04 - val_loss: 9.9902e-06\n",
            "Epoch 56/100\n",
            "1369/1369 [==============================] - 71s 52ms/step - loss: 1.3504e-04 - val_loss: 1.2854e-05\n",
            "Epoch 57/100\n",
            "1369/1369 [==============================] - 71s 52ms/step - loss: 1.3480e-04 - val_loss: 7.6592e-06\n",
            "Epoch 58/100\n",
            "1369/1369 [==============================] - 71s 52ms/step - loss: 1.3650e-04 - val_loss: 2.6837e-05\n",
            "Epoch 59/100\n",
            "1369/1369 [==============================] - 75s 55ms/step - loss: 1.3489e-04 - val_loss: 8.6209e-06\n",
            "Epoch 60/100\n",
            "1369/1369 [==============================] - 72s 52ms/step - loss: 1.3551e-04 - val_loss: 1.0502e-05\n",
            "Epoch 61/100\n",
            "1369/1369 [==============================] - 70s 51ms/step - loss: 1.3557e-04 - val_loss: 3.6024e-05\n",
            "Epoch 62/100\n",
            "1369/1369 [==============================] - 71s 52ms/step - loss: 1.3513e-04 - val_loss: 7.0651e-06\n",
            "Epoch 63/100\n",
            "1369/1369 [==============================] - 70s 51ms/step - loss: 1.3508e-04 - val_loss: 1.4113e-05\n",
            "Epoch 64/100\n",
            "1369/1369 [==============================] - 65s 47ms/step - loss: 1.3504e-04 - val_loss: 1.5615e-05\n",
            "Epoch 65/100\n",
            "1369/1369 [==============================] - 68s 49ms/step - loss: 1.3526e-04 - val_loss: 1.1139e-05\n",
            "Epoch 66/100\n",
            "1369/1369 [==============================] - 70s 51ms/step - loss: 1.3609e-04 - val_loss: 1.4313e-05\n",
            "Epoch 67/100\n",
            "1369/1369 [==============================] - 70s 51ms/step - loss: 1.3582e-04 - val_loss: 1.8665e-05\n",
            "Epoch 68/100\n",
            "1369/1369 [==============================] - 64s 47ms/step - loss: 1.3559e-04 - val_loss: 7.2280e-06\n",
            "Epoch 69/100\n",
            "1369/1369 [==============================] - 65s 47ms/step - loss: 1.3478e-04 - val_loss: 6.9226e-06\n",
            "Epoch 70/100\n",
            "1369/1369 [==============================] - 69s 51ms/step - loss: 1.3554e-04 - val_loss: 6.7233e-06\n",
            "Epoch 71/100\n",
            "1369/1369 [==============================] - 70s 51ms/step - loss: 1.3428e-04 - val_loss: 1.4127e-05\n",
            "Epoch 72/100\n",
            "1369/1369 [==============================] - 71s 52ms/step - loss: 1.3526e-04 - val_loss: 7.0668e-06\n",
            "Epoch 73/100\n",
            "1369/1369 [==============================] - 70s 51ms/step - loss: 1.3486e-04 - val_loss: 9.9118e-06\n",
            "Epoch 74/100\n",
            "1369/1369 [==============================] - 69s 51ms/step - loss: 1.3479e-04 - val_loss: 1.9570e-05\n",
            "Epoch 75/100\n",
            "1369/1369 [==============================] - 70s 51ms/step - loss: 1.3519e-04 - val_loss: 7.3253e-06\n",
            "Epoch 76/100\n",
            "1369/1369 [==============================] - 70s 51ms/step - loss: 1.3531e-04 - val_loss: 8.7697e-06\n",
            "Epoch 77/100\n",
            "1369/1369 [==============================] - 71s 52ms/step - loss: 1.3442e-04 - val_loss: 9.0616e-06\n",
            "Epoch 78/100\n",
            "1369/1369 [==============================] - 72s 52ms/step - loss: 1.3500e-04 - val_loss: 6.6979e-06\n",
            "Epoch 79/100\n",
            "1369/1369 [==============================] - 77s 56ms/step - loss: 1.3407e-04 - val_loss: 7.5949e-06\n",
            "Epoch 80/100\n",
            "1369/1369 [==============================] - 70s 51ms/step - loss: 1.3498e-04 - val_loss: 7.1383e-06\n",
            "Epoch 81/100\n",
            "1369/1369 [==============================] - 70s 51ms/step - loss: 1.3432e-04 - val_loss: 8.4983e-06\n",
            "Epoch 82/100\n",
            "1369/1369 [==============================] - 71s 52ms/step - loss: 1.3447e-04 - val_loss: 6.5756e-06\n",
            "Epoch 83/100\n",
            "1369/1369 [==============================] - 71s 52ms/step - loss: 1.3522e-04 - val_loss: 8.5051e-06\n",
            "Epoch 84/100\n",
            "1369/1369 [==============================] - 70s 51ms/step - loss: 1.3499e-04 - val_loss: 6.7578e-06\n",
            "Epoch 85/100\n",
            "1369/1369 [==============================] - 70s 51ms/step - loss: 1.3491e-04 - val_loss: 7.1889e-06\n",
            "Epoch 86/100\n",
            "1369/1369 [==============================] - 69s 50ms/step - loss: 1.3416e-04 - val_loss: 7.2047e-06\n",
            "Epoch 87/100\n",
            "1369/1369 [==============================] - 70s 51ms/step - loss: 1.3539e-04 - val_loss: 8.9599e-06\n",
            "Epoch 88/100\n",
            "1369/1369 [==============================] - 70s 51ms/step - loss: 1.3588e-04 - val_loss: 6.5589e-06\n",
            "Epoch 89/100\n",
            "1369/1369 [==============================] - 69s 51ms/step - loss: 1.3455e-04 - val_loss: 1.5608e-05\n",
            "Epoch 90/100\n",
            "1369/1369 [==============================] - 65s 47ms/step - loss: 1.3384e-04 - val_loss: 6.3477e-06\n",
            "Epoch 91/100\n",
            "1369/1369 [==============================] - 69s 50ms/step - loss: 1.3528e-04 - val_loss: 7.4089e-06\n",
            "Epoch 92/100\n",
            "1369/1369 [==============================] - 74s 54ms/step - loss: 1.3458e-04 - val_loss: 1.5445e-05\n",
            "Epoch 93/100\n",
            "1369/1369 [==============================] - 74s 54ms/step - loss: 1.3400e-04 - val_loss: 6.5831e-06\n",
            "Epoch 94/100\n",
            "1369/1369 [==============================] - 67s 49ms/step - loss: 1.3406e-04 - val_loss: 6.3101e-06\n",
            "Epoch 95/100\n",
            "1369/1369 [==============================] - 64s 47ms/step - loss: 1.3485e-04 - val_loss: 6.1241e-06\n",
            "Epoch 96/100\n",
            "1369/1369 [==============================] - 64s 47ms/step - loss: 1.3471e-04 - val_loss: 1.2369e-05\n",
            "Epoch 97/100\n",
            "1369/1369 [==============================] - 64s 47ms/step - loss: 1.3539e-04 - val_loss: 1.2500e-05\n",
            "Epoch 98/100\n",
            "1369/1369 [==============================] - 64s 47ms/step - loss: 1.3392e-04 - val_loss: 1.5139e-05\n",
            "Epoch 99/100\n",
            "1369/1369 [==============================] - 64s 47ms/step - loss: 1.3436e-04 - val_loss: 6.1767e-06\n",
            "Epoch 100/100\n",
            "1369/1369 [==============================] - 64s 47ms/step - loss: 1.3379e-04 - val_loss: 6.8408e-06\n"
          ]
        },
        {
          "output_type": "execute_result",
          "data": {
            "text/plain": [
              "<keras.src.callbacks.History at 0x7c1333a62bc0>"
            ]
          },
          "metadata": {},
          "execution_count": 44
        }
      ]
    },
    {
      "cell_type": "code",
      "source": [
        "# Dự báo dữ liệu train_predict_GRU, y_pred_GRU, y_pred_val_GRU\n",
        "train_predict_GRU = model.predict(x_train_GRU)\n",
        "y_pred_GRU = model.predict(x_test_GRU)\n",
        "y_pred_val_GRU = model.predict(x_val_GRU)"
      ],
      "metadata": {
        "colab": {
          "base_uri": "https://localhost:8080/"
        },
        "id": "Uk8OCwsYTOGm",
        "outputId": "6e918943-a7db-4066-e9e4-aa40bede59df"
      },
      "execution_count": 45,
      "outputs": [
        {
          "output_type": "stream",
          "name": "stdout",
          "text": [
            "2738/2738 [==============================] - 29s 10ms/step\n",
            "780/780 [==============================] - 7s 9ms/step\n",
            "389/389 [==============================] - 4s 9ms/step\n"
          ]
        }
      ]
    },
    {
      "cell_type": "code",
      "source": [
        "# Đảo ngược giá trị dự đoán trên tập Test và Validate về giá trị chuẩn\n",
        "train_predict_GRU = scaler.inverse_transform(train_predict_GRU)\n",
        "y_pred_GRU = scaler.inverse_transform(y_pred_GRU)\n",
        "y_pred_val_GRU = scaler.inverse_transform(y_pred_val_GRU)"
      ],
      "metadata": {
        "id": "3LklErypTlg0"
      },
      "execution_count": 46,
      "outputs": []
    },
    {
      "cell_type": "code",
      "source": [
        "# Đảo ngược giá trị thực tế của tập Test và Validate về giá trị chuẩn\n",
        "real_val_GRU = scaler.inverse_transform(y_val_GRU.reshape(-1, 1))\n",
        "real_test_GRU = scaler.inverse_transform(y_test_GRU.reshape(-1, 1))"
      ],
      "metadata": {
        "id": "BAP6916QT13d"
      },
      "execution_count": 47,
      "outputs": []
    },
    {
      "cell_type": "code",
      "source": [
        "# Đánh giá độ chính xác thuật toán bằng RMSE\n",
        "test_rmse_GRU = np.sqrt(np.mean((y_pred_GRU - real_test_GRU)**2))\n",
        "val_rmse_GRU = np.sqrt(np.mean((y_pred_val_GRU - real_val_GRU)**2))\n",
        "print('Testing RMSE:', test_rmse_GRU)\n",
        "print('Validation RMSE:', val_rmse_GRU)"
      ],
      "metadata": {
        "colab": {
          "base_uri": "https://localhost:8080/"
        },
        "id": "7H3F2UIUUCPV",
        "outputId": "591c2ef9-f38f-406e-a1ad-763518044c70"
      },
      "execution_count": 48,
      "outputs": [
        {
          "output_type": "stream",
          "name": "stdout",
          "text": [
            "Testing RMSE: 0.14652024241284295\n",
            "Validation RMSE: 0.1963521577559302\n"
          ]
        }
      ]
    },
    {
      "cell_type": "code",
      "source": [
        "# Đánh giá độ chính xác thuật toán bằng MAPE\n",
        "test_mape_GRU = np.mean((np.absolute(real_test_GRU - y_pred_GRU)/real_test_GRU)*100)\n",
        "val_mape_GRU = np.mean((np.absolute(real_val_GRU - y_pred_val_GRU)/real_val_GRU)*100)\n",
        "print('Testing MAPE:', test_mape_GRU)\n",
        "print('Validation MAPE:', val_mape_GRU)"
      ],
      "metadata": {
        "colab": {
          "base_uri": "https://localhost:8080/"
        },
        "id": "HVQhGs9uUTjS",
        "outputId": "88ec5d3d-cae4-4f52-874d-577594ba5082"
      },
      "execution_count": 49,
      "outputs": [
        {
          "output_type": "stream",
          "name": "stdout",
          "text": [
            "Testing MAPE: 0.16215918927642406\n",
            "Validation MAPE: 0.17019826174403513\n"
          ]
        }
      ]
    },
    {
      "cell_type": "code",
      "source": [
        "# Tính phần trăm độ chính xác trên tập Test và Validate\n",
        "data_range_GRU = df['Close'].max() - df['Close'].min()\n",
        "test_accuracy_GRU = (1 - test_rmse_GRU / data_range_GRU) * 100\n",
        "val_accuracy_GRU = (1 - val_rmse_GRU / data_range_GRU) * 100\n",
        "print('Testing Accuracy (%):', test_accuracy_GRU)\n",
        "print('Validation Accuracy (%):', val_accuracy_GRU)"
      ],
      "metadata": {
        "colab": {
          "base_uri": "https://localhost:8080/"
        },
        "id": "KZDYvQqQWpbS",
        "outputId": "d3f62f8e-c9da-4b14-f0ba-19257ccfcdfc"
      },
      "execution_count": 50,
      "outputs": [
        {
          "output_type": "stream",
          "name": "stdout",
          "text": [
            "Testing Accuracy (%): 99.73845012064825\n",
            "Validation Accuracy (%): 99.64949632674771\n"
          ]
        }
      ]
    },
    {
      "cell_type": "code",
      "source": [
        "# Dự báo 15 stage tiếp theo\n",
        "x_input_GRU = val_data_GRU[60:].reshape(1, -1)\n",
        "x_input_GRU.shape\n",
        "\n",
        "temp_input_GRU = list(x_input_GRU)\n",
        "temp_input_GRU = temp_input_GRU[0].tolist()\n",
        "\n",
        "lst_output_GRU = []\n",
        "n_steps_GRU = 12471\n",
        "i = 0\n",
        "while i < 15:\n",
        "    if len(temp_input_GRU) > 12471:\n",
        "          x_input_GRU = np.array(temp_input_GRU[1:])\n",
        "\n",
        "          x_input_GRU = x_input_GRU.reshape(1, -1)\n",
        "          x_input_GRU = x_input_GRU.reshape((1, n_steps_GRU, 1))\n",
        "          yhat = model.predict(x_input_GRU, verbose=0)\n",
        "\n",
        "          temp_input_GRU.extend(yhat[0].tolist())\n",
        "          temp_input_GRU = temp_input_GRU[1:]\n",
        "          lst_output_GRU.extend(yhat.tolist())\n",
        "          i = i + 1\n",
        "    else:\n",
        "        x_input_GRU = x_input_GRU.reshape((1, n_steps_GRU, 1))\n",
        "        yhat = model.predict(x_input_GRU, verbose=0)\n",
        "\n",
        "        temp_input_GRU.extend(yhat[0].tolist())\n",
        "\n",
        "        lst_output_GRU.extend(yhat.tolist())\n",
        "        i = i + 1\n",
        "\n",
        "# Chuẩn hóa lại dự đoán 15 stage\n",
        "predicted_values_GRU = np.array(lst_output_GRU)\n",
        "predicted_values_GRU = predicted_values_GRU.reshape(-1, 1)\n",
        "\n",
        "# Chuẩn hóa dự đoán\n",
        "predicted_values_GRU = scaler.inverse_transform(predicted_values_GRU)\n",
        "\n",
        "print(\"Dự đoán 15 stage tiếp theo:\")\n",
        "print(predicted_values_GRU)"
      ],
      "metadata": {
        "colab": {
          "base_uri": "https://localhost:8080/"
        },
        "id": "WfdnPgvSPe3y",
        "outputId": "5ce721f0-0ced-4cdd-af09-63f691a6cf93"
      },
      "execution_count": 52,
      "outputs": [
        {
          "output_type": "stream",
          "name": "stdout",
          "text": [
            "Dự đoán 15 stage tiếp theo:\n",
            "[[78.2293322 ]\n",
            " [78.23083144]\n",
            " [78.23307862]\n",
            " [78.23571313]\n",
            " [78.23850792]\n",
            " [78.24131272]\n",
            " [78.24404073]\n",
            " [78.24664519]\n",
            " [78.24913278]\n",
            " [78.2515369 ]\n",
            " [78.25388092]\n",
            " [78.25620156]\n",
            " [78.25851552]\n",
            " [78.26082614]\n",
            " [78.26313677]]\n"
          ]
        }
      ]
    },
    {
      "cell_type": "code",
      "source": [
        "# Vẽ hình\n",
        "plt.figure(figsize=(8, 6))\n",
        "train_data_index_GRU = pd.RangeIndex(start=0, stop=train_size, step=1)\n",
        "plt.plot(scaler.inverse_transform(train_data_GRU))\n",
        "test_data_index_GRU = pd.RangeIndex(start=train_size, stop=train_size+test_size, step=1)\n",
        "plt.plot(test_data_index_GRU, scaler.inverse_transform(test_data_GRU))\n",
        "test_data_index_GRU = pd.RangeIndex(start=train_size+101, stop=train_size+test_size, step=1)\n",
        "plt.plot(test_data_index_GRU, (y_pred_GRU))\n",
        "val_data_index_GRU = pd.RangeIndex(start=train_size+test_size, stop=train_size+test_size+val_size, step=1)\n",
        "plt.plot(val_data_index_GRU, scaler.inverse_transform(val_data_GRU))\n",
        "val_data_index_GRU = pd.RangeIndex(start=train_size+test_size+101, stop=train_size+test_size+val_size, step=1)\n",
        "plt.plot(val_data_index_GRU, y_pred_val_GRU)\n",
        "predict_data_index_GRU = pd.RangeIndex(start=len(df1)-1, stop=len(df1)+14, step=1)\n",
        "plt.plot(predict_data_index_GRU, scaler.inverse_transform(lst_output_GRU), color='black')\n",
        "plt.title('Hình 2.Dự đoán sử dụng mô hình GRU')\n",
        "plt.legend(['Train','Test','Predict_Test','Validate','Predict_Validate','Predict_15_Stage'])\n",
        "plt.show()"
      ],
      "metadata": {
        "colab": {
          "base_uri": "https://localhost:8080/",
          "height": 546
        },
        "id": "54tO52erPokh",
        "outputId": "74668542-7e52-4b3f-c660-203f8cc52489"
      },
      "execution_count": 53,
      "outputs": [
        {
          "output_type": "display_data",
          "data": {
            "text/plain": [
              "<Figure size 800x600 with 1 Axes>"
            ],
            "image/png": "[encoded data removed]"
          },
          "metadata": {}
        }
      ]
    },
    {
      "cell_type": "markdown",
      "source": [
        "#### Nhận xét\n",
        "- Kết quả dự báo 15 stage tiếp theo bằng mô hình GRU là 1 stage giảm và 14 stage sau tăng rất nhẹ (tăng nhẹ 0.01).\n",
        "- Độ chính xác của thuật toán dựa trên các thang đo RMSE và MAPE là rất cao.\n",
        "- Độ chính xác của thuật toán để dự báo trên tập Test và Validate khoảng 99.7%.\n",
        "- Nhìn trên ảnh ta thấy:\n",
        "  + Kết quả dự báo trên tập Test (màu xanh) gần như trùng khớp với kết quả thực tế trên tập Test (màu vàng).\n",
        "  + Kết quả dự báo trên tập Validate (màu tím) gần như trùng khớp với kết quả thực tế trên tập Validate (đỏ).\n",
        "- Mô hình GRU dự báo tăng nhẹ trong pha tiếp theo. Trong khi các pha gần nhất hầu như không có sự thay đổi đáng kể."
      ],
      "metadata": {
        "id": "QY9dbqaUUbXQ"
      }
    },
    {
      "cell_type": "markdown",
      "source": [
        "## Tổng kết"
      ],
      "metadata": {
        "id": "L0D2q7SadJEx"
      }
    },
    {
      "cell_type": "code",
      "source": [
        "# So sánh 2 mô hình RNN và GRU\n",
        "data = {\n",
        "    'Độ đo': ['Test Accuracy (%)', 'Validation Accuracy (%)', 'Test RMSE', 'Validation RMSE', 'Test MAPE', 'Validation MAPE'],\n",
        "    'Mô hình RNN': [test_accuracy_RNN, val_accuracy_RNN, test_rmse_RNN, val_rmse_RNN, test_mape_RNN, val_mape_RNN],\n",
        "    'Mô hình GRU': [test_accuracy_GRU, val_accuracy_GRU, test_rmse_GRU, val_rmse_GRU, test_mape_GRU, val_mape_GRU]\n",
        "}\n",
        "\n",
        "df = pd.DataFrame(data).set_index('Độ đo')\n",
        "\n",
        "print(df)"
      ],
      "metadata": {
        "colab": {
          "base_uri": "https://localhost:8080/"
        },
        "id": "owCS5sVvYL6P",
        "outputId": "d273f088-41a8-4ff0-a37c-fef67ed6be1e"
      },
      "execution_count": 54,
      "outputs": [
        {
          "output_type": "stream",
          "name": "stdout",
          "text": [
            "                         Mô hình RNN  Mô hình GRU\n",
            "Độ đo                                            \n",
            "Test Accuracy (%)          99.679009    99.738450\n",
            "Validation Accuracy (%)    99.653736    99.649496\n",
            "Test RMSE                   0.179819     0.146520\n",
            "Validation RMSE             0.193977     0.196352\n",
            "Test MAPE                   0.223521     0.162159\n",
            "Validation MAPE             0.188981     0.170198\n"
          ]
        }
      ]
    },
    {
      "cell_type": "code",
      "source": [
        "# Nhận xét Predict 15 stage của 2 mô hình\n",
        "plt.figure(figsize=(6, 4))\n",
        "predict_data_index_RNN = pd.RangeIndex(start=len(df1)-1, stop=len(df1)+14, step=1)\n",
        "plt.plot(predict_data_index_RNN, scaler.inverse_transform(lst_output_RNN), color='green')\n",
        "predict_data_index_GRU = pd.RangeIndex(start=len(df1)-1, stop=len(df1)+14, step=1)\n",
        "plt.plot(predict_data_index_GRU, scaler.inverse_transform(lst_output_GRU), color='blue')\n",
        "plt.title('Hình 3.Xu hướng dự báo giữa 2 mô hình RNN và GRU')\n",
        "plt.legend(['Predict_15_Stage_RNN', 'Predict_15_Stage_GRU'])\n",
        "plt.show()"
      ],
      "metadata": {
        "colab": {
          "base_uri": "https://localhost:8080/",
          "height": 409
        },
        "id": "DDz7DTurPuu3",
        "outputId": "dfc303ac-3201-4719-fbce-314318e11940"
      },
      "execution_count": 55,
      "outputs": [
        {
          "output_type": "display_data",
          "data": {
            "text/plain": [
              "<Figure size 600x400 with 1 Axes>"
            ],
            "image/png": "[encoded data removed]"
          },
          "metadata": {}
        }
      ]
    },
    {
      "cell_type": "markdown",
      "source": [
        "### Tổng kết\n",
        "- Nhìn ảnh so sánh trên, ta thấy mô hình GRU dự đoán chính xác hơn nhiều mô hình RNN.\n",
        "- Và xu hướng tăng là rất nhỏ, không đáng kể. Cần xây dựng một mô hình mạnh mẽ hơn như LSTM để có thể đưa ra kết luận chính xác nhất.\n",
        "- Tuy nhiên, ở đây em mới chỉ phân tích dựa trên giá trị cổ phiếu đóng cửa (Close). Em đã bỏ qua phân tích một thuộc tính khá quan trọng là lưu lượng mua/bán (Volume). Ví dụ, Volume đột ngột tăng mạnh và giá trị Close đột ngột giảm mạnh thể hiện người dùng đang bán xả giá trị cổ phiếu đó. Nên đây sẽ là hướng cải tiến mô hình chính xác hơn nữa, tránh trường hợp bị overfitting."
      ],
      "metadata": {
        "id": "eiHbq7qjVToW"
      }
    }
  ]
}